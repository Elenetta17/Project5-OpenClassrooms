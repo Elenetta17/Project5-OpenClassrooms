{
 "cells": [
  {
   "cell_type": "markdown",
   "id": "e0e0a4fd",
   "metadata": {
    "toc": true
   },
   "source": [
    "<h1>Table of Contents<span class=\"tocSkip\"></span></h1>\n",
    "<div class=\"toc\"><ul class=\"toc-item\"><li><span><a href=\"#Segmentez-des-clients-d'un-site-e-commerce\" data-toc-modified-id=\"Segmentez-des-clients-d'un-site-e-commerce-1\"><strong>Segmentez des clients d'un site e-commerce</strong></a></span></li><li><span><a href=\"#0.Imports-and-function\" data-toc-modified-id=\"0.Imports-and-function-2\">0.Imports and function</a></span></li><li><span><a href=\"#1.-Les-données\" data-toc-modified-id=\"1.-Les-données-3\">1. Les données</a></span><ul class=\"toc-item\"><li><span><a href=\"#1.1-Customers\" data-toc-modified-id=\"1.1-Customers-3.1\">1.1 Customers</a></span></li><li><span><a href=\"#1.2-Geolocation\" data-toc-modified-id=\"1.2-Geolocation-3.2\">1.2 Geolocation</a></span></li><li><span><a href=\"#1.3.-Orders\" data-toc-modified-id=\"1.3.-Orders-3.3\">1.3. Orders</a></span></li><li><span><a href=\"#1.4-Order-items\" data-toc-modified-id=\"1.4-Order-items-3.4\">1.4 Order items</a></span></li><li><span><a href=\"#1.5-Order-payment\" data-toc-modified-id=\"1.5-Order-payment-3.5\">1.5 Order payment</a></span></li><li><span><a href=\"#1.6-Reviews\" data-toc-modified-id=\"1.6-Reviews-3.6\">1.6 Reviews</a></span></li><li><span><a href=\"#1.7-Products\" data-toc-modified-id=\"1.7-Products-3.7\">1.7 Products</a></span></li><li><span><a href=\"#1.8-Sellers\" data-toc-modified-id=\"1.8-Sellers-3.8\">1.8 Sellers</a></span></li></ul></li><li><span><a href=\"#2.-Traitement-des-valeurs-manquantes\" data-toc-modified-id=\"2.-Traitement-des-valeurs-manquantes-4\">2. Traitement des valeurs manquantes</a></span></li><li><span><a href=\"#3.-Analyse-exploratoire-des-données\" data-toc-modified-id=\"3.-Analyse-exploratoire-des-données-5\">3. Analyse exploratoire des données</a></span><ul class=\"toc-item\"><li><span><a href=\"#3.1-Distribution-des-variables\" data-toc-modified-id=\"3.1-Distribution-des-variables-5.1\">3.1 Distribution des variables</a></span></li><li><span><a href=\"#3.2-Boites-à-moustaches-et-valeurs-aberrantes\" data-toc-modified-id=\"3.2-Boites-à-moustaches-et-valeurs-aberrantes-5.2\">3.2 Boites à moustaches et valeurs aberrantes</a></span><ul class=\"toc-item\"><li><span><a href=\"#3.2.1-real_delivery_time\" data-toc-modified-id=\"3.2.1-real_delivery_time-5.2.1\">3.2.1 real_delivery_time</a></span></li><li><span><a href=\"#3.2.2-estimated_delivery_time\" data-toc-modified-id=\"3.2.2-estimated_delivery_time-5.2.2\">3.2.2 estimated_delivery_time</a></span></li><li><span><a href=\"#3.2.3-delay\" data-toc-modified-id=\"3.2.3-delay-5.2.3\">3.2.3 delay</a></span></li><li><span><a href=\"#3.2.4-price\" data-toc-modified-id=\"3.2.4-price-5.2.4\">3.2.4 price</a></span></li><li><span><a href=\"#3.2.5-freight_value\" data-toc-modified-id=\"3.2.5-freight_value-5.2.5\">3.2.5 freight_value</a></span></li><li><span><a href=\"#3.2.6-distance\" data-toc-modified-id=\"3.2.6-distance-5.2.6\">3.2.6 distance</a></span></li></ul></li><li><span><a href=\"#3.3-Agrégation-sur-customer_unique_id\" data-toc-modified-id=\"3.3-Agrégation-sur-customer_unique_id-5.3\">3.3 Agrégation sur <code>customer_unique_id</code></a></span></li><li><span><a href=\"#3.4-Corrélations-entre-variables-et-ACP\" data-toc-modified-id=\"3.4-Corrélations-entre-variables-et-ACP-5.4\">3.4 Corrélations entre variables et ACP</a></span><ul class=\"toc-item\"><li><span><a href=\"#3.4.1-Corrélations\" data-toc-modified-id=\"3.4.1-Corrélations-5.4.1\">3.4.1 Corrélations</a></span></li><li><span><a href=\"#3.4.2-ACP\" data-toc-modified-id=\"3.4.2-ACP-5.4.2\">3.4.2 ACP</a></span></li></ul></li></ul></li><li><span><a href=\"#4.-Conclusions\" data-toc-modified-id=\"4.-Conclusions-6\">4. Conclusions</a></span></li></ul></div>"
   ]
  },
  {
   "cell_type": "markdown",
   "id": "be54ff9c-4e4d-4254-95b5-b0d9a765c17e",
   "metadata": {},
   "source": [
    "# **Segmentez des clients d'un site e-commerce**"
   ]
  },
  {
   "cell_type": "markdown",
   "id": "22a3698d-fa93-4ceb-9e3d-098aa5a5c597",
   "metadata": {},
   "source": [
    "Olist est une entreprise brésilienne qui propose une solution de vente sur les marketplaces en ligne.\n",
    "\n",
    "Olist souhaite que je fournisse à ses équipes d'e-commerce une segmentation des clients qu’elles pourront utiliser au quotidien pour leurs campagnes de communication.\n",
    "\n",
    "Mon objectif est de comprendre les différents types d’utilisateurs grâce à leur comportement et à leurs données personnelles.\n",
    "\n",
    "Je devrai fournir à l’équipe marketing une description actionable de ma segmentation et de sa logique sous-jacente pour une utilisation optimale, ainsi qu’une proposition de contrat de maintenance basée sur une analyse de la stabilité des segments au cours du temps.\n",
    "\n",
    "\n",
    "Pour cette mission, Olist a fourni une base de données anonymisée comportant des informations sur l’historique de commandes, les produits achetés, les commentaires de satisfaction, et la localisation des clients depuis janvier 2017.\n",
    "A partir de cette base des données, il faudra utilisere des méthodes non supervisées pour regrouper des clients de profils similaires. Ces catégories pourront être utilisées par l’équipe Marketing pour mieux communiquer.\n",
    "\n",
    "Ce notebook est consacré au nettoyage et à l'analyse des données."
   ]
  },
  {
   "cell_type": "markdown",
   "id": "8dfe925d-58b1-461e-8070-5d9023ad6d71",
   "metadata": {
    "tags": []
   },
   "source": [
    "# 0.Imports and function"
   ]
  },
  {
   "cell_type": "code",
   "execution_count": 1,
   "id": "2ef7337c-808a-41a0-8beb-4b573b745366",
   "metadata": {},
   "outputs": [],
   "source": [
    "%load_ext pycodestyle_magic \n",
    "%pycodestyle_on"
   ]
  },
  {
   "cell_type": "code",
   "execution_count": 2,
   "id": "fa23e905-e931-4365-bc6d-e387918d2bfc",
   "metadata": {
    "tags": []
   },
   "outputs": [],
   "source": [
    "from sklearn.decomposition import PCA\n",
    "from sklearn.preprocessing import MinMaxScaler\n",
    "\n",
    "import haversine as hs\n",
    "import numpy as np\n",
    "import matplotlib.pyplot as plt\n",
    "import pandas as pd\n",
    "import seaborn as sns"
   ]
  },
  {
   "cell_type": "code",
   "execution_count": 3,
   "id": "398148d7-54ab-43fd-8de8-fa9e240c77a0",
   "metadata": {},
   "outputs": [],
   "source": [
    "# fonction pour plotter le cercle de correlation,\n",
    "# source: TP du cours sur l'exploration des données\n",
    "def plot_correlations(data, x, y):\n",
    "    fig, ax = plt.subplots(figsize=(10, 9))\n",
    "    for i in range(0, pca.components_.shape[1]):\n",
    "        ax.arrow(0,\n",
    "                 0,  # Start the arrow at the origin\n",
    "                 pca.components_[x, i],  # 0 for PC1\n",
    "                 pca.components_[y, i],  # 1 for PC2\n",
    "                 head_width=0.07,\n",
    "                 head_length=0.07,\n",
    "                 width=0.02)\n",
    "\n",
    "        plt.text(pca.components_[x, i] + 0.05,\n",
    "                 pca.components_[y, i] + 0.05,\n",
    "                 data.columns[i])\n",
    "\n",
    "    # affichage des lignes horizontales et verticales\n",
    "    plt.plot([-1, 1], [0, 0], color='grey', ls='--')\n",
    "    plt.plot([0, 0], [-1, 1], color='grey', ls='--')\n",
    "\n",
    "    # nom des axes, avec le pourcentage d'inertie expliqué\n",
    "    plt.xlabel('F{} {}%'.format(\n",
    "        x+1, round(100*pca.explained_variance_ratio_[x])))\n",
    "    plt.ylabel('F{} {}%'.format(\n",
    "        x+2, round(100*pca.explained_variance_ratio_[y])))\n",
    "\n",
    "    plt.title('Cercle des corrélations (F{} et F{})'.format(x+1, y+1))\n",
    "\n",
    "    an = np.linspace(0, 2 * np.pi, 100)\n",
    "    plt.plot(np.cos(an), np.sin(an))  # Add a unit circle for scale\n",
    "    plt.axis('equal')\n",
    "    plt.show(block=False)"
   ]
  },
  {
   "cell_type": "code",
   "execution_count": 4,
   "id": "419027d9-b2fd-4cfd-9748-b058767c9587",
   "metadata": {},
   "outputs": [],
   "source": [
    "# paramètres matplotlib\n",
    "plt.rcParams['xtick.direction'] = 'in'\n",
    "plt.rcParams['ytick.direction'] = 'in'\n",
    "plt.rcParams['axes.titlesize'] = 12\n",
    "plt.rcParams['axes.labelsize'] = 11"
   ]
  },
  {
   "cell_type": "markdown",
   "id": "b19ef665-8837-492b-8b0d-b880b774d089",
   "metadata": {},
   "source": [
    "# 1. Les données"
   ]
  },
  {
   "cell_type": "markdown",
   "id": "de829944-8d25-40ee-9897-381b07ad0865",
   "metadata": {},
   "source": [
    "Les données, disponibles sur https://www.kaggle.com/datasets/olistbr/brazilian-ecommerce sont reparties sur plusieurs fichiers:\n",
    " - olist_customers_dataset.csv\n",
    " - olist_geolocation_dataset.csv\n",
    "- olist_order_items_dataset.csv\n",
    "- olist_order_payments_dataset.csv\n",
    "- olist_order_reviews_dataset.csv \n",
    "- olist_orders_dataset.csv\n",
    "- olist_products_dataset.csv\n",
    " - olist_sellers_dataset.csv\n",
    " \n",
    "Le schema des données est illustré ci-dessous: \n",
    "![alt text](HRhd2Y0.png \"Title\")"
   ]
  },
  {
   "cell_type": "markdown",
   "id": "9eaff492-67b6-4e0e-b47b-fad67ec90ccc",
   "metadata": {},
   "source": [
    "Je vais commencer à examiner les fichiers un par un afin de mieux comprendre les données, sélectionner les variables d'intérêt et enfin regrouper les données dans un seul dataframe."
   ]
  },
  {
   "cell_type": "markdown",
   "id": "b483a8f3-4755-4e5e-a53c-54237ae8f945",
   "metadata": {},
   "source": [
    "## 1.1 Customers"
   ]
  },
  {
   "cell_type": "markdown",
   "id": "fee4a16e-e09f-4537-8f35-21236e1912d5",
   "metadata": {},
   "source": [
    "Ce fichier contient des informations sur les clients et leurs emplacement."
   ]
  },
  {
   "cell_type": "code",
   "execution_count": 4,
   "id": "75207f7b-0612-4312-bac1-0ff0a146cbbb",
   "metadata": {},
   "outputs": [],
   "source": [
    "# lectures données\n",
    "customers = pd.read_csv('Data/Source/olist_customers_dataset.csv')"
   ]
  },
  {
   "cell_type": "code",
   "execution_count": 5,
   "id": "4c87c644-030a-47eb-9f18-b4bcfd9a25e0",
   "metadata": {},
   "outputs": [
    {
     "data": {
      "text/plain": [
       "(99441, 5)"
      ]
     },
     "execution_count": 5,
     "metadata": {},
     "output_type": "execute_result"
    }
   ],
   "source": [
    "# nombre ligne et colonnes\n",
    "customers.shape"
   ]
  },
  {
   "cell_type": "code",
   "execution_count": 6,
   "id": "373dc7b3-243d-4dd2-938f-acabd8dbc824",
   "metadata": {},
   "outputs": [
    {
     "data": {
      "text/html": [
       "<div>\n",
       "<style scoped>\n",
       "    .dataframe tbody tr th:only-of-type {\n",
       "        vertical-align: middle;\n",
       "    }\n",
       "\n",
       "    .dataframe tbody tr th {\n",
       "        vertical-align: top;\n",
       "    }\n",
       "\n",
       "    .dataframe thead th {\n",
       "        text-align: right;\n",
       "    }\n",
       "</style>\n",
       "<table border=\"1\" class=\"dataframe\">\n",
       "  <thead>\n",
       "    <tr style=\"text-align: right;\">\n",
       "      <th></th>\n",
       "      <th>customer_id</th>\n",
       "      <th>customer_unique_id</th>\n",
       "      <th>customer_zip_code_prefix</th>\n",
       "      <th>customer_city</th>\n",
       "      <th>customer_state</th>\n",
       "    </tr>\n",
       "  </thead>\n",
       "  <tbody>\n",
       "    <tr>\n",
       "      <th>48547</th>\n",
       "      <td>09803e29b7c6ecb7de771936dd75302b</td>\n",
       "      <td>5e30ac16a0659e3fde66a7e3ee135da9</td>\n",
       "      <td>8275</td>\n",
       "      <td>sao paulo</td>\n",
       "      <td>SP</td>\n",
       "    </tr>\n",
       "    <tr>\n",
       "      <th>98433</th>\n",
       "      <td>bdb17993d471e48340c10c554b57ad7d</td>\n",
       "      <td>de29b95d009359f46b6a7e8f7d932e21</td>\n",
       "      <td>29175</td>\n",
       "      <td>serra</td>\n",
       "      <td>ES</td>\n",
       "    </tr>\n",
       "    <tr>\n",
       "      <th>43787</th>\n",
       "      <td>e37623a7c983c5174d5aea2aad30a080</td>\n",
       "      <td>7d8edfd1d3efadef19da57a63d21ed92</td>\n",
       "      <td>83843</td>\n",
       "      <td>doce grande</td>\n",
       "      <td>PR</td>\n",
       "    </tr>\n",
       "    <tr>\n",
       "      <th>63375</th>\n",
       "      <td>deb460805396b2a842889d73a69d3c23</td>\n",
       "      <td>49644562b8dd8d8edaecf9a510b73361</td>\n",
       "      <td>65085</td>\n",
       "      <td>sao luis</td>\n",
       "      <td>MA</td>\n",
       "    </tr>\n",
       "    <tr>\n",
       "      <th>37762</th>\n",
       "      <td>1316bddb2ff7d5ad98530bd2b0c9a454</td>\n",
       "      <td>c8592d5ae5bde92205a4eedb41d9455e</td>\n",
       "      <td>35430</td>\n",
       "      <td>ponte nova</td>\n",
       "      <td>MG</td>\n",
       "    </tr>\n",
       "  </tbody>\n",
       "</table>\n",
       "</div>"
      ],
      "text/plain": [
       "                            customer_id                customer_unique_id  \\\n",
       "48547  09803e29b7c6ecb7de771936dd75302b  5e30ac16a0659e3fde66a7e3ee135da9   \n",
       "98433  bdb17993d471e48340c10c554b57ad7d  de29b95d009359f46b6a7e8f7d932e21   \n",
       "43787  e37623a7c983c5174d5aea2aad30a080  7d8edfd1d3efadef19da57a63d21ed92   \n",
       "63375  deb460805396b2a842889d73a69d3c23  49644562b8dd8d8edaecf9a510b73361   \n",
       "37762  1316bddb2ff7d5ad98530bd2b0c9a454  c8592d5ae5bde92205a4eedb41d9455e   \n",
       "\n",
       "       customer_zip_code_prefix customer_city customer_state  \n",
       "48547                      8275     sao paulo             SP  \n",
       "98433                     29175         serra             ES  \n",
       "43787                     83843   doce grande             PR  \n",
       "63375                     65085      sao luis             MA  \n",
       "37762                     35430    ponte nova             MG  "
      ]
     },
     "execution_count": 6,
     "metadata": {},
     "output_type": "execute_result"
    }
   ],
   "source": [
    "# echantillon données\n",
    "customers.sample(5)"
   ]
  },
  {
   "cell_type": "code",
   "execution_count": 7,
   "id": "af12f9f6-a45f-462b-b743-8994eb57695c",
   "metadata": {},
   "outputs": [
    {
     "data": {
      "text/plain": [
       "customer_id                 object\n",
       "customer_unique_id          object\n",
       "customer_zip_code_prefix     int64\n",
       "customer_city               object\n",
       "customer_state              object\n",
       "dtype: object"
      ]
     },
     "execution_count": 7,
     "metadata": {},
     "output_type": "execute_result"
    }
   ],
   "source": [
    "# types des données\n",
    "customers.dtypes"
   ]
  },
  {
   "cell_type": "code",
   "execution_count": 8,
   "id": "f1703cb4-623c-4b08-ab15-62d91b96543d",
   "metadata": {},
   "outputs": [
    {
     "data": {
      "text/plain": [
       "customer_id                 0\n",
       "customer_unique_id          0\n",
       "customer_zip_code_prefix    0\n",
       "customer_city               0\n",
       "customer_state              0\n",
       "dtype: int64"
      ]
     },
     "execution_count": 8,
     "metadata": {},
     "output_type": "execute_result"
    }
   ],
   "source": [
    "# valeurs manquantes\n",
    "customers.isna().sum()"
   ]
  },
  {
   "cell_type": "code",
   "execution_count": 9,
   "id": "2c818a44-64f3-4b0d-80f2-aa7752162b75",
   "metadata": {},
   "outputs": [
    {
     "data": {
      "text/plain": [
       "0"
      ]
     },
     "execution_count": 9,
     "metadata": {},
     "output_type": "execute_result"
    }
   ],
   "source": [
    "# doublons customer_id\n",
    "customers['customer_id'].duplicated().sum()"
   ]
  },
  {
   "cell_type": "code",
   "execution_count": 10,
   "id": "f6b43e85-f801-4879-9342-b29f8e04da85",
   "metadata": {},
   "outputs": [
    {
     "data": {
      "text/plain": [
       "0"
      ]
     },
     "execution_count": 10,
     "metadata": {},
     "output_type": "execute_result"
    }
   ],
   "source": [
    "# doublons customer_unique_id\n",
    "customers['customer_id'].duplicated().sum()"
   ]
  },
  {
   "cell_type": "markdown",
   "id": "e70b32eb-b208-44b6-a1ea-4705be468efa",
   "metadata": {},
   "source": [
    "A chaque commande correspond un identifiant, `customer_id`. Cela signifie qu'un même client, identifié par le `customer_unique_id`, obtiendra des `customer_id` différents pour différentes commandes. En prenant le ratio entre le nombre des doublons de la variable `customer_unique_id` et le nombre totale des lignes, on peut trouver le pourcentage des clients qui ont effectué plusieurs commandes."
   ]
  },
  {
   "cell_type": "code",
   "execution_count": 11,
   "id": "47e86649-8a91-4b28-8ba4-dda4ce1addc5",
   "metadata": {},
   "outputs": [
    {
     "data": {
      "text/plain": [
       "0.033638036624732255"
      ]
     },
     "execution_count": 11,
     "metadata": {},
     "output_type": "execute_result"
    }
   ],
   "source": [
    "# pourcentage clients ayant effectué plusieurs commandes\n",
    "customers['customer_unique_id'].duplicated().sum()/customers.shape[0]"
   ]
  },
  {
   "cell_type": "markdown",
   "id": "16a332ae-7840-4e6e-b694-fb7b05e5de53",
   "metadata": {},
   "source": [
    "Que le 3% des clients ont effectué plusieurs commandes."
   ]
  },
  {
   "cell_type": "markdown",
   "id": "85cac979-43d3-4f44-996b-f904cc016b18",
   "metadata": {},
   "source": [
    "Je vais m'intéresser à l'emplacement géographique des clients: en effet, selon la ville et l'état ,il pourrait y avoir des différences en termes d'achats. Aussi, la distance entre client et vendeur pourrait avoir une influence sur le comportement (par exemple, certaines personnes pourraient préfèrent acheter 'local')."
   ]
  },
  {
   "cell_type": "code",
   "execution_count": 12,
   "id": "fc143373-ac89-4a1b-914b-958dcaaf3d81",
   "metadata": {},
   "outputs": [
    {
     "data": {
      "text/plain": [
       "14994"
      ]
     },
     "execution_count": 12,
     "metadata": {},
     "output_type": "execute_result"
    }
   ],
   "source": [
    "# nombre de zipcodes\n",
    "customers['customer_zip_code_prefix'].unique().size"
   ]
  },
  {
   "cell_type": "code",
   "execution_count": 13,
   "id": "82f57eb2-9a4b-467f-b843-f24c12c021d8",
   "metadata": {},
   "outputs": [
    {
     "data": {
      "text/plain": [
       "4119"
      ]
     },
     "execution_count": 13,
     "metadata": {},
     "output_type": "execute_result"
    }
   ],
   "source": [
    "# nombre de villes\n",
    "customers['customer_city'].unique().size"
   ]
  },
  {
   "cell_type": "markdown",
   "id": "69164037-a99e-4eb6-bbe0-0f66b8bd790f",
   "metadata": {},
   "source": [
    "Le nombre de zipcodes et des villes est beaucoup trop grand pour penser de l'utiliser pour segmenter les clients."
   ]
  },
  {
   "cell_type": "code",
   "execution_count": 14,
   "id": "4a5f53e1-521a-4d69-8883-e4d59d69b77d",
   "metadata": {},
   "outputs": [
    {
     "data": {
      "text/plain": [
       "27"
      ]
     },
     "execution_count": 14,
     "metadata": {},
     "output_type": "execute_result"
    }
   ],
   "source": [
    "# nombre d'états\n",
    "customers['customer_state'].unique().size"
   ]
  },
  {
   "cell_type": "code",
   "execution_count": 15,
   "id": "a81c3929-4693-4b36-8c65-e5ada516ceaa",
   "metadata": {},
   "outputs": [
    {
     "data": {
      "text/plain": [
       "SP    41746\n",
       "RJ    12852\n",
       "MG    11635\n",
       "RS     5466\n",
       "PR     5045\n",
       "SC     3637\n",
       "BA     3380\n",
       "DF     2140\n",
       "ES     2033\n",
       "GO     2020\n",
       "PE     1652\n",
       "CE     1336\n",
       "PA      975\n",
       "MT      907\n",
       "MA      747\n",
       "MS      715\n",
       "PB      536\n",
       "PI      495\n",
       "RN      485\n",
       "AL      413\n",
       "SE      350\n",
       "TO      280\n",
       "RO      253\n",
       "AM      148\n",
       "AC       81\n",
       "AP       68\n",
       "RR       46\n",
       "Name: customer_state, dtype: int64"
      ]
     },
     "execution_count": 15,
     "metadata": {},
     "output_type": "execute_result"
    }
   ],
   "source": [
    "# comptage valeurs nombre d'états\n",
    "customers['customer_state'].value_counts()"
   ]
  },
  {
   "cell_type": "markdown",
   "id": "5ca9c49a-6d9b-45bc-b7ed-bff4d435d2ce",
   "metadata": {},
   "source": [
    "Les états les plus peuplés du Brésil sont São Paulo, Minas Gerais et Rio de Janeiro, celui le moins peuplé est Roraima - RR - (https://en.wikipedia.org/wiki/Federative_units_of_Brazil), ce qui correspond à peu près au classement, en termes de nombre des commandes, des données. Ainsi, je peux supposer que le nombre des commandes soit proportionnel à la population d'un état et donc pas forcement utile pour comprendre le comportement des clients. \n",
    "Je vais supprimer les variables `customer_city` et `customer_state`. Je vais garder la variable `customer_zip_code_prefix` que je vais utiliser par la suite pour calculer la distance entre client et vendeur."
   ]
  },
  {
   "cell_type": "code",
   "execution_count": 16,
   "id": "ebab9dab-4f65-4727-bc60-add41c08aef5",
   "metadata": {},
   "outputs": [],
   "source": [
    "# suppression variables non pertinentes\n",
    "customers = customers.drop(['customer_city', 'customer_state'], axis=1)"
   ]
  },
  {
   "cell_type": "code",
   "execution_count": 17,
   "id": "e095af36-40b4-4a83-9d24-e742f837beda",
   "metadata": {},
   "outputs": [],
   "source": [
    "# sauvegarde données\n",
    "customers.to_csv('Data/Cleaning/customers.csv', index=False)"
   ]
  },
  {
   "cell_type": "markdown",
   "id": "cad4d503-3efb-4fdd-a7a6-e6f111198648",
   "metadata": {
    "tags": []
   },
   "source": [
    "## 1.2 Geolocation"
   ]
  },
  {
   "cell_type": "markdown",
   "id": "d890ec3d-df56-43d6-8bb0-94fb1cff199c",
   "metadata": {},
   "source": [
    "Ce jeu des données contient des informations sur les codes postaux brésiliens et leurs coordonnées géographiques (latitude et longitude)."
   ]
  },
  {
   "cell_type": "code",
   "execution_count": 18,
   "id": "0959bb6e-0beb-4982-a695-3fc05fab39b5",
   "metadata": {},
   "outputs": [],
   "source": [
    "# lecture données\n",
    "geolocation = pd.read_csv('Data/Source/olist_geolocation_dataset.csv')"
   ]
  },
  {
   "cell_type": "code",
   "execution_count": 19,
   "id": "f5ce2afe-ebaa-4a0a-99bb-1ffd4ed3d8ed",
   "metadata": {},
   "outputs": [
    {
     "data": {
      "text/html": [
       "<div>\n",
       "<style scoped>\n",
       "    .dataframe tbody tr th:only-of-type {\n",
       "        vertical-align: middle;\n",
       "    }\n",
       "\n",
       "    .dataframe tbody tr th {\n",
       "        vertical-align: top;\n",
       "    }\n",
       "\n",
       "    .dataframe thead th {\n",
       "        text-align: right;\n",
       "    }\n",
       "</style>\n",
       "<table border=\"1\" class=\"dataframe\">\n",
       "  <thead>\n",
       "    <tr style=\"text-align: right;\">\n",
       "      <th></th>\n",
       "      <th>geolocation_zip_code_prefix</th>\n",
       "      <th>geolocation_lat</th>\n",
       "      <th>geolocation_lng</th>\n",
       "      <th>geolocation_city</th>\n",
       "      <th>geolocation_state</th>\n",
       "    </tr>\n",
       "  </thead>\n",
       "  <tbody>\n",
       "    <tr>\n",
       "      <th>884570</th>\n",
       "      <td>86042</td>\n",
       "      <td>-23.362979</td>\n",
       "      <td>-51.143005</td>\n",
       "      <td>londrina</td>\n",
       "      <td>PR</td>\n",
       "    </tr>\n",
       "    <tr>\n",
       "      <th>152129</th>\n",
       "      <td>6186</td>\n",
       "      <td>-23.534968</td>\n",
       "      <td>-46.813597</td>\n",
       "      <td>osasco</td>\n",
       "      <td>SP</td>\n",
       "    </tr>\n",
       "    <tr>\n",
       "      <th>824788</th>\n",
       "      <td>78320</td>\n",
       "      <td>-11.422026</td>\n",
       "      <td>-58.761591</td>\n",
       "      <td>juina</td>\n",
       "      <td>MT</td>\n",
       "    </tr>\n",
       "    <tr>\n",
       "      <th>909623</th>\n",
       "      <td>88310</td>\n",
       "      <td>-26.896825</td>\n",
       "      <td>-48.701355</td>\n",
       "      <td>itajaí</td>\n",
       "      <td>SC</td>\n",
       "    </tr>\n",
       "    <tr>\n",
       "      <th>82660</th>\n",
       "      <td>4205</td>\n",
       "      <td>-23.571289</td>\n",
       "      <td>-46.606780</td>\n",
       "      <td>sao paulo</td>\n",
       "      <td>SP</td>\n",
       "    </tr>\n",
       "  </tbody>\n",
       "</table>\n",
       "</div>"
      ],
      "text/plain": [
       "        geolocation_zip_code_prefix  geolocation_lat  geolocation_lng  \\\n",
       "884570                        86042       -23.362979       -51.143005   \n",
       "152129                         6186       -23.534968       -46.813597   \n",
       "824788                        78320       -11.422026       -58.761591   \n",
       "909623                        88310       -26.896825       -48.701355   \n",
       "82660                          4205       -23.571289       -46.606780   \n",
       "\n",
       "       geolocation_city geolocation_state  \n",
       "884570         londrina                PR  \n",
       "152129           osasco                SP  \n",
       "824788            juina                MT  \n",
       "909623           itajaí                SC  \n",
       "82660         sao paulo                SP  "
      ]
     },
     "execution_count": 19,
     "metadata": {},
     "output_type": "execute_result"
    }
   ],
   "source": [
    "# échantillon données\n",
    "geolocation.sample(5)"
   ]
  },
  {
   "cell_type": "code",
   "execution_count": 20,
   "id": "ec2d81dc-3cc1-4b0f-9ce0-052683665736",
   "metadata": {},
   "outputs": [
    {
     "data": {
      "text/plain": [
       "(1000163, 5)"
      ]
     },
     "execution_count": 20,
     "metadata": {},
     "output_type": "execute_result"
    }
   ],
   "source": [
    "# nombre des lignes et colonnes\n",
    "geolocation.shape"
   ]
  },
  {
   "cell_type": "code",
   "execution_count": 21,
   "id": "b3d1ba75-87b0-4474-82e3-3a9e94b704f9",
   "metadata": {},
   "outputs": [
    {
     "data": {
      "text/plain": [
       "geolocation_zip_code_prefix      int64\n",
       "geolocation_lat                float64\n",
       "geolocation_lng                float64\n",
       "geolocation_city                object\n",
       "geolocation_state               object\n",
       "dtype: object"
      ]
     },
     "execution_count": 21,
     "metadata": {},
     "output_type": "execute_result"
    }
   ],
   "source": [
    "# types des données\n",
    "geolocation.dtypes"
   ]
  },
  {
   "cell_type": "code",
   "execution_count": 22,
   "id": "66b327b4-91b0-468e-ac5f-8780a1905261",
   "metadata": {},
   "outputs": [
    {
     "data": {
      "text/plain": [
       "geolocation_zip_code_prefix    0\n",
       "geolocation_lat                0\n",
       "geolocation_lng                0\n",
       "geolocation_city               0\n",
       "geolocation_state              0\n",
       "dtype: int64"
      ]
     },
     "execution_count": 22,
     "metadata": {},
     "output_type": "execute_result"
    }
   ],
   "source": [
    "# valeurs manquantes\n",
    "geolocation.isna().sum()"
   ]
  },
  {
   "cell_type": "markdown",
   "id": "4e824310-6398-4e4f-8b51-3601eebffa71",
   "metadata": {},
   "source": [
    "Comme déjà expliqué dans la section 1.1, la ville et l'état ne vont pas m’intéresser pour la segmentation et je vais les supprimer."
   ]
  },
  {
   "cell_type": "code",
   "execution_count": 23,
   "id": "40499aaf-5d91-4a3b-9582-60dc73ee2617",
   "metadata": {},
   "outputs": [],
   "source": [
    "# suppression variables non pertinentes\n",
    "geolocation = geolocation.drop(['geolocation_city', 'geolocation_state'],\n",
    "                               axis=1)"
   ]
  },
  {
   "cell_type": "markdown",
   "id": "b59a4666-d8ba-4415-8f00-aa65be178150",
   "metadata": {},
   "source": [
    "Comme l'on peut voir dans l'example suivant, pour chaque zipcode les coordonnés géographiques peuvent être légèrement différentes."
   ]
  },
  {
   "cell_type": "code",
   "execution_count": 24,
   "id": "774094bb-feff-49b5-87a8-c6972eb5aff0",
   "metadata": {},
   "outputs": [
    {
     "data": {
      "text/html": [
       "<div>\n",
       "<style scoped>\n",
       "    .dataframe tbody tr th:only-of-type {\n",
       "        vertical-align: middle;\n",
       "    }\n",
       "\n",
       "    .dataframe tbody tr th {\n",
       "        vertical-align: top;\n",
       "    }\n",
       "\n",
       "    .dataframe thead th {\n",
       "        text-align: right;\n",
       "    }\n",
       "</style>\n",
       "<table border=\"1\" class=\"dataframe\">\n",
       "  <thead>\n",
       "    <tr style=\"text-align: right;\">\n",
       "      <th></th>\n",
       "      <th>geolocation_zip_code_prefix</th>\n",
       "      <th>geolocation_lat</th>\n",
       "      <th>geolocation_lng</th>\n",
       "    </tr>\n",
       "  </thead>\n",
       "  <tbody>\n",
       "    <tr>\n",
       "      <th>166839</th>\n",
       "      <td>6663</td>\n",
       "      <td>-23.563372</td>\n",
       "      <td>-46.937101</td>\n",
       "    </tr>\n",
       "    <tr>\n",
       "      <th>166856</th>\n",
       "      <td>6663</td>\n",
       "      <td>-23.551594</td>\n",
       "      <td>-46.940839</td>\n",
       "    </tr>\n",
       "    <tr>\n",
       "      <th>166862</th>\n",
       "      <td>6663</td>\n",
       "      <td>-23.557664</td>\n",
       "      <td>-46.939495</td>\n",
       "    </tr>\n",
       "    <tr>\n",
       "      <th>166871</th>\n",
       "      <td>6663</td>\n",
       "      <td>-23.557521</td>\n",
       "      <td>-46.934431</td>\n",
       "    </tr>\n",
       "    <tr>\n",
       "      <th>166876</th>\n",
       "      <td>6663</td>\n",
       "      <td>-23.559813</td>\n",
       "      <td>-46.941309</td>\n",
       "    </tr>\n",
       "    <tr>\n",
       "      <th>...</th>\n",
       "      <td>...</td>\n",
       "      <td>...</td>\n",
       "      <td>...</td>\n",
       "    </tr>\n",
       "    <tr>\n",
       "      <th>169293</th>\n",
       "      <td>6663</td>\n",
       "      <td>-23.552483</td>\n",
       "      <td>-46.937114</td>\n",
       "    </tr>\n",
       "    <tr>\n",
       "      <th>169312</th>\n",
       "      <td>6663</td>\n",
       "      <td>-23.552890</td>\n",
       "      <td>-46.943818</td>\n",
       "    </tr>\n",
       "    <tr>\n",
       "      <th>169316</th>\n",
       "      <td>6663</td>\n",
       "      <td>-23.551930</td>\n",
       "      <td>-46.942566</td>\n",
       "    </tr>\n",
       "    <tr>\n",
       "      <th>169338</th>\n",
       "      <td>6663</td>\n",
       "      <td>-23.553158</td>\n",
       "      <td>-46.938335</td>\n",
       "    </tr>\n",
       "    <tr>\n",
       "      <th>169348</th>\n",
       "      <td>6663</td>\n",
       "      <td>-23.560342</td>\n",
       "      <td>-46.938128</td>\n",
       "    </tr>\n",
       "  </tbody>\n",
       "</table>\n",
       "<p>212 rows × 3 columns</p>\n",
       "</div>"
      ],
      "text/plain": [
       "        geolocation_zip_code_prefix  geolocation_lat  geolocation_lng\n",
       "166839                         6663       -23.563372       -46.937101\n",
       "166856                         6663       -23.551594       -46.940839\n",
       "166862                         6663       -23.557664       -46.939495\n",
       "166871                         6663       -23.557521       -46.934431\n",
       "166876                         6663       -23.559813       -46.941309\n",
       "...                             ...              ...              ...\n",
       "169293                         6663       -23.552483       -46.937114\n",
       "169312                         6663       -23.552890       -46.943818\n",
       "169316                         6663       -23.551930       -46.942566\n",
       "169338                         6663       -23.553158       -46.938335\n",
       "169348                         6663       -23.560342       -46.938128\n",
       "\n",
       "[212 rows x 3 columns]"
      ]
     },
     "execution_count": 24,
     "metadata": {},
     "output_type": "execute_result"
    }
   ],
   "source": [
    "# données avec zip_code_prefix = 6663\n",
    "geolocation[geolocation['geolocation_zip_code_prefix'] == 6663]"
   ]
  },
  {
   "cell_type": "markdown",
   "id": "221024c9-20d9-4d9b-b0e0-9ad72a75c550",
   "metadata": {},
   "source": [
    "Je vais effectuer une agrégation des zipcodes en utilisant la moyenne, ainsi on aura latitude et longitude moyenne pour chaque zipcode."
   ]
  },
  {
   "cell_type": "code",
   "execution_count": 25,
   "id": "0415c8bd-78e2-4151-b19b-5417cb74dcfd",
   "metadata": {},
   "outputs": [],
   "source": [
    "# agrégation\n",
    "geolocation = geolocation.groupby('geolocation_zip_code_prefix').agg('mean')"
   ]
  },
  {
   "cell_type": "code",
   "execution_count": 26,
   "id": "951eac28-3af9-444c-bd11-e1ed0ad1ae8e",
   "metadata": {},
   "outputs": [
    {
     "data": {
      "text/html": [
       "<div>\n",
       "<style scoped>\n",
       "    .dataframe tbody tr th:only-of-type {\n",
       "        vertical-align: middle;\n",
       "    }\n",
       "\n",
       "    .dataframe tbody tr th {\n",
       "        vertical-align: top;\n",
       "    }\n",
       "\n",
       "    .dataframe thead th {\n",
       "        text-align: right;\n",
       "    }\n",
       "</style>\n",
       "<table border=\"1\" class=\"dataframe\">\n",
       "  <thead>\n",
       "    <tr style=\"text-align: right;\">\n",
       "      <th></th>\n",
       "      <th>geolocation_lat</th>\n",
       "      <th>geolocation_lng</th>\n",
       "    </tr>\n",
       "  </thead>\n",
       "  <tbody>\n",
       "    <tr>\n",
       "      <th>count</th>\n",
       "      <td>19015.000000</td>\n",
       "      <td>19015.000000</td>\n",
       "    </tr>\n",
       "    <tr>\n",
       "      <th>mean</th>\n",
       "      <td>-19.055250</td>\n",
       "      <td>-46.057645</td>\n",
       "    </tr>\n",
       "    <tr>\n",
       "      <th>std</th>\n",
       "      <td>7.295792</td>\n",
       "      <td>5.365775</td>\n",
       "    </tr>\n",
       "    <tr>\n",
       "      <th>min</th>\n",
       "      <td>-33.689948</td>\n",
       "      <td>-72.916069</td>\n",
       "    </tr>\n",
       "    <tr>\n",
       "      <th>25%</th>\n",
       "      <td>-23.564143</td>\n",
       "      <td>-49.001737</td>\n",
       "    </tr>\n",
       "    <tr>\n",
       "      <th>50%</th>\n",
       "      <td>-22.416053</td>\n",
       "      <td>-46.631931</td>\n",
       "    </tr>\n",
       "    <tr>\n",
       "      <th>75%</th>\n",
       "      <td>-15.612108</td>\n",
       "      <td>-43.255374</td>\n",
       "    </tr>\n",
       "    <tr>\n",
       "      <th>max</th>\n",
       "      <td>42.184003</td>\n",
       "      <td>121.105394</td>\n",
       "    </tr>\n",
       "  </tbody>\n",
       "</table>\n",
       "</div>"
      ],
      "text/plain": [
       "       geolocation_lat  geolocation_lng\n",
       "count     19015.000000     19015.000000\n",
       "mean        -19.055250       -46.057645\n",
       "std           7.295792         5.365775\n",
       "min         -33.689948       -72.916069\n",
       "25%         -23.564143       -49.001737\n",
       "50%         -22.416053       -46.631931\n",
       "75%         -15.612108       -43.255374\n",
       "max          42.184003       121.105394"
      ]
     },
     "execution_count": 26,
     "metadata": {},
     "output_type": "execute_result"
    }
   ],
   "source": [
    "# statistiques de base des coordonnées géographiques\n",
    "geolocation.describe()"
   ]
  },
  {
   "cell_type": "markdown",
   "id": "e95e6701-62d5-40e7-9355-a7cc91c18bdc",
   "metadata": {},
   "source": [
    "En regardant le valeurs maximales de latitude et longitude, on peut se rendre compte que certaines coordonnées geographique ne se trouvent pas au Brésil  (l'étendue latitudinale du Brésil est de 5°15'N à 33°45'S. L'étendue longitudinale du Brésil est de 34°45'E à 73°48'W).\n",
    "\n",
    "Je vais mieux examiner les valeurs aberrantes."
   ]
  },
  {
   "cell_type": "code",
   "execution_count": 27,
   "id": "1bf7977b-1c21-4e3d-adf4-a60d8e858ddb",
   "metadata": {},
   "outputs": [
    {
     "data": {
      "text/plain": [
       "(9, 2)"
      ]
     },
     "execution_count": 27,
     "metadata": {},
     "output_type": "execute_result"
    }
   ],
   "source": [
    "# nombre valeurs aberrantes\n",
    "geolocation[(geolocation['geolocation_lat'] > 5) |\n",
    "            (geolocation['geolocation_lng'] > 34)].shape"
   ]
  },
  {
   "cell_type": "code",
   "execution_count": 28,
   "id": "578a4dfa-0e97-4e7e-95cf-c50e37b902af",
   "metadata": {},
   "outputs": [
    {
     "data": {
      "text/html": [
       "<div>\n",
       "<style scoped>\n",
       "    .dataframe tbody tr th:only-of-type {\n",
       "        vertical-align: middle;\n",
       "    }\n",
       "\n",
       "    .dataframe tbody tr th {\n",
       "        vertical-align: top;\n",
       "    }\n",
       "\n",
       "    .dataframe thead th {\n",
       "        text-align: right;\n",
       "    }\n",
       "</style>\n",
       "<table border=\"1\" class=\"dataframe\">\n",
       "  <thead>\n",
       "    <tr style=\"text-align: right;\">\n",
       "      <th></th>\n",
       "      <th>geolocation_lat</th>\n",
       "      <th>geolocation_lng</th>\n",
       "    </tr>\n",
       "    <tr>\n",
       "      <th>geolocation_zip_code_prefix</th>\n",
       "      <th></th>\n",
       "      <th></th>\n",
       "    </tr>\n",
       "  </thead>\n",
       "  <tbody>\n",
       "    <tr>\n",
       "      <th>18243</th>\n",
       "      <td>28.008978</td>\n",
       "      <td>-15.536867</td>\n",
       "    </tr>\n",
       "    <tr>\n",
       "      <th>46560</th>\n",
       "      <td>13.001420</td>\n",
       "      <td>-23.583939</td>\n",
       "    </tr>\n",
       "    <tr>\n",
       "      <th>58441</th>\n",
       "      <td>5.013519</td>\n",
       "      <td>-29.384846</td>\n",
       "    </tr>\n",
       "    <tr>\n",
       "      <th>68275</th>\n",
       "      <td>22.567952</td>\n",
       "      <td>-27.698087</td>\n",
       "    </tr>\n",
       "    <tr>\n",
       "      <th>68379</th>\n",
       "      <td>9.049063</td>\n",
       "      <td>-25.170903</td>\n",
       "    </tr>\n",
       "    <tr>\n",
       "      <th>68447</th>\n",
       "      <td>7.271649</td>\n",
       "      <td>-40.315884</td>\n",
       "    </tr>\n",
       "    <tr>\n",
       "      <th>78131</th>\n",
       "      <td>38.816816</td>\n",
       "      <td>-9.394625</td>\n",
       "    </tr>\n",
       "    <tr>\n",
       "      <th>83252</th>\n",
       "      <td>42.184003</td>\n",
       "      <td>-8.723762</td>\n",
       "    </tr>\n",
       "    <tr>\n",
       "      <th>95130</th>\n",
       "      <td>14.585073</td>\n",
       "      <td>121.105394</td>\n",
       "    </tr>\n",
       "  </tbody>\n",
       "</table>\n",
       "</div>"
      ],
      "text/plain": [
       "                             geolocation_lat  geolocation_lng\n",
       "geolocation_zip_code_prefix                                  \n",
       "18243                              28.008978       -15.536867\n",
       "46560                              13.001420       -23.583939\n",
       "58441                               5.013519       -29.384846\n",
       "68275                              22.567952       -27.698087\n",
       "68379                               9.049063       -25.170903\n",
       "68447                               7.271649       -40.315884\n",
       "78131                              38.816816        -9.394625\n",
       "83252                              42.184003        -8.723762\n",
       "95130                              14.585073       121.105394"
      ]
     },
     "execution_count": 28,
     "metadata": {},
     "output_type": "execute_result"
    }
   ],
   "source": [
    "# valeurs aberrantes\n",
    "geolocation[(geolocation['geolocation_lat'] > 5) |\n",
    "            (geolocation['geolocation_lng'] > 34)]"
   ]
  },
  {
   "cell_type": "markdown",
   "id": "88910930-ffc4-49d5-b696-43f82b27a92d",
   "metadata": {},
   "source": [
    "Etant donné que les valeurs aberrantes sont peu nombreux, je vais le remplacers en cherchant sur internet les coordonnées correctes."
   ]
  },
  {
   "cell_type": "code",
   "execution_count": 29,
   "id": "d2d06f69-724e-4982-9b4c-b9e835763ec7",
   "metadata": {},
   "outputs": [],
   "source": [
    "# remplacement valeurs aberrantes\n",
    "geolocation.loc[18243] = [-23.54222, -48.305]\n",
    "geolocation.loc[46560] = [-12.99209, -42.22238]\n",
    "geolocation.loc[58441] = [-7.180165016054178, -35.979434275259266]\n",
    "geolocation.loc[68275] = [-1.4669505234541502, -56.379455383888526]\n",
    "geolocation.loc[68379] = [-8.319528012347314, -55.09925905039131]\n",
    "geolocation.loc[68447] = [-1.516972527581508, -48.69190675158169]\n",
    "geolocation.loc[78131] = [-15.65652, -56.15606000000001]\n",
    "geolocation.loc[83252] = [-25.52470175619802, -48.51545711094667]\n",
    "geolocation.loc[95130] = [-29.23733389923742, -51.02468939940931]"
   ]
  },
  {
   "cell_type": "markdown",
   "id": "9445180d-6077-42a6-89eb-862920268dfc",
   "metadata": {},
   "source": [
    "Je peux enfin effectuer une jointure de ce dataframe avec celui des clients en utilisant `geolocation_zip_code_prefix` comme clé.\n",
    "\n",
    "Pour vérifier que la jointure ait été effectuée correctement, je vais vérifier que le nombre des lignes du dataframe `customers` soit le même avant et après jointure.\n"
   ]
  },
  {
   "cell_type": "code",
   "execution_count": 30,
   "id": "d2740698-ced1-4db4-a548-53a63e629a98",
   "metadata": {},
   "outputs": [
    {
     "data": {
      "text/plain": [
       "99441"
      ]
     },
     "execution_count": 30,
     "metadata": {},
     "output_type": "execute_result"
    }
   ],
   "source": [
    "# nombre des commandes avant merge\n",
    "customers.shape[0]"
   ]
  },
  {
   "cell_type": "code",
   "execution_count": 31,
   "id": "ae3300ef-8fb9-49a0-b169-7d5a40ed2066",
   "metadata": {},
   "outputs": [],
   "source": [
    "# merge\n",
    "customers = pd.merge(customers,\n",
    "                     geolocation,\n",
    "                     how='left',\n",
    "                     left_on='customer_zip_code_prefix',\n",
    "                     right_on='geolocation_zip_code_prefix')"
   ]
  },
  {
   "cell_type": "code",
   "execution_count": 32,
   "id": "264e37a7-8ced-4962-aa4d-093ee83d2dd4",
   "metadata": {},
   "outputs": [
    {
     "data": {
      "text/plain": [
       "99441"
      ]
     },
     "execution_count": 32,
     "metadata": {},
     "output_type": "execute_result"
    }
   ],
   "source": [
    "# nombre des commandes apreès merge\n",
    "customers.shape[0]"
   ]
  },
  {
   "cell_type": "code",
   "execution_count": 33,
   "id": "eb900bc0-d16b-4054-af09-df90abbf1036",
   "metadata": {},
   "outputs": [
    {
     "data": {
      "text/html": [
       "<div>\n",
       "<style scoped>\n",
       "    .dataframe tbody tr th:only-of-type {\n",
       "        vertical-align: middle;\n",
       "    }\n",
       "\n",
       "    .dataframe tbody tr th {\n",
       "        vertical-align: top;\n",
       "    }\n",
       "\n",
       "    .dataframe thead th {\n",
       "        text-align: right;\n",
       "    }\n",
       "</style>\n",
       "<table border=\"1\" class=\"dataframe\">\n",
       "  <thead>\n",
       "    <tr style=\"text-align: right;\">\n",
       "      <th></th>\n",
       "      <th>customer_id</th>\n",
       "      <th>customer_unique_id</th>\n",
       "      <th>customer_zip_code_prefix</th>\n",
       "      <th>geolocation_lat</th>\n",
       "      <th>geolocation_lng</th>\n",
       "    </tr>\n",
       "  </thead>\n",
       "  <tbody>\n",
       "    <tr>\n",
       "      <th>29783</th>\n",
       "      <td>d4c85a033e496942839f448797611939</td>\n",
       "      <td>351f8f0301502a98ad31c9e626529c7c</td>\n",
       "      <td>5734</td>\n",
       "      <td>-23.625699</td>\n",
       "      <td>-46.743468</td>\n",
       "    </tr>\n",
       "    <tr>\n",
       "      <th>23394</th>\n",
       "      <td>0a9b104fa661da38bed249cddffb4ce3</td>\n",
       "      <td>84143652c76c6c5b56af10e53c16ec8e</td>\n",
       "      <td>9820</td>\n",
       "      <td>-23.740897</td>\n",
       "      <td>-46.555203</td>\n",
       "    </tr>\n",
       "    <tr>\n",
       "      <th>60034</th>\n",
       "      <td>8e68059b819a389508e2a37f46343e60</td>\n",
       "      <td>72519c12ba1fb400c3a095f86a1c37b3</td>\n",
       "      <td>66023</td>\n",
       "      <td>-1.461374</td>\n",
       "      <td>-48.497530</td>\n",
       "    </tr>\n",
       "    <tr>\n",
       "      <th>57241</th>\n",
       "      <td>d1a2056f6e6e1584ba56d6e6f0285e56</td>\n",
       "      <td>2e0d4931217e13e3044c55b8ba40bce5</td>\n",
       "      <td>62823</td>\n",
       "      <td>-4.840908</td>\n",
       "      <td>-37.781214</td>\n",
       "    </tr>\n",
       "    <tr>\n",
       "      <th>33555</th>\n",
       "      <td>208351e39f4ca153f72012d7a6ba23b9</td>\n",
       "      <td>969eb8bf4c0fce047dfd0ee78ce9a205</td>\n",
       "      <td>14530</td>\n",
       "      <td>-20.182732</td>\n",
       "      <td>-48.027802</td>\n",
       "    </tr>\n",
       "  </tbody>\n",
       "</table>\n",
       "</div>"
      ],
      "text/plain": [
       "                            customer_id                customer_unique_id  \\\n",
       "29783  d4c85a033e496942839f448797611939  351f8f0301502a98ad31c9e626529c7c   \n",
       "23394  0a9b104fa661da38bed249cddffb4ce3  84143652c76c6c5b56af10e53c16ec8e   \n",
       "60034  8e68059b819a389508e2a37f46343e60  72519c12ba1fb400c3a095f86a1c37b3   \n",
       "57241  d1a2056f6e6e1584ba56d6e6f0285e56  2e0d4931217e13e3044c55b8ba40bce5   \n",
       "33555  208351e39f4ca153f72012d7a6ba23b9  969eb8bf4c0fce047dfd0ee78ce9a205   \n",
       "\n",
       "       customer_zip_code_prefix  geolocation_lat  geolocation_lng  \n",
       "29783                      5734       -23.625699       -46.743468  \n",
       "23394                      9820       -23.740897       -46.555203  \n",
       "60034                     66023        -1.461374       -48.497530  \n",
       "57241                     62823        -4.840908       -37.781214  \n",
       "33555                     14530       -20.182732       -48.027802  "
      ]
     },
     "execution_count": 33,
     "metadata": {},
     "output_type": "execute_result"
    }
   ],
   "source": [
    "# vérification du merge\n",
    "customers.sample(5)"
   ]
  },
  {
   "cell_type": "code",
   "execution_count": 34,
   "id": "f7e20d42-96b9-4cab-85cc-af6c90e1f767",
   "metadata": {},
   "outputs": [],
   "source": [
    "# sauvegarde données\n",
    "customers.to_csv('Data/Cleaning/customers.csv', index=False)"
   ]
  },
  {
   "cell_type": "markdown",
   "id": "96663815-ecc5-4633-aa9f-ef911768b006",
   "metadata": {},
   "source": [
    "## 1.3. Orders"
   ]
  },
  {
   "cell_type": "markdown",
   "id": "a8f340bb-78a9-4763-958e-50e5103bc909",
   "metadata": {},
   "source": [
    "Ce jeu de données contient des informations sur le statut des commandes, les dates d'achat, les dates d'approbation de la commande, les dates de livraison etc."
   ]
  },
  {
   "cell_type": "code",
   "execution_count": 35,
   "id": "53d773ee-9776-4502-b5ff-a27e6918997a",
   "metadata": {},
   "outputs": [],
   "source": [
    "# lecture données\n",
    "orders = pd.read_csv('Data/Source/olist_orders_dataset.csv')"
   ]
  },
  {
   "cell_type": "code",
   "execution_count": 36,
   "id": "f813244a-62f0-4e7d-bf71-f27f9077c3d1",
   "metadata": {},
   "outputs": [
    {
     "data": {
      "text/html": [
       "<div>\n",
       "<style scoped>\n",
       "    .dataframe tbody tr th:only-of-type {\n",
       "        vertical-align: middle;\n",
       "    }\n",
       "\n",
       "    .dataframe tbody tr th {\n",
       "        vertical-align: top;\n",
       "    }\n",
       "\n",
       "    .dataframe thead th {\n",
       "        text-align: right;\n",
       "    }\n",
       "</style>\n",
       "<table border=\"1\" class=\"dataframe\">\n",
       "  <thead>\n",
       "    <tr style=\"text-align: right;\">\n",
       "      <th></th>\n",
       "      <th>order_id</th>\n",
       "      <th>customer_id</th>\n",
       "      <th>order_status</th>\n",
       "      <th>order_purchase_timestamp</th>\n",
       "      <th>order_approved_at</th>\n",
       "      <th>order_delivered_carrier_date</th>\n",
       "      <th>order_delivered_customer_date</th>\n",
       "      <th>order_estimated_delivery_date</th>\n",
       "    </tr>\n",
       "  </thead>\n",
       "  <tbody>\n",
       "    <tr>\n",
       "      <th>2317</th>\n",
       "      <td>48ac627a65c15df7cebf426bda6e6077</td>\n",
       "      <td>b5dff22ad6f2531a66adde7810935f70</td>\n",
       "      <td>delivered</td>\n",
       "      <td>2017-10-18 23:22:31</td>\n",
       "      <td>2017-10-19 00:40:57</td>\n",
       "      <td>2017-10-23 15:52:58</td>\n",
       "      <td>2017-10-28 13:21:46</td>\n",
       "      <td>2017-11-14 00:00:00</td>\n",
       "    </tr>\n",
       "    <tr>\n",
       "      <th>90745</th>\n",
       "      <td>9c370b3dbcadfb3a62c2b8466603fa1f</td>\n",
       "      <td>a949e48c89ff4cf4e5f14fba155eb16c</td>\n",
       "      <td>delivered</td>\n",
       "      <td>2017-06-03 19:00:27</td>\n",
       "      <td>2017-06-03 19:10:14</td>\n",
       "      <td>2017-06-06 14:04:44</td>\n",
       "      <td>2017-06-28 12:33:37</td>\n",
       "      <td>2017-07-10 00:00:00</td>\n",
       "    </tr>\n",
       "    <tr>\n",
       "      <th>93867</th>\n",
       "      <td>27fe1bf2ef6671ce5e66d6958f828422</td>\n",
       "      <td>c40a784c17fc33789c6778125abd1fe7</td>\n",
       "      <td>delivered</td>\n",
       "      <td>2017-08-07 01:06:50</td>\n",
       "      <td>2017-08-07 01:24:06</td>\n",
       "      <td>2017-08-21 21:17:58</td>\n",
       "      <td>2017-08-24 19:53:32</td>\n",
       "      <td>2017-08-30 00:00:00</td>\n",
       "    </tr>\n",
       "    <tr>\n",
       "      <th>11110</th>\n",
       "      <td>79c4bd6c466a226de3a2b9ee556a0116</td>\n",
       "      <td>05010516b844e532c5dde4da1f0269cc</td>\n",
       "      <td>delivered</td>\n",
       "      <td>2017-03-13 16:38:40</td>\n",
       "      <td>2017-03-13 16:38:40</td>\n",
       "      <td>2017-03-14 18:19:06</td>\n",
       "      <td>2017-03-29 17:25:01</td>\n",
       "      <td>2017-04-10 00:00:00</td>\n",
       "    </tr>\n",
       "    <tr>\n",
       "      <th>79419</th>\n",
       "      <td>0559598ddb2398bb4c202d6efd54f04e</td>\n",
       "      <td>496336231bd05e1117aacb8263e47608</td>\n",
       "      <td>delivered</td>\n",
       "      <td>2018-07-13 21:43:39</td>\n",
       "      <td>2018-07-17 04:32:18</td>\n",
       "      <td>2018-07-23 17:10:00</td>\n",
       "      <td>2018-07-24 22:14:38</td>\n",
       "      <td>2018-07-26 00:00:00</td>\n",
       "    </tr>\n",
       "  </tbody>\n",
       "</table>\n",
       "</div>"
      ],
      "text/plain": [
       "                               order_id                       customer_id  \\\n",
       "2317   48ac627a65c15df7cebf426bda6e6077  b5dff22ad6f2531a66adde7810935f70   \n",
       "90745  9c370b3dbcadfb3a62c2b8466603fa1f  a949e48c89ff4cf4e5f14fba155eb16c   \n",
       "93867  27fe1bf2ef6671ce5e66d6958f828422  c40a784c17fc33789c6778125abd1fe7   \n",
       "11110  79c4bd6c466a226de3a2b9ee556a0116  05010516b844e532c5dde4da1f0269cc   \n",
       "79419  0559598ddb2398bb4c202d6efd54f04e  496336231bd05e1117aacb8263e47608   \n",
       "\n",
       "      order_status order_purchase_timestamp    order_approved_at  \\\n",
       "2317     delivered      2017-10-18 23:22:31  2017-10-19 00:40:57   \n",
       "90745    delivered      2017-06-03 19:00:27  2017-06-03 19:10:14   \n",
       "93867    delivered      2017-08-07 01:06:50  2017-08-07 01:24:06   \n",
       "11110    delivered      2017-03-13 16:38:40  2017-03-13 16:38:40   \n",
       "79419    delivered      2018-07-13 21:43:39  2018-07-17 04:32:18   \n",
       "\n",
       "      order_delivered_carrier_date order_delivered_customer_date  \\\n",
       "2317           2017-10-23 15:52:58           2017-10-28 13:21:46   \n",
       "90745          2017-06-06 14:04:44           2017-06-28 12:33:37   \n",
       "93867          2017-08-21 21:17:58           2017-08-24 19:53:32   \n",
       "11110          2017-03-14 18:19:06           2017-03-29 17:25:01   \n",
       "79419          2018-07-23 17:10:00           2018-07-24 22:14:38   \n",
       "\n",
       "      order_estimated_delivery_date  \n",
       "2317            2017-11-14 00:00:00  \n",
       "90745           2017-07-10 00:00:00  \n",
       "93867           2017-08-30 00:00:00  \n",
       "11110           2017-04-10 00:00:00  \n",
       "79419           2018-07-26 00:00:00  "
      ]
     },
     "execution_count": 36,
     "metadata": {},
     "output_type": "execute_result"
    }
   ],
   "source": [
    "# échantillon données\n",
    "orders.sample(5)"
   ]
  },
  {
   "cell_type": "code",
   "execution_count": 37,
   "id": "7ca1d103-1717-405e-a5f7-0547f7aecb88",
   "metadata": {},
   "outputs": [
    {
     "data": {
      "text/plain": [
       "(99441, 8)"
      ]
     },
     "execution_count": 37,
     "metadata": {},
     "output_type": "execute_result"
    }
   ],
   "source": [
    "# nombre des lignes et colonnes\n",
    "orders.shape"
   ]
  },
  {
   "cell_type": "code",
   "execution_count": 38,
   "id": "e5b4f04b-309f-4932-8b1c-b23dfe535dc1",
   "metadata": {},
   "outputs": [
    {
     "data": {
      "text/plain": [
       "order_id                         object\n",
       "customer_id                      object\n",
       "order_status                     object\n",
       "order_purchase_timestamp         object\n",
       "order_approved_at                object\n",
       "order_delivered_carrier_date     object\n",
       "order_delivered_customer_date    object\n",
       "order_estimated_delivery_date    object\n",
       "dtype: object"
      ]
     },
     "execution_count": 38,
     "metadata": {},
     "output_type": "execute_result"
    }
   ],
   "source": [
    "# types des données\n",
    "orders.dtypes"
   ]
  },
  {
   "cell_type": "code",
   "execution_count": 39,
   "id": "be9fd3b0-3464-4a91-92c3-626064c444cc",
   "metadata": {},
   "outputs": [
    {
     "data": {
      "text/plain": [
       "order_id                            0\n",
       "customer_id                         0\n",
       "order_status                        0\n",
       "order_purchase_timestamp            0\n",
       "order_approved_at                 160\n",
       "order_delivered_carrier_date     1783\n",
       "order_delivered_customer_date    2965\n",
       "order_estimated_delivery_date       0\n",
       "dtype: int64"
      ]
     },
     "execution_count": 39,
     "metadata": {},
     "output_type": "execute_result"
    }
   ],
   "source": [
    "# valeurs manquantes\n",
    "orders.isna().sum()"
   ]
  },
  {
   "cell_type": "code",
   "execution_count": 40,
   "id": "f8adcd74-15a9-4384-aef2-5a098eef707d",
   "metadata": {},
   "outputs": [
    {
     "data": {
      "text/plain": [
       "0"
      ]
     },
     "execution_count": 40,
     "metadata": {},
     "output_type": "execute_result"
    }
   ],
   "source": [
    "# doublons order_id\n",
    "orders['order_id'].duplicated().sum()"
   ]
  },
  {
   "cell_type": "code",
   "execution_count": 41,
   "id": "4eb58b18-3137-45a8-b6fe-cf681de5ae96",
   "metadata": {},
   "outputs": [
    {
     "data": {
      "text/plain": [
       "0"
      ]
     },
     "execution_count": 41,
     "metadata": {},
     "output_type": "execute_result"
    }
   ],
   "source": [
    "# doublons customer id\n",
    "orders['customer_id'].duplicated().sum()"
   ]
  },
  {
   "cell_type": "markdown",
   "id": "4dfe8e15-f50d-46a5-a205-f1cfa1ed682e",
   "metadata": {},
   "source": [
    "A chaque `order_id` correspond bien un seul `customer_id`."
   ]
  },
  {
   "cell_type": "code",
   "execution_count": 42,
   "id": "e7e05f18-6951-4afc-a846-24b998e42118",
   "metadata": {},
   "outputs": [
    {
     "data": {
      "text/plain": [
       "delivered      0.970203\n",
       "shipped        0.011132\n",
       "canceled       0.006285\n",
       "unavailable    0.006124\n",
       "invoiced       0.003158\n",
       "processing     0.003027\n",
       "created        0.000050\n",
       "approved       0.000020\n",
       "Name: order_status, dtype: float64"
      ]
     },
     "execution_count": 42,
     "metadata": {},
     "output_type": "execute_result"
    }
   ],
   "source": [
    "# status commande\n",
    "orders['order_status'].value_counts(normalize=True)"
   ]
  },
  {
   "cell_type": "markdown",
   "id": "bcd42bf4-1d74-4d24-909e-482217009c40",
   "metadata": {},
   "source": [
    "La plupart des commandes a été livré, mais certaines commandes n'ont pas été livrées ou sont toujours en cours. Je vais regarder des exemples des commandes non livrées\n"
   ]
  },
  {
   "cell_type": "code",
   "execution_count": 43,
   "id": "e12b2d23-bbf7-492d-9cf4-6a47fde6700d",
   "metadata": {},
   "outputs": [],
   "source": [
    "# dataframe des commandes non livrées\n",
    "orders_not_delivered = orders[orders['order_status'] != 'delivered']"
   ]
  },
  {
   "cell_type": "code",
   "execution_count": 44,
   "id": "36303596-7143-4870-8ca0-caba320d4d9a",
   "metadata": {},
   "outputs": [
    {
     "data": {
      "text/html": [
       "<div>\n",
       "<style scoped>\n",
       "    .dataframe tbody tr th:only-of-type {\n",
       "        vertical-align: middle;\n",
       "    }\n",
       "\n",
       "    .dataframe tbody tr th {\n",
       "        vertical-align: top;\n",
       "    }\n",
       "\n",
       "    .dataframe thead th {\n",
       "        text-align: right;\n",
       "    }\n",
       "</style>\n",
       "<table border=\"1\" class=\"dataframe\">\n",
       "  <thead>\n",
       "    <tr style=\"text-align: right;\">\n",
       "      <th></th>\n",
       "      <th>order_id</th>\n",
       "      <th>customer_id</th>\n",
       "      <th>order_status</th>\n",
       "      <th>order_purchase_timestamp</th>\n",
       "      <th>order_approved_at</th>\n",
       "      <th>order_delivered_carrier_date</th>\n",
       "      <th>order_delivered_customer_date</th>\n",
       "      <th>order_estimated_delivery_date</th>\n",
       "    </tr>\n",
       "  </thead>\n",
       "  <tbody>\n",
       "    <tr>\n",
       "      <th>39655</th>\n",
       "      <td>1f66f9bfd244a5383aeb00a84ad12a66</td>\n",
       "      <td>b692755548475c6db9d19858c5da06f1</td>\n",
       "      <td>canceled</td>\n",
       "      <td>2016-10-10 10:49:54</td>\n",
       "      <td>2016-10-10 12:01:56</td>\n",
       "      <td>NaN</td>\n",
       "      <td>NaN</td>\n",
       "      <td>2016-12-08 00:00:00</td>\n",
       "    </tr>\n",
       "    <tr>\n",
       "      <th>10927</th>\n",
       "      <td>749d73f14d7f582a7c7b12894d552da2</td>\n",
       "      <td>e265a180914056bc0152a2c2bf86721d</td>\n",
       "      <td>shipped</td>\n",
       "      <td>2018-02-14 13:28:09</td>\n",
       "      <td>2018-02-14 13:47:35</td>\n",
       "      <td>2018-02-15 21:34:42</td>\n",
       "      <td>NaN</td>\n",
       "      <td>2018-03-07 00:00:00</td>\n",
       "    </tr>\n",
       "    <tr>\n",
       "      <th>60733</th>\n",
       "      <td>3579ad4440247fd01709d8583ae2c137</td>\n",
       "      <td>0c2350ac90a7c2d4a6f04bf7fa330125</td>\n",
       "      <td>shipped</td>\n",
       "      <td>2017-11-30 10:31:05</td>\n",
       "      <td>2017-11-30 11:02:21</td>\n",
       "      <td>2017-12-04 21:22:06</td>\n",
       "      <td>NaN</td>\n",
       "      <td>2017-12-26 00:00:00</td>\n",
       "    </tr>\n",
       "    <tr>\n",
       "      <th>80940</th>\n",
       "      <td>02ec4da9d03014f06d711d60eb37cc22</td>\n",
       "      <td>79e6d859cf83e9bf76a07629ca91a49c</td>\n",
       "      <td>shipped</td>\n",
       "      <td>2017-04-28 12:32:56</td>\n",
       "      <td>2017-04-28 13:05:49</td>\n",
       "      <td>2017-05-11 11:12:57</td>\n",
       "      <td>NaN</td>\n",
       "      <td>2017-05-24 00:00:00</td>\n",
       "    </tr>\n",
       "    <tr>\n",
       "      <th>48071</th>\n",
       "      <td>3dcd6dc6516ed823141649f1fee54303</td>\n",
       "      <td>343e60c28c010a14f60d1121ba11a054</td>\n",
       "      <td>shipped</td>\n",
       "      <td>2017-05-31 13:19:06</td>\n",
       "      <td>2017-05-31 13:35:09</td>\n",
       "      <td>2017-05-31 16:20:37</td>\n",
       "      <td>NaN</td>\n",
       "      <td>2017-06-29 00:00:00</td>\n",
       "    </tr>\n",
       "    <tr>\n",
       "      <th>20326</th>\n",
       "      <td>eb3c2af8fb549b98c453e7bfb641da91</td>\n",
       "      <td>9323fd17ec223b6127816f5a6b2e99bf</td>\n",
       "      <td>unavailable</td>\n",
       "      <td>2017-05-09 09:37:25</td>\n",
       "      <td>2017-05-09 09:55:25</td>\n",
       "      <td>NaN</td>\n",
       "      <td>NaN</td>\n",
       "      <td>2017-06-05 00:00:00</td>\n",
       "    </tr>\n",
       "    <tr>\n",
       "      <th>3094</th>\n",
       "      <td>5290c34bd38a8a095b885f13958db1e1</td>\n",
       "      <td>92af427e290117f39d9ff908566072e0</td>\n",
       "      <td>canceled</td>\n",
       "      <td>2018-08-21 10:25:18</td>\n",
       "      <td>NaN</td>\n",
       "      <td>NaN</td>\n",
       "      <td>NaN</td>\n",
       "      <td>2018-09-06 00:00:00</td>\n",
       "    </tr>\n",
       "    <tr>\n",
       "      <th>299</th>\n",
       "      <td>3b4ad687e7e5190db827e1ae5a8989dd</td>\n",
       "      <td>1a87b8517b7d31373b50396eb15cb445</td>\n",
       "      <td>shipped</td>\n",
       "      <td>2018-06-28 12:52:15</td>\n",
       "      <td>2018-06-28 13:11:09</td>\n",
       "      <td>2018-07-04 15:20:00</td>\n",
       "      <td>NaN</td>\n",
       "      <td>2018-08-03 00:00:00</td>\n",
       "    </tr>\n",
       "    <tr>\n",
       "      <th>3547</th>\n",
       "      <td>534a0fbe91a806a1dc6bf09b497e3d6f</td>\n",
       "      <td>d17ae8582d302dbd41b87e5028e8c0e2</td>\n",
       "      <td>unavailable</td>\n",
       "      <td>2018-01-22 02:45:40</td>\n",
       "      <td>2018-01-23 03:36:43</td>\n",
       "      <td>NaN</td>\n",
       "      <td>NaN</td>\n",
       "      <td>2018-02-06 00:00:00</td>\n",
       "    </tr>\n",
       "    <tr>\n",
       "      <th>38066</th>\n",
       "      <td>8fdc42676c9c6c74c4f8f062b53ebafa</td>\n",
       "      <td>54545530685ab329b0d79c2e40ee3aca</td>\n",
       "      <td>invoiced</td>\n",
       "      <td>2017-12-03 21:20:17</td>\n",
       "      <td>2017-12-03 22:32:13</td>\n",
       "      <td>NaN</td>\n",
       "      <td>NaN</td>\n",
       "      <td>2017-12-29 00:00:00</td>\n",
       "    </tr>\n",
       "  </tbody>\n",
       "</table>\n",
       "</div>"
      ],
      "text/plain": [
       "                               order_id                       customer_id  \\\n",
       "39655  1f66f9bfd244a5383aeb00a84ad12a66  b692755548475c6db9d19858c5da06f1   \n",
       "10927  749d73f14d7f582a7c7b12894d552da2  e265a180914056bc0152a2c2bf86721d   \n",
       "60733  3579ad4440247fd01709d8583ae2c137  0c2350ac90a7c2d4a6f04bf7fa330125   \n",
       "80940  02ec4da9d03014f06d711d60eb37cc22  79e6d859cf83e9bf76a07629ca91a49c   \n",
       "48071  3dcd6dc6516ed823141649f1fee54303  343e60c28c010a14f60d1121ba11a054   \n",
       "20326  eb3c2af8fb549b98c453e7bfb641da91  9323fd17ec223b6127816f5a6b2e99bf   \n",
       "3094   5290c34bd38a8a095b885f13958db1e1  92af427e290117f39d9ff908566072e0   \n",
       "299    3b4ad687e7e5190db827e1ae5a8989dd  1a87b8517b7d31373b50396eb15cb445   \n",
       "3547   534a0fbe91a806a1dc6bf09b497e3d6f  d17ae8582d302dbd41b87e5028e8c0e2   \n",
       "38066  8fdc42676c9c6c74c4f8f062b53ebafa  54545530685ab329b0d79c2e40ee3aca   \n",
       "\n",
       "      order_status order_purchase_timestamp    order_approved_at  \\\n",
       "39655     canceled      2016-10-10 10:49:54  2016-10-10 12:01:56   \n",
       "10927      shipped      2018-02-14 13:28:09  2018-02-14 13:47:35   \n",
       "60733      shipped      2017-11-30 10:31:05  2017-11-30 11:02:21   \n",
       "80940      shipped      2017-04-28 12:32:56  2017-04-28 13:05:49   \n",
       "48071      shipped      2017-05-31 13:19:06  2017-05-31 13:35:09   \n",
       "20326  unavailable      2017-05-09 09:37:25  2017-05-09 09:55:25   \n",
       "3094      canceled      2018-08-21 10:25:18                  NaN   \n",
       "299        shipped      2018-06-28 12:52:15  2018-06-28 13:11:09   \n",
       "3547   unavailable      2018-01-22 02:45:40  2018-01-23 03:36:43   \n",
       "38066     invoiced      2017-12-03 21:20:17  2017-12-03 22:32:13   \n",
       "\n",
       "      order_delivered_carrier_date order_delivered_customer_date  \\\n",
       "39655                          NaN                           NaN   \n",
       "10927          2018-02-15 21:34:42                           NaN   \n",
       "60733          2017-12-04 21:22:06                           NaN   \n",
       "80940          2017-05-11 11:12:57                           NaN   \n",
       "48071          2017-05-31 16:20:37                           NaN   \n",
       "20326                          NaN                           NaN   \n",
       "3094                           NaN                           NaN   \n",
       "299            2018-07-04 15:20:00                           NaN   \n",
       "3547                           NaN                           NaN   \n",
       "38066                          NaN                           NaN   \n",
       "\n",
       "      order_estimated_delivery_date  \n",
       "39655           2016-12-08 00:00:00  \n",
       "10927           2018-03-07 00:00:00  \n",
       "60733           2017-12-26 00:00:00  \n",
       "80940           2017-05-24 00:00:00  \n",
       "48071           2017-06-29 00:00:00  \n",
       "20326           2017-06-05 00:00:00  \n",
       "3094            2018-09-06 00:00:00  \n",
       "299             2018-08-03 00:00:00  \n",
       "3547            2018-02-06 00:00:00  \n",
       "38066           2017-12-29 00:00:00  "
      ]
     },
     "execution_count": 44,
     "metadata": {},
     "output_type": "execute_result"
    }
   ],
   "source": [
    "# échantillon des commandes non livrées\n",
    "orders_not_delivered.sample(10)"
   ]
  },
  {
   "cell_type": "markdown",
   "id": "8dda7a3c-4d6c-42d8-9fe9-89b438121916",
   "metadata": {},
   "source": [
    "Il ne s'agit pas que des commandes très recentes qui sont en cours de livraison. Certains commandes ont ete expediées ou facturées mais il n'y a pas de date de livraison ou le status n'est pas disponible. \n",
    "Si il y a eu des soucis avec la commandes et/ou la livraison, ceci pourrait expliquer pourquoi un client n'est pas retourné acheter sur Olist. \n",
    "\n",
    "Je prefere me concentrer sur les clients qui ont bien ete livrés."
   ]
  },
  {
   "cell_type": "code",
   "execution_count": 45,
   "id": "d23e0def-103f-4484-bfdb-b5da5c855686",
   "metadata": {},
   "outputs": [],
   "source": [
    "# filtre pour ne garder que les commandes livrées\n",
    "orders = orders[orders['order_status'] == 'delivered']"
   ]
  },
  {
   "cell_type": "markdown",
   "id": "53286d6b-7146-436b-bfcc-09212e9b642f",
   "metadata": {},
   "source": [
    "Sauf pour la date d'achat, qui servira pour calculer la recence et effectuer l'analyse de la stabilité des segments au cours du temps, je ne m'intéresse pas aux dates telles qu'elles. \n",
    "\n",
    "A partir des dates, je peux créer des variables potentiellement utiles pour la segmentation: le délai réel de livraison (`real_delivery_time`), le délai estimé de livraison (`estimated_delivery_time`) et le retard (ou avance) de la livraison par rapport au delai de livraison estimé (`delay`). \n",
    "Pour ce faire il faut d'abord transformer les variables en variables de type datetime.\n"
   ]
  },
  {
   "cell_type": "code",
   "execution_count": 46,
   "id": "2b69857b-5a44-47d3-ba94-0b8bf9ad1db4",
   "metadata": {},
   "outputs": [],
   "source": [
    "# conversion en datetime\n",
    "orders[['order_purchase_timestamp',\n",
    "        'order_delivered_customer_date',\n",
    "        'order_estimated_delivery_date']] = pd.to_datetime(\n",
    "    orders[['order_purchase_timestamp',\n",
    "            'order_delivered_customer_date',\n",
    "            'order_estimated_delivery_date']].stack()\n",
    ").unstack()"
   ]
  },
  {
   "cell_type": "code",
   "execution_count": 47,
   "id": "279c6a64-a95c-4432-9ce8-c071f85d83e4",
   "metadata": {},
   "outputs": [],
   "source": [
    "# delay réel de livraison (en jours)\n",
    "orders['real_delivery_time'] = (\n",
    "    orders['order_delivered_customer_date']\n",
    "    - orders['order_purchase_timestamp']\n",
    ").astype('timedelta64[D]')"
   ]
  },
  {
   "cell_type": "code",
   "execution_count": 48,
   "id": "8fb798e3-ef0a-442b-bdd5-3556fb7b75df",
   "metadata": {},
   "outputs": [],
   "source": [
    "# delai estimé de livraison (en jours)\n",
    "orders['estimated_delivery_time'] = (\n",
    "    orders['order_estimated_delivery_date']\n",
    "    - orders['order_purchase_timestamp']\n",
    ").astype('timedelta64[D]')"
   ]
  },
  {
   "cell_type": "code",
   "execution_count": 49,
   "id": "b965190b-f1bf-4f9e-bb2d-67583c286b37",
   "metadata": {},
   "outputs": [],
   "source": [
    "# difference entre date de livraison effective et estimée (en jours)\n",
    "orders['delay'] = (\n",
    "    orders['order_delivered_customer_date']\n",
    "    - orders['order_estimated_delivery_date']\n",
    ").astype('timedelta64[D]')"
   ]
  },
  {
   "cell_type": "code",
   "execution_count": 50,
   "id": "37c23dc1-87b7-4d5f-9bcc-985ea9cd2067",
   "metadata": {},
   "outputs": [
    {
     "data": {
      "text/plain": [
       "Timestamp('2016-09-15 12:16:38')"
      ]
     },
     "execution_count": 50,
     "metadata": {},
     "output_type": "execute_result"
    }
   ],
   "source": [
    "# date de la prèmiere commande\n",
    "orders['order_purchase_timestamp'].min()"
   ]
  },
  {
   "cell_type": "code",
   "execution_count": 51,
   "id": "8fb28074-0900-474d-9412-9af9dd695257",
   "metadata": {},
   "outputs": [
    {
     "data": {
      "text/plain": [
       "Timestamp('2018-08-29 15:00:37')"
      ]
     },
     "execution_count": 51,
     "metadata": {},
     "output_type": "execute_result"
    }
   ],
   "source": [
    "# date de la dernière commande\n",
    "orders['order_purchase_timestamp'].max()"
   ]
  },
  {
   "cell_type": "markdown",
   "id": "990b6cc2-261a-468e-b173-40cce1ad9daa",
   "metadata": {},
   "source": [
    "Enfin, je peux supprimer les variables non pertinentes et effectuer une jointure avec le dataframe `customers` en utilisant le `customer_id` comme clé. La jointure sera de type inner, pour ne garder que les commandes livrées."
   ]
  },
  {
   "cell_type": "code",
   "execution_count": 52,
   "id": "f24fb9c4-45be-4e97-a001-5b54ce48f155",
   "metadata": {},
   "outputs": [],
   "source": [
    "# suppression des variables non pertinentes\n",
    "orders.drop([\n",
    "    'order_status',\n",
    "    'order_approved_at',\n",
    "    'order_delivered_carrier_date',\n",
    "    'order_delivered_customer_date',\n",
    "    'order_estimated_delivery_date'],\n",
    "     axis=1, inplace=True\n",
    ")"
   ]
  },
  {
   "cell_type": "code",
   "execution_count": 53,
   "id": "a027eaa2-f8f9-444f-9347-28c0a62e9ed0",
   "metadata": {},
   "outputs": [],
   "source": [
    "# jointure\n",
    "customers = pd.merge(customers,\n",
    "                     orders,\n",
    "                     how='inner',\n",
    "                     left_on='customer_id',\n",
    "                     right_on='customer_id')"
   ]
  },
  {
   "cell_type": "code",
   "execution_count": 54,
   "id": "c7b0e6e9-abc2-4082-b8a7-be0f6df63ed2",
   "metadata": {},
   "outputs": [
    {
     "data": {
      "text/plain": [
       "True"
      ]
     },
     "execution_count": 54,
     "metadata": {},
     "output_type": "execute_result"
    }
   ],
   "source": [
    "# vérification que le nombre de lignes du dataframe customers\n",
    "# soit égal au nombre des commandes\n",
    "customers.shape[0] == orders.shape[0]"
   ]
  },
  {
   "cell_type": "code",
   "execution_count": 55,
   "id": "697fee93-4c9c-4d6e-a474-1bb6a6444ed0",
   "metadata": {},
   "outputs": [
    {
     "data": {
      "text/plain": [
       "96478"
      ]
     },
     "execution_count": 55,
     "metadata": {},
     "output_type": "execute_result"
    }
   ],
   "source": [
    "# nombre de commandes\n",
    "customers.shape[0]"
   ]
  },
  {
   "cell_type": "code",
   "execution_count": 56,
   "id": "729c562c-00db-4343-9f97-01e4089e2d2c",
   "metadata": {},
   "outputs": [
    {
     "data": {
      "text/html": [
       "<div>\n",
       "<style scoped>\n",
       "    .dataframe tbody tr th:only-of-type {\n",
       "        vertical-align: middle;\n",
       "    }\n",
       "\n",
       "    .dataframe tbody tr th {\n",
       "        vertical-align: top;\n",
       "    }\n",
       "\n",
       "    .dataframe thead th {\n",
       "        text-align: right;\n",
       "    }\n",
       "</style>\n",
       "<table border=\"1\" class=\"dataframe\">\n",
       "  <thead>\n",
       "    <tr style=\"text-align: right;\">\n",
       "      <th></th>\n",
       "      <th>customer_id</th>\n",
       "      <th>customer_unique_id</th>\n",
       "      <th>customer_zip_code_prefix</th>\n",
       "      <th>geolocation_lat</th>\n",
       "      <th>geolocation_lng</th>\n",
       "      <th>order_id</th>\n",
       "      <th>order_purchase_timestamp</th>\n",
       "      <th>real_delivery_time</th>\n",
       "      <th>estimated_delivery_time</th>\n",
       "      <th>delay</th>\n",
       "    </tr>\n",
       "  </thead>\n",
       "  <tbody>\n",
       "    <tr>\n",
       "      <th>0</th>\n",
       "      <td>06b8999e2fba1a1fbc88172c00ba8bc7</td>\n",
       "      <td>861eff4711a542e4b93843c6dd7febb0</td>\n",
       "      <td>14409</td>\n",
       "      <td>-20.498489</td>\n",
       "      <td>-47.396929</td>\n",
       "      <td>00e7ee1b050b8499577073aeb2a297a1</td>\n",
       "      <td>2017-05-16 15:05:35</td>\n",
       "      <td>8.0</td>\n",
       "      <td>19.0</td>\n",
       "      <td>-11.0</td>\n",
       "    </tr>\n",
       "    <tr>\n",
       "      <th>1</th>\n",
       "      <td>18955e83d337fd6b2def6b18a428ac77</td>\n",
       "      <td>290c77bc529b7ac935b93aa66c333dc3</td>\n",
       "      <td>9790</td>\n",
       "      <td>-23.727992</td>\n",
       "      <td>-46.542848</td>\n",
       "      <td>29150127e6685892b6eab3eec79f59c7</td>\n",
       "      <td>2018-01-12 20:48:24</td>\n",
       "      <td>16.0</td>\n",
       "      <td>24.0</td>\n",
       "      <td>-8.0</td>\n",
       "    </tr>\n",
       "    <tr>\n",
       "      <th>2</th>\n",
       "      <td>4e7b3e00288586ebd08712fdd0374a03</td>\n",
       "      <td>060e732b5b29e8181a18229c7b0b2b5e</td>\n",
       "      <td>1151</td>\n",
       "      <td>-23.531642</td>\n",
       "      <td>-46.656289</td>\n",
       "      <td>b2059ed67ce144a36e2aa97d2c9e9ad2</td>\n",
       "      <td>2018-05-19 16:07:45</td>\n",
       "      <td>26.0</td>\n",
       "      <td>24.0</td>\n",
       "      <td>1.0</td>\n",
       "    </tr>\n",
       "    <tr>\n",
       "      <th>3</th>\n",
       "      <td>b2b6027bc5c5109e529d4dc6358b12c3</td>\n",
       "      <td>259dac757896d24d7702b9acbbff3f3c</td>\n",
       "      <td>8775</td>\n",
       "      <td>-23.499702</td>\n",
       "      <td>-46.185233</td>\n",
       "      <td>951670f92359f4fe4a63112aa7306eba</td>\n",
       "      <td>2018-03-13 16:06:38</td>\n",
       "      <td>14.0</td>\n",
       "      <td>27.0</td>\n",
       "      <td>-13.0</td>\n",
       "    </tr>\n",
       "    <tr>\n",
       "      <th>4</th>\n",
       "      <td>4f2d8ab171c80ec8364f7c12e35b23ad</td>\n",
       "      <td>345ecd01c38d18a9036ed96c73b8d066</td>\n",
       "      <td>13056</td>\n",
       "      <td>-22.975100</td>\n",
       "      <td>-47.142925</td>\n",
       "      <td>6b7d50bd145f6fc7f33cebabd7e49d0f</td>\n",
       "      <td>2018-07-29 09:51:30</td>\n",
       "      <td>11.0</td>\n",
       "      <td>16.0</td>\n",
       "      <td>-6.0</td>\n",
       "    </tr>\n",
       "  </tbody>\n",
       "</table>\n",
       "</div>"
      ],
      "text/plain": [
       "                        customer_id                customer_unique_id  \\\n",
       "0  06b8999e2fba1a1fbc88172c00ba8bc7  861eff4711a542e4b93843c6dd7febb0   \n",
       "1  18955e83d337fd6b2def6b18a428ac77  290c77bc529b7ac935b93aa66c333dc3   \n",
       "2  4e7b3e00288586ebd08712fdd0374a03  060e732b5b29e8181a18229c7b0b2b5e   \n",
       "3  b2b6027bc5c5109e529d4dc6358b12c3  259dac757896d24d7702b9acbbff3f3c   \n",
       "4  4f2d8ab171c80ec8364f7c12e35b23ad  345ecd01c38d18a9036ed96c73b8d066   \n",
       "\n",
       "   customer_zip_code_prefix  geolocation_lat  geolocation_lng  \\\n",
       "0                     14409       -20.498489       -47.396929   \n",
       "1                      9790       -23.727992       -46.542848   \n",
       "2                      1151       -23.531642       -46.656289   \n",
       "3                      8775       -23.499702       -46.185233   \n",
       "4                     13056       -22.975100       -47.142925   \n",
       "\n",
       "                           order_id order_purchase_timestamp  \\\n",
       "0  00e7ee1b050b8499577073aeb2a297a1      2017-05-16 15:05:35   \n",
       "1  29150127e6685892b6eab3eec79f59c7      2018-01-12 20:48:24   \n",
       "2  b2059ed67ce144a36e2aa97d2c9e9ad2      2018-05-19 16:07:45   \n",
       "3  951670f92359f4fe4a63112aa7306eba      2018-03-13 16:06:38   \n",
       "4  6b7d50bd145f6fc7f33cebabd7e49d0f      2018-07-29 09:51:30   \n",
       "\n",
       "   real_delivery_time  estimated_delivery_time  delay  \n",
       "0                 8.0                     19.0  -11.0  \n",
       "1                16.0                     24.0   -8.0  \n",
       "2                26.0                     24.0    1.0  \n",
       "3                14.0                     27.0  -13.0  \n",
       "4                11.0                     16.0   -6.0  "
      ]
     },
     "execution_count": 56,
     "metadata": {},
     "output_type": "execute_result"
    }
   ],
   "source": [
    "# vérification du merge\n",
    "customers.head()"
   ]
  },
  {
   "cell_type": "code",
   "execution_count": 57,
   "id": "85e61f5e-4a45-4231-aff6-a6fcbb69db78",
   "metadata": {},
   "outputs": [],
   "source": [
    "# sauvegarde données\n",
    "customers.to_csv('Data/Cleaning/customers.csv', index=False)"
   ]
  },
  {
   "cell_type": "markdown",
   "id": "041e4dcf-b0f9-4b52-980e-ea7874c59a6f",
   "metadata": {},
   "source": [
    "## 1.4 Order items"
   ]
  },
  {
   "cell_type": "markdown",
   "id": "f42e9233-3325-4a4c-88e9-4758668b3104",
   "metadata": {},
   "source": [
    "Ce jeu de données contient des informations sur les articles achetés dans chaque commande: le nombre de produits achetés, les vendeurs, le prix et les frais de livraison."
   ]
  },
  {
   "cell_type": "code",
   "execution_count": 58,
   "id": "1d62b9f4-67e3-4cc8-9967-f395b587696c",
   "metadata": {},
   "outputs": [],
   "source": [
    "# lecture données\n",
    "order_items = pd.read_csv('Data/Source/olist_order_items_dataset.csv')"
   ]
  },
  {
   "cell_type": "code",
   "execution_count": 59,
   "id": "93f5ac77-a963-46ec-af71-24600fc188e0",
   "metadata": {},
   "outputs": [
    {
     "data": {
      "text/html": [
       "<div>\n",
       "<style scoped>\n",
       "    .dataframe tbody tr th:only-of-type {\n",
       "        vertical-align: middle;\n",
       "    }\n",
       "\n",
       "    .dataframe tbody tr th {\n",
       "        vertical-align: top;\n",
       "    }\n",
       "\n",
       "    .dataframe thead th {\n",
       "        text-align: right;\n",
       "    }\n",
       "</style>\n",
       "<table border=\"1\" class=\"dataframe\">\n",
       "  <thead>\n",
       "    <tr style=\"text-align: right;\">\n",
       "      <th></th>\n",
       "      <th>order_id</th>\n",
       "      <th>order_item_id</th>\n",
       "      <th>product_id</th>\n",
       "      <th>seller_id</th>\n",
       "      <th>shipping_limit_date</th>\n",
       "      <th>price</th>\n",
       "      <th>freight_value</th>\n",
       "    </tr>\n",
       "  </thead>\n",
       "  <tbody>\n",
       "    <tr>\n",
       "      <th>53935</th>\n",
       "      <td>7aa5fe5b772da0099ed083f51f800e8c</td>\n",
       "      <td>1</td>\n",
       "      <td>9f22d89800e8f59f79d50aa9d732f5e2</td>\n",
       "      <td>c9aafcd0621b2207c10e32c649cada4d</td>\n",
       "      <td>2018-08-10 18:10:15</td>\n",
       "      <td>71.00</td>\n",
       "      <td>8.66</td>\n",
       "    </tr>\n",
       "    <tr>\n",
       "      <th>45061</th>\n",
       "      <td>6672ea757b340c6ebd644244a2c982ae</td>\n",
       "      <td>1</td>\n",
       "      <td>d017a2151d543a9885604dc62a3d9dcc</td>\n",
       "      <td>6560211a19b47992c3666cc44a7e94c0</td>\n",
       "      <td>2018-07-06 08:32:03</td>\n",
       "      <td>49.00</td>\n",
       "      <td>7.60</td>\n",
       "    </tr>\n",
       "    <tr>\n",
       "      <th>73433</th>\n",
       "      <td>a75f9d41f99d675f35ab8b90b2dc9b2f</td>\n",
       "      <td>1</td>\n",
       "      <td>7bdb0c9137fdc67e666061dc0ee2838c</td>\n",
       "      <td>49e7217cfe4e427191c378ec626d8737</td>\n",
       "      <td>2018-06-04 20:55:11</td>\n",
       "      <td>48.90</td>\n",
       "      <td>50.85</td>\n",
       "    </tr>\n",
       "    <tr>\n",
       "      <th>40634</th>\n",
       "      <td>5c87f97c103f08f9cd977b07384a3fd3</td>\n",
       "      <td>1</td>\n",
       "      <td>66e9fb73e349cba44b29951e558a6780</td>\n",
       "      <td>98dac6635aee4995d501a3972e047414</td>\n",
       "      <td>2017-06-02 20:30:27</td>\n",
       "      <td>9.60</td>\n",
       "      <td>16.11</td>\n",
       "    </tr>\n",
       "    <tr>\n",
       "      <th>562</th>\n",
       "      <td>0148d3df00cebda592d4e5f966e300cc</td>\n",
       "      <td>5</td>\n",
       "      <td>ed08ea04c92f5f434c2362f7310fb328</td>\n",
       "      <td>0adac9fbd9a2b63cccaac4f8756c1ca8</td>\n",
       "      <td>2017-08-24 19:24:32</td>\n",
       "      <td>5.53</td>\n",
       "      <td>11.85</td>\n",
       "    </tr>\n",
       "  </tbody>\n",
       "</table>\n",
       "</div>"
      ],
      "text/plain": [
       "                               order_id  order_item_id  \\\n",
       "53935  7aa5fe5b772da0099ed083f51f800e8c              1   \n",
       "45061  6672ea757b340c6ebd644244a2c982ae              1   \n",
       "73433  a75f9d41f99d675f35ab8b90b2dc9b2f              1   \n",
       "40634  5c87f97c103f08f9cd977b07384a3fd3              1   \n",
       "562    0148d3df00cebda592d4e5f966e300cc              5   \n",
       "\n",
       "                             product_id                         seller_id  \\\n",
       "53935  9f22d89800e8f59f79d50aa9d732f5e2  c9aafcd0621b2207c10e32c649cada4d   \n",
       "45061  d017a2151d543a9885604dc62a3d9dcc  6560211a19b47992c3666cc44a7e94c0   \n",
       "73433  7bdb0c9137fdc67e666061dc0ee2838c  49e7217cfe4e427191c378ec626d8737   \n",
       "40634  66e9fb73e349cba44b29951e558a6780  98dac6635aee4995d501a3972e047414   \n",
       "562    ed08ea04c92f5f434c2362f7310fb328  0adac9fbd9a2b63cccaac4f8756c1ca8   \n",
       "\n",
       "       shipping_limit_date  price  freight_value  \n",
       "53935  2018-08-10 18:10:15  71.00           8.66  \n",
       "45061  2018-07-06 08:32:03  49.00           7.60  \n",
       "73433  2018-06-04 20:55:11  48.90          50.85  \n",
       "40634  2017-06-02 20:30:27   9.60          16.11  \n",
       "562    2017-08-24 19:24:32   5.53          11.85  "
      ]
     },
     "execution_count": 59,
     "metadata": {},
     "output_type": "execute_result"
    }
   ],
   "source": [
    "# échantillon données\n",
    "order_items.sample(5)"
   ]
  },
  {
   "cell_type": "code",
   "execution_count": 60,
   "id": "b5f1c97a-c2da-49a0-9645-8185e1146b38",
   "metadata": {},
   "outputs": [
    {
     "data": {
      "text/plain": [
       "(112650, 7)"
      ]
     },
     "execution_count": 60,
     "metadata": {},
     "output_type": "execute_result"
    }
   ],
   "source": [
    "# nombre de lignes et colonnes\n",
    "order_items.shape"
   ]
  },
  {
   "cell_type": "code",
   "execution_count": 61,
   "id": "6d951f6f-bc15-4e23-94ad-6ab5aac31428",
   "metadata": {},
   "outputs": [
    {
     "data": {
      "text/plain": [
       "order_id                object\n",
       "order_item_id            int64\n",
       "product_id              object\n",
       "seller_id               object\n",
       "shipping_limit_date     object\n",
       "price                  float64\n",
       "freight_value          float64\n",
       "dtype: object"
      ]
     },
     "execution_count": 61,
     "metadata": {},
     "output_type": "execute_result"
    }
   ],
   "source": [
    "# types des variables\n",
    "order_items.dtypes"
   ]
  },
  {
   "cell_type": "code",
   "execution_count": 62,
   "id": "cbede389-8798-4a62-beb1-1bc51139fc86",
   "metadata": {},
   "outputs": [
    {
     "data": {
      "text/plain": [
       "order_id               0\n",
       "order_item_id          0\n",
       "product_id             0\n",
       "seller_id              0\n",
       "shipping_limit_date    0\n",
       "price                  0\n",
       "freight_value          0\n",
       "dtype: int64"
      ]
     },
     "execution_count": 62,
     "metadata": {},
     "output_type": "execute_result"
    }
   ],
   "source": [
    "# valeurs manquantes\n",
    "order_items.isna().sum()"
   ]
  },
  {
   "cell_type": "code",
   "execution_count": 63,
   "id": "f2633d27-6f5f-4b6b-a6d7-2f9d38213067",
   "metadata": {},
   "outputs": [
    {
     "data": {
      "text/plain": [
       "13984"
      ]
     },
     "execution_count": 63,
     "metadata": {},
     "output_type": "execute_result"
    }
   ],
   "source": [
    "# nombre doublons\n",
    "order_items['order_id'].duplicated().sum()"
   ]
  },
  {
   "cell_type": "markdown",
   "id": "d6c39e90-d1e8-4abc-83f1-60ed77021616",
   "metadata": {},
   "source": [
    "Certains commandes peuvent contenir plusieurs produits; dans ce cas pour le même `order_id` il y aura plusieurs lignes, correspondants aux différents produits achetés."
   ]
  },
  {
   "cell_type": "code",
   "execution_count": 64,
   "id": "a120ef5c-2cf3-4d75-a0b5-6358292acff4",
   "metadata": {},
   "outputs": [
    {
     "data": {
      "text/html": [
       "<div>\n",
       "<style scoped>\n",
       "    .dataframe tbody tr th:only-of-type {\n",
       "        vertical-align: middle;\n",
       "    }\n",
       "\n",
       "    .dataframe tbody tr th {\n",
       "        vertical-align: top;\n",
       "    }\n",
       "\n",
       "    .dataframe thead th {\n",
       "        text-align: right;\n",
       "    }\n",
       "</style>\n",
       "<table border=\"1\" class=\"dataframe\">\n",
       "  <thead>\n",
       "    <tr style=\"text-align: right;\">\n",
       "      <th></th>\n",
       "      <th>order_id</th>\n",
       "      <th>order_item_id</th>\n",
       "      <th>product_id</th>\n",
       "      <th>seller_id</th>\n",
       "      <th>shipping_limit_date</th>\n",
       "      <th>price</th>\n",
       "      <th>freight_value</th>\n",
       "    </tr>\n",
       "  </thead>\n",
       "  <tbody>\n",
       "    <tr>\n",
       "      <th>99915</th>\n",
       "      <td>e298159aa5f22e9d556add24a66be952</td>\n",
       "      <td>3</td>\n",
       "      <td>b8411dee248601bc460bac8e1fb8a102</td>\n",
       "      <td>1900267e848ceeba8fa32d80c1a5f5a8</td>\n",
       "      <td>2018-02-01 14:59:01</td>\n",
       "      <td>22.99</td>\n",
       "      <td>15.49</td>\n",
       "    </tr>\n",
       "    <tr>\n",
       "      <th>80311</th>\n",
       "      <td>b6b9f5144b004ad3db40567cdce34811</td>\n",
       "      <td>2</td>\n",
       "      <td>6292e8c74db1d4defdbd8244c1101bb6</td>\n",
       "      <td>a3fa18b3f688ec0fca3eb8bfcbd2d5b3</td>\n",
       "      <td>2018-05-07 10:31:02</td>\n",
       "      <td>23.90</td>\n",
       "      <td>18.23</td>\n",
       "    </tr>\n",
       "    <tr>\n",
       "      <th>103405</th>\n",
       "      <td>ead893b6feb078f2a8f88787db56dcc7</td>\n",
       "      <td>2</td>\n",
       "      <td>9a36ef546bfd8ad2c01c308dcfe4084f</td>\n",
       "      <td>ae45df84722b1d15c5f32b23a095746c</td>\n",
       "      <td>2018-06-25 09:58:12</td>\n",
       "      <td>99.90</td>\n",
       "      <td>7.96</td>\n",
       "    </tr>\n",
       "    <tr>\n",
       "      <th>27335</th>\n",
       "      <td>3e286b2b3cdfba0787bfddb3b98c894f</td>\n",
       "      <td>4</td>\n",
       "      <td>a9410f6e58948e056b9eae0653aa0c75</td>\n",
       "      <td>670c26e0f1bf8d0576271d5cfaec6d2b</td>\n",
       "      <td>2018-06-13 20:22:52</td>\n",
       "      <td>33.50</td>\n",
       "      <td>22.16</td>\n",
       "    </tr>\n",
       "    <tr>\n",
       "      <th>82769</th>\n",
       "      <td>bbfcb9e2e2d656df90c1e837f5f47c09</td>\n",
       "      <td>2</td>\n",
       "      <td>0a57f7d2c983bcf8188589a5fea4a8da</td>\n",
       "      <td>4869f7a5dfa277a7dca6462dcf3b52b2</td>\n",
       "      <td>2018-05-03 17:32:00</td>\n",
       "      <td>97.90</td>\n",
       "      <td>11.89</td>\n",
       "    </tr>\n",
       "    <tr>\n",
       "      <th>46191</th>\n",
       "      <td>68e48e68da1f50f7c5838ea75e3a20dd</td>\n",
       "      <td>3</td>\n",
       "      <td>a659cb33082b851fb87a33af8f0fff29</td>\n",
       "      <td>817245bcc3badd82bbd222e0366951a6</td>\n",
       "      <td>2018-06-22 17:00:57</td>\n",
       "      <td>84.90</td>\n",
       "      <td>13.25</td>\n",
       "    </tr>\n",
       "    <tr>\n",
       "      <th>77079</th>\n",
       "      <td>af822dacd6f5cff7376413c03a388bb7</td>\n",
       "      <td>5</td>\n",
       "      <td>62995b7e571f5760017991632bbfd311</td>\n",
       "      <td>98dac6635aee4995d501a3972e047414</td>\n",
       "      <td>2018-06-13 17:30:35</td>\n",
       "      <td>5.31</td>\n",
       "      <td>15.23</td>\n",
       "    </tr>\n",
       "    <tr>\n",
       "      <th>80571</th>\n",
       "      <td>b7467ae483dbe956fe9acdf0b1e6e3f4</td>\n",
       "      <td>4</td>\n",
       "      <td>a62e25e09e05e6faf31d90c6ec1aa3d1</td>\n",
       "      <td>634964b17796e64304cadf1ad3050fb7</td>\n",
       "      <td>2018-05-25 16:14:55</td>\n",
       "      <td>105.00</td>\n",
       "      <td>11.62</td>\n",
       "    </tr>\n",
       "    <tr>\n",
       "      <th>77187</th>\n",
       "      <td>afc091f97bfa9985b6ab413ad1a9891b</td>\n",
       "      <td>3</td>\n",
       "      <td>9e5f752e9e19cd6887063f004ee0da55</td>\n",
       "      <td>71593c7413973a1e160057b80d4958f6</td>\n",
       "      <td>2018-08-24 10:55:27</td>\n",
       "      <td>59.90</td>\n",
       "      <td>9.17</td>\n",
       "    </tr>\n",
       "    <tr>\n",
       "      <th>13855</th>\n",
       "      <td>1f80ad89393a17282085bcd14644e45a</td>\n",
       "      <td>3</td>\n",
       "      <td>35b9cce4c9cd4359551a3d702b25ad4c</td>\n",
       "      <td>0adac9fbd9a2b63cccaac4f8756c1ca8</td>\n",
       "      <td>2017-09-07 22:23:55</td>\n",
       "      <td>19.90</td>\n",
       "      <td>15.10</td>\n",
       "    </tr>\n",
       "  </tbody>\n",
       "</table>\n",
       "</div>"
      ],
      "text/plain": [
       "                                order_id  order_item_id  \\\n",
       "99915   e298159aa5f22e9d556add24a66be952              3   \n",
       "80311   b6b9f5144b004ad3db40567cdce34811              2   \n",
       "103405  ead893b6feb078f2a8f88787db56dcc7              2   \n",
       "27335   3e286b2b3cdfba0787bfddb3b98c894f              4   \n",
       "82769   bbfcb9e2e2d656df90c1e837f5f47c09              2   \n",
       "46191   68e48e68da1f50f7c5838ea75e3a20dd              3   \n",
       "77079   af822dacd6f5cff7376413c03a388bb7              5   \n",
       "80571   b7467ae483dbe956fe9acdf0b1e6e3f4              4   \n",
       "77187   afc091f97bfa9985b6ab413ad1a9891b              3   \n",
       "13855   1f80ad89393a17282085bcd14644e45a              3   \n",
       "\n",
       "                              product_id                         seller_id  \\\n",
       "99915   b8411dee248601bc460bac8e1fb8a102  1900267e848ceeba8fa32d80c1a5f5a8   \n",
       "80311   6292e8c74db1d4defdbd8244c1101bb6  a3fa18b3f688ec0fca3eb8bfcbd2d5b3   \n",
       "103405  9a36ef546bfd8ad2c01c308dcfe4084f  ae45df84722b1d15c5f32b23a095746c   \n",
       "27335   a9410f6e58948e056b9eae0653aa0c75  670c26e0f1bf8d0576271d5cfaec6d2b   \n",
       "82769   0a57f7d2c983bcf8188589a5fea4a8da  4869f7a5dfa277a7dca6462dcf3b52b2   \n",
       "46191   a659cb33082b851fb87a33af8f0fff29  817245bcc3badd82bbd222e0366951a6   \n",
       "77079   62995b7e571f5760017991632bbfd311  98dac6635aee4995d501a3972e047414   \n",
       "80571   a62e25e09e05e6faf31d90c6ec1aa3d1  634964b17796e64304cadf1ad3050fb7   \n",
       "77187   9e5f752e9e19cd6887063f004ee0da55  71593c7413973a1e160057b80d4958f6   \n",
       "13855   35b9cce4c9cd4359551a3d702b25ad4c  0adac9fbd9a2b63cccaac4f8756c1ca8   \n",
       "\n",
       "        shipping_limit_date   price  freight_value  \n",
       "99915   2018-02-01 14:59:01   22.99          15.49  \n",
       "80311   2018-05-07 10:31:02   23.90          18.23  \n",
       "103405  2018-06-25 09:58:12   99.90           7.96  \n",
       "27335   2018-06-13 20:22:52   33.50          22.16  \n",
       "82769   2018-05-03 17:32:00   97.90          11.89  \n",
       "46191   2018-06-22 17:00:57   84.90          13.25  \n",
       "77079   2018-06-13 17:30:35    5.31          15.23  \n",
       "80571   2018-05-25 16:14:55  105.00          11.62  \n",
       "77187   2018-08-24 10:55:27   59.90           9.17  \n",
       "13855   2017-09-07 22:23:55   19.90          15.10  "
      ]
     },
     "execution_count": 64,
     "metadata": {},
     "output_type": "execute_result"
    }
   ],
   "source": [
    "# échantillon commandes comprenant plusieurs produits\n",
    "order_items[order_items['order_id'].duplicated()].sample(10)"
   ]
  },
  {
   "cell_type": "code",
   "execution_count": 65,
   "id": "3c8b279e-4331-4bbd-bb8a-673a609c32ce",
   "metadata": {},
   "outputs": [
    {
     "data": {
      "text/html": [
       "<div>\n",
       "<style scoped>\n",
       "    .dataframe tbody tr th:only-of-type {\n",
       "        vertical-align: middle;\n",
       "    }\n",
       "\n",
       "    .dataframe tbody tr th {\n",
       "        vertical-align: top;\n",
       "    }\n",
       "\n",
       "    .dataframe thead th {\n",
       "        text-align: right;\n",
       "    }\n",
       "</style>\n",
       "<table border=\"1\" class=\"dataframe\">\n",
       "  <thead>\n",
       "    <tr style=\"text-align: right;\">\n",
       "      <th></th>\n",
       "      <th>order_id</th>\n",
       "      <th>order_item_id</th>\n",
       "      <th>product_id</th>\n",
       "      <th>seller_id</th>\n",
       "      <th>shipping_limit_date</th>\n",
       "      <th>price</th>\n",
       "      <th>freight_value</th>\n",
       "    </tr>\n",
       "  </thead>\n",
       "  <tbody>\n",
       "    <tr>\n",
       "      <th>14477</th>\n",
       "      <td>20f00734b9cedbed78661618c0deb7fd</td>\n",
       "      <td>1</td>\n",
       "      <td>f1e0c91e748d3ddfb2728c51078c2b08</td>\n",
       "      <td>4a3ca9315b744ce9f8e9374361493884</td>\n",
       "      <td>2018-04-05 18:50:21</td>\n",
       "      <td>69.9</td>\n",
       "      <td>12.93</td>\n",
       "    </tr>\n",
       "    <tr>\n",
       "      <th>14478</th>\n",
       "      <td>20f00734b9cedbed78661618c0deb7fd</td>\n",
       "      <td>2</td>\n",
       "      <td>f1e0c91e748d3ddfb2728c51078c2b08</td>\n",
       "      <td>4a3ca9315b744ce9f8e9374361493884</td>\n",
       "      <td>2018-04-05 18:50:21</td>\n",
       "      <td>69.9</td>\n",
       "      <td>12.93</td>\n",
       "    </tr>\n",
       "  </tbody>\n",
       "</table>\n",
       "</div>"
      ],
      "text/plain": [
       "                               order_id  order_item_id  \\\n",
       "14477  20f00734b9cedbed78661618c0deb7fd              1   \n",
       "14478  20f00734b9cedbed78661618c0deb7fd              2   \n",
       "\n",
       "                             product_id                         seller_id  \\\n",
       "14477  f1e0c91e748d3ddfb2728c51078c2b08  4a3ca9315b744ce9f8e9374361493884   \n",
       "14478  f1e0c91e748d3ddfb2728c51078c2b08  4a3ca9315b744ce9f8e9374361493884   \n",
       "\n",
       "       shipping_limit_date  price  freight_value  \n",
       "14477  2018-04-05 18:50:21   69.9          12.93  \n",
       "14478  2018-04-05 18:50:21   69.9          12.93  "
      ]
     },
     "execution_count": 65,
     "metadata": {},
     "output_type": "execute_result"
    }
   ],
   "source": [
    "# exemple de commande avec plusieurs produits\n",
    "order_items[order_items['order_id'] == '20f00734b9cedbed78661618c0deb7fd']"
   ]
  },
  {
   "cell_type": "code",
   "execution_count": 66,
   "id": "1dd22b09-b069-4030-be09-31e8a93da67d",
   "metadata": {},
   "outputs": [
    {
     "data": {
      "text/html": [
       "<div>\n",
       "<style scoped>\n",
       "    .dataframe tbody tr th:only-of-type {\n",
       "        vertical-align: middle;\n",
       "    }\n",
       "\n",
       "    .dataframe tbody tr th {\n",
       "        vertical-align: top;\n",
       "    }\n",
       "\n",
       "    .dataframe thead th {\n",
       "        text-align: right;\n",
       "    }\n",
       "</style>\n",
       "<table border=\"1\" class=\"dataframe\">\n",
       "  <thead>\n",
       "    <tr style=\"text-align: right;\">\n",
       "      <th></th>\n",
       "      <th>order_id</th>\n",
       "      <th>order_item_id</th>\n",
       "      <th>product_id</th>\n",
       "      <th>seller_id</th>\n",
       "      <th>shipping_limit_date</th>\n",
       "      <th>price</th>\n",
       "      <th>freight_value</th>\n",
       "    </tr>\n",
       "  </thead>\n",
       "  <tbody>\n",
       "    <tr>\n",
       "      <th>81323</th>\n",
       "      <td>b8cf03f4a08e3dc7eb2509ef520b20e2</td>\n",
       "      <td>1</td>\n",
       "      <td>ef2fb3a493929907466587fecb5611e2</td>\n",
       "      <td>b2ba3715d723d245138f291a6fe42594</td>\n",
       "      <td>2018-09-03 08:35:18</td>\n",
       "      <td>49.9</td>\n",
       "      <td>8.7</td>\n",
       "    </tr>\n",
       "    <tr>\n",
       "      <th>81324</th>\n",
       "      <td>b8cf03f4a08e3dc7eb2509ef520b20e2</td>\n",
       "      <td>2</td>\n",
       "      <td>8c5bf458020588e0dfeda011254eadbe</td>\n",
       "      <td>d8d9567d0bfb0bc7eb845a205ba42657</td>\n",
       "      <td>2018-08-30 08:35:18</td>\n",
       "      <td>19.9</td>\n",
       "      <td>8.7</td>\n",
       "    </tr>\n",
       "  </tbody>\n",
       "</table>\n",
       "</div>"
      ],
      "text/plain": [
       "                               order_id  order_item_id  \\\n",
       "81323  b8cf03f4a08e3dc7eb2509ef520b20e2              1   \n",
       "81324  b8cf03f4a08e3dc7eb2509ef520b20e2              2   \n",
       "\n",
       "                             product_id                         seller_id  \\\n",
       "81323  ef2fb3a493929907466587fecb5611e2  b2ba3715d723d245138f291a6fe42594   \n",
       "81324  8c5bf458020588e0dfeda011254eadbe  d8d9567d0bfb0bc7eb845a205ba42657   \n",
       "\n",
       "       shipping_limit_date  price  freight_value  \n",
       "81323  2018-09-03 08:35:18   49.9            8.7  \n",
       "81324  2018-08-30 08:35:18   19.9            8.7  "
      ]
     },
     "execution_count": 66,
     "metadata": {},
     "output_type": "execute_result"
    }
   ],
   "source": [
    "# exemple de commande avec plusieurs produits\n",
    "order_items[order_items['order_id'] == 'b8cf03f4a08e3dc7eb2509ef520b20e2']"
   ]
  },
  {
   "cell_type": "code",
   "execution_count": 67,
   "id": "ee499d9c-b4d9-48c2-8300-7e750cfb2e51",
   "metadata": {},
   "outputs": [
    {
     "data": {
      "text/plain": [
       "(9803, 7)"
      ]
     },
     "execution_count": 67,
     "metadata": {},
     "output_type": "execute_result"
    }
   ],
   "source": [
    "# nombre des commandes avec plusieurs produits\n",
    "order_items[order_items['order_item_id'] == 2].shape"
   ]
  },
  {
   "cell_type": "markdown",
   "id": "1e27474e-49ac-4e3d-80e7-717751d6932f",
   "metadata": {},
   "source": [
    "En examinant plusieurs commandes comprenant plusieurs produits, on peut se rendre compte que souvent (mais pas toujours) il s'agit du même produit acheté en quantité > 1. \n",
    "\n",
    "Pour simplifier le dataframe sans perdre trop d'information, je vais faire une agrégation des commandes, en utilisant la somme comme fonction d’agrégation : ceci me permettra d'avoir le prix total de la commande et les frais de livraison totaux. \n",
    "\n",
    "Je vais aussi garder la variable `seller id`, qui permet d'identifier le vendeur, et le `product_id`, qui va être utile par la suite pour mieux comprendre les valeurs aberrantes/atypiques. Pour ces deux variables, si plusieurs produits ont été achetés dans la même commande, je vais garder le vendeur et le produit le plus représenté.\n"
   ]
  },
  {
   "cell_type": "code",
   "execution_count": 68,
   "id": "eab421dd-fec6-4010-8771-2764330e959a",
   "metadata": {},
   "outputs": [],
   "source": [
    "# agrégation\n",
    "order_items = order_items.groupby('order_id').agg(\n",
    "    {'price': 'sum',\n",
    "     'freight_value': 'sum',\n",
    "     'seller_id': lambda x: x.value_counts().index[0],\n",
    "     'product_id': lambda x: x.value_counts().index[0]})"
   ]
  },
  {
   "cell_type": "markdown",
   "id": "5f60dfad-0056-41ee-a4d3-459909806b34",
   "metadata": {},
   "source": [
    "En ayant le prix et les frais de livraison, je vais créer une variable qui pourrait être utile à la segmentation: le rapport entre frais de livraison et le prix, `freight/price`."
   ]
  },
  {
   "cell_type": "code",
   "execution_count": 69,
   "id": "85dcf182-4bc5-4ff6-848c-d1f95fca4fa4",
   "metadata": {},
   "outputs": [],
   "source": [
    "# initialisation variable freight/price\n",
    "order_items['freight/price'] = order_items[\n",
    "    'freight_value']/order_items['price']"
   ]
  },
  {
   "cell_type": "markdown",
   "id": "c8336dca-4f0c-4837-ba62-982a775344d7",
   "metadata": {},
   "source": [
    "Enfin, je vais joindre ce dataframe avec les dataframe `customers` en utilisant le `order_id` comme clé, toujours en verifiant que le nombre des commandes ne soit pas modifié par la jointure. "
   ]
  },
  {
   "cell_type": "code",
   "execution_count": 70,
   "id": "4d2c7eb8-3c94-4500-a654-57654fde3414",
   "metadata": {},
   "outputs": [],
   "source": [
    "# jointure\n",
    "customers = pd.merge(customers,\n",
    "                     order_items,\n",
    "                     how='left',\n",
    "                     left_on='order_id',\n",
    "                     right_index=True)"
   ]
  },
  {
   "cell_type": "code",
   "execution_count": 71,
   "id": "ec1c7725-d1a0-4769-baf6-5d418b1506d2",
   "metadata": {},
   "outputs": [
    {
     "data": {
      "text/plain": [
       "96478"
      ]
     },
     "execution_count": 71,
     "metadata": {},
     "output_type": "execute_result"
    }
   ],
   "source": [
    "# nombre des lignes\n",
    "customers.shape[0]"
   ]
  },
  {
   "cell_type": "code",
   "execution_count": 72,
   "id": "627e3868-f993-4bc7-af6d-21a199baeab0",
   "metadata": {},
   "outputs": [
    {
     "data": {
      "text/html": [
       "<div>\n",
       "<style scoped>\n",
       "    .dataframe tbody tr th:only-of-type {\n",
       "        vertical-align: middle;\n",
       "    }\n",
       "\n",
       "    .dataframe tbody tr th {\n",
       "        vertical-align: top;\n",
       "    }\n",
       "\n",
       "    .dataframe thead th {\n",
       "        text-align: right;\n",
       "    }\n",
       "</style>\n",
       "<table border=\"1\" class=\"dataframe\">\n",
       "  <thead>\n",
       "    <tr style=\"text-align: right;\">\n",
       "      <th></th>\n",
       "      <th>customer_id</th>\n",
       "      <th>customer_unique_id</th>\n",
       "      <th>customer_zip_code_prefix</th>\n",
       "      <th>geolocation_lat</th>\n",
       "      <th>geolocation_lng</th>\n",
       "      <th>order_id</th>\n",
       "      <th>order_purchase_timestamp</th>\n",
       "      <th>real_delivery_time</th>\n",
       "      <th>estimated_delivery_time</th>\n",
       "      <th>delay</th>\n",
       "      <th>price</th>\n",
       "      <th>freight_value</th>\n",
       "      <th>seller_id</th>\n",
       "      <th>product_id</th>\n",
       "      <th>freight/price</th>\n",
       "    </tr>\n",
       "  </thead>\n",
       "  <tbody>\n",
       "    <tr>\n",
       "      <th>0</th>\n",
       "      <td>06b8999e2fba1a1fbc88172c00ba8bc7</td>\n",
       "      <td>861eff4711a542e4b93843c6dd7febb0</td>\n",
       "      <td>14409</td>\n",
       "      <td>-20.498489</td>\n",
       "      <td>-47.396929</td>\n",
       "      <td>00e7ee1b050b8499577073aeb2a297a1</td>\n",
       "      <td>2017-05-16 15:05:35</td>\n",
       "      <td>8.0</td>\n",
       "      <td>19.0</td>\n",
       "      <td>-11.0</td>\n",
       "      <td>124.99</td>\n",
       "      <td>21.88</td>\n",
       "      <td>7c67e1448b00f6e969d365cea6b010ab</td>\n",
       "      <td>a9516a079e37a9c9c36b9b78b10169e8</td>\n",
       "      <td>0.175054</td>\n",
       "    </tr>\n",
       "    <tr>\n",
       "      <th>1</th>\n",
       "      <td>18955e83d337fd6b2def6b18a428ac77</td>\n",
       "      <td>290c77bc529b7ac935b93aa66c333dc3</td>\n",
       "      <td>9790</td>\n",
       "      <td>-23.727992</td>\n",
       "      <td>-46.542848</td>\n",
       "      <td>29150127e6685892b6eab3eec79f59c7</td>\n",
       "      <td>2018-01-12 20:48:24</td>\n",
       "      <td>16.0</td>\n",
       "      <td>24.0</td>\n",
       "      <td>-8.0</td>\n",
       "      <td>289.00</td>\n",
       "      <td>46.48</td>\n",
       "      <td>b8bc237ba3788b23da09c0f1f3a3288c</td>\n",
       "      <td>4aa6014eceb682077f9dc4bffebc05b0</td>\n",
       "      <td>0.160830</td>\n",
       "    </tr>\n",
       "    <tr>\n",
       "      <th>2</th>\n",
       "      <td>4e7b3e00288586ebd08712fdd0374a03</td>\n",
       "      <td>060e732b5b29e8181a18229c7b0b2b5e</td>\n",
       "      <td>1151</td>\n",
       "      <td>-23.531642</td>\n",
       "      <td>-46.656289</td>\n",
       "      <td>b2059ed67ce144a36e2aa97d2c9e9ad2</td>\n",
       "      <td>2018-05-19 16:07:45</td>\n",
       "      <td>26.0</td>\n",
       "      <td>24.0</td>\n",
       "      <td>1.0</td>\n",
       "      <td>139.94</td>\n",
       "      <td>17.79</td>\n",
       "      <td>7c67e1448b00f6e969d365cea6b010ab</td>\n",
       "      <td>bd07b66896d6f1494f5b86251848ced7</td>\n",
       "      <td>0.127126</td>\n",
       "    </tr>\n",
       "    <tr>\n",
       "      <th>3</th>\n",
       "      <td>b2b6027bc5c5109e529d4dc6358b12c3</td>\n",
       "      <td>259dac757896d24d7702b9acbbff3f3c</td>\n",
       "      <td>8775</td>\n",
       "      <td>-23.499702</td>\n",
       "      <td>-46.185233</td>\n",
       "      <td>951670f92359f4fe4a63112aa7306eba</td>\n",
       "      <td>2018-03-13 16:06:38</td>\n",
       "      <td>14.0</td>\n",
       "      <td>27.0</td>\n",
       "      <td>-13.0</td>\n",
       "      <td>149.94</td>\n",
       "      <td>23.36</td>\n",
       "      <td>7c67e1448b00f6e969d365cea6b010ab</td>\n",
       "      <td>a5647c44af977b148e0a3a4751a09e2e</td>\n",
       "      <td>0.155796</td>\n",
       "    </tr>\n",
       "    <tr>\n",
       "      <th>4</th>\n",
       "      <td>4f2d8ab171c80ec8364f7c12e35b23ad</td>\n",
       "      <td>345ecd01c38d18a9036ed96c73b8d066</td>\n",
       "      <td>13056</td>\n",
       "      <td>-22.975100</td>\n",
       "      <td>-47.142925</td>\n",
       "      <td>6b7d50bd145f6fc7f33cebabd7e49d0f</td>\n",
       "      <td>2018-07-29 09:51:30</td>\n",
       "      <td>11.0</td>\n",
       "      <td>16.0</td>\n",
       "      <td>-6.0</td>\n",
       "      <td>230.00</td>\n",
       "      <td>22.25</td>\n",
       "      <td>4a3ca9315b744ce9f8e9374361493884</td>\n",
       "      <td>9391a573abe00141c56e38d84d7d5b3b</td>\n",
       "      <td>0.096739</td>\n",
       "    </tr>\n",
       "  </tbody>\n",
       "</table>\n",
       "</div>"
      ],
      "text/plain": [
       "                        customer_id                customer_unique_id  \\\n",
       "0  06b8999e2fba1a1fbc88172c00ba8bc7  861eff4711a542e4b93843c6dd7febb0   \n",
       "1  18955e83d337fd6b2def6b18a428ac77  290c77bc529b7ac935b93aa66c333dc3   \n",
       "2  4e7b3e00288586ebd08712fdd0374a03  060e732b5b29e8181a18229c7b0b2b5e   \n",
       "3  b2b6027bc5c5109e529d4dc6358b12c3  259dac757896d24d7702b9acbbff3f3c   \n",
       "4  4f2d8ab171c80ec8364f7c12e35b23ad  345ecd01c38d18a9036ed96c73b8d066   \n",
       "\n",
       "   customer_zip_code_prefix  geolocation_lat  geolocation_lng  \\\n",
       "0                     14409       -20.498489       -47.396929   \n",
       "1                      9790       -23.727992       -46.542848   \n",
       "2                      1151       -23.531642       -46.656289   \n",
       "3                      8775       -23.499702       -46.185233   \n",
       "4                     13056       -22.975100       -47.142925   \n",
       "\n",
       "                           order_id order_purchase_timestamp  \\\n",
       "0  00e7ee1b050b8499577073aeb2a297a1      2017-05-16 15:05:35   \n",
       "1  29150127e6685892b6eab3eec79f59c7      2018-01-12 20:48:24   \n",
       "2  b2059ed67ce144a36e2aa97d2c9e9ad2      2018-05-19 16:07:45   \n",
       "3  951670f92359f4fe4a63112aa7306eba      2018-03-13 16:06:38   \n",
       "4  6b7d50bd145f6fc7f33cebabd7e49d0f      2018-07-29 09:51:30   \n",
       "\n",
       "   real_delivery_time  estimated_delivery_time  delay   price  freight_value  \\\n",
       "0                 8.0                     19.0  -11.0  124.99          21.88   \n",
       "1                16.0                     24.0   -8.0  289.00          46.48   \n",
       "2                26.0                     24.0    1.0  139.94          17.79   \n",
       "3                14.0                     27.0  -13.0  149.94          23.36   \n",
       "4                11.0                     16.0   -6.0  230.00          22.25   \n",
       "\n",
       "                          seller_id                        product_id  \\\n",
       "0  7c67e1448b00f6e969d365cea6b010ab  a9516a079e37a9c9c36b9b78b10169e8   \n",
       "1  b8bc237ba3788b23da09c0f1f3a3288c  4aa6014eceb682077f9dc4bffebc05b0   \n",
       "2  7c67e1448b00f6e969d365cea6b010ab  bd07b66896d6f1494f5b86251848ced7   \n",
       "3  7c67e1448b00f6e969d365cea6b010ab  a5647c44af977b148e0a3a4751a09e2e   \n",
       "4  4a3ca9315b744ce9f8e9374361493884  9391a573abe00141c56e38d84d7d5b3b   \n",
       "\n",
       "   freight/price  \n",
       "0       0.175054  \n",
       "1       0.160830  \n",
       "2       0.127126  \n",
       "3       0.155796  \n",
       "4       0.096739  "
      ]
     },
     "execution_count": 72,
     "metadata": {},
     "output_type": "execute_result"
    }
   ],
   "source": [
    "# vérification merge\n",
    "customers.head()"
   ]
  },
  {
   "cell_type": "code",
   "execution_count": 73,
   "id": "47e945b5-f98a-4af5-a1b4-21f43c36a572",
   "metadata": {},
   "outputs": [],
   "source": [
    "# sauvegarde données\n",
    "customers.to_csv('Data/Cleaning/customers.csv', index=False)"
   ]
  },
  {
   "cell_type": "markdown",
   "id": "a3c42888-d113-425c-8ee3-530d5c14e7b0",
   "metadata": {},
   "source": [
    "## 1.5 Order payment"
   ]
  },
  {
   "cell_type": "markdown",
   "id": "7acd2b6c-6c54-4ff6-aa36-445ef4beccae",
   "metadata": {},
   "source": [
    "Ce jeu de données contient les information sur les options de paiement (nombre et type des moyens de payment, payement en plusieurs fois et valeur du payement)."
   ]
  },
  {
   "cell_type": "code",
   "execution_count": 74,
   "id": "ec02a9ae-71da-4162-a339-cb29b774624e",
   "metadata": {},
   "outputs": [],
   "source": [
    "# lecture données\n",
    "order_payment = pd.read_csv('Data/Source/olist_order_payments_dataset.csv')"
   ]
  },
  {
   "cell_type": "code",
   "execution_count": 75,
   "id": "fdff38d5-8cbe-4572-8541-4c3b58d7bf8b",
   "metadata": {},
   "outputs": [
    {
     "data": {
      "text/html": [
       "<div>\n",
       "<style scoped>\n",
       "    .dataframe tbody tr th:only-of-type {\n",
       "        vertical-align: middle;\n",
       "    }\n",
       "\n",
       "    .dataframe tbody tr th {\n",
       "        vertical-align: top;\n",
       "    }\n",
       "\n",
       "    .dataframe thead th {\n",
       "        text-align: right;\n",
       "    }\n",
       "</style>\n",
       "<table border=\"1\" class=\"dataframe\">\n",
       "  <thead>\n",
       "    <tr style=\"text-align: right;\">\n",
       "      <th></th>\n",
       "      <th>order_id</th>\n",
       "      <th>payment_sequential</th>\n",
       "      <th>payment_type</th>\n",
       "      <th>payment_installments</th>\n",
       "      <th>payment_value</th>\n",
       "    </tr>\n",
       "  </thead>\n",
       "  <tbody>\n",
       "    <tr>\n",
       "      <th>65970</th>\n",
       "      <td>1030ba5adfc9d3a5b6659ff4647081ab</td>\n",
       "      <td>1</td>\n",
       "      <td>credit_card</td>\n",
       "      <td>6</td>\n",
       "      <td>182.30</td>\n",
       "    </tr>\n",
       "    <tr>\n",
       "      <th>5489</th>\n",
       "      <td>84300a0c4b27875cb77c89f5383df360</td>\n",
       "      <td>1</td>\n",
       "      <td>boleto</td>\n",
       "      <td>1</td>\n",
       "      <td>62.68</td>\n",
       "    </tr>\n",
       "    <tr>\n",
       "      <th>94781</th>\n",
       "      <td>4d95703047b8a80cf5796b7478900ec7</td>\n",
       "      <td>1</td>\n",
       "      <td>credit_card</td>\n",
       "      <td>3</td>\n",
       "      <td>103.50</td>\n",
       "    </tr>\n",
       "    <tr>\n",
       "      <th>7977</th>\n",
       "      <td>a0e963520ec328f1d0dfa09fc1deb60e</td>\n",
       "      <td>1</td>\n",
       "      <td>boleto</td>\n",
       "      <td>1</td>\n",
       "      <td>19.75</td>\n",
       "    </tr>\n",
       "    <tr>\n",
       "      <th>47826</th>\n",
       "      <td>679b69f80ba6fa25ec46803b1d838bb5</td>\n",
       "      <td>1</td>\n",
       "      <td>boleto</td>\n",
       "      <td>1</td>\n",
       "      <td>33.81</td>\n",
       "    </tr>\n",
       "  </tbody>\n",
       "</table>\n",
       "</div>"
      ],
      "text/plain": [
       "                               order_id  payment_sequential payment_type  \\\n",
       "65970  1030ba5adfc9d3a5b6659ff4647081ab                   1  credit_card   \n",
       "5489   84300a0c4b27875cb77c89f5383df360                   1       boleto   \n",
       "94781  4d95703047b8a80cf5796b7478900ec7                   1  credit_card   \n",
       "7977   a0e963520ec328f1d0dfa09fc1deb60e                   1       boleto   \n",
       "47826  679b69f80ba6fa25ec46803b1d838bb5                   1       boleto   \n",
       "\n",
       "       payment_installments  payment_value  \n",
       "65970                     6         182.30  \n",
       "5489                      1          62.68  \n",
       "94781                     3         103.50  \n",
       "7977                      1          19.75  \n",
       "47826                     1          33.81  "
      ]
     },
     "execution_count": 75,
     "metadata": {},
     "output_type": "execute_result"
    }
   ],
   "source": [
    "# échantillon données\n",
    "order_payment.sample(5)"
   ]
  },
  {
   "cell_type": "code",
   "execution_count": 76,
   "id": "7385c394-4187-486c-b115-3add8cfa463a",
   "metadata": {},
   "outputs": [
    {
     "data": {
      "text/plain": [
       "(103886, 5)"
      ]
     },
     "execution_count": 76,
     "metadata": {},
     "output_type": "execute_result"
    }
   ],
   "source": [
    "# nombre des ligne et colonnes\n",
    "order_payment.shape"
   ]
  },
  {
   "cell_type": "code",
   "execution_count": 77,
   "id": "be668897-39ea-48be-81f2-2dae5930ef23",
   "metadata": {},
   "outputs": [
    {
     "data": {
      "text/plain": [
       "order_id                 object\n",
       "payment_sequential        int64\n",
       "payment_type             object\n",
       "payment_installments      int64\n",
       "payment_value           float64\n",
       "dtype: object"
      ]
     },
     "execution_count": 77,
     "metadata": {},
     "output_type": "execute_result"
    }
   ],
   "source": [
    "# type des variables\n",
    "order_payment.dtypes"
   ]
  },
  {
   "cell_type": "code",
   "execution_count": 78,
   "id": "8a65d51b-3e19-4cf1-a2b3-cc2b6e683d95",
   "metadata": {},
   "outputs": [
    {
     "data": {
      "text/plain": [
       "order_id                0\n",
       "payment_sequential      0\n",
       "payment_type            0\n",
       "payment_installments    0\n",
       "payment_value           0\n",
       "dtype: int64"
      ]
     },
     "execution_count": 78,
     "metadata": {},
     "output_type": "execute_result"
    }
   ],
   "source": [
    "# valeurs manquantes\n",
    "order_payment.isna().sum()"
   ]
  },
  {
   "cell_type": "code",
   "execution_count": 79,
   "id": "07ada403-b5cb-420c-88f2-b28ce0b1477e",
   "metadata": {},
   "outputs": [
    {
     "data": {
      "text/plain": [
       "4446"
      ]
     },
     "execution_count": 79,
     "metadata": {},
     "output_type": "execute_result"
    }
   ],
   "source": [
    "# doublons order_id\n",
    "order_payment['order_id'].duplicated().sum()"
   ]
  },
  {
   "cell_type": "markdown",
   "id": "cdaf483a-a3db-434d-bb6a-ca373459fbb0",
   "metadata": {},
   "source": [
    "`payment_sequential` indique s'il y a eu plusieurs typse des payement. Dans ce cas, pour le meme `order_id`, il y aura plusieurs lignes, comme le montre l'example ci-dessous. "
   ]
  },
  {
   "cell_type": "code",
   "execution_count": 80,
   "id": "ab8f8132-4731-4910-b769-86b965972fed",
   "metadata": {},
   "outputs": [
    {
     "data": {
      "text/html": [
       "<div>\n",
       "<style scoped>\n",
       "    .dataframe tbody tr th:only-of-type {\n",
       "        vertical-align: middle;\n",
       "    }\n",
       "\n",
       "    .dataframe tbody tr th {\n",
       "        vertical-align: top;\n",
       "    }\n",
       "\n",
       "    .dataframe thead th {\n",
       "        text-align: right;\n",
       "    }\n",
       "</style>\n",
       "<table border=\"1\" class=\"dataframe\">\n",
       "  <thead>\n",
       "    <tr style=\"text-align: right;\">\n",
       "      <th></th>\n",
       "      <th>order_id</th>\n",
       "      <th>payment_sequential</th>\n",
       "      <th>payment_type</th>\n",
       "      <th>payment_installments</th>\n",
       "      <th>payment_value</th>\n",
       "    </tr>\n",
       "  </thead>\n",
       "  <tbody>\n",
       "    <tr>\n",
       "      <th>27659</th>\n",
       "      <td>e56d88cbec1f6fa11c71a07941433b0c</td>\n",
       "      <td>2</td>\n",
       "      <td>credit_card</td>\n",
       "      <td>2</td>\n",
       "      <td>900.00</td>\n",
       "    </tr>\n",
       "    <tr>\n",
       "      <th>52344</th>\n",
       "      <td>e56d88cbec1f6fa11c71a07941433b0c</td>\n",
       "      <td>1</td>\n",
       "      <td>credit_card</td>\n",
       "      <td>10</td>\n",
       "      <td>406.26</td>\n",
       "    </tr>\n",
       "  </tbody>\n",
       "</table>\n",
       "</div>"
      ],
      "text/plain": [
       "                               order_id  payment_sequential payment_type  \\\n",
       "27659  e56d88cbec1f6fa11c71a07941433b0c                   2  credit_card   \n",
       "52344  e56d88cbec1f6fa11c71a07941433b0c                   1  credit_card   \n",
       "\n",
       "       payment_installments  payment_value  \n",
       "27659                     2         900.00  \n",
       "52344                    10         406.26  "
      ]
     },
     "execution_count": 80,
     "metadata": {},
     "output_type": "execute_result"
    }
   ],
   "source": [
    "# example de commande avec plusieurs types de moyens de payement\n",
    "order_payment[order_payment['order_id'] == 'e56d88cbec1f6fa11c71a07941433b0c']"
   ]
  },
  {
   "cell_type": "code",
   "execution_count": 81,
   "id": "72c255f0-5ca2-492f-a520-3fd05146f7cc",
   "metadata": {},
   "outputs": [
    {
     "data": {
      "text/plain": [
       "credit_card    0.739224\n",
       "boleto         0.190440\n",
       "voucher        0.055590\n",
       "debit_card     0.014718\n",
       "not_defined    0.000029\n",
       "Name: payment_type, dtype: float64"
      ]
     },
     "execution_count": 81,
     "metadata": {},
     "output_type": "execute_result"
    }
   ],
   "source": [
    "# comptage type de payement\n",
    "order_payment['payment_type'].value_counts(normalize=True)"
   ]
  },
  {
   "cell_type": "markdown",
   "id": "418c45b3-13ac-49f0-9095-f5955ef0af55",
   "metadata": {},
   "source": [
    "Je ne m'intéresse pas à s’il y eu plusieurs moyens de payement ou en combien de fois le payement a été effectué, car il s’agit des variables qui ne sont pas forcément liées à l'interaction entre le client et Olist (peut être elles dépendent aussi de la situation du compte bancaire au moment de la commande). De plus, la plupart des clients a payé par carte de crédit, ainsi le moyen de payement ne semble pas pouvoir apporter une grande différenciation des groupes clients. \n",
    "\n",
    "Par contre, je vais vérifier que la variable `payment_value` correspond à la somme du prix des articles et des frais de livraison. \n",
    "\n",
    "Pour ce faire, je vais d'abord faire une agrégation du dataframe `order_payment` sur `order_id` en utilisant la somme comme fonction d'agrégation, et ensuite faire une jointure avec le dataframe `customers`."
   ]
  },
  {
   "cell_type": "code",
   "execution_count": 82,
   "id": "63f98c39-dc53-4ed3-8d79-a60d5000a37e",
   "metadata": {},
   "outputs": [],
   "source": [
    "# agrégation\n",
    "order_payment = order_payment.groupby('order_id').agg(\n",
    "    {'payment_value':'sum'}\n",
    ")"
   ]
  },
  {
   "cell_type": "code",
   "execution_count": 83,
   "id": "6b9915c3-2e22-42d9-8913-d254ae6ea884",
   "metadata": {},
   "outputs": [],
   "source": [
    "# merge\n",
    "customers = pd.merge(customers,\n",
    "                     order_payment,\n",
    "                     how='left',\n",
    "                     left_on='order_id',\n",
    "                     right_index=True)"
   ]
  },
  {
   "cell_type": "code",
   "execution_count": 84,
   "id": "1b9044de-7925-41c8-b9e6-ebc68cd38c25",
   "metadata": {},
   "outputs": [
    {
     "data": {
      "text/plain": [
       "96478"
      ]
     },
     "execution_count": 84,
     "metadata": {},
     "output_type": "execute_result"
    }
   ],
   "source": [
    "# vérification nombre des lignes\n",
    "customers.shape[0]"
   ]
  },
  {
   "cell_type": "code",
   "execution_count": 85,
   "id": "6f00f01f-84a7-4827-9a14-8b1c0b100afb",
   "metadata": {},
   "outputs": [
    {
     "data": {
      "text/html": [
       "<div>\n",
       "<style scoped>\n",
       "    .dataframe tbody tr th:only-of-type {\n",
       "        vertical-align: middle;\n",
       "    }\n",
       "\n",
       "    .dataframe tbody tr th {\n",
       "        vertical-align: top;\n",
       "    }\n",
       "\n",
       "    .dataframe thead th {\n",
       "        text-align: right;\n",
       "    }\n",
       "</style>\n",
       "<table border=\"1\" class=\"dataframe\">\n",
       "  <thead>\n",
       "    <tr style=\"text-align: right;\">\n",
       "      <th></th>\n",
       "      <th>customer_id</th>\n",
       "      <th>customer_unique_id</th>\n",
       "      <th>customer_zip_code_prefix</th>\n",
       "      <th>geolocation_lat</th>\n",
       "      <th>geolocation_lng</th>\n",
       "      <th>order_id</th>\n",
       "      <th>order_purchase_timestamp</th>\n",
       "      <th>real_delivery_time</th>\n",
       "      <th>estimated_delivery_time</th>\n",
       "      <th>delay</th>\n",
       "      <th>price</th>\n",
       "      <th>freight_value</th>\n",
       "      <th>seller_id</th>\n",
       "      <th>product_id</th>\n",
       "      <th>freight/price</th>\n",
       "      <th>payment_value</th>\n",
       "    </tr>\n",
       "  </thead>\n",
       "  <tbody>\n",
       "    <tr>\n",
       "      <th>0</th>\n",
       "      <td>06b8999e2fba1a1fbc88172c00ba8bc7</td>\n",
       "      <td>861eff4711a542e4b93843c6dd7febb0</td>\n",
       "      <td>14409</td>\n",
       "      <td>-20.498489</td>\n",
       "      <td>-47.396929</td>\n",
       "      <td>00e7ee1b050b8499577073aeb2a297a1</td>\n",
       "      <td>2017-05-16 15:05:35</td>\n",
       "      <td>8.0</td>\n",
       "      <td>19.0</td>\n",
       "      <td>-11.0</td>\n",
       "      <td>124.99</td>\n",
       "      <td>21.88</td>\n",
       "      <td>7c67e1448b00f6e969d365cea6b010ab</td>\n",
       "      <td>a9516a079e37a9c9c36b9b78b10169e8</td>\n",
       "      <td>0.175054</td>\n",
       "      <td>146.87</td>\n",
       "    </tr>\n",
       "    <tr>\n",
       "      <th>1</th>\n",
       "      <td>18955e83d337fd6b2def6b18a428ac77</td>\n",
       "      <td>290c77bc529b7ac935b93aa66c333dc3</td>\n",
       "      <td>9790</td>\n",
       "      <td>-23.727992</td>\n",
       "      <td>-46.542848</td>\n",
       "      <td>29150127e6685892b6eab3eec79f59c7</td>\n",
       "      <td>2018-01-12 20:48:24</td>\n",
       "      <td>16.0</td>\n",
       "      <td>24.0</td>\n",
       "      <td>-8.0</td>\n",
       "      <td>289.00</td>\n",
       "      <td>46.48</td>\n",
       "      <td>b8bc237ba3788b23da09c0f1f3a3288c</td>\n",
       "      <td>4aa6014eceb682077f9dc4bffebc05b0</td>\n",
       "      <td>0.160830</td>\n",
       "      <td>335.48</td>\n",
       "    </tr>\n",
       "    <tr>\n",
       "      <th>2</th>\n",
       "      <td>4e7b3e00288586ebd08712fdd0374a03</td>\n",
       "      <td>060e732b5b29e8181a18229c7b0b2b5e</td>\n",
       "      <td>1151</td>\n",
       "      <td>-23.531642</td>\n",
       "      <td>-46.656289</td>\n",
       "      <td>b2059ed67ce144a36e2aa97d2c9e9ad2</td>\n",
       "      <td>2018-05-19 16:07:45</td>\n",
       "      <td>26.0</td>\n",
       "      <td>24.0</td>\n",
       "      <td>1.0</td>\n",
       "      <td>139.94</td>\n",
       "      <td>17.79</td>\n",
       "      <td>7c67e1448b00f6e969d365cea6b010ab</td>\n",
       "      <td>bd07b66896d6f1494f5b86251848ced7</td>\n",
       "      <td>0.127126</td>\n",
       "      <td>157.73</td>\n",
       "    </tr>\n",
       "    <tr>\n",
       "      <th>3</th>\n",
       "      <td>b2b6027bc5c5109e529d4dc6358b12c3</td>\n",
       "      <td>259dac757896d24d7702b9acbbff3f3c</td>\n",
       "      <td>8775</td>\n",
       "      <td>-23.499702</td>\n",
       "      <td>-46.185233</td>\n",
       "      <td>951670f92359f4fe4a63112aa7306eba</td>\n",
       "      <td>2018-03-13 16:06:38</td>\n",
       "      <td>14.0</td>\n",
       "      <td>27.0</td>\n",
       "      <td>-13.0</td>\n",
       "      <td>149.94</td>\n",
       "      <td>23.36</td>\n",
       "      <td>7c67e1448b00f6e969d365cea6b010ab</td>\n",
       "      <td>a5647c44af977b148e0a3a4751a09e2e</td>\n",
       "      <td>0.155796</td>\n",
       "      <td>173.30</td>\n",
       "    </tr>\n",
       "    <tr>\n",
       "      <th>4</th>\n",
       "      <td>4f2d8ab171c80ec8364f7c12e35b23ad</td>\n",
       "      <td>345ecd01c38d18a9036ed96c73b8d066</td>\n",
       "      <td>13056</td>\n",
       "      <td>-22.975100</td>\n",
       "      <td>-47.142925</td>\n",
       "      <td>6b7d50bd145f6fc7f33cebabd7e49d0f</td>\n",
       "      <td>2018-07-29 09:51:30</td>\n",
       "      <td>11.0</td>\n",
       "      <td>16.0</td>\n",
       "      <td>-6.0</td>\n",
       "      <td>230.00</td>\n",
       "      <td>22.25</td>\n",
       "      <td>4a3ca9315b744ce9f8e9374361493884</td>\n",
       "      <td>9391a573abe00141c56e38d84d7d5b3b</td>\n",
       "      <td>0.096739</td>\n",
       "      <td>252.25</td>\n",
       "    </tr>\n",
       "  </tbody>\n",
       "</table>\n",
       "</div>"
      ],
      "text/plain": [
       "                        customer_id                customer_unique_id  \\\n",
       "0  06b8999e2fba1a1fbc88172c00ba8bc7  861eff4711a542e4b93843c6dd7febb0   \n",
       "1  18955e83d337fd6b2def6b18a428ac77  290c77bc529b7ac935b93aa66c333dc3   \n",
       "2  4e7b3e00288586ebd08712fdd0374a03  060e732b5b29e8181a18229c7b0b2b5e   \n",
       "3  b2b6027bc5c5109e529d4dc6358b12c3  259dac757896d24d7702b9acbbff3f3c   \n",
       "4  4f2d8ab171c80ec8364f7c12e35b23ad  345ecd01c38d18a9036ed96c73b8d066   \n",
       "\n",
       "   customer_zip_code_prefix  geolocation_lat  geolocation_lng  \\\n",
       "0                     14409       -20.498489       -47.396929   \n",
       "1                      9790       -23.727992       -46.542848   \n",
       "2                      1151       -23.531642       -46.656289   \n",
       "3                      8775       -23.499702       -46.185233   \n",
       "4                     13056       -22.975100       -47.142925   \n",
       "\n",
       "                           order_id order_purchase_timestamp  \\\n",
       "0  00e7ee1b050b8499577073aeb2a297a1      2017-05-16 15:05:35   \n",
       "1  29150127e6685892b6eab3eec79f59c7      2018-01-12 20:48:24   \n",
       "2  b2059ed67ce144a36e2aa97d2c9e9ad2      2018-05-19 16:07:45   \n",
       "3  951670f92359f4fe4a63112aa7306eba      2018-03-13 16:06:38   \n",
       "4  6b7d50bd145f6fc7f33cebabd7e49d0f      2018-07-29 09:51:30   \n",
       "\n",
       "   real_delivery_time  estimated_delivery_time  delay   price  freight_value  \\\n",
       "0                 8.0                     19.0  -11.0  124.99          21.88   \n",
       "1                16.0                     24.0   -8.0  289.00          46.48   \n",
       "2                26.0                     24.0    1.0  139.94          17.79   \n",
       "3                14.0                     27.0  -13.0  149.94          23.36   \n",
       "4                11.0                     16.0   -6.0  230.00          22.25   \n",
       "\n",
       "                          seller_id                        product_id  \\\n",
       "0  7c67e1448b00f6e969d365cea6b010ab  a9516a079e37a9c9c36b9b78b10169e8   \n",
       "1  b8bc237ba3788b23da09c0f1f3a3288c  4aa6014eceb682077f9dc4bffebc05b0   \n",
       "2  7c67e1448b00f6e969d365cea6b010ab  bd07b66896d6f1494f5b86251848ced7   \n",
       "3  7c67e1448b00f6e969d365cea6b010ab  a5647c44af977b148e0a3a4751a09e2e   \n",
       "4  4a3ca9315b744ce9f8e9374361493884  9391a573abe00141c56e38d84d7d5b3b   \n",
       "\n",
       "   freight/price  payment_value  \n",
       "0       0.175054         146.87  \n",
       "1       0.160830         335.48  \n",
       "2       0.127126         157.73  \n",
       "3       0.155796         173.30  \n",
       "4       0.096739         252.25  "
      ]
     },
     "execution_count": 85,
     "metadata": {},
     "output_type": "execute_result"
    }
   ],
   "source": [
    "# vérification merge\n",
    "customers.head()"
   ]
  },
  {
   "cell_type": "markdown",
   "id": "8e8543d3-7bf9-45b0-95e3-eab12e77f5ed",
   "metadata": {},
   "source": [
    "Je vais créer une variable, `diff`, pour étudier s'il y a des différences entre `payment_value` et somme de `price` et `freight_value`."
   ]
  },
  {
   "cell_type": "code",
   "execution_count": 86,
   "id": "612a0a40-0b1c-43c2-83ef-ef37f2ffd75e",
   "metadata": {},
   "outputs": [],
   "source": [
    "# initialisation variable diff\n",
    "customers['diff'] = customers['price'] + customers[\n",
    "    'freight_value'] - customers['payment_value']"
   ]
  },
  {
   "cell_type": "code",
   "execution_count": 87,
   "id": "1ea4e478-605a-469c-862b-9f2c46905acd",
   "metadata": {},
   "outputs": [
    {
     "data": {
      "text/plain": [
       "count    96477.000000\n",
       "mean        -0.029349\n",
       "std          1.138706\n",
       "min       -182.810000\n",
       "25%          0.000000\n",
       "50%          0.000000\n",
       "75%          0.000000\n",
       "max         51.620000\n",
       "Name: diff, dtype: float64"
      ]
     },
     "execution_count": 87,
     "metadata": {},
     "output_type": "execute_result"
    }
   ],
   "source": [
    "# statistiques de base de la variable diff\n",
    "customers['diff'].describe()"
   ]
  },
  {
   "cell_type": "code",
   "execution_count": 88,
   "id": "d6c588fa-c66d-4d93-a981-25ac81c5464c",
   "metadata": {},
   "outputs": [
    {
     "data": {
      "text/plain": [
       "Text(0, 0.5, 'Nombre de commandes')"
      ]
     },
     "execution_count": 88,
     "metadata": {},
     "output_type": "execute_result"
    },
    {
     "data": {
      "image/png": "[encoded data removed]",
      "text/plain": [
       "<Figure size 576x360 with 1 Axes>"
      ]
     },
     "metadata": {
      "needs_background": "light"
     },
     "output_type": "display_data"
    }
   ],
   "source": [
    "# distribution de la variable diff\n",
    "plt.figure(figsize=(8, 5))\n",
    "plt.hist(customers['diff'], bins=20)\n",
    "plt.title('Difference entre (frais de livraison + prix) et valeur payée')\n",
    "plt.xlabel('Difference ($)')\n",
    "plt.ylabel('Nombre de commandes')"
   ]
  },
  {
   "cell_type": "markdown",
   "id": "1939adc3-474e-4716-9830-f1131f2c855b",
   "metadata": {},
   "source": [
    "En effet pour la plupart des commandes cette différence est très petite, mais pour certaines commandes elle peut être assez élevée (jusqu'à 182 dollars). Je vais examiner les commandes pour les quelle cette différence est élevée (c’est-à-dire que la valeur absolue de la différence est supérieure à 0.1 dollars, des différences plus petites sont admises en raison des arrondis)."
   ]
  },
  {
   "cell_type": "code",
   "execution_count": 89,
   "id": "09a735f8-0c57-42f8-89a8-4c7bf7d4b1fc",
   "metadata": {},
   "outputs": [
    {
     "data": {
      "text/plain": [
       "(255, 17)"
      ]
     },
     "execution_count": 89,
     "metadata": {},
     "output_type": "execute_result"
    }
   ],
   "source": [
    "# nombre de valeurs aberrantes\n",
    "customers[(customers['diff'] < -0.1) | (customers['diff'] > 0.1)].shape"
   ]
  },
  {
   "cell_type": "code",
   "execution_count": 90,
   "id": "31a73c14-bb82-4c8f-b635-c84d6d8783d9",
   "metadata": {},
   "outputs": [
    {
     "data": {
      "text/html": [
       "<div>\n",
       "<style scoped>\n",
       "    .dataframe tbody tr th:only-of-type {\n",
       "        vertical-align: middle;\n",
       "    }\n",
       "\n",
       "    .dataframe tbody tr th {\n",
       "        vertical-align: top;\n",
       "    }\n",
       "\n",
       "    .dataframe thead th {\n",
       "        text-align: right;\n",
       "    }\n",
       "</style>\n",
       "<table border=\"1\" class=\"dataframe\">\n",
       "  <thead>\n",
       "    <tr style=\"text-align: right;\">\n",
       "      <th></th>\n",
       "      <th>customer_id</th>\n",
       "      <th>customer_unique_id</th>\n",
       "      <th>customer_zip_code_prefix</th>\n",
       "      <th>geolocation_lat</th>\n",
       "      <th>geolocation_lng</th>\n",
       "      <th>order_id</th>\n",
       "      <th>order_purchase_timestamp</th>\n",
       "      <th>real_delivery_time</th>\n",
       "      <th>estimated_delivery_time</th>\n",
       "      <th>delay</th>\n",
       "      <th>price</th>\n",
       "      <th>freight_value</th>\n",
       "      <th>seller_id</th>\n",
       "      <th>product_id</th>\n",
       "      <th>freight/price</th>\n",
       "      <th>payment_value</th>\n",
       "      <th>diff</th>\n",
       "    </tr>\n",
       "  </thead>\n",
       "  <tbody>\n",
       "    <tr>\n",
       "      <th>35491</th>\n",
       "      <td>52128c30f27e3166029ab4ad0b502c94</td>\n",
       "      <td>ff580ab4901e3619925a27db44eec095</td>\n",
       "      <td>48905</td>\n",
       "      <td>-9.424205</td>\n",
       "      <td>-40.494067</td>\n",
       "      <td>ddcf6c758c04fe3f2e0d1ae301ec5f40</td>\n",
       "      <td>2017-04-11 12:45:06</td>\n",
       "      <td>28.0</td>\n",
       "      <td>36.0</td>\n",
       "      <td>-9.0</td>\n",
       "      <td>39.90</td>\n",
       "      <td>17.78</td>\n",
       "      <td>fc906263ca5083d09dce42fe02247800</td>\n",
       "      <td>06c6e01186af8b98ee1fc9e01f9471e9</td>\n",
       "      <td>0.445614</td>\n",
       "      <td>66.62</td>\n",
       "      <td>-8.94</td>\n",
       "    </tr>\n",
       "    <tr>\n",
       "      <th>73213</th>\n",
       "      <td>d8c39b2be9b9bc058f016855e8718e54</td>\n",
       "      <td>89383f8dc2ded747e0b2636cec1e0631</td>\n",
       "      <td>25645</td>\n",
       "      <td>-22.540797</td>\n",
       "      <td>-43.201235</td>\n",
       "      <td>e8295bee3fcc58cbd94f165f36c11f4b</td>\n",
       "      <td>2017-11-24 02:09:24</td>\n",
       "      <td>24.0</td>\n",
       "      <td>24.0</td>\n",
       "      <td>-1.0</td>\n",
       "      <td>99.90</td>\n",
       "      <td>17.95</td>\n",
       "      <td>8160255418d5aaa7dbdc9f4c64ebda44</td>\n",
       "      <td>9ad75bd7267e5c724cb42c71ac56ca72</td>\n",
       "      <td>0.179680</td>\n",
       "      <td>151.93</td>\n",
       "      <td>-34.08</td>\n",
       "    </tr>\n",
       "    <tr>\n",
       "      <th>30111</th>\n",
       "      <td>08b0c3ca77cbc85b646e774a1ac760cc</td>\n",
       "      <td>969a073e5e07991b03418169d7fccd36</td>\n",
       "      <td>21070</td>\n",
       "      <td>-22.843914</td>\n",
       "      <td>-43.283779</td>\n",
       "      <td>4b3176150cda3ef1348ba91dfb6c7b32</td>\n",
       "      <td>2017-11-14 08:28:59</td>\n",
       "      <td>9.0</td>\n",
       "      <td>29.0</td>\n",
       "      <td>-21.0</td>\n",
       "      <td>31.90</td>\n",
       "      <td>14.10</td>\n",
       "      <td>85d9eb9ddc5d00ca9336a2219c97bb13</td>\n",
       "      <td>f71f42e2381752836563b70beb542f80</td>\n",
       "      <td>0.442006</td>\n",
       "      <td>48.67</td>\n",
       "      <td>-2.67</td>\n",
       "    </tr>\n",
       "    <tr>\n",
       "      <th>38491</th>\n",
       "      <td>308979f2faf0919392503a7818aefcb1</td>\n",
       "      <td>0ab747aabaf607069aeb7ed48d97d1f9</td>\n",
       "      <td>41490</td>\n",
       "      <td>-12.911270</td>\n",
       "      <td>-38.394730</td>\n",
       "      <td>47bc2fbe3e9b64a723dd530a4f1612b8</td>\n",
       "      <td>2018-01-26 15:49:31</td>\n",
       "      <td>21.0</td>\n",
       "      <td>26.0</td>\n",
       "      <td>-6.0</td>\n",
       "      <td>49.99</td>\n",
       "      <td>15.79</td>\n",
       "      <td>ea8482cd71df3c1969d7b9473ff13abc</td>\n",
       "      <td>b24af8bca8813bcde4140ff8562f5e47</td>\n",
       "      <td>0.315863</td>\n",
       "      <td>74.35</td>\n",
       "      <td>-8.57</td>\n",
       "    </tr>\n",
       "    <tr>\n",
       "      <th>52853</th>\n",
       "      <td>179d183ba83ebf3be4056b8b26d8dbea</td>\n",
       "      <td>4d327136275e45e51a52ad8fc71ff733</td>\n",
       "      <td>41815</td>\n",
       "      <td>-12.993950</td>\n",
       "      <td>-38.466461</td>\n",
       "      <td>585f3aa654c4d58eb968fc4fe6e3e92e</td>\n",
       "      <td>2018-02-09 22:01:17</td>\n",
       "      <td>16.0</td>\n",
       "      <td>30.0</td>\n",
       "      <td>-14.0</td>\n",
       "      <td>69.90</td>\n",
       "      <td>19.73</td>\n",
       "      <td>4559697a8f7e637227c2eeaed843baff</td>\n",
       "      <td>e5eadf9be70a4a9fa514019542fc330a</td>\n",
       "      <td>0.282260</td>\n",
       "      <td>101.31</td>\n",
       "      <td>-11.68</td>\n",
       "    </tr>\n",
       "    <tr>\n",
       "      <th>785</th>\n",
       "      <td>5ffaa9e0952296664dfda701a20c5519</td>\n",
       "      <td>2f2c5d1fdc5db8d9302cec6fd6dad0ad</td>\n",
       "      <td>29290</td>\n",
       "      <td>-20.860485</td>\n",
       "      <td>-40.935260</td>\n",
       "      <td>66b04218fe3a0af6ca54d243ecfb3737</td>\n",
       "      <td>2018-02-03 21:44:23</td>\n",
       "      <td>22.0</td>\n",
       "      <td>44.0</td>\n",
       "      <td>-22.0</td>\n",
       "      <td>27.90</td>\n",
       "      <td>16.79</td>\n",
       "      <td>85d9eb9ddc5d00ca9336a2219c97bb13</td>\n",
       "      <td>a1bf559ac1eab015ba992bd76d9d76c7</td>\n",
       "      <td>0.601792</td>\n",
       "      <td>46.24</td>\n",
       "      <td>-1.55</td>\n",
       "    </tr>\n",
       "    <tr>\n",
       "      <th>91491</th>\n",
       "      <td>7cb980ea48f7332f0c397cce1a900e59</td>\n",
       "      <td>71ac63cf26120dafb6d3c73aca37376f</td>\n",
       "      <td>89260</td>\n",
       "      <td>-26.512379</td>\n",
       "      <td>-49.133064</td>\n",
       "      <td>c14323552816050d396da49c9f23ae1e</td>\n",
       "      <td>2017-11-26 10:24:33</td>\n",
       "      <td>38.0</td>\n",
       "      <td>24.0</td>\n",
       "      <td>13.0</td>\n",
       "      <td>16.80</td>\n",
       "      <td>15.10</td>\n",
       "      <td>e5a3438891c0bfdb9394643f95273d8e</td>\n",
       "      <td>3a14e4f8d0d1c5be2acb3cd00d9c8047</td>\n",
       "      <td>0.898810</td>\n",
       "      <td>33.75</td>\n",
       "      <td>-1.85</td>\n",
       "    </tr>\n",
       "    <tr>\n",
       "      <th>5908</th>\n",
       "      <td>0244fcc0d060a5943dd7d4d5f87de9c8</td>\n",
       "      <td>fb9760235a090e1747caef67cc951f6c</td>\n",
       "      <td>88704</td>\n",
       "      <td>-28.475922</td>\n",
       "      <td>-49.011729</td>\n",
       "      <td>1811959f3ced8abc0645c21285a5a4d5</td>\n",
       "      <td>2017-02-28 17:40:00</td>\n",
       "      <td>9.0</td>\n",
       "      <td>21.0</td>\n",
       "      <td>-12.0</td>\n",
       "      <td>55.90</td>\n",
       "      <td>18.67</td>\n",
       "      <td>78c99c6dff4eeae5be99bf635ed21e3f</td>\n",
       "      <td>f0a7113644fce6d200240a1d0dba2b9b</td>\n",
       "      <td>0.333989</td>\n",
       "      <td>79.78</td>\n",
       "      <td>-5.21</td>\n",
       "    </tr>\n",
       "    <tr>\n",
       "      <th>1966</th>\n",
       "      <td>3a412111e4f293539eae05b502fc63de</td>\n",
       "      <td>f7c20fc3dc5222bc4389740958175652</td>\n",
       "      <td>8220</td>\n",
       "      <td>-23.537410</td>\n",
       "      <td>-46.466583</td>\n",
       "      <td>e73fe43cdcd166f7f0c6e3c2bf11a917</td>\n",
       "      <td>2018-08-09 18:06:43</td>\n",
       "      <td>5.0</td>\n",
       "      <td>6.0</td>\n",
       "      <td>-1.0</td>\n",
       "      <td>49.90</td>\n",
       "      <td>9.10</td>\n",
       "      <td>334cab711dee080b079fa5779b584783</td>\n",
       "      <td>544c14365db76307e0820a1468ed8114</td>\n",
       "      <td>0.182365</td>\n",
       "      <td>56.50</td>\n",
       "      <td>2.50</td>\n",
       "    </tr>\n",
       "    <tr>\n",
       "      <th>77522</th>\n",
       "      <td>4174d5e8a7e5d999203b1ab2870459e2</td>\n",
       "      <td>4c112bdeac93a04155c340b65b35c232</td>\n",
       "      <td>16901</td>\n",
       "      <td>-20.894499</td>\n",
       "      <td>-51.373939</td>\n",
       "      <td>8ccbe46ffeae4720eba99d2d2de07542</td>\n",
       "      <td>2017-06-06 15:19:21</td>\n",
       "      <td>10.0</td>\n",
       "      <td>27.0</td>\n",
       "      <td>-18.0</td>\n",
       "      <td>16.90</td>\n",
       "      <td>11.85</td>\n",
       "      <td>7722b1df1b0e383e000397b2c11e3e19</td>\n",
       "      <td>5e3e2d54c975cf95b62c112c4d1d935d</td>\n",
       "      <td>0.701183</td>\n",
       "      <td>30.30</td>\n",
       "      <td>-1.55</td>\n",
       "    </tr>\n",
       "  </tbody>\n",
       "</table>\n",
       "</div>"
      ],
      "text/plain": [
       "                            customer_id                customer_unique_id  \\\n",
       "35491  52128c30f27e3166029ab4ad0b502c94  ff580ab4901e3619925a27db44eec095   \n",
       "73213  d8c39b2be9b9bc058f016855e8718e54  89383f8dc2ded747e0b2636cec1e0631   \n",
       "30111  08b0c3ca77cbc85b646e774a1ac760cc  969a073e5e07991b03418169d7fccd36   \n",
       "38491  308979f2faf0919392503a7818aefcb1  0ab747aabaf607069aeb7ed48d97d1f9   \n",
       "52853  179d183ba83ebf3be4056b8b26d8dbea  4d327136275e45e51a52ad8fc71ff733   \n",
       "785    5ffaa9e0952296664dfda701a20c5519  2f2c5d1fdc5db8d9302cec6fd6dad0ad   \n",
       "91491  7cb980ea48f7332f0c397cce1a900e59  71ac63cf26120dafb6d3c73aca37376f   \n",
       "5908   0244fcc0d060a5943dd7d4d5f87de9c8  fb9760235a090e1747caef67cc951f6c   \n",
       "1966   3a412111e4f293539eae05b502fc63de  f7c20fc3dc5222bc4389740958175652   \n",
       "77522  4174d5e8a7e5d999203b1ab2870459e2  4c112bdeac93a04155c340b65b35c232   \n",
       "\n",
       "       customer_zip_code_prefix  geolocation_lat  geolocation_lng  \\\n",
       "35491                     48905        -9.424205       -40.494067   \n",
       "73213                     25645       -22.540797       -43.201235   \n",
       "30111                     21070       -22.843914       -43.283779   \n",
       "38491                     41490       -12.911270       -38.394730   \n",
       "52853                     41815       -12.993950       -38.466461   \n",
       "785                       29290       -20.860485       -40.935260   \n",
       "91491                     89260       -26.512379       -49.133064   \n",
       "5908                      88704       -28.475922       -49.011729   \n",
       "1966                       8220       -23.537410       -46.466583   \n",
       "77522                     16901       -20.894499       -51.373939   \n",
       "\n",
       "                               order_id order_purchase_timestamp  \\\n",
       "35491  ddcf6c758c04fe3f2e0d1ae301ec5f40      2017-04-11 12:45:06   \n",
       "73213  e8295bee3fcc58cbd94f165f36c11f4b      2017-11-24 02:09:24   \n",
       "30111  4b3176150cda3ef1348ba91dfb6c7b32      2017-11-14 08:28:59   \n",
       "38491  47bc2fbe3e9b64a723dd530a4f1612b8      2018-01-26 15:49:31   \n",
       "52853  585f3aa654c4d58eb968fc4fe6e3e92e      2018-02-09 22:01:17   \n",
       "785    66b04218fe3a0af6ca54d243ecfb3737      2018-02-03 21:44:23   \n",
       "91491  c14323552816050d396da49c9f23ae1e      2017-11-26 10:24:33   \n",
       "5908   1811959f3ced8abc0645c21285a5a4d5      2017-02-28 17:40:00   \n",
       "1966   e73fe43cdcd166f7f0c6e3c2bf11a917      2018-08-09 18:06:43   \n",
       "77522  8ccbe46ffeae4720eba99d2d2de07542      2017-06-06 15:19:21   \n",
       "\n",
       "       real_delivery_time  estimated_delivery_time  delay  price  \\\n",
       "35491                28.0                     36.0   -9.0  39.90   \n",
       "73213                24.0                     24.0   -1.0  99.90   \n",
       "30111                 9.0                     29.0  -21.0  31.90   \n",
       "38491                21.0                     26.0   -6.0  49.99   \n",
       "52853                16.0                     30.0  -14.0  69.90   \n",
       "785                  22.0                     44.0  -22.0  27.90   \n",
       "91491                38.0                     24.0   13.0  16.80   \n",
       "5908                  9.0                     21.0  -12.0  55.90   \n",
       "1966                  5.0                      6.0   -1.0  49.90   \n",
       "77522                10.0                     27.0  -18.0  16.90   \n",
       "\n",
       "       freight_value                         seller_id  \\\n",
       "35491          17.78  fc906263ca5083d09dce42fe02247800   \n",
       "73213          17.95  8160255418d5aaa7dbdc9f4c64ebda44   \n",
       "30111          14.10  85d9eb9ddc5d00ca9336a2219c97bb13   \n",
       "38491          15.79  ea8482cd71df3c1969d7b9473ff13abc   \n",
       "52853          19.73  4559697a8f7e637227c2eeaed843baff   \n",
       "785            16.79  85d9eb9ddc5d00ca9336a2219c97bb13   \n",
       "91491          15.10  e5a3438891c0bfdb9394643f95273d8e   \n",
       "5908           18.67  78c99c6dff4eeae5be99bf635ed21e3f   \n",
       "1966            9.10  334cab711dee080b079fa5779b584783   \n",
       "77522          11.85  7722b1df1b0e383e000397b2c11e3e19   \n",
       "\n",
       "                             product_id  freight/price  payment_value   diff  \n",
       "35491  06c6e01186af8b98ee1fc9e01f9471e9       0.445614          66.62  -8.94  \n",
       "73213  9ad75bd7267e5c724cb42c71ac56ca72       0.179680         151.93 -34.08  \n",
       "30111  f71f42e2381752836563b70beb542f80       0.442006          48.67  -2.67  \n",
       "38491  b24af8bca8813bcde4140ff8562f5e47       0.315863          74.35  -8.57  \n",
       "52853  e5eadf9be70a4a9fa514019542fc330a       0.282260         101.31 -11.68  \n",
       "785    a1bf559ac1eab015ba992bd76d9d76c7       0.601792          46.24  -1.55  \n",
       "91491  3a14e4f8d0d1c5be2acb3cd00d9c8047       0.898810          33.75  -1.85  \n",
       "5908   f0a7113644fce6d200240a1d0dba2b9b       0.333989          79.78  -5.21  \n",
       "1966   544c14365db76307e0820a1468ed8114       0.182365          56.50   2.50  \n",
       "77522  5e3e2d54c975cf95b62c112c4d1d935d       0.701183          30.30  -1.55  "
      ]
     },
     "execution_count": 90,
     "metadata": {},
     "output_type": "execute_result"
    }
   ],
   "source": [
    "# examples valeurs aberrantes\n",
    "customers[(customers['diff'] < -0.1) | (customers['diff'] > 0.1)].sample(10)"
   ]
  },
  {
   "cell_type": "markdown",
   "id": "6c9dfa2b-5071-4b25-9e82-c84b951090ec",
   "metadata": {},
   "source": [
    "Il n'y a que 255 commandes pour lesquels `diff` est tres élevée. \n",
    "\n",
    "Si `diff` était toujours positive, je pourrais supposer qu’il y a eu des réductions sur le prix ou le frais de livraison, mais ce n'est pas le cas. Etant donné que je n'ai pas une explication certaine (erreur du site, de la banque, etc.?) je vais considérer ces valeurs comme aberrantes et remplacer `payment_value` avec la somme de `prix` et `fright_value`."
   ]
  },
  {
   "cell_type": "code",
   "execution_count": 91,
   "id": "e187a427-17c6-4e64-856e-985ba0832061",
   "metadata": {},
   "outputs": [],
   "source": [
    "# suppression variable diff\n",
    "customers.drop('diff', axis=1, inplace=True)"
   ]
  },
  {
   "cell_type": "code",
   "execution_count": 92,
   "id": "68335f93-366a-4034-a64a-3c2d579b6d63",
   "metadata": {},
   "outputs": [],
   "source": [
    "# remplacement payment_value avec somme de prix et frais de livraison\n",
    "customers['payment_value'] = customers['price'] + customers['freight_value']"
   ]
  },
  {
   "cell_type": "code",
   "execution_count": 93,
   "id": "2958e180-f43e-41f7-b661-9b2148aea892",
   "metadata": {},
   "outputs": [],
   "source": [
    "# sauvegarde données\n",
    "customers.to_csv('Data/Cleaning/customers.csv', index=False)"
   ]
  },
  {
   "cell_type": "markdown",
   "id": "a046cab5-382f-45f5-9530-d2ad295d9631",
   "metadata": {},
   "source": [
    "## 1.6 Reviews"
   ]
  },
  {
   "cell_type": "markdown",
   "id": "b26cae0a-28d4-4b90-9326-741e4a5137e0",
   "metadata": {},
   "source": [
    "Ce jeu des données contient les informations sur les avis rédigés par les clients."
   ]
  },
  {
   "cell_type": "code",
   "execution_count": 94,
   "id": "b03ad66d-be2a-448b-93c0-c99221af94ca",
   "metadata": {},
   "outputs": [],
   "source": [
    "# lecture données\n",
    "reviews = pd.read_csv('Data/Source/olist_order_reviews_dataset.csv')"
   ]
  },
  {
   "cell_type": "code",
   "execution_count": 95,
   "id": "97adf78e-b036-492e-93b2-66509f8a181a",
   "metadata": {},
   "outputs": [
    {
     "data": {
      "text/html": [
       "<div>\n",
       "<style scoped>\n",
       "    .dataframe tbody tr th:only-of-type {\n",
       "        vertical-align: middle;\n",
       "    }\n",
       "\n",
       "    .dataframe tbody tr th {\n",
       "        vertical-align: top;\n",
       "    }\n",
       "\n",
       "    .dataframe thead th {\n",
       "        text-align: right;\n",
       "    }\n",
       "</style>\n",
       "<table border=\"1\" class=\"dataframe\">\n",
       "  <thead>\n",
       "    <tr style=\"text-align: right;\">\n",
       "      <th></th>\n",
       "      <th>review_id</th>\n",
       "      <th>order_id</th>\n",
       "      <th>review_score</th>\n",
       "      <th>review_comment_title</th>\n",
       "      <th>review_comment_message</th>\n",
       "      <th>review_creation_date</th>\n",
       "      <th>review_answer_timestamp</th>\n",
       "    </tr>\n",
       "  </thead>\n",
       "  <tbody>\n",
       "    <tr>\n",
       "      <th>63978</th>\n",
       "      <td>f597a9739b74e939b29745f4657f32f9</td>\n",
       "      <td>e7b2fd1afe0ea1687d1766b2b4f2d197</td>\n",
       "      <td>5</td>\n",
       "      <td>NaN</td>\n",
       "      <td>NaN</td>\n",
       "      <td>2018-06-06 00:00:00</td>\n",
       "      <td>2018-06-11 16:42:56</td>\n",
       "    </tr>\n",
       "    <tr>\n",
       "      <th>150</th>\n",
       "      <td>aaab917291fea34988b9a0cb60e0716f</td>\n",
       "      <td>560f7585b57fcc9579460fa21c0d8ec1</td>\n",
       "      <td>1</td>\n",
       "      <td>NaN</td>\n",
       "      <td>Comprei o relógio, unissex e enviaram um relóg...</td>\n",
       "      <td>2018-04-05 00:00:00</td>\n",
       "      <td>2018-04-06 11:06:19</td>\n",
       "    </tr>\n",
       "    <tr>\n",
       "      <th>12550</th>\n",
       "      <td>825888c7fcdb2e00ba786edf5557ae33</td>\n",
       "      <td>8f7c88fa60b5aa1c1c2cff8a775bc4c0</td>\n",
       "      <td>5</td>\n",
       "      <td>NaN</td>\n",
       "      <td>NaN</td>\n",
       "      <td>2018-05-12 00:00:00</td>\n",
       "      <td>2018-05-14 18:26:08</td>\n",
       "    </tr>\n",
       "    <tr>\n",
       "      <th>67620</th>\n",
       "      <td>d37a6a5246b091e90aa13dd58fe66c86</td>\n",
       "      <td>d4dbf57d426f53d8324bdd93b74642ea</td>\n",
       "      <td>5</td>\n",
       "      <td>NaN</td>\n",
       "      <td>mota 10 de boa qualidade</td>\n",
       "      <td>2018-02-10 00:00:00</td>\n",
       "      <td>2018-02-11 03:01:52</td>\n",
       "    </tr>\n",
       "    <tr>\n",
       "      <th>94037</th>\n",
       "      <td>85067d8373ca2d65f96d9404f09175dc</td>\n",
       "      <td>b0228af1eafc5eff8a23e1d9257f33fe</td>\n",
       "      <td>5</td>\n",
       "      <td>NaN</td>\n",
       "      <td>NaN</td>\n",
       "      <td>2018-02-22 00:00:00</td>\n",
       "      <td>2018-02-23 13:31:49</td>\n",
       "    </tr>\n",
       "  </tbody>\n",
       "</table>\n",
       "</div>"
      ],
      "text/plain": [
       "                              review_id                          order_id  \\\n",
       "63978  f597a9739b74e939b29745f4657f32f9  e7b2fd1afe0ea1687d1766b2b4f2d197   \n",
       "150    aaab917291fea34988b9a0cb60e0716f  560f7585b57fcc9579460fa21c0d8ec1   \n",
       "12550  825888c7fcdb2e00ba786edf5557ae33  8f7c88fa60b5aa1c1c2cff8a775bc4c0   \n",
       "67620  d37a6a5246b091e90aa13dd58fe66c86  d4dbf57d426f53d8324bdd93b74642ea   \n",
       "94037  85067d8373ca2d65f96d9404f09175dc  b0228af1eafc5eff8a23e1d9257f33fe   \n",
       "\n",
       "       review_score review_comment_title  \\\n",
       "63978             5                  NaN   \n",
       "150               1                  NaN   \n",
       "12550             5                  NaN   \n",
       "67620             5                  NaN   \n",
       "94037             5                  NaN   \n",
       "\n",
       "                                  review_comment_message review_creation_date  \\\n",
       "63978                                                NaN  2018-06-06 00:00:00   \n",
       "150    Comprei o relógio, unissex e enviaram um relóg...  2018-04-05 00:00:00   \n",
       "12550                                                NaN  2018-05-12 00:00:00   \n",
       "67620                           mota 10 de boa qualidade  2018-02-10 00:00:00   \n",
       "94037                                                NaN  2018-02-22 00:00:00   \n",
       "\n",
       "      review_answer_timestamp  \n",
       "63978     2018-06-11 16:42:56  \n",
       "150       2018-04-06 11:06:19  \n",
       "12550     2018-05-14 18:26:08  \n",
       "67620     2018-02-11 03:01:52  \n",
       "94037     2018-02-23 13:31:49  "
      ]
     },
     "execution_count": 95,
     "metadata": {},
     "output_type": "execute_result"
    }
   ],
   "source": [
    "# échantillon données\n",
    "reviews.sample(5)"
   ]
  },
  {
   "cell_type": "code",
   "execution_count": 96,
   "id": "e800f8f2-2f27-4c7b-a78d-aa20493fdaf8",
   "metadata": {},
   "outputs": [
    {
     "data": {
      "text/plain": [
       "(99224, 7)"
      ]
     },
     "execution_count": 96,
     "metadata": {},
     "output_type": "execute_result"
    }
   ],
   "source": [
    "# nombre ligne et colonnes\n",
    "reviews.shape"
   ]
  },
  {
   "cell_type": "code",
   "execution_count": 97,
   "id": "94b0c30e-c3a9-4f25-9cd8-74bfef54a926",
   "metadata": {},
   "outputs": [
    {
     "data": {
      "text/plain": [
       "review_id                      0\n",
       "order_id                       0\n",
       "review_score                   0\n",
       "review_comment_title       87656\n",
       "review_comment_message     58247\n",
       "review_creation_date           0\n",
       "review_answer_timestamp        0\n",
       "dtype: int64"
      ]
     },
     "execution_count": 97,
     "metadata": {},
     "output_type": "execute_result"
    }
   ],
   "source": [
    "# valeurs manquantes\n",
    "reviews.isna().sum()"
   ]
  },
  {
   "cell_type": "markdown",
   "id": "8274158d-071c-4b52-99c9-29217e7d04eb",
   "metadata": {},
   "source": [
    "Etant donné que pour la plupart des commandes il n'y a pas des commentaires, je vais supprimer les variables liées aux commentaires."
   ]
  },
  {
   "cell_type": "code",
   "execution_count": 98,
   "id": "73611656-5271-4ede-819c-56336807efce",
   "metadata": {},
   "outputs": [],
   "source": [
    "# suppression variables avec trop de valeurs manquantes\n",
    "reviews.drop(['review_comment_title', 'review_comment_message'],\n",
    "             axis=1, inplace=True)"
   ]
  },
  {
   "cell_type": "code",
   "execution_count": 99,
   "id": "334e94fd-0e0d-40d3-9715-8850638f1601",
   "metadata": {},
   "outputs": [
    {
     "data": {
      "text/plain": [
       "review_id                  object\n",
       "order_id                   object\n",
       "review_score                int64\n",
       "review_creation_date       object\n",
       "review_answer_timestamp    object\n",
       "dtype: object"
      ]
     },
     "execution_count": 99,
     "metadata": {},
     "output_type": "execute_result"
    }
   ],
   "source": [
    "# type des données\n",
    "reviews.dtypes"
   ]
  },
  {
   "cell_type": "code",
   "execution_count": 100,
   "id": "30033f44-8ed0-4911-9dc1-1f25698cbd38",
   "metadata": {},
   "outputs": [
    {
     "data": {
      "text/plain": [
       "814"
      ]
     },
     "execution_count": 100,
     "metadata": {},
     "output_type": "execute_result"
    }
   ],
   "source": [
    "# doublons review_id\n",
    "reviews['review_id'].duplicated().sum()"
   ]
  },
  {
   "cell_type": "code",
   "execution_count": 101,
   "id": "2e648445-b694-4fde-944b-50d5ad938e36",
   "metadata": {},
   "outputs": [
    {
     "data": {
      "text/plain": [
       "551"
      ]
     },
     "execution_count": 101,
     "metadata": {},
     "output_type": "execute_result"
    }
   ],
   "source": [
    "# doublons order_id\n",
    "reviews['order_id'].duplicated().sum()"
   ]
  },
  {
   "cell_type": "markdown",
   "id": "b6735b5e-f2db-4d95-bd88-d6e45dad5c9d",
   "metadata": {},
   "source": [
    "Certaines reviews correspondent à plusieurs commandes et pour certaines commandes il y a plusieurs reviews. Je vais examiner plus en détail les doublons."
   ]
  },
  {
   "cell_type": "code",
   "execution_count": 102,
   "id": "0e75b645-5293-449a-b25c-719d3c75185b",
   "metadata": {},
   "outputs": [
    {
     "data": {
      "text/html": [
       "<div>\n",
       "<style scoped>\n",
       "    .dataframe tbody tr th:only-of-type {\n",
       "        vertical-align: middle;\n",
       "    }\n",
       "\n",
       "    .dataframe tbody tr th {\n",
       "        vertical-align: top;\n",
       "    }\n",
       "\n",
       "    .dataframe thead th {\n",
       "        text-align: right;\n",
       "    }\n",
       "</style>\n",
       "<table border=\"1\" class=\"dataframe\">\n",
       "  <thead>\n",
       "    <tr style=\"text-align: right;\">\n",
       "      <th></th>\n",
       "      <th>review_id</th>\n",
       "      <th>order_id</th>\n",
       "      <th>review_score</th>\n",
       "      <th>review_creation_date</th>\n",
       "      <th>review_answer_timestamp</th>\n",
       "    </tr>\n",
       "  </thead>\n",
       "  <tbody>\n",
       "    <tr>\n",
       "      <th>56792</th>\n",
       "      <td>cb7fd7328a7dee3004454e7d05e25b8c</td>\n",
       "      <td>b1e4c784d72d000802c113dc0d4420d0</td>\n",
       "      <td>1</td>\n",
       "      <td>2017-09-29 00:00:00</td>\n",
       "      <td>2017-10-03 18:59:40</td>\n",
       "    </tr>\n",
       "    <tr>\n",
       "      <th>95860</th>\n",
       "      <td>02aa7f5f75e964e3c7efa59a1f515281</td>\n",
       "      <td>db92613c074f00e53066388d48ad7512</td>\n",
       "      <td>3</td>\n",
       "      <td>2017-07-27 00:00:00</td>\n",
       "      <td>2017-07-29 15:09:50</td>\n",
       "    </tr>\n",
       "    <tr>\n",
       "      <th>88837</th>\n",
       "      <td>37680aaaa05c4feca6dc54850acc4bda</td>\n",
       "      <td>7dfff541b2a848ecb18ceb83d02bfa6a</td>\n",
       "      <td>5</td>\n",
       "      <td>2018-03-29 00:00:00</td>\n",
       "      <td>2018-03-30 22:28:38</td>\n",
       "    </tr>\n",
       "    <tr>\n",
       "      <th>75144</th>\n",
       "      <td>98b82041d04be209faccad4c453ce72d</td>\n",
       "      <td>1e077c24035d25ddca3736f56d3e19a8</td>\n",
       "      <td>5</td>\n",
       "      <td>2018-03-10 00:00:00</td>\n",
       "      <td>2018-03-11 01:57:39</td>\n",
       "    </tr>\n",
       "    <tr>\n",
       "      <th>59567</th>\n",
       "      <td>62e707cd3907d8766accf92b716e9edb</td>\n",
       "      <td>246b14cc444e8a7df0afd80495dfa052</td>\n",
       "      <td>4</td>\n",
       "      <td>2018-07-07 00:00:00</td>\n",
       "      <td>2018-07-09 22:58:50</td>\n",
       "    </tr>\n",
       "    <tr>\n",
       "      <th>93075</th>\n",
       "      <td>bdc75c2855c909171095e470910d0421</td>\n",
       "      <td>c4ca4450ac2974ba5eeb4832b7ec724a</td>\n",
       "      <td>5</td>\n",
       "      <td>2017-06-07 00:00:00</td>\n",
       "      <td>2017-06-07 10:17:30</td>\n",
       "    </tr>\n",
       "    <tr>\n",
       "      <th>51450</th>\n",
       "      <td>5cf2a701def88cbc0317b30c867cd457</td>\n",
       "      <td>fdfc39ba2a42ef960515eb82d4dd84e2</td>\n",
       "      <td>3</td>\n",
       "      <td>2017-09-22 00:00:00</td>\n",
       "      <td>2017-10-03 23:52:30</td>\n",
       "    </tr>\n",
       "    <tr>\n",
       "      <th>63410</th>\n",
       "      <td>ac8f8a5e7ad241234b96b3ece57f3c2a</td>\n",
       "      <td>cfb88f9053ce059b4de5d506ca4a2c5f</td>\n",
       "      <td>3</td>\n",
       "      <td>2017-12-06 00:00:00</td>\n",
       "      <td>2017-12-07 11:20:36</td>\n",
       "    </tr>\n",
       "    <tr>\n",
       "      <th>72957</th>\n",
       "      <td>37143879ed397a8fcb2ed49b3ffa1e44</td>\n",
       "      <td>4fe26df981b8f298e0e6bf81c1d5ead0</td>\n",
       "      <td>5</td>\n",
       "      <td>2018-06-08 00:00:00</td>\n",
       "      <td>2018-06-10 23:29:35</td>\n",
       "    </tr>\n",
       "    <tr>\n",
       "      <th>60639</th>\n",
       "      <td>1f997992c19d44fe5049ec91f13ccd34</td>\n",
       "      <td>78ac0881f0e98a1afd25f066d5451d70</td>\n",
       "      <td>3</td>\n",
       "      <td>2018-02-15 00:00:00</td>\n",
       "      <td>2018-02-18 09:19:53</td>\n",
       "    </tr>\n",
       "  </tbody>\n",
       "</table>\n",
       "</div>"
      ],
      "text/plain": [
       "                              review_id                          order_id  \\\n",
       "56792  cb7fd7328a7dee3004454e7d05e25b8c  b1e4c784d72d000802c113dc0d4420d0   \n",
       "95860  02aa7f5f75e964e3c7efa59a1f515281  db92613c074f00e53066388d48ad7512   \n",
       "88837  37680aaaa05c4feca6dc54850acc4bda  7dfff541b2a848ecb18ceb83d02bfa6a   \n",
       "75144  98b82041d04be209faccad4c453ce72d  1e077c24035d25ddca3736f56d3e19a8   \n",
       "59567  62e707cd3907d8766accf92b716e9edb  246b14cc444e8a7df0afd80495dfa052   \n",
       "93075  bdc75c2855c909171095e470910d0421  c4ca4450ac2974ba5eeb4832b7ec724a   \n",
       "51450  5cf2a701def88cbc0317b30c867cd457  fdfc39ba2a42ef960515eb82d4dd84e2   \n",
       "63410  ac8f8a5e7ad241234b96b3ece57f3c2a  cfb88f9053ce059b4de5d506ca4a2c5f   \n",
       "72957  37143879ed397a8fcb2ed49b3ffa1e44  4fe26df981b8f298e0e6bf81c1d5ead0   \n",
       "60639  1f997992c19d44fe5049ec91f13ccd34  78ac0881f0e98a1afd25f066d5451d70   \n",
       "\n",
       "       review_score review_creation_date review_answer_timestamp  \n",
       "56792             1  2017-09-29 00:00:00     2017-10-03 18:59:40  \n",
       "95860             3  2017-07-27 00:00:00     2017-07-29 15:09:50  \n",
       "88837             5  2018-03-29 00:00:00     2018-03-30 22:28:38  \n",
       "75144             5  2018-03-10 00:00:00     2018-03-11 01:57:39  \n",
       "59567             4  2018-07-07 00:00:00     2018-07-09 22:58:50  \n",
       "93075             5  2017-06-07 00:00:00     2017-06-07 10:17:30  \n",
       "51450             3  2017-09-22 00:00:00     2017-10-03 23:52:30  \n",
       "63410             3  2017-12-06 00:00:00     2017-12-07 11:20:36  \n",
       "72957             5  2018-06-08 00:00:00     2018-06-10 23:29:35  \n",
       "60639             3  2018-02-15 00:00:00     2018-02-18 09:19:53  "
      ]
     },
     "execution_count": 102,
     "metadata": {},
     "output_type": "execute_result"
    }
   ],
   "source": [
    "# échantillon doublons reviews\n",
    "reviews[reviews['review_id'].duplicated()].sample(10)"
   ]
  },
  {
   "cell_type": "code",
   "execution_count": 103,
   "id": "2db4e8c9-4e9e-4f47-bb2a-e3c2a2db1dbc",
   "metadata": {},
   "outputs": [
    {
     "data": {
      "text/html": [
       "<div>\n",
       "<style scoped>\n",
       "    .dataframe tbody tr th:only-of-type {\n",
       "        vertical-align: middle;\n",
       "    }\n",
       "\n",
       "    .dataframe tbody tr th {\n",
       "        vertical-align: top;\n",
       "    }\n",
       "\n",
       "    .dataframe thead th {\n",
       "        text-align: right;\n",
       "    }\n",
       "</style>\n",
       "<table border=\"1\" class=\"dataframe\">\n",
       "  <thead>\n",
       "    <tr style=\"text-align: right;\">\n",
       "      <th></th>\n",
       "      <th>review_id</th>\n",
       "      <th>order_id</th>\n",
       "      <th>review_score</th>\n",
       "      <th>review_creation_date</th>\n",
       "      <th>review_answer_timestamp</th>\n",
       "    </tr>\n",
       "  </thead>\n",
       "  <tbody>\n",
       "    <tr>\n",
       "      <th>61033</th>\n",
       "      <td>dfb3db02188d809d5cd199496b6da87e</td>\n",
       "      <td>69a2e27fe34392681b7b5ab9c5aea437</td>\n",
       "      <td>5</td>\n",
       "      <td>2018-02-17 00:00:00</td>\n",
       "      <td>2018-02-19 19:29:19</td>\n",
       "    </tr>\n",
       "    <tr>\n",
       "      <th>98989</th>\n",
       "      <td>dfb3db02188d809d5cd199496b6da87e</td>\n",
       "      <td>c0db7d31ace61fc360a3eaa34dd3457c</td>\n",
       "      <td>5</td>\n",
       "      <td>2018-02-17 00:00:00</td>\n",
       "      <td>2018-02-19 19:29:19</td>\n",
       "    </tr>\n",
       "  </tbody>\n",
       "</table>\n",
       "</div>"
      ],
      "text/plain": [
       "                              review_id                          order_id  \\\n",
       "61033  dfb3db02188d809d5cd199496b6da87e  69a2e27fe34392681b7b5ab9c5aea437   \n",
       "98989  dfb3db02188d809d5cd199496b6da87e  c0db7d31ace61fc360a3eaa34dd3457c   \n",
       "\n",
       "       review_score review_creation_date review_answer_timestamp  \n",
       "61033             5  2018-02-17 00:00:00     2018-02-19 19:29:19  \n",
       "98989             5  2018-02-17 00:00:00     2018-02-19 19:29:19  "
      ]
     },
     "execution_count": 103,
     "metadata": {},
     "output_type": "execute_result"
    }
   ],
   "source": [
    "# example de doublon review_id\n",
    "reviews[reviews['review_id'] == 'dfb3db02188d809d5cd199496b6da87e']"
   ]
  },
  {
   "cell_type": "markdown",
   "id": "7eadad6f-4b0b-458f-b8d7-aff4ca2e909c",
   "metadata": {},
   "source": [
    "En regardant des exemples des reviews dupliquées on peut se rendre compte que s'il y a le même review_id pour des commandes différentes, le reviews dupliquées ont été créés exactement au même moment. Il s'agit probablement d'une erreur du système informatique, qui assigne le même review_id à deux commandes différentes si la review a été soumise par les clients exactement au même moment."
   ]
  },
  {
   "cell_type": "code",
   "execution_count": 104,
   "id": "d6a9c7a4-6a94-4269-9958-cb5d633c2ab4",
   "metadata": {},
   "outputs": [
    {
     "data": {
      "text/html": [
       "<div>\n",
       "<style scoped>\n",
       "    .dataframe tbody tr th:only-of-type {\n",
       "        vertical-align: middle;\n",
       "    }\n",
       "\n",
       "    .dataframe tbody tr th {\n",
       "        vertical-align: top;\n",
       "    }\n",
       "\n",
       "    .dataframe thead th {\n",
       "        text-align: right;\n",
       "    }\n",
       "</style>\n",
       "<table border=\"1\" class=\"dataframe\">\n",
       "  <thead>\n",
       "    <tr style=\"text-align: right;\">\n",
       "      <th></th>\n",
       "      <th>review_id</th>\n",
       "      <th>order_id</th>\n",
       "      <th>review_score</th>\n",
       "      <th>review_creation_date</th>\n",
       "      <th>review_answer_timestamp</th>\n",
       "    </tr>\n",
       "  </thead>\n",
       "  <tbody>\n",
       "    <tr>\n",
       "      <th>86641</th>\n",
       "      <td>24ad2fc85ec000ba4fbfd9841d9a1972</td>\n",
       "      <td>fd61441ba2a7b57e6342862e779b10b0</td>\n",
       "      <td>4</td>\n",
       "      <td>2017-10-14 00:00:00</td>\n",
       "      <td>2017-10-16 21:23:28</td>\n",
       "    </tr>\n",
       "    <tr>\n",
       "      <th>83193</th>\n",
       "      <td>ab3ad419df33ed6e049800b7ccaa4b0d</td>\n",
       "      <td>6596197a74edd396e3d34c53eff4ad6f</td>\n",
       "      <td>5</td>\n",
       "      <td>2018-02-27 00:00:00</td>\n",
       "      <td>2018-03-02 00:14:40</td>\n",
       "    </tr>\n",
       "    <tr>\n",
       "      <th>88883</th>\n",
       "      <td>6902c7530ba05c8f2927697108f42732</td>\n",
       "      <td>075a544c5f4ed4bb75f82b160465fe76</td>\n",
       "      <td>1</td>\n",
       "      <td>2018-03-17 00:00:00</td>\n",
       "      <td>2018-03-17 19:39:26</td>\n",
       "    </tr>\n",
       "    <tr>\n",
       "      <th>98184</th>\n",
       "      <td>c487103af542dc831f15ada65932a02b</td>\n",
       "      <td>2e3258f81be08e497abb202cef0c0303</td>\n",
       "      <td>4</td>\n",
       "      <td>2018-03-10 00:00:00</td>\n",
       "      <td>2018-03-16 00:31:47</td>\n",
       "    </tr>\n",
       "    <tr>\n",
       "      <th>76801</th>\n",
       "      <td>88ce13e429ce3faffb0225b64b4e5336</td>\n",
       "      <td>ed81dbeb0cedad4d3d1f1551b06d6ca3</td>\n",
       "      <td>2</td>\n",
       "      <td>2018-03-23 00:00:00</td>\n",
       "      <td>2018-03-24 00:20:45</td>\n",
       "    </tr>\n",
       "    <tr>\n",
       "      <th>58385</th>\n",
       "      <td>28642ce6250b94cc72bc85960aec6c62</td>\n",
       "      <td>bc42a955f289870d5789e6e437206300</td>\n",
       "      <td>5</td>\n",
       "      <td>2018-03-25 00:00:00</td>\n",
       "      <td>2018-03-25 21:03:02</td>\n",
       "    </tr>\n",
       "    <tr>\n",
       "      <th>44851</th>\n",
       "      <td>7c69fcbd86399d432e0241dff0224dd5</td>\n",
       "      <td>a979479c1af57af858b45dfd2d67ee04</td>\n",
       "      <td>4</td>\n",
       "      <td>2017-05-18 00:00:00</td>\n",
       "      <td>2017-05-19 11:41:51</td>\n",
       "    </tr>\n",
       "    <tr>\n",
       "      <th>95804</th>\n",
       "      <td>c210b6e904e3c7c34ff91fca84356431</td>\n",
       "      <td>94f522c26f2681ad053b999e34e7b317</td>\n",
       "      <td>3</td>\n",
       "      <td>2018-03-21 00:00:00</td>\n",
       "      <td>2018-03-21 21:41:31</td>\n",
       "    </tr>\n",
       "    <tr>\n",
       "      <th>70313</th>\n",
       "      <td>fde2e6abaf5bb64f7407a44741c24dec</td>\n",
       "      <td>69a2e27fe34392681b7b5ab9c5aea437</td>\n",
       "      <td>5</td>\n",
       "      <td>2018-02-17 00:00:00</td>\n",
       "      <td>2018-02-19 19:28:59</td>\n",
       "    </tr>\n",
       "    <tr>\n",
       "      <th>42108</th>\n",
       "      <td>bebd0c23d7791cb07b4eb3e459e5920b</td>\n",
       "      <td>0ee24d5ae95ccf0552a2ef03dfadb924</td>\n",
       "      <td>4</td>\n",
       "      <td>2017-09-07 00:00:00</td>\n",
       "      <td>2017-09-08 01:17:50</td>\n",
       "    </tr>\n",
       "  </tbody>\n",
       "</table>\n",
       "</div>"
      ],
      "text/plain": [
       "                              review_id                          order_id  \\\n",
       "86641  24ad2fc85ec000ba4fbfd9841d9a1972  fd61441ba2a7b57e6342862e779b10b0   \n",
       "83193  ab3ad419df33ed6e049800b7ccaa4b0d  6596197a74edd396e3d34c53eff4ad6f   \n",
       "88883  6902c7530ba05c8f2927697108f42732  075a544c5f4ed4bb75f82b160465fe76   \n",
       "98184  c487103af542dc831f15ada65932a02b  2e3258f81be08e497abb202cef0c0303   \n",
       "76801  88ce13e429ce3faffb0225b64b4e5336  ed81dbeb0cedad4d3d1f1551b06d6ca3   \n",
       "58385  28642ce6250b94cc72bc85960aec6c62  bc42a955f289870d5789e6e437206300   \n",
       "44851  7c69fcbd86399d432e0241dff0224dd5  a979479c1af57af858b45dfd2d67ee04   \n",
       "95804  c210b6e904e3c7c34ff91fca84356431  94f522c26f2681ad053b999e34e7b317   \n",
       "70313  fde2e6abaf5bb64f7407a44741c24dec  69a2e27fe34392681b7b5ab9c5aea437   \n",
       "42108  bebd0c23d7791cb07b4eb3e459e5920b  0ee24d5ae95ccf0552a2ef03dfadb924   \n",
       "\n",
       "       review_score review_creation_date review_answer_timestamp  \n",
       "86641             4  2017-10-14 00:00:00     2017-10-16 21:23:28  \n",
       "83193             5  2018-02-27 00:00:00     2018-03-02 00:14:40  \n",
       "88883             1  2018-03-17 00:00:00     2018-03-17 19:39:26  \n",
       "98184             4  2018-03-10 00:00:00     2018-03-16 00:31:47  \n",
       "76801             2  2018-03-23 00:00:00     2018-03-24 00:20:45  \n",
       "58385             5  2018-03-25 00:00:00     2018-03-25 21:03:02  \n",
       "44851             4  2017-05-18 00:00:00     2017-05-19 11:41:51  \n",
       "95804             3  2018-03-21 00:00:00     2018-03-21 21:41:31  \n",
       "70313             5  2018-02-17 00:00:00     2018-02-19 19:28:59  \n",
       "42108             4  2017-09-07 00:00:00     2017-09-08 01:17:50  "
      ]
     },
     "execution_count": 104,
     "metadata": {},
     "output_type": "execute_result"
    }
   ],
   "source": [
    "# échantillons doublons order_id\n",
    "reviews[reviews['order_id'].duplicated()].sample(10)"
   ]
  },
  {
   "cell_type": "code",
   "execution_count": 105,
   "id": "a91a72ba-ffde-4d94-a65c-26f852c6fc15",
   "metadata": {},
   "outputs": [
    {
     "data": {
      "text/html": [
       "<div>\n",
       "<style scoped>\n",
       "    .dataframe tbody tr th:only-of-type {\n",
       "        vertical-align: middle;\n",
       "    }\n",
       "\n",
       "    .dataframe tbody tr th {\n",
       "        vertical-align: top;\n",
       "    }\n",
       "\n",
       "    .dataframe thead th {\n",
       "        text-align: right;\n",
       "    }\n",
       "</style>\n",
       "<table border=\"1\" class=\"dataframe\">\n",
       "  <thead>\n",
       "    <tr style=\"text-align: right;\">\n",
       "      <th></th>\n",
       "      <th>review_id</th>\n",
       "      <th>order_id</th>\n",
       "      <th>review_score</th>\n",
       "      <th>review_creation_date</th>\n",
       "      <th>review_answer_timestamp</th>\n",
       "    </tr>\n",
       "  </thead>\n",
       "  <tbody>\n",
       "    <tr>\n",
       "      <th>23400</th>\n",
       "      <td>443fb044ca5f287b04747fb17799dbc1</td>\n",
       "      <td>66355bca3dfaa134e807687ade5d3330</td>\n",
       "      <td>4</td>\n",
       "      <td>2017-09-01 00:00:00</td>\n",
       "      <td>2017-09-04 14:03:42</td>\n",
       "    </tr>\n",
       "    <tr>\n",
       "      <th>88055</th>\n",
       "      <td>47f9abdf9bff2e35b757a67e46569ddb</td>\n",
       "      <td>66355bca3dfaa134e807687ade5d3330</td>\n",
       "      <td>1</td>\n",
       "      <td>2017-08-24 00:00:00</td>\n",
       "      <td>2017-08-25 13:24:05</td>\n",
       "    </tr>\n",
       "  </tbody>\n",
       "</table>\n",
       "</div>"
      ],
      "text/plain": [
       "                              review_id                          order_id  \\\n",
       "23400  443fb044ca5f287b04747fb17799dbc1  66355bca3dfaa134e807687ade5d3330   \n",
       "88055  47f9abdf9bff2e35b757a67e46569ddb  66355bca3dfaa134e807687ade5d3330   \n",
       "\n",
       "       review_score review_creation_date review_answer_timestamp  \n",
       "23400             4  2017-09-01 00:00:00     2017-09-04 14:03:42  \n",
       "88055             1  2017-08-24 00:00:00     2017-08-25 13:24:05  "
      ]
     },
     "execution_count": 105,
     "metadata": {},
     "output_type": "execute_result"
    }
   ],
   "source": [
    "# example doublon order_id\n",
    "reviews[reviews['order_id'] == '66355bca3dfaa134e807687ade5d3330']"
   ]
  },
  {
   "cell_type": "code",
   "execution_count": 106,
   "id": "63f3d368-4219-46b8-9af0-3cfbbd657c7e",
   "metadata": {},
   "outputs": [
    {
     "data": {
      "text/html": [
       "<div>\n",
       "<style scoped>\n",
       "    .dataframe tbody tr th:only-of-type {\n",
       "        vertical-align: middle;\n",
       "    }\n",
       "\n",
       "    .dataframe tbody tr th {\n",
       "        vertical-align: top;\n",
       "    }\n",
       "\n",
       "    .dataframe thead th {\n",
       "        text-align: right;\n",
       "    }\n",
       "</style>\n",
       "<table border=\"1\" class=\"dataframe\">\n",
       "  <thead>\n",
       "    <tr style=\"text-align: right;\">\n",
       "      <th></th>\n",
       "      <th>review_id</th>\n",
       "      <th>order_id</th>\n",
       "      <th>review_score</th>\n",
       "      <th>review_creation_date</th>\n",
       "      <th>review_answer_timestamp</th>\n",
       "    </tr>\n",
       "  </thead>\n",
       "  <tbody>\n",
       "    <tr>\n",
       "      <th>25838</th>\n",
       "      <td>ac6938290c10c36fd64ed2f21b944399</td>\n",
       "      <td>826221f0c1a1915308dccb83b841eb2f</td>\n",
       "      <td>5</td>\n",
       "      <td>2017-07-25 00:00:00</td>\n",
       "      <td>2017-07-31 12:47:32</td>\n",
       "    </tr>\n",
       "    <tr>\n",
       "      <th>67387</th>\n",
       "      <td>f3544b47fdfb4bdd2092131d3c403ae9</td>\n",
       "      <td>826221f0c1a1915308dccb83b841eb2f</td>\n",
       "      <td>5</td>\n",
       "      <td>2017-07-25 00:00:00</td>\n",
       "      <td>2017-07-31 12:47:42</td>\n",
       "    </tr>\n",
       "  </tbody>\n",
       "</table>\n",
       "</div>"
      ],
      "text/plain": [
       "                              review_id                          order_id  \\\n",
       "25838  ac6938290c10c36fd64ed2f21b944399  826221f0c1a1915308dccb83b841eb2f   \n",
       "67387  f3544b47fdfb4bdd2092131d3c403ae9  826221f0c1a1915308dccb83b841eb2f   \n",
       "\n",
       "       review_score review_creation_date review_answer_timestamp  \n",
       "25838             5  2017-07-25 00:00:00     2017-07-31 12:47:32  \n",
       "67387             5  2017-07-25 00:00:00     2017-07-31 12:47:42  "
      ]
     },
     "execution_count": 106,
     "metadata": {},
     "output_type": "execute_result"
    }
   ],
   "source": [
    "# example doublon order_id\n",
    "reviews[reviews['order_id'] == '826221f0c1a1915308dccb83b841eb2f']"
   ]
  },
  {
   "cell_type": "markdown",
   "id": "27ec5e18-62c4-46d6-87b1-f727c8fc7d4f",
   "metadata": {},
   "source": [
    "En regardant plusieurs exemples de doublons `order_id` on peut voir que:\n",
    "- soit il s'agit des commandes comprenant plusieurs produits et dans ce cas il y a une review par produit\n",
    "- soit il s'agit de la même review soumise deux fois \n"
   ]
  },
  {
   "cell_type": "markdown",
   "id": "f48a4d2e-ffdb-48ec-b041-34cd68327ab8",
   "metadata": {},
   "source": [
    "Comme déjà fait pour les commandes contenant plusieurs produits, afin de simplifier le dataframe sans perdre trop d'information, je vais agréger les commandes sur `order_id` et utiliser la moyenne comme fonction d'agrégation pour avoir la moyenne des scores.  "
   ]
  },
  {
   "cell_type": "code",
   "execution_count": 107,
   "id": "3a3506e8-5d29-440f-8011-678d0e689cc7",
   "metadata": {},
   "outputs": [],
   "source": [
    "# agrégation\n",
    "reviews = reviews.groupby('order_id').agg('mean').round(0)"
   ]
  },
  {
   "cell_type": "markdown",
   "id": "3e0f98a3-0a44-47d4-9691-ecc5a266c98d",
   "metadata": {},
   "source": [
    "Enfin, je vais joindre le dataframe `reviews` avec le dataframe `customers` en utilisant `order_id` comme clé."
   ]
  },
  {
   "cell_type": "code",
   "execution_count": 108,
   "id": "9618c0dd-01ea-4ea7-908b-9055de8f70c9",
   "metadata": {},
   "outputs": [],
   "source": [
    "# jointure\n",
    "customers = pd.merge(customers,\n",
    "                     reviews,\n",
    "                     how='left',\n",
    "                     left_on='order_id',\n",
    "                     right_index=True)"
   ]
  },
  {
   "cell_type": "code",
   "execution_count": 109,
   "id": "66845cde-c8a3-437b-a1f3-b47bb48059f9",
   "metadata": {},
   "outputs": [
    {
     "data": {
      "text/plain": [
       "96478"
      ]
     },
     "execution_count": 109,
     "metadata": {},
     "output_type": "execute_result"
    }
   ],
   "source": [
    "# vérification nombre des lignes\n",
    "customers.shape[0]"
   ]
  },
  {
   "cell_type": "code",
   "execution_count": 110,
   "id": "70f60682-ee55-4d35-bd19-3f57e4e9aa72",
   "metadata": {},
   "outputs": [
    {
     "data": {
      "text/html": [
       "<div>\n",
       "<style scoped>\n",
       "    .dataframe tbody tr th:only-of-type {\n",
       "        vertical-align: middle;\n",
       "    }\n",
       "\n",
       "    .dataframe tbody tr th {\n",
       "        vertical-align: top;\n",
       "    }\n",
       "\n",
       "    .dataframe thead th {\n",
       "        text-align: right;\n",
       "    }\n",
       "</style>\n",
       "<table border=\"1\" class=\"dataframe\">\n",
       "  <thead>\n",
       "    <tr style=\"text-align: right;\">\n",
       "      <th></th>\n",
       "      <th>customer_id</th>\n",
       "      <th>customer_unique_id</th>\n",
       "      <th>customer_zip_code_prefix</th>\n",
       "      <th>geolocation_lat</th>\n",
       "      <th>geolocation_lng</th>\n",
       "      <th>order_id</th>\n",
       "      <th>order_purchase_timestamp</th>\n",
       "      <th>real_delivery_time</th>\n",
       "      <th>estimated_delivery_time</th>\n",
       "      <th>delay</th>\n",
       "      <th>price</th>\n",
       "      <th>freight_value</th>\n",
       "      <th>seller_id</th>\n",
       "      <th>product_id</th>\n",
       "      <th>freight/price</th>\n",
       "      <th>payment_value</th>\n",
       "      <th>review_score</th>\n",
       "    </tr>\n",
       "  </thead>\n",
       "  <tbody>\n",
       "    <tr>\n",
       "      <th>0</th>\n",
       "      <td>06b8999e2fba1a1fbc88172c00ba8bc7</td>\n",
       "      <td>861eff4711a542e4b93843c6dd7febb0</td>\n",
       "      <td>14409</td>\n",
       "      <td>-20.498489</td>\n",
       "      <td>-47.396929</td>\n",
       "      <td>00e7ee1b050b8499577073aeb2a297a1</td>\n",
       "      <td>2017-05-16 15:05:35</td>\n",
       "      <td>8.0</td>\n",
       "      <td>19.0</td>\n",
       "      <td>-11.0</td>\n",
       "      <td>124.99</td>\n",
       "      <td>21.88</td>\n",
       "      <td>7c67e1448b00f6e969d365cea6b010ab</td>\n",
       "      <td>a9516a079e37a9c9c36b9b78b10169e8</td>\n",
       "      <td>0.175054</td>\n",
       "      <td>146.87</td>\n",
       "      <td>4.0</td>\n",
       "    </tr>\n",
       "    <tr>\n",
       "      <th>1</th>\n",
       "      <td>18955e83d337fd6b2def6b18a428ac77</td>\n",
       "      <td>290c77bc529b7ac935b93aa66c333dc3</td>\n",
       "      <td>9790</td>\n",
       "      <td>-23.727992</td>\n",
       "      <td>-46.542848</td>\n",
       "      <td>29150127e6685892b6eab3eec79f59c7</td>\n",
       "      <td>2018-01-12 20:48:24</td>\n",
       "      <td>16.0</td>\n",
       "      <td>24.0</td>\n",
       "      <td>-8.0</td>\n",
       "      <td>289.00</td>\n",
       "      <td>46.48</td>\n",
       "      <td>b8bc237ba3788b23da09c0f1f3a3288c</td>\n",
       "      <td>4aa6014eceb682077f9dc4bffebc05b0</td>\n",
       "      <td>0.160830</td>\n",
       "      <td>335.48</td>\n",
       "      <td>5.0</td>\n",
       "    </tr>\n",
       "    <tr>\n",
       "      <th>2</th>\n",
       "      <td>4e7b3e00288586ebd08712fdd0374a03</td>\n",
       "      <td>060e732b5b29e8181a18229c7b0b2b5e</td>\n",
       "      <td>1151</td>\n",
       "      <td>-23.531642</td>\n",
       "      <td>-46.656289</td>\n",
       "      <td>b2059ed67ce144a36e2aa97d2c9e9ad2</td>\n",
       "      <td>2018-05-19 16:07:45</td>\n",
       "      <td>26.0</td>\n",
       "      <td>24.0</td>\n",
       "      <td>1.0</td>\n",
       "      <td>139.94</td>\n",
       "      <td>17.79</td>\n",
       "      <td>7c67e1448b00f6e969d365cea6b010ab</td>\n",
       "      <td>bd07b66896d6f1494f5b86251848ced7</td>\n",
       "      <td>0.127126</td>\n",
       "      <td>157.73</td>\n",
       "      <td>5.0</td>\n",
       "    </tr>\n",
       "    <tr>\n",
       "      <th>3</th>\n",
       "      <td>b2b6027bc5c5109e529d4dc6358b12c3</td>\n",
       "      <td>259dac757896d24d7702b9acbbff3f3c</td>\n",
       "      <td>8775</td>\n",
       "      <td>-23.499702</td>\n",
       "      <td>-46.185233</td>\n",
       "      <td>951670f92359f4fe4a63112aa7306eba</td>\n",
       "      <td>2018-03-13 16:06:38</td>\n",
       "      <td>14.0</td>\n",
       "      <td>27.0</td>\n",
       "      <td>-13.0</td>\n",
       "      <td>149.94</td>\n",
       "      <td>23.36</td>\n",
       "      <td>7c67e1448b00f6e969d365cea6b010ab</td>\n",
       "      <td>a5647c44af977b148e0a3a4751a09e2e</td>\n",
       "      <td>0.155796</td>\n",
       "      <td>173.30</td>\n",
       "      <td>5.0</td>\n",
       "    </tr>\n",
       "    <tr>\n",
       "      <th>4</th>\n",
       "      <td>4f2d8ab171c80ec8364f7c12e35b23ad</td>\n",
       "      <td>345ecd01c38d18a9036ed96c73b8d066</td>\n",
       "      <td>13056</td>\n",
       "      <td>-22.975100</td>\n",
       "      <td>-47.142925</td>\n",
       "      <td>6b7d50bd145f6fc7f33cebabd7e49d0f</td>\n",
       "      <td>2018-07-29 09:51:30</td>\n",
       "      <td>11.0</td>\n",
       "      <td>16.0</td>\n",
       "      <td>-6.0</td>\n",
       "      <td>230.00</td>\n",
       "      <td>22.25</td>\n",
       "      <td>4a3ca9315b744ce9f8e9374361493884</td>\n",
       "      <td>9391a573abe00141c56e38d84d7d5b3b</td>\n",
       "      <td>0.096739</td>\n",
       "      <td>252.25</td>\n",
       "      <td>5.0</td>\n",
       "    </tr>\n",
       "  </tbody>\n",
       "</table>\n",
       "</div>"
      ],
      "text/plain": [
       "                        customer_id                customer_unique_id  \\\n",
       "0  06b8999e2fba1a1fbc88172c00ba8bc7  861eff4711a542e4b93843c6dd7febb0   \n",
       "1  18955e83d337fd6b2def6b18a428ac77  290c77bc529b7ac935b93aa66c333dc3   \n",
       "2  4e7b3e00288586ebd08712fdd0374a03  060e732b5b29e8181a18229c7b0b2b5e   \n",
       "3  b2b6027bc5c5109e529d4dc6358b12c3  259dac757896d24d7702b9acbbff3f3c   \n",
       "4  4f2d8ab171c80ec8364f7c12e35b23ad  345ecd01c38d18a9036ed96c73b8d066   \n",
       "\n",
       "   customer_zip_code_prefix  geolocation_lat  geolocation_lng  \\\n",
       "0                     14409       -20.498489       -47.396929   \n",
       "1                      9790       -23.727992       -46.542848   \n",
       "2                      1151       -23.531642       -46.656289   \n",
       "3                      8775       -23.499702       -46.185233   \n",
       "4                     13056       -22.975100       -47.142925   \n",
       "\n",
       "                           order_id order_purchase_timestamp  \\\n",
       "0  00e7ee1b050b8499577073aeb2a297a1      2017-05-16 15:05:35   \n",
       "1  29150127e6685892b6eab3eec79f59c7      2018-01-12 20:48:24   \n",
       "2  b2059ed67ce144a36e2aa97d2c9e9ad2      2018-05-19 16:07:45   \n",
       "3  951670f92359f4fe4a63112aa7306eba      2018-03-13 16:06:38   \n",
       "4  6b7d50bd145f6fc7f33cebabd7e49d0f      2018-07-29 09:51:30   \n",
       "\n",
       "   real_delivery_time  estimated_delivery_time  delay   price  freight_value  \\\n",
       "0                 8.0                     19.0  -11.0  124.99          21.88   \n",
       "1                16.0                     24.0   -8.0  289.00          46.48   \n",
       "2                26.0                     24.0    1.0  139.94          17.79   \n",
       "3                14.0                     27.0  -13.0  149.94          23.36   \n",
       "4                11.0                     16.0   -6.0  230.00          22.25   \n",
       "\n",
       "                          seller_id                        product_id  \\\n",
       "0  7c67e1448b00f6e969d365cea6b010ab  a9516a079e37a9c9c36b9b78b10169e8   \n",
       "1  b8bc237ba3788b23da09c0f1f3a3288c  4aa6014eceb682077f9dc4bffebc05b0   \n",
       "2  7c67e1448b00f6e969d365cea6b010ab  bd07b66896d6f1494f5b86251848ced7   \n",
       "3  7c67e1448b00f6e969d365cea6b010ab  a5647c44af977b148e0a3a4751a09e2e   \n",
       "4  4a3ca9315b744ce9f8e9374361493884  9391a573abe00141c56e38d84d7d5b3b   \n",
       "\n",
       "   freight/price  payment_value  review_score  \n",
       "0       0.175054         146.87           4.0  \n",
       "1       0.160830         335.48           5.0  \n",
       "2       0.127126         157.73           5.0  \n",
       "3       0.155796         173.30           5.0  \n",
       "4       0.096739         252.25           5.0  "
      ]
     },
     "execution_count": 110,
     "metadata": {},
     "output_type": "execute_result"
    }
   ],
   "source": [
    "# vérification merge\n",
    "customers.head()"
   ]
  },
  {
   "cell_type": "code",
   "execution_count": 111,
   "id": "314d3dd8-1fbe-4a71-baae-9894ba519b25",
   "metadata": {},
   "outputs": [],
   "source": [
    "# sauvegarde données\n",
    "customers.to_csv('Data/Cleaning/customers.csv', index=False)"
   ]
  },
  {
   "cell_type": "markdown",
   "id": "1862d23b-2ade-4e0a-97e2-0461231ad3d3",
   "metadata": {},
   "source": [
    "## 1.7 Products"
   ]
  },
  {
   "cell_type": "markdown",
   "id": "b36becbd-4e9e-472b-a18b-ece8e1a0157d",
   "metadata": {},
   "source": [
    "Ce jeu de données contient des informations sur les produits vendus par Olist."
   ]
  },
  {
   "cell_type": "code",
   "execution_count": 112,
   "id": "9f5bfcba-36b5-40fa-b668-b579a2b2ea98",
   "metadata": {},
   "outputs": [],
   "source": [
    "# lecture données\n",
    "products = pd.read_csv('Data/Source/olist_products_dataset.csv')"
   ]
  },
  {
   "cell_type": "code",
   "execution_count": 113,
   "id": "c7e6278c-e25a-4c7a-9632-5149b372ea71",
   "metadata": {},
   "outputs": [
    {
     "data": {
      "text/html": [
       "<div>\n",
       "<style scoped>\n",
       "    .dataframe tbody tr th:only-of-type {\n",
       "        vertical-align: middle;\n",
       "    }\n",
       "\n",
       "    .dataframe tbody tr th {\n",
       "        vertical-align: top;\n",
       "    }\n",
       "\n",
       "    .dataframe thead th {\n",
       "        text-align: right;\n",
       "    }\n",
       "</style>\n",
       "<table border=\"1\" class=\"dataframe\">\n",
       "  <thead>\n",
       "    <tr style=\"text-align: right;\">\n",
       "      <th></th>\n",
       "      <th>product_id</th>\n",
       "      <th>product_category_name</th>\n",
       "      <th>product_name_lenght</th>\n",
       "      <th>product_description_lenght</th>\n",
       "      <th>product_photos_qty</th>\n",
       "      <th>product_weight_g</th>\n",
       "      <th>product_length_cm</th>\n",
       "      <th>product_height_cm</th>\n",
       "      <th>product_width_cm</th>\n",
       "    </tr>\n",
       "  </thead>\n",
       "  <tbody>\n",
       "    <tr>\n",
       "      <th>0</th>\n",
       "      <td>1e9e8ef04dbcff4541ed26657ea517e5</td>\n",
       "      <td>perfumaria</td>\n",
       "      <td>40.0</td>\n",
       "      <td>287.0</td>\n",
       "      <td>1.0</td>\n",
       "      <td>225.0</td>\n",
       "      <td>16.0</td>\n",
       "      <td>10.0</td>\n",
       "      <td>14.0</td>\n",
       "    </tr>\n",
       "    <tr>\n",
       "      <th>1</th>\n",
       "      <td>3aa071139cb16b67ca9e5dea641aaa2f</td>\n",
       "      <td>artes</td>\n",
       "      <td>44.0</td>\n",
       "      <td>276.0</td>\n",
       "      <td>1.0</td>\n",
       "      <td>1000.0</td>\n",
       "      <td>30.0</td>\n",
       "      <td>18.0</td>\n",
       "      <td>20.0</td>\n",
       "    </tr>\n",
       "    <tr>\n",
       "      <th>2</th>\n",
       "      <td>96bd76ec8810374ed1b65e291975717f</td>\n",
       "      <td>esporte_lazer</td>\n",
       "      <td>46.0</td>\n",
       "      <td>250.0</td>\n",
       "      <td>1.0</td>\n",
       "      <td>154.0</td>\n",
       "      <td>18.0</td>\n",
       "      <td>9.0</td>\n",
       "      <td>15.0</td>\n",
       "    </tr>\n",
       "    <tr>\n",
       "      <th>3</th>\n",
       "      <td>cef67bcfe19066a932b7673e239eb23d</td>\n",
       "      <td>bebes</td>\n",
       "      <td>27.0</td>\n",
       "      <td>261.0</td>\n",
       "      <td>1.0</td>\n",
       "      <td>371.0</td>\n",
       "      <td>26.0</td>\n",
       "      <td>4.0</td>\n",
       "      <td>26.0</td>\n",
       "    </tr>\n",
       "    <tr>\n",
       "      <th>4</th>\n",
       "      <td>9dc1a7de274444849c219cff195d0b71</td>\n",
       "      <td>utilidades_domesticas</td>\n",
       "      <td>37.0</td>\n",
       "      <td>402.0</td>\n",
       "      <td>4.0</td>\n",
       "      <td>625.0</td>\n",
       "      <td>20.0</td>\n",
       "      <td>17.0</td>\n",
       "      <td>13.0</td>\n",
       "    </tr>\n",
       "  </tbody>\n",
       "</table>\n",
       "</div>"
      ],
      "text/plain": [
       "                         product_id  product_category_name  \\\n",
       "0  1e9e8ef04dbcff4541ed26657ea517e5             perfumaria   \n",
       "1  3aa071139cb16b67ca9e5dea641aaa2f                  artes   \n",
       "2  96bd76ec8810374ed1b65e291975717f          esporte_lazer   \n",
       "3  cef67bcfe19066a932b7673e239eb23d                  bebes   \n",
       "4  9dc1a7de274444849c219cff195d0b71  utilidades_domesticas   \n",
       "\n",
       "   product_name_lenght  product_description_lenght  product_photos_qty  \\\n",
       "0                 40.0                       287.0                 1.0   \n",
       "1                 44.0                       276.0                 1.0   \n",
       "2                 46.0                       250.0                 1.0   \n",
       "3                 27.0                       261.0                 1.0   \n",
       "4                 37.0                       402.0                 4.0   \n",
       "\n",
       "   product_weight_g  product_length_cm  product_height_cm  product_width_cm  \n",
       "0             225.0               16.0               10.0              14.0  \n",
       "1            1000.0               30.0               18.0              20.0  \n",
       "2             154.0               18.0                9.0              15.0  \n",
       "3             371.0               26.0                4.0              26.0  \n",
       "4             625.0               20.0               17.0              13.0  "
      ]
     },
     "execution_count": 113,
     "metadata": {},
     "output_type": "execute_result"
    }
   ],
   "source": [
    "# échantillon données\n",
    "products.head()"
   ]
  },
  {
   "cell_type": "code",
   "execution_count": 114,
   "id": "05e537ce-fc07-426a-a0d2-0251866d41d3",
   "metadata": {},
   "outputs": [
    {
     "data": {
      "text/plain": [
       "array(['perfumaria', 'artes', 'esporte_lazer', 'bebes',\n",
       "       'utilidades_domesticas', 'instrumentos_musicais', 'cool_stuff',\n",
       "       'moveis_decoracao', 'eletrodomesticos', 'brinquedos',\n",
       "       'cama_mesa_banho', 'construcao_ferramentas_seguranca',\n",
       "       'informatica_acessorios', 'beleza_saude', 'malas_acessorios',\n",
       "       'ferramentas_jardim', 'moveis_escritorio', 'automotivo',\n",
       "       'eletronicos', 'fashion_calcados', 'telefonia', 'papelaria',\n",
       "       'fashion_bolsas_e_acessorios', 'pcs', 'casa_construcao',\n",
       "       'relogios_presentes', 'construcao_ferramentas_construcao',\n",
       "       'pet_shop', 'eletroportateis', 'agro_industria_e_comercio', nan,\n",
       "       'moveis_sala', 'sinalizacao_e_seguranca', 'climatizacao',\n",
       "       'consoles_games', 'livros_interesse_geral',\n",
       "       'construcao_ferramentas_ferramentas',\n",
       "       'fashion_underwear_e_moda_praia', 'fashion_roupa_masculina',\n",
       "       'moveis_cozinha_area_de_servico_jantar_e_jardim',\n",
       "       'industria_comercio_e_negocios', 'telefonia_fixa',\n",
       "       'construcao_ferramentas_iluminacao', 'livros_tecnicos',\n",
       "       'eletrodomesticos_2', 'artigos_de_festas', 'bebidas',\n",
       "       'market_place', 'la_cuisine', 'construcao_ferramentas_jardim',\n",
       "       'fashion_roupa_feminina', 'casa_conforto', 'audio',\n",
       "       'alimentos_bebidas', 'musica', 'alimentos',\n",
       "       'tablets_impressao_imagem', 'livros_importados',\n",
       "       'portateis_casa_forno_e_cafe', 'fashion_esporte',\n",
       "       'artigos_de_natal', 'fashion_roupa_infanto_juvenil',\n",
       "       'dvds_blu_ray', 'artes_e_artesanato', 'pc_gamer', 'moveis_quarto',\n",
       "       'cine_foto', 'fraldas_higiene', 'flores', 'casa_conforto_2',\n",
       "       'portateis_cozinha_e_preparadores_de_alimentos',\n",
       "       'seguros_e_servicos', 'moveis_colchao_e_estofado',\n",
       "       'cds_dvds_musicais'], dtype=object)"
      ]
     },
     "execution_count": 114,
     "metadata": {},
     "output_type": "execute_result"
    }
   ],
   "source": [
    "# catégories\n",
    "products['product_category_name'].unique()"
   ]
  },
  {
   "cell_type": "code",
   "execution_count": 115,
   "id": "68c55c94-6388-4e16-9ebe-5b3ee4a587ea",
   "metadata": {},
   "outputs": [
    {
     "data": {
      "text/plain": [
       "74"
      ]
     },
     "execution_count": 115,
     "metadata": {},
     "output_type": "execute_result"
    }
   ],
   "source": [
    "# nombre de catégories\n",
    "products['product_category_name'].unique().size"
   ]
  },
  {
   "cell_type": "markdown",
   "id": "db0288a4-8f55-4ee2-9de3-52f474bdb05d",
   "metadata": {},
   "source": [
    "Ici, la variable qui pourrait être intéressante est la catégorie du produit. Cependant, il y a beaucoup de catégories et même en regroupant certaines, le nombre serait trop élevé pour pouvoir les utiliser pour une segmentation interprétable; de plus, en utilisant les catégories, je risquerai d'introduire un 'biais' dans les modèles non supervisés, qui pourraient trouver des groupes basés sur ces catégories et non pas sur les autres variables. Ainsi, je ne vais pas utiliser ce dataframe."
   ]
  },
  {
   "cell_type": "markdown",
   "id": "8a8b5895-1f9b-4c82-8dfb-647c2ae12b89",
   "metadata": {},
   "source": [
    "## 1.8 Sellers"
   ]
  },
  {
   "cell_type": "markdown",
   "id": "8d01cd69-12cb-4c5a-a8ed-16ac96a8806e",
   "metadata": {},
   "source": [
    "Ce jeu de données contient les emplacement des vendeurs."
   ]
  },
  {
   "cell_type": "code",
   "execution_count": 116,
   "id": "0dc6c9d3-7ac8-4f7e-a085-86b5b01f7262",
   "metadata": {},
   "outputs": [],
   "source": [
    "# lecture données\n",
    "sellers = pd.read_csv('Data/Source/olist_sellers_dataset.csv')"
   ]
  },
  {
   "cell_type": "code",
   "execution_count": 117,
   "id": "60bc4afe-20c6-4871-ae47-d59b7bdf5d47",
   "metadata": {},
   "outputs": [
    {
     "data": {
      "text/html": [
       "<div>\n",
       "<style scoped>\n",
       "    .dataframe tbody tr th:only-of-type {\n",
       "        vertical-align: middle;\n",
       "    }\n",
       "\n",
       "    .dataframe tbody tr th {\n",
       "        vertical-align: top;\n",
       "    }\n",
       "\n",
       "    .dataframe thead th {\n",
       "        text-align: right;\n",
       "    }\n",
       "</style>\n",
       "<table border=\"1\" class=\"dataframe\">\n",
       "  <thead>\n",
       "    <tr style=\"text-align: right;\">\n",
       "      <th></th>\n",
       "      <th>seller_id</th>\n",
       "      <th>seller_zip_code_prefix</th>\n",
       "      <th>seller_city</th>\n",
       "      <th>seller_state</th>\n",
       "    </tr>\n",
       "  </thead>\n",
       "  <tbody>\n",
       "    <tr>\n",
       "      <th>768</th>\n",
       "      <td>20d83f3ef0e6925fd74bfd59170babf7</td>\n",
       "      <td>2804</td>\n",
       "      <td>sao paulo</td>\n",
       "      <td>SP</td>\n",
       "    </tr>\n",
       "    <tr>\n",
       "      <th>1277</th>\n",
       "      <td>05d2173d43ea568aa0540eba70d2ca76</td>\n",
       "      <td>37135</td>\n",
       "      <td>alfenas</td>\n",
       "      <td>MG</td>\n",
       "    </tr>\n",
       "    <tr>\n",
       "      <th>1419</th>\n",
       "      <td>7d7d2b7a51328016102d4528c411d630</td>\n",
       "      <td>14940</td>\n",
       "      <td>ibitinga</td>\n",
       "      <td>SP</td>\n",
       "    </tr>\n",
       "    <tr>\n",
       "      <th>1802</th>\n",
       "      <td>f682e0f848abafc6f41e0d4e868c66ef</td>\n",
       "      <td>7600</td>\n",
       "      <td>mairipora</td>\n",
       "      <td>SP</td>\n",
       "    </tr>\n",
       "    <tr>\n",
       "      <th>776</th>\n",
       "      <td>e7df4cd29ab5abab70fb0783ddb53987</td>\n",
       "      <td>4122</td>\n",
       "      <td>sao paulo</td>\n",
       "      <td>SP</td>\n",
       "    </tr>\n",
       "  </tbody>\n",
       "</table>\n",
       "</div>"
      ],
      "text/plain": [
       "                             seller_id  seller_zip_code_prefix seller_city  \\\n",
       "768   20d83f3ef0e6925fd74bfd59170babf7                    2804   sao paulo   \n",
       "1277  05d2173d43ea568aa0540eba70d2ca76                   37135     alfenas   \n",
       "1419  7d7d2b7a51328016102d4528c411d630                   14940    ibitinga   \n",
       "1802  f682e0f848abafc6f41e0d4e868c66ef                    7600   mairipora   \n",
       "776   e7df4cd29ab5abab70fb0783ddb53987                    4122   sao paulo   \n",
       "\n",
       "     seller_state  \n",
       "768            SP  \n",
       "1277           MG  \n",
       "1419           SP  \n",
       "1802           SP  \n",
       "776            SP  "
      ]
     },
     "execution_count": 117,
     "metadata": {},
     "output_type": "execute_result"
    }
   ],
   "source": [
    "# échantillon données\n",
    "sellers.sample(5)"
   ]
  },
  {
   "cell_type": "code",
   "execution_count": 118,
   "id": "06125090-6dd1-43c5-bf0b-44f497a7c412",
   "metadata": {},
   "outputs": [
    {
     "data": {
      "text/plain": [
       "(3095, 4)"
      ]
     },
     "execution_count": 118,
     "metadata": {},
     "output_type": "execute_result"
    }
   ],
   "source": [
    "# nombre des lignes et colonnes\n",
    "sellers.shape"
   ]
  },
  {
   "cell_type": "code",
   "execution_count": 119,
   "id": "1a932af4-d557-4e21-b3d4-491bdf82d472",
   "metadata": {},
   "outputs": [
    {
     "data": {
      "text/plain": [
       "seller_id                 object\n",
       "seller_zip_code_prefix     int64\n",
       "seller_city               object\n",
       "seller_state              object\n",
       "dtype: object"
      ]
     },
     "execution_count": 119,
     "metadata": {},
     "output_type": "execute_result"
    }
   ],
   "source": [
    "# type des données\n",
    "sellers.dtypes"
   ]
  },
  {
   "cell_type": "code",
   "execution_count": 120,
   "id": "ffa1cd4a-816d-4c32-97f8-991590976626",
   "metadata": {},
   "outputs": [
    {
     "data": {
      "text/plain": [
       "seller_id                 0\n",
       "seller_zip_code_prefix    0\n",
       "seller_city               0\n",
       "seller_state              0\n",
       "dtype: int64"
      ]
     },
     "execution_count": 120,
     "metadata": {},
     "output_type": "execute_result"
    }
   ],
   "source": [
    "# valeur manquantes\n",
    "sellers.isna().sum()"
   ]
  },
  {
   "cell_type": "markdown",
   "id": "2e2330e6-de10-4e08-a025-87f49ae9a3d7",
   "metadata": {},
   "source": [
    "En utilisant le dataframe `geolocation` je peux associer à chaque zipcode ses coordonnées géographiques."
   ]
  },
  {
   "cell_type": "code",
   "execution_count": 121,
   "id": "1bab83d3-4d4e-4a18-a02b-a0416ce33b42",
   "metadata": {},
   "outputs": [],
   "source": [
    "# jointure sellers et geolocation\n",
    "sellers = pd.merge(sellers,\n",
    "                   geolocation,\n",
    "                   how='left',\n",
    "                   left_on='seller_zip_code_prefix',\n",
    "                   right_index=True)"
   ]
  },
  {
   "cell_type": "code",
   "execution_count": 122,
   "id": "be83c4d3-229e-4438-b92e-c1f4599c6047",
   "metadata": {},
   "outputs": [
    {
     "data": {
      "text/plain": [
       "(3095, 6)"
      ]
     },
     "execution_count": 122,
     "metadata": {},
     "output_type": "execute_result"
    }
   ],
   "source": [
    "# vérification nombre de lignes\n",
    "sellers.shape"
   ]
  },
  {
   "cell_type": "code",
   "execution_count": 123,
   "id": "b68cbde2-e3d5-4881-b84d-45ff7d8b0fe9",
   "metadata": {},
   "outputs": [
    {
     "data": {
      "text/html": [
       "<div>\n",
       "<style scoped>\n",
       "    .dataframe tbody tr th:only-of-type {\n",
       "        vertical-align: middle;\n",
       "    }\n",
       "\n",
       "    .dataframe tbody tr th {\n",
       "        vertical-align: top;\n",
       "    }\n",
       "\n",
       "    .dataframe thead th {\n",
       "        text-align: right;\n",
       "    }\n",
       "</style>\n",
       "<table border=\"1\" class=\"dataframe\">\n",
       "  <thead>\n",
       "    <tr style=\"text-align: right;\">\n",
       "      <th></th>\n",
       "      <th>seller_id</th>\n",
       "      <th>seller_zip_code_prefix</th>\n",
       "      <th>seller_city</th>\n",
       "      <th>seller_state</th>\n",
       "      <th>geolocation_lat</th>\n",
       "      <th>geolocation_lng</th>\n",
       "    </tr>\n",
       "  </thead>\n",
       "  <tbody>\n",
       "    <tr>\n",
       "      <th>0</th>\n",
       "      <td>3442f8959a84dea7ee197c632cb2df15</td>\n",
       "      <td>13023</td>\n",
       "      <td>campinas</td>\n",
       "      <td>SP</td>\n",
       "      <td>-22.893848</td>\n",
       "      <td>-47.061337</td>\n",
       "    </tr>\n",
       "    <tr>\n",
       "      <th>1</th>\n",
       "      <td>d1b65fc7debc3361ea86b5f14c68d2e2</td>\n",
       "      <td>13844</td>\n",
       "      <td>mogi guacu</td>\n",
       "      <td>SP</td>\n",
       "      <td>-22.383437</td>\n",
       "      <td>-46.947927</td>\n",
       "    </tr>\n",
       "    <tr>\n",
       "      <th>2</th>\n",
       "      <td>ce3ad9de960102d0677a81f5d0bb7b2d</td>\n",
       "      <td>20031</td>\n",
       "      <td>rio de janeiro</td>\n",
       "      <td>RJ</td>\n",
       "      <td>-22.909572</td>\n",
       "      <td>-43.177703</td>\n",
       "    </tr>\n",
       "    <tr>\n",
       "      <th>3</th>\n",
       "      <td>c0f3eea2e14555b6faeea3dd58c1b1c3</td>\n",
       "      <td>4195</td>\n",
       "      <td>sao paulo</td>\n",
       "      <td>SP</td>\n",
       "      <td>-23.657242</td>\n",
       "      <td>-46.612831</td>\n",
       "    </tr>\n",
       "    <tr>\n",
       "      <th>4</th>\n",
       "      <td>51a04a8a6bdcb23deccc82b0b80742cf</td>\n",
       "      <td>12914</td>\n",
       "      <td>braganca paulista</td>\n",
       "      <td>SP</td>\n",
       "      <td>-22.964803</td>\n",
       "      <td>-46.534419</td>\n",
       "    </tr>\n",
       "  </tbody>\n",
       "</table>\n",
       "</div>"
      ],
      "text/plain": [
       "                          seller_id  seller_zip_code_prefix  \\\n",
       "0  3442f8959a84dea7ee197c632cb2df15                   13023   \n",
       "1  d1b65fc7debc3361ea86b5f14c68d2e2                   13844   \n",
       "2  ce3ad9de960102d0677a81f5d0bb7b2d                   20031   \n",
       "3  c0f3eea2e14555b6faeea3dd58c1b1c3                    4195   \n",
       "4  51a04a8a6bdcb23deccc82b0b80742cf                   12914   \n",
       "\n",
       "         seller_city seller_state  geolocation_lat  geolocation_lng  \n",
       "0           campinas           SP       -22.893848       -47.061337  \n",
       "1         mogi guacu           SP       -22.383437       -46.947927  \n",
       "2     rio de janeiro           RJ       -22.909572       -43.177703  \n",
       "3          sao paulo           SP       -23.657242       -46.612831  \n",
       "4  braganca paulista           SP       -22.964803       -46.534419  "
      ]
     },
     "execution_count": 123,
     "metadata": {},
     "output_type": "execute_result"
    }
   ],
   "source": [
    "# vérification merge\n",
    "sellers.head()"
   ]
  },
  {
   "cell_type": "code",
   "execution_count": 124,
   "id": "0ce3a44b-19e6-44d1-a06e-6f2b5c77387d",
   "metadata": {},
   "outputs": [],
   "source": [
    "# renommage variables geolocatisation\n",
    "sellers = sellers.rename(columns={'geolocation_lat': 'seller_geolocation_lat',\n",
    "                                  'geolocation_lng': 'seller_geolocation_lng'})"
   ]
  },
  {
   "cell_type": "code",
   "execution_count": 125,
   "id": "e7ea3c6e-4406-4684-a736-0762b3f6bf5e",
   "metadata": {},
   "outputs": [],
   "source": [
    "# suppression variables non pertinentes\n",
    "sellers = sellers.drop(['seller_state',\n",
    "                        'seller_city',\n",
    "                        'seller_zip_code_prefix'],\n",
    "                       axis=1)"
   ]
  },
  {
   "cell_type": "markdown",
   "id": "17407552-3b09-42ba-b9ac-c5a21f4b5595",
   "metadata": {},
   "source": [
    "Je vais effectuer une jointure de ce dataframe avec le dataframe `customers` en utilisant comme clé le `seller_id`."
   ]
  },
  {
   "cell_type": "code",
   "execution_count": 126,
   "id": "b225cfd9-492f-4eb3-9b8b-4a77ae070fd5",
   "metadata": {},
   "outputs": [],
   "source": [
    "# jointure\n",
    "customers = pd.merge(customers,\n",
    "                     sellers,\n",
    "                     how='left',\n",
    "                     left_on='seller_id',\n",
    "                     right_on='seller_id')"
   ]
  },
  {
   "cell_type": "code",
   "execution_count": 127,
   "id": "c4b78646-1222-427e-a282-c76fc4319365",
   "metadata": {},
   "outputs": [
    {
     "data": {
      "text/plain": [
       "96478"
      ]
     },
     "execution_count": 127,
     "metadata": {},
     "output_type": "execute_result"
    }
   ],
   "source": [
    "# vérification nombre des lignes\n",
    "customers.shape[0]"
   ]
  },
  {
   "cell_type": "code",
   "execution_count": 128,
   "id": "6129330e-8f33-44c7-867d-fbfe4fe1bbcc",
   "metadata": {},
   "outputs": [
    {
     "data": {
      "text/html": [
       "<div>\n",
       "<style scoped>\n",
       "    .dataframe tbody tr th:only-of-type {\n",
       "        vertical-align: middle;\n",
       "    }\n",
       "\n",
       "    .dataframe tbody tr th {\n",
       "        vertical-align: top;\n",
       "    }\n",
       "\n",
       "    .dataframe thead th {\n",
       "        text-align: right;\n",
       "    }\n",
       "</style>\n",
       "<table border=\"1\" class=\"dataframe\">\n",
       "  <thead>\n",
       "    <tr style=\"text-align: right;\">\n",
       "      <th></th>\n",
       "      <th>customer_id</th>\n",
       "      <th>customer_unique_id</th>\n",
       "      <th>customer_zip_code_prefix</th>\n",
       "      <th>geolocation_lat</th>\n",
       "      <th>geolocation_lng</th>\n",
       "      <th>order_id</th>\n",
       "      <th>order_purchase_timestamp</th>\n",
       "      <th>real_delivery_time</th>\n",
       "      <th>estimated_delivery_time</th>\n",
       "      <th>delay</th>\n",
       "      <th>price</th>\n",
       "      <th>freight_value</th>\n",
       "      <th>seller_id</th>\n",
       "      <th>product_id</th>\n",
       "      <th>freight/price</th>\n",
       "      <th>payment_value</th>\n",
       "      <th>review_score</th>\n",
       "      <th>seller_geolocation_lat</th>\n",
       "      <th>seller_geolocation_lng</th>\n",
       "    </tr>\n",
       "  </thead>\n",
       "  <tbody>\n",
       "    <tr>\n",
       "      <th>0</th>\n",
       "      <td>06b8999e2fba1a1fbc88172c00ba8bc7</td>\n",
       "      <td>861eff4711a542e4b93843c6dd7febb0</td>\n",
       "      <td>14409</td>\n",
       "      <td>-20.498489</td>\n",
       "      <td>-47.396929</td>\n",
       "      <td>00e7ee1b050b8499577073aeb2a297a1</td>\n",
       "      <td>2017-05-16 15:05:35</td>\n",
       "      <td>8.0</td>\n",
       "      <td>19.0</td>\n",
       "      <td>-11.0</td>\n",
       "      <td>124.99</td>\n",
       "      <td>21.88</td>\n",
       "      <td>7c67e1448b00f6e969d365cea6b010ab</td>\n",
       "      <td>a9516a079e37a9c9c36b9b78b10169e8</td>\n",
       "      <td>0.175054</td>\n",
       "      <td>146.87</td>\n",
       "      <td>4.0</td>\n",
       "      <td>-23.486111</td>\n",
       "      <td>-46.366721</td>\n",
       "    </tr>\n",
       "    <tr>\n",
       "      <th>1</th>\n",
       "      <td>18955e83d337fd6b2def6b18a428ac77</td>\n",
       "      <td>290c77bc529b7ac935b93aa66c333dc3</td>\n",
       "      <td>9790</td>\n",
       "      <td>-23.727992</td>\n",
       "      <td>-46.542848</td>\n",
       "      <td>29150127e6685892b6eab3eec79f59c7</td>\n",
       "      <td>2018-01-12 20:48:24</td>\n",
       "      <td>16.0</td>\n",
       "      <td>24.0</td>\n",
       "      <td>-8.0</td>\n",
       "      <td>289.00</td>\n",
       "      <td>46.48</td>\n",
       "      <td>b8bc237ba3788b23da09c0f1f3a3288c</td>\n",
       "      <td>4aa6014eceb682077f9dc4bffebc05b0</td>\n",
       "      <td>0.160830</td>\n",
       "      <td>335.48</td>\n",
       "      <td>5.0</td>\n",
       "      <td>-26.912574</td>\n",
       "      <td>-48.673980</td>\n",
       "    </tr>\n",
       "    <tr>\n",
       "      <th>2</th>\n",
       "      <td>4e7b3e00288586ebd08712fdd0374a03</td>\n",
       "      <td>060e732b5b29e8181a18229c7b0b2b5e</td>\n",
       "      <td>1151</td>\n",
       "      <td>-23.531642</td>\n",
       "      <td>-46.656289</td>\n",
       "      <td>b2059ed67ce144a36e2aa97d2c9e9ad2</td>\n",
       "      <td>2018-05-19 16:07:45</td>\n",
       "      <td>26.0</td>\n",
       "      <td>24.0</td>\n",
       "      <td>1.0</td>\n",
       "      <td>139.94</td>\n",
       "      <td>17.79</td>\n",
       "      <td>7c67e1448b00f6e969d365cea6b010ab</td>\n",
       "      <td>bd07b66896d6f1494f5b86251848ced7</td>\n",
       "      <td>0.127126</td>\n",
       "      <td>157.73</td>\n",
       "      <td>5.0</td>\n",
       "      <td>-23.486111</td>\n",
       "      <td>-46.366721</td>\n",
       "    </tr>\n",
       "    <tr>\n",
       "      <th>3</th>\n",
       "      <td>b2b6027bc5c5109e529d4dc6358b12c3</td>\n",
       "      <td>259dac757896d24d7702b9acbbff3f3c</td>\n",
       "      <td>8775</td>\n",
       "      <td>-23.499702</td>\n",
       "      <td>-46.185233</td>\n",
       "      <td>951670f92359f4fe4a63112aa7306eba</td>\n",
       "      <td>2018-03-13 16:06:38</td>\n",
       "      <td>14.0</td>\n",
       "      <td>27.0</td>\n",
       "      <td>-13.0</td>\n",
       "      <td>149.94</td>\n",
       "      <td>23.36</td>\n",
       "      <td>7c67e1448b00f6e969d365cea6b010ab</td>\n",
       "      <td>a5647c44af977b148e0a3a4751a09e2e</td>\n",
       "      <td>0.155796</td>\n",
       "      <td>173.30</td>\n",
       "      <td>5.0</td>\n",
       "      <td>-23.486111</td>\n",
       "      <td>-46.366721</td>\n",
       "    </tr>\n",
       "    <tr>\n",
       "      <th>4</th>\n",
       "      <td>4f2d8ab171c80ec8364f7c12e35b23ad</td>\n",
       "      <td>345ecd01c38d18a9036ed96c73b8d066</td>\n",
       "      <td>13056</td>\n",
       "      <td>-22.975100</td>\n",
       "      <td>-47.142925</td>\n",
       "      <td>6b7d50bd145f6fc7f33cebabd7e49d0f</td>\n",
       "      <td>2018-07-29 09:51:30</td>\n",
       "      <td>11.0</td>\n",
       "      <td>16.0</td>\n",
       "      <td>-6.0</td>\n",
       "      <td>230.00</td>\n",
       "      <td>22.25</td>\n",
       "      <td>4a3ca9315b744ce9f8e9374361493884</td>\n",
       "      <td>9391a573abe00141c56e38d84d7d5b3b</td>\n",
       "      <td>0.096739</td>\n",
       "      <td>252.25</td>\n",
       "      <td>5.0</td>\n",
       "      <td>-21.757321</td>\n",
       "      <td>-48.829744</td>\n",
       "    </tr>\n",
       "  </tbody>\n",
       "</table>\n",
       "</div>"
      ],
      "text/plain": [
       "                        customer_id                customer_unique_id  \\\n",
       "0  06b8999e2fba1a1fbc88172c00ba8bc7  861eff4711a542e4b93843c6dd7febb0   \n",
       "1  18955e83d337fd6b2def6b18a428ac77  290c77bc529b7ac935b93aa66c333dc3   \n",
       "2  4e7b3e00288586ebd08712fdd0374a03  060e732b5b29e8181a18229c7b0b2b5e   \n",
       "3  b2b6027bc5c5109e529d4dc6358b12c3  259dac757896d24d7702b9acbbff3f3c   \n",
       "4  4f2d8ab171c80ec8364f7c12e35b23ad  345ecd01c38d18a9036ed96c73b8d066   \n",
       "\n",
       "   customer_zip_code_prefix  geolocation_lat  geolocation_lng  \\\n",
       "0                     14409       -20.498489       -47.396929   \n",
       "1                      9790       -23.727992       -46.542848   \n",
       "2                      1151       -23.531642       -46.656289   \n",
       "3                      8775       -23.499702       -46.185233   \n",
       "4                     13056       -22.975100       -47.142925   \n",
       "\n",
       "                           order_id order_purchase_timestamp  \\\n",
       "0  00e7ee1b050b8499577073aeb2a297a1      2017-05-16 15:05:35   \n",
       "1  29150127e6685892b6eab3eec79f59c7      2018-01-12 20:48:24   \n",
       "2  b2059ed67ce144a36e2aa97d2c9e9ad2      2018-05-19 16:07:45   \n",
       "3  951670f92359f4fe4a63112aa7306eba      2018-03-13 16:06:38   \n",
       "4  6b7d50bd145f6fc7f33cebabd7e49d0f      2018-07-29 09:51:30   \n",
       "\n",
       "   real_delivery_time  estimated_delivery_time  delay   price  freight_value  \\\n",
       "0                 8.0                     19.0  -11.0  124.99          21.88   \n",
       "1                16.0                     24.0   -8.0  289.00          46.48   \n",
       "2                26.0                     24.0    1.0  139.94          17.79   \n",
       "3                14.0                     27.0  -13.0  149.94          23.36   \n",
       "4                11.0                     16.0   -6.0  230.00          22.25   \n",
       "\n",
       "                          seller_id                        product_id  \\\n",
       "0  7c67e1448b00f6e969d365cea6b010ab  a9516a079e37a9c9c36b9b78b10169e8   \n",
       "1  b8bc237ba3788b23da09c0f1f3a3288c  4aa6014eceb682077f9dc4bffebc05b0   \n",
       "2  7c67e1448b00f6e969d365cea6b010ab  bd07b66896d6f1494f5b86251848ced7   \n",
       "3  7c67e1448b00f6e969d365cea6b010ab  a5647c44af977b148e0a3a4751a09e2e   \n",
       "4  4a3ca9315b744ce9f8e9374361493884  9391a573abe00141c56e38d84d7d5b3b   \n",
       "\n",
       "   freight/price  payment_value  review_score  seller_geolocation_lat  \\\n",
       "0       0.175054         146.87           4.0              -23.486111   \n",
       "1       0.160830         335.48           5.0              -26.912574   \n",
       "2       0.127126         157.73           5.0              -23.486111   \n",
       "3       0.155796         173.30           5.0              -23.486111   \n",
       "4       0.096739         252.25           5.0              -21.757321   \n",
       "\n",
       "   seller_geolocation_lng  \n",
       "0              -46.366721  \n",
       "1              -48.673980  \n",
       "2              -46.366721  \n",
       "3              -46.366721  \n",
       "4              -48.829744  "
      ]
     },
     "execution_count": 128,
     "metadata": {},
     "output_type": "execute_result"
    }
   ],
   "source": [
    "# vérification merge\n",
    "customers.head()"
   ]
  },
  {
   "cell_type": "markdown",
   "id": "552d442d-0811-4e20-92ca-f02daa79e0a0",
   "metadata": {},
   "source": [
    "Maintenant que j'ai les coordonnées géographiques d'acheteurs et vendeurs je peux calculer leur distance. Pour ce faire, je vais regrouper latitude et longitude dans une seule variable et utiliser la librairie `haversine`, qui permet de trouver la distance en km à partir de latitude et longitude."
   ]
  },
  {
   "cell_type": "code",
   "execution_count": 129,
   "id": "7f37d769-c139-49d9-805f-a62b12e3cd94",
   "metadata": {},
   "outputs": [],
   "source": [
    "# initialisation des variables loc_customer et loc_seller\n",
    "customers['loc_customer'] = list(zip(customers['geolocation_lat'],\n",
    "                                     customers['geolocation_lng']))\n",
    "customers['loc_seller'] = list(zip(customers['seller_geolocation_lat'],\n",
    "                                   customers['seller_geolocation_lng']))"
   ]
  },
  {
   "cell_type": "code",
   "execution_count": 130,
   "id": "01c4d4aa-eebf-44ff-9648-9db323293827",
   "metadata": {},
   "outputs": [],
   "source": [
    "# initialisation de la variable distance\n",
    "customers['distance'] = customers.apply(\n",
    "    lambda x: hs.haversine(x['loc_customer'], x['loc_seller']), axis=1)"
   ]
  },
  {
   "cell_type": "code",
   "execution_count": 131,
   "id": "c3c645a9-ef53-4aa8-b41f-c3e58e85a805",
   "metadata": {},
   "outputs": [],
   "source": [
    "# suppression variables non pertinentes\n",
    "customers.drop(['geolocation_lat',\n",
    "                'geolocation_lng',\n",
    "                'seller_geolocation_lat',\n",
    "                'seller_geolocation_lng',\n",
    "                'loc_customer',\n",
    "                'loc_seller',\n",
    "                'customer_zip_code_prefix'],\n",
    "               axis=1, inplace=True)"
   ]
  },
  {
   "cell_type": "code",
   "execution_count": 132,
   "id": "334dc0e8-6274-4401-bd3b-ecb0d63ffdaf",
   "metadata": {},
   "outputs": [],
   "source": [
    "# sauvegarde données\n",
    "customers.to_csv('Data/Cleaning/customers.csv', index=False)"
   ]
  },
  {
   "cell_type": "markdown",
   "id": "5ef738c3-bc7c-430e-9121-5a98212545f2",
   "metadata": {},
   "source": [
    "# 2. Traitement des valeurs manquantes"
   ]
  },
  {
   "cell_type": "code",
   "execution_count": 133,
   "id": "21d564b4-f9cf-4636-b874-7e6b8a01008a",
   "metadata": {},
   "outputs": [
    {
     "data": {
      "text/plain": [
       "customer_id                   0\n",
       "customer_unique_id            0\n",
       "order_id                      0\n",
       "order_purchase_timestamp      0\n",
       "real_delivery_time            8\n",
       "estimated_delivery_time       0\n",
       "delay                         8\n",
       "price                         0\n",
       "freight_value                 0\n",
       "seller_id                     0\n",
       "product_id                    0\n",
       "freight/price                 0\n",
       "payment_value                 0\n",
       "review_score                646\n",
       "distance                    478\n",
       "dtype: int64"
      ]
     },
     "execution_count": 133,
     "metadata": {},
     "output_type": "execute_result"
    }
   ],
   "source": [
    "# valeurs manquantes\n",
    "customers.isna().sum()"
   ]
  },
  {
   "cell_type": "markdown",
   "id": "6dc6619c-33c7-4f24-ba35-74b7bc36a906",
   "metadata": {},
   "source": [
    "Pour les valeurs manquantes, la stratégie est la suivante :\n",
    " - remplacement avec la moyenne pour les variables `distance`, `delay` et `real_delivery_time`\n",
    " - remplacement avec la valeur la plus fréquente pour le `review_score`\n"
   ]
  },
  {
   "cell_type": "code",
   "execution_count": 134,
   "id": "749f51fe-6a45-4942-8c2e-b8103e23565d",
   "metadata": {},
   "outputs": [],
   "source": [
    "# remplacement avec la moyenne\n",
    "customers[['distance',\n",
    "           'delay',\n",
    "           'real_delivery_time']] = customers[['distance',\n",
    "                                               'delay',\n",
    "                                               'real_delivery_time']].fillna(\n",
    "    customers[['distance',\n",
    "               'delay',\n",
    "               'real_delivery_time']].mean())"
   ]
  },
  {
   "cell_type": "code",
   "execution_count": 135,
   "id": "9febe1b9-f57e-4c8f-bee5-0d816c8be342",
   "metadata": {},
   "outputs": [
    {
     "data": {
      "text/plain": [
       "customer_id                   0\n",
       "customer_unique_id            0\n",
       "order_id                      0\n",
       "order_purchase_timestamp      0\n",
       "real_delivery_time            0\n",
       "estimated_delivery_time       0\n",
       "delay                         0\n",
       "price                         0\n",
       "freight_value                 0\n",
       "seller_id                     0\n",
       "product_id                    0\n",
       "freight/price                 0\n",
       "payment_value                 0\n",
       "review_score                646\n",
       "distance                      0\n",
       "dtype: int64"
      ]
     },
     "execution_count": 135,
     "metadata": {},
     "output_type": "execute_result"
    }
   ],
   "source": [
    "# vérification remplacement valeurs manquantes\n",
    "customers.isna().sum()"
   ]
  },
  {
   "cell_type": "code",
   "execution_count": 136,
   "id": "4ed09a9d-588c-4873-92eb-b5adaa03bd23",
   "metadata": {},
   "outputs": [
    {
     "data": {
      "text/plain": [
       "5.0    56704\n",
       "4.0    18945\n",
       "1.0     9313\n",
       "3.0     7916\n",
       "2.0     2954\n",
       "Name: review_score, dtype: int64"
      ]
     },
     "execution_count": 136,
     "metadata": {},
     "output_type": "execute_result"
    }
   ],
   "source": [
    "# comptage valeurs review_score\n",
    "customers['review_score'].value_counts()"
   ]
  },
  {
   "cell_type": "code",
   "execution_count": 137,
   "id": "b067e3c4-8402-42d4-9510-14d0df1dc3bf",
   "metadata": {},
   "outputs": [],
   "source": [
    "# remplacement valeurs manquantes\n",
    "customers['review_score'] = customers['review_score'].fillna(5)"
   ]
  },
  {
   "cell_type": "code",
   "execution_count": 138,
   "id": "b3a89860-55d4-43d8-adc3-99c9a5b79202",
   "metadata": {},
   "outputs": [],
   "source": [
    "# sauvegarde données\n",
    "customers.to_csv('Data/Cleaning/customers_notna.csv', index=False)"
   ]
  },
  {
   "cell_type": "markdown",
   "id": "bf621e14-77dd-4664-882d-bdc0a0923c28",
   "metadata": {},
   "source": [
    "# 3. Analyse exploratoire des données"
   ]
  },
  {
   "cell_type": "markdown",
   "id": "a99b39e4-47c6-42cf-b9b5-77a056288bba",
   "metadata": {},
   "source": [
    "Dans cette partie, je vais réaliser des analyses univariées pour mieux comprendre les données, je vais examiner les valeurs aberrantes, examiner la corrélation entre variables et réaliser une analyse en composantes principales (ACP)."
   ]
  },
  {
   "cell_type": "code",
   "execution_count": 49,
   "id": "3e33f34e-f896-4399-9455-4ba6f5c3f520",
   "metadata": {},
   "outputs": [],
   "source": [
    "# lecture données\n",
    "customers = pd.read_csv('Data/Cleaning/customers_notna.csv')"
   ]
  },
  {
   "cell_type": "code",
   "execution_count": 50,
   "id": "9f09137c-49c2-4e52-be98-0d935c08a84e",
   "metadata": {},
   "outputs": [
    {
     "data": {
      "text/html": [
       "<div>\n",
       "<style scoped>\n",
       "    .dataframe tbody tr th:only-of-type {\n",
       "        vertical-align: middle;\n",
       "    }\n",
       "\n",
       "    .dataframe tbody tr th {\n",
       "        vertical-align: top;\n",
       "    }\n",
       "\n",
       "    .dataframe thead th {\n",
       "        text-align: right;\n",
       "    }\n",
       "</style>\n",
       "<table border=\"1\" class=\"dataframe\">\n",
       "  <thead>\n",
       "    <tr style=\"text-align: right;\">\n",
       "      <th></th>\n",
       "      <th>real_delivery_time</th>\n",
       "      <th>estimated_delivery_time</th>\n",
       "      <th>delay</th>\n",
       "      <th>price</th>\n",
       "      <th>freight_value</th>\n",
       "      <th>freight/price</th>\n",
       "      <th>payment_value</th>\n",
       "      <th>review_score</th>\n",
       "      <th>distance</th>\n",
       "    </tr>\n",
       "  </thead>\n",
       "  <tbody>\n",
       "    <tr>\n",
       "      <th>count</th>\n",
       "      <td>96478.000000</td>\n",
       "      <td>96478.000000</td>\n",
       "      <td>96478.000000</td>\n",
       "      <td>96478.000000</td>\n",
       "      <td>96478.000000</td>\n",
       "      <td>96478.000000</td>\n",
       "      <td>96478.000000</td>\n",
       "      <td>96478.000000</td>\n",
       "      <td>96478.000000</td>\n",
       "    </tr>\n",
       "    <tr>\n",
       "      <th>mean</th>\n",
       "      <td>12.093604</td>\n",
       "      <td>23.372759</td>\n",
       "      <td>-11.875889</td>\n",
       "      <td>137.041586</td>\n",
       "      <td>22.785253</td>\n",
       "      <td>0.308370</td>\n",
       "      <td>159.826839</td>\n",
       "      <td>4.161560</td>\n",
       "      <td>600.522752</td>\n",
       "    </tr>\n",
       "    <tr>\n",
       "      <th>std</th>\n",
       "      <td>9.550984</td>\n",
       "      <td>8.758137</td>\n",
       "      <td>10.181683</td>\n",
       "      <td>209.045198</td>\n",
       "      <td>21.559197</td>\n",
       "      <td>0.311610</td>\n",
       "      <td>218.794219</td>\n",
       "      <td>1.281266</td>\n",
       "      <td>591.064487</td>\n",
       "    </tr>\n",
       "    <tr>\n",
       "      <th>min</th>\n",
       "      <td>0.000000</td>\n",
       "      <td>2.000000</td>\n",
       "      <td>-147.000000</td>\n",
       "      <td>0.850000</td>\n",
       "      <td>0.000000</td>\n",
       "      <td>0.000000</td>\n",
       "      <td>9.590000</td>\n",
       "      <td>1.000000</td>\n",
       "      <td>0.000000</td>\n",
       "    </tr>\n",
       "    <tr>\n",
       "      <th>25%</th>\n",
       "      <td>6.000000</td>\n",
       "      <td>18.000000</td>\n",
       "      <td>-17.000000</td>\n",
       "      <td>45.900000</td>\n",
       "      <td>13.850000</td>\n",
       "      <td>0.132016</td>\n",
       "      <td>61.850000</td>\n",
       "      <td>4.000000</td>\n",
       "      <td>189.032874</td>\n",
       "    </tr>\n",
       "    <tr>\n",
       "      <th>50%</th>\n",
       "      <td>10.000000</td>\n",
       "      <td>23.000000</td>\n",
       "      <td>-12.000000</td>\n",
       "      <td>86.575000</td>\n",
       "      <td>17.170000</td>\n",
       "      <td>0.224374</td>\n",
       "      <td>105.280000</td>\n",
       "      <td>5.000000</td>\n",
       "      <td>436.517703</td>\n",
       "    </tr>\n",
       "    <tr>\n",
       "      <th>75%</th>\n",
       "      <td>15.000000</td>\n",
       "      <td>28.000000</td>\n",
       "      <td>-7.000000</td>\n",
       "      <td>149.900000</td>\n",
       "      <td>24.017500</td>\n",
       "      <td>0.380531</td>\n",
       "      <td>176.260000</td>\n",
       "      <td>5.000000</td>\n",
       "      <td>795.894094</td>\n",
       "    </tr>\n",
       "    <tr>\n",
       "      <th>max</th>\n",
       "      <td>209.000000</td>\n",
       "      <td>155.000000</td>\n",
       "      <td>188.000000</td>\n",
       "      <td>13440.000000</td>\n",
       "      <td>1794.960000</td>\n",
       "      <td>21.447059</td>\n",
       "      <td>13664.080000</td>\n",
       "      <td>5.000000</td>\n",
       "      <td>3927.411451</td>\n",
       "    </tr>\n",
       "  </tbody>\n",
       "</table>\n",
       "</div>"
      ],
      "text/plain": [
       "       real_delivery_time  estimated_delivery_time         delay  \\\n",
       "count        96478.000000             96478.000000  96478.000000   \n",
       "mean            12.093604                23.372759    -11.875889   \n",
       "std              9.550984                 8.758137     10.181683   \n",
       "min              0.000000                 2.000000   -147.000000   \n",
       "25%              6.000000                18.000000    -17.000000   \n",
       "50%             10.000000                23.000000    -12.000000   \n",
       "75%             15.000000                28.000000     -7.000000   \n",
       "max            209.000000               155.000000    188.000000   \n",
       "\n",
       "              price  freight_value  freight/price  payment_value  \\\n",
       "count  96478.000000   96478.000000   96478.000000   96478.000000   \n",
       "mean     137.041586      22.785253       0.308370     159.826839   \n",
       "std      209.045198      21.559197       0.311610     218.794219   \n",
       "min        0.850000       0.000000       0.000000       9.590000   \n",
       "25%       45.900000      13.850000       0.132016      61.850000   \n",
       "50%       86.575000      17.170000       0.224374     105.280000   \n",
       "75%      149.900000      24.017500       0.380531     176.260000   \n",
       "max    13440.000000    1794.960000      21.447059   13664.080000   \n",
       "\n",
       "       review_score      distance  \n",
       "count  96478.000000  96478.000000  \n",
       "mean       4.161560    600.522752  \n",
       "std        1.281266    591.064487  \n",
       "min        1.000000      0.000000  \n",
       "25%        4.000000    189.032874  \n",
       "50%        5.000000    436.517703  \n",
       "75%        5.000000    795.894094  \n",
       "max        5.000000   3927.411451  "
      ]
     },
     "execution_count": 50,
     "metadata": {},
     "output_type": "execute_result"
    }
   ],
   "source": [
    "# statistique de base\n",
    "customers.describe()"
   ]
  },
  {
   "cell_type": "markdown",
   "id": "49dd1882-1b0a-4708-844a-9b648f6ee5e4",
   "metadata": {},
   "source": [
    "## 3.1 Distribution des variables "
   ]
  },
  {
   "cell_type": "code",
   "execution_count": 51,
   "id": "7faf7cec-d985-4a79-901f-b97c1ba64d91",
   "metadata": {},
   "outputs": [
    {
     "data": {
      "image/png": "[encoded data removed]",
      "text/plain": [
       "<Figure size 1080x1440 with 9 Axes>"
      ]
     },
     "metadata": {
      "needs_background": "light"
     },
     "output_type": "display_data"
    }
   ],
   "source": [
    "# histogrammes\n",
    "fig, ax = plt.subplots(5, 2, figsize=(15, 20))\n",
    "count = 1\n",
    "for col in customers.select_dtypes('float64').columns:\n",
    "    plt.subplot(5, 2, count)\n",
    "    plt.title(col)\n",
    "    plt.hist(customers[col], bins=30)\n",
    "    plt.ylabel('Nombre de commandes')\n",
    "    count += 1\n",
    "fig.delaxes(ax[4][1])\n",
    "plt.tight_layout()"
   ]
  },
  {
   "cell_type": "markdown",
   "id": "7856794d-1b19-47c9-b11d-3d92251041eb",
   "metadata": {},
   "source": [
    "Pas toutes les distribution ressemblent à des gaussiennes et il y a des valeurs 'extremes'. "
   ]
  },
  {
   "cell_type": "markdown",
   "id": "f75dad8a-dcad-48a0-b07f-e5b0d0bb380d",
   "metadata": {},
   "source": [
    "## 3.2 Boites à moustaches et valeurs aberrantes"
   ]
  },
  {
   "cell_type": "code",
   "execution_count": 52,
   "id": "41682630-4f7a-42f4-978a-f89c9ca26007",
   "metadata": {},
   "outputs": [
    {
     "data": {
      "image/png": "[encoded data removed]",
      "text/plain": [
       "<Figure size 1080x1800 with 9 Axes>"
      ]
     },
     "metadata": {
      "needs_background": "light"
     },
     "output_type": "display_data"
    }
   ],
   "source": [
    "# boxplots\n",
    "fig, ax = plt.subplots(5, 2, figsize=(15, 25))\n",
    "count = 1\n",
    "for col in customers.select_dtypes('float64').columns:\n",
    "    plt.subplot(5, 2, count)\n",
    "    plt.title(col)\n",
    "    sns.boxplot(data=customers, x=col)\n",
    "    count += 1\n",
    "fig.delaxes(ax[4][1])\n",
    "plt.tight_layout()"
   ]
  },
  {
   "cell_type": "markdown",
   "id": "02667986-a07c-4eaf-b19a-e633b43137cc",
   "metadata": {},
   "source": [
    "Les boites à moustaches permettent de voir que, sauf pour la variable `review_score`, il y a beaucoup des valeurs aberrantes et/ou atypiques. Je vais ainsi examiner ces valeurs."
   ]
  },
  {
   "cell_type": "markdown",
   "id": "bc1c3a2d-af75-400b-9dcb-a5bb472fc7d7",
   "metadata": {},
   "source": [
    "### 3.2.1 real_delivery_time"
   ]
  },
  {
   "cell_type": "code",
   "execution_count": 53,
   "id": "3ce9e22a-c6af-438d-839c-ad52ff1e905c",
   "metadata": {},
   "outputs": [
    {
     "data": {
      "text/html": [
       "<div>\n",
       "<style scoped>\n",
       "    .dataframe tbody tr th:only-of-type {\n",
       "        vertical-align: middle;\n",
       "    }\n",
       "\n",
       "    .dataframe tbody tr th {\n",
       "        vertical-align: top;\n",
       "    }\n",
       "\n",
       "    .dataframe thead th {\n",
       "        text-align: right;\n",
       "    }\n",
       "</style>\n",
       "<table border=\"1\" class=\"dataframe\">\n",
       "  <thead>\n",
       "    <tr style=\"text-align: right;\">\n",
       "      <th></th>\n",
       "      <th>customer_id</th>\n",
       "      <th>customer_unique_id</th>\n",
       "      <th>order_id</th>\n",
       "      <th>order_purchase_timestamp</th>\n",
       "      <th>real_delivery_time</th>\n",
       "      <th>estimated_delivery_time</th>\n",
       "      <th>delay</th>\n",
       "      <th>price</th>\n",
       "      <th>freight_value</th>\n",
       "      <th>seller_id</th>\n",
       "      <th>product_id</th>\n",
       "      <th>freight/price</th>\n",
       "      <th>payment_value</th>\n",
       "      <th>review_score</th>\n",
       "      <th>distance</th>\n",
       "    </tr>\n",
       "  </thead>\n",
       "  <tbody>\n",
       "    <tr>\n",
       "      <th>26975</th>\n",
       "      <td>75683a92331068e2d281b11a7866ba44</td>\n",
       "      <td>4a2519b6991378f6f2ce5ed22d308f03</td>\n",
       "      <td>ca07593549f1816d26a572e06dc1eab6</td>\n",
       "      <td>2017-02-21 23:31:27</td>\n",
       "      <td>209.0</td>\n",
       "      <td>28.0</td>\n",
       "      <td>181.0</td>\n",
       "      <td>229.90</td>\n",
       "      <td>15.78</td>\n",
       "      <td>2a1348e9addc1af5aaa619b1a3679d6b</td>\n",
       "      <td>8eed5d27f5b8c6248731efb4782f6141</td>\n",
       "      <td>0.068639</td>\n",
       "      <td>245.68</td>\n",
       "      <td>5.0</td>\n",
       "      <td>429.972607</td>\n",
       "    </tr>\n",
       "    <tr>\n",
       "      <th>68602</th>\n",
       "      <td>d306426abe5fca15e54b645e4462dc7b</td>\n",
       "      <td>eb21169c3153a2b507fc7e76d561ff14</td>\n",
       "      <td>1b3190b2dfa9d789e1f14c05b647a14a</td>\n",
       "      <td>2018-02-23 14:57:35</td>\n",
       "      <td>208.0</td>\n",
       "      <td>19.0</td>\n",
       "      <td>188.0</td>\n",
       "      <td>144.99</td>\n",
       "      <td>17.26</td>\n",
       "      <td>7a67c85e85bb2ce8582c35f2203ad736</td>\n",
       "      <td>ee406bf28024d97771c4b1e8b7e8e219</td>\n",
       "      <td>0.119043</td>\n",
       "      <td>162.25</td>\n",
       "      <td>2.0</td>\n",
       "      <td>327.924374</td>\n",
       "    </tr>\n",
       "    <tr>\n",
       "      <th>3481</th>\n",
       "      <td>7815125148cfa1e8c7fee1ff7974f16c</td>\n",
       "      <td>f0785d41d416fa827f24c4b95d066b69</td>\n",
       "      <td>440d0d17af552815d15a9e41abe49359</td>\n",
       "      <td>2017-03-07 23:59:51</td>\n",
       "      <td>195.0</td>\n",
       "      <td>30.0</td>\n",
       "      <td>165.0</td>\n",
       "      <td>159.90</td>\n",
       "      <td>25.12</td>\n",
       "      <td>2a1348e9addc1af5aaa619b1a3679d6b</td>\n",
       "      <td>3bec03860f3782ef8993056e01b8229a</td>\n",
       "      <td>0.157098</td>\n",
       "      <td>185.02</td>\n",
       "      <td>1.0</td>\n",
       "      <td>2129.768094</td>\n",
       "    </tr>\n",
       "    <tr>\n",
       "      <th>69212</th>\n",
       "      <td>217906bc11a32c1e470eb7e08584894b</td>\n",
       "      <td>c6c0b794d3e4eb69cd85d1438a0db26e</td>\n",
       "      <td>2fb597c2f772eca01b1f5c561bf6cc7b</td>\n",
       "      <td>2017-03-08 18:09:02</td>\n",
       "      <td>194.0</td>\n",
       "      <td>39.0</td>\n",
       "      <td>155.0</td>\n",
       "      <td>239.96</td>\n",
       "      <td>105.19</td>\n",
       "      <td>a7f13822ceb966b076af67121f87b063</td>\n",
       "      <td>8ed094bfe076c568f6bb10feada3f75d</td>\n",
       "      <td>0.438365</td>\n",
       "      <td>345.15</td>\n",
       "      <td>4.0</td>\n",
       "      <td>2076.683225</td>\n",
       "    </tr>\n",
       "    <tr>\n",
       "      <th>21160</th>\n",
       "      <td>9cf2c3fa2632cee748e1a59ca9d09b21</td>\n",
       "      <td>3c2564d42f7ddd8b7576f0dd9cb1b4c5</td>\n",
       "      <td>285ab9426d6982034523a855f55a885e</td>\n",
       "      <td>2017-03-08 22:47:40</td>\n",
       "      <td>194.0</td>\n",
       "      <td>28.0</td>\n",
       "      <td>166.0</td>\n",
       "      <td>429.90</td>\n",
       "      <td>27.75</td>\n",
       "      <td>c847e075301870dd144a116762eaff9a</td>\n",
       "      <td>0c6fc9b9317a68d1cda098c063914b72</td>\n",
       "      <td>0.064550</td>\n",
       "      <td>457.65</td>\n",
       "      <td>1.0</td>\n",
       "      <td>1475.190521</td>\n",
       "    </tr>\n",
       "    <tr>\n",
       "      <th>55006</th>\n",
       "      <td>1a8a4a30dc296976717f44e7801fdeef</td>\n",
       "      <td>4df2d7257a7463e2d7a98a5b08cb92fc</td>\n",
       "      <td>0f4519c5f1c541ddec9f21b3bddd533a</td>\n",
       "      <td>2017-03-09 13:26:57</td>\n",
       "      <td>194.0</td>\n",
       "      <td>32.0</td>\n",
       "      <td>161.0</td>\n",
       "      <td>231.27</td>\n",
       "      <td>27.88</td>\n",
       "      <td>7e93a43ef30c4f03f38b393420bc753a</td>\n",
       "      <td>e0d64dcfaa3b6db5c54ca298ae101d05</td>\n",
       "      <td>0.120552</td>\n",
       "      <td>259.15</td>\n",
       "      <td>4.0</td>\n",
       "      <td>2103.897550</td>\n",
       "    </tr>\n",
       "    <tr>\n",
       "      <th>66803</th>\n",
       "      <td>cb2caaaead400c97350c37a3fc536867</td>\n",
       "      <td>4cb8ad9a4554099db7d70c13d0dae906</td>\n",
       "      <td>47b40429ed8cce3aee9199792275433f</td>\n",
       "      <td>2018-01-03 09:44:01</td>\n",
       "      <td>191.0</td>\n",
       "      <td>15.0</td>\n",
       "      <td>175.0</td>\n",
       "      <td>399.00</td>\n",
       "      <td>54.33</td>\n",
       "      <td>cb41bfbcbda0aea354a834ab222f9a59</td>\n",
       "      <td>ebf1c13032246ea801765e8cb5417365</td>\n",
       "      <td>0.136165</td>\n",
       "      <td>453.33</td>\n",
       "      <td>1.0</td>\n",
       "      <td>90.564373</td>\n",
       "    </tr>\n",
       "    <tr>\n",
       "      <th>51300</th>\n",
       "      <td>65b14237885b3972ebec28c0f7dd2220</td>\n",
       "      <td>78d26ae26b5bb9cb398edc7384d3c15f</td>\n",
       "      <td>2fe324febf907e3ea3f2aa9650869fa5</td>\n",
       "      <td>2017-03-13 20:17:10</td>\n",
       "      <td>189.0</td>\n",
       "      <td>22.0</td>\n",
       "      <td>167.0</td>\n",
       "      <td>39.90</td>\n",
       "      <td>16.05</td>\n",
       "      <td>df683dfda87bf71ac3fc63063fba369d</td>\n",
       "      <td>b75683e29689c1a989ae97883e8cad56</td>\n",
       "      <td>0.402256</td>\n",
       "      <td>55.95</td>\n",
       "      <td>1.0</td>\n",
       "      <td>828.831643</td>\n",
       "    </tr>\n",
       "    <tr>\n",
       "      <th>66330</th>\n",
       "      <td>8199345f57c6d1cbe9701f92481beb8d</td>\n",
       "      <td>186a453a38d349c487ccbf472b31fb39</td>\n",
       "      <td>2d7561026d542c8dbd8f0daeadf67a43</td>\n",
       "      <td>2017-03-15 11:24:27</td>\n",
       "      <td>188.0</td>\n",
       "      <td>28.0</td>\n",
       "      <td>159.0</td>\n",
       "      <td>32.90</td>\n",
       "      <td>20.80</td>\n",
       "      <td>e83c76265fc54bf41eac728805e4da77</td>\n",
       "      <td>7594c5fa74bceda1c2540003533a6e02</td>\n",
       "      <td>0.632219</td>\n",
       "      <td>53.70</td>\n",
       "      <td>3.0</td>\n",
       "      <td>1823.898123</td>\n",
       "    </tr>\n",
       "    <tr>\n",
       "      <th>90330</th>\n",
       "      <td>f85e9ec0719b16dc4dd0edd438793553</td>\n",
       "      <td>e7834c7e017fb854ac65189a66c33132</td>\n",
       "      <td>c27815f7e3dd0b926b58552628481575</td>\n",
       "      <td>2017-03-15 23:23:17</td>\n",
       "      <td>187.0</td>\n",
       "      <td>25.0</td>\n",
       "      <td>162.0</td>\n",
       "      <td>487.00</td>\n",
       "      <td>48.90</td>\n",
       "      <td>054694fa03fe82cec4b7551487331d74</td>\n",
       "      <td>05e8eca656b87428a0e8453a2f335cdf</td>\n",
       "      <td>0.100411</td>\n",
       "      <td>535.90</td>\n",
       "      <td>3.0</td>\n",
       "      <td>285.077486</td>\n",
       "    </tr>\n",
       "  </tbody>\n",
       "</table>\n",
       "</div>"
      ],
      "text/plain": [
       "                            customer_id                customer_unique_id  \\\n",
       "26975  75683a92331068e2d281b11a7866ba44  4a2519b6991378f6f2ce5ed22d308f03   \n",
       "68602  d306426abe5fca15e54b645e4462dc7b  eb21169c3153a2b507fc7e76d561ff14   \n",
       "3481   7815125148cfa1e8c7fee1ff7974f16c  f0785d41d416fa827f24c4b95d066b69   \n",
       "69212  217906bc11a32c1e470eb7e08584894b  c6c0b794d3e4eb69cd85d1438a0db26e   \n",
       "21160  9cf2c3fa2632cee748e1a59ca9d09b21  3c2564d42f7ddd8b7576f0dd9cb1b4c5   \n",
       "55006  1a8a4a30dc296976717f44e7801fdeef  4df2d7257a7463e2d7a98a5b08cb92fc   \n",
       "66803  cb2caaaead400c97350c37a3fc536867  4cb8ad9a4554099db7d70c13d0dae906   \n",
       "51300  65b14237885b3972ebec28c0f7dd2220  78d26ae26b5bb9cb398edc7384d3c15f   \n",
       "66330  8199345f57c6d1cbe9701f92481beb8d  186a453a38d349c487ccbf472b31fb39   \n",
       "90330  f85e9ec0719b16dc4dd0edd438793553  e7834c7e017fb854ac65189a66c33132   \n",
       "\n",
       "                               order_id order_purchase_timestamp  \\\n",
       "26975  ca07593549f1816d26a572e06dc1eab6      2017-02-21 23:31:27   \n",
       "68602  1b3190b2dfa9d789e1f14c05b647a14a      2018-02-23 14:57:35   \n",
       "3481   440d0d17af552815d15a9e41abe49359      2017-03-07 23:59:51   \n",
       "69212  2fb597c2f772eca01b1f5c561bf6cc7b      2017-03-08 18:09:02   \n",
       "21160  285ab9426d6982034523a855f55a885e      2017-03-08 22:47:40   \n",
       "55006  0f4519c5f1c541ddec9f21b3bddd533a      2017-03-09 13:26:57   \n",
       "66803  47b40429ed8cce3aee9199792275433f      2018-01-03 09:44:01   \n",
       "51300  2fe324febf907e3ea3f2aa9650869fa5      2017-03-13 20:17:10   \n",
       "66330  2d7561026d542c8dbd8f0daeadf67a43      2017-03-15 11:24:27   \n",
       "90330  c27815f7e3dd0b926b58552628481575      2017-03-15 23:23:17   \n",
       "\n",
       "       real_delivery_time  estimated_delivery_time  delay   price  \\\n",
       "26975               209.0                     28.0  181.0  229.90   \n",
       "68602               208.0                     19.0  188.0  144.99   \n",
       "3481                195.0                     30.0  165.0  159.90   \n",
       "69212               194.0                     39.0  155.0  239.96   \n",
       "21160               194.0                     28.0  166.0  429.90   \n",
       "55006               194.0                     32.0  161.0  231.27   \n",
       "66803               191.0                     15.0  175.0  399.00   \n",
       "51300               189.0                     22.0  167.0   39.90   \n",
       "66330               188.0                     28.0  159.0   32.90   \n",
       "90330               187.0                     25.0  162.0  487.00   \n",
       "\n",
       "       freight_value                         seller_id  \\\n",
       "26975          15.78  2a1348e9addc1af5aaa619b1a3679d6b   \n",
       "68602          17.26  7a67c85e85bb2ce8582c35f2203ad736   \n",
       "3481           25.12  2a1348e9addc1af5aaa619b1a3679d6b   \n",
       "69212         105.19  a7f13822ceb966b076af67121f87b063   \n",
       "21160          27.75  c847e075301870dd144a116762eaff9a   \n",
       "55006          27.88  7e93a43ef30c4f03f38b393420bc753a   \n",
       "66803          54.33  cb41bfbcbda0aea354a834ab222f9a59   \n",
       "51300          16.05  df683dfda87bf71ac3fc63063fba369d   \n",
       "66330          20.80  e83c76265fc54bf41eac728805e4da77   \n",
       "90330          48.90  054694fa03fe82cec4b7551487331d74   \n",
       "\n",
       "                             product_id  freight/price  payment_value  \\\n",
       "26975  8eed5d27f5b8c6248731efb4782f6141       0.068639         245.68   \n",
       "68602  ee406bf28024d97771c4b1e8b7e8e219       0.119043         162.25   \n",
       "3481   3bec03860f3782ef8993056e01b8229a       0.157098         185.02   \n",
       "69212  8ed094bfe076c568f6bb10feada3f75d       0.438365         345.15   \n",
       "21160  0c6fc9b9317a68d1cda098c063914b72       0.064550         457.65   \n",
       "55006  e0d64dcfaa3b6db5c54ca298ae101d05       0.120552         259.15   \n",
       "66803  ebf1c13032246ea801765e8cb5417365       0.136165         453.33   \n",
       "51300  b75683e29689c1a989ae97883e8cad56       0.402256          55.95   \n",
       "66330  7594c5fa74bceda1c2540003533a6e02       0.632219          53.70   \n",
       "90330  05e8eca656b87428a0e8453a2f335cdf       0.100411         535.90   \n",
       "\n",
       "       review_score     distance  \n",
       "26975           5.0   429.972607  \n",
       "68602           2.0   327.924374  \n",
       "3481            1.0  2129.768094  \n",
       "69212           4.0  2076.683225  \n",
       "21160           1.0  1475.190521  \n",
       "55006           4.0  2103.897550  \n",
       "66803           1.0    90.564373  \n",
       "51300           1.0   828.831643  \n",
       "66330           3.0  1823.898123  \n",
       "90330           3.0   285.077486  "
      ]
     },
     "execution_count": 53,
     "metadata": {},
     "output_type": "execute_result"
    }
   ],
   "source": [
    "# dataframe des delais de livraison réels le plus élevés\n",
    "customers.sort_values('real_delivery_time', ascending=False).head(10)"
   ]
  },
  {
   "cell_type": "code",
   "execution_count": 54,
   "id": "7332405d-7bb3-4ec8-a075-d7e2dd35bf68",
   "metadata": {},
   "outputs": [
    {
     "data": {
      "text/plain": [
       "4117"
      ]
     },
     "execution_count": 54,
     "metadata": {},
     "output_type": "execute_result"
    }
   ],
   "source": [
    "customers[customers['real_delivery_time'] > 30].shape[0]"
   ]
  },
  {
   "cell_type": "markdown",
   "id": "518f34c2-6a4b-495d-8420-4674fbaf8e41",
   "metadata": {},
   "source": [
    "Le commandes avec un delai de livraison réel supérieur à un mois representent le 4% des commandes. Il est normal que parfois il puisse y avoir des souci de livraison, il s'agit des valeurs atypiques mais pas aberrantes."
   ]
  },
  {
   "cell_type": "markdown",
   "id": "e3f37c38-0608-4d09-b757-b22843599125",
   "metadata": {},
   "source": [
    "### 3.2.2 estimated_delivery_time"
   ]
  },
  {
   "cell_type": "code",
   "execution_count": 55,
   "id": "c0980f6f-8f84-4003-b997-210ab3a0e2af",
   "metadata": {
    "tags": []
   },
   "outputs": [
    {
     "data": {
      "text/html": [
       "<div>\n",
       "<style scoped>\n",
       "    .dataframe tbody tr th:only-of-type {\n",
       "        vertical-align: middle;\n",
       "    }\n",
       "\n",
       "    .dataframe tbody tr th {\n",
       "        vertical-align: top;\n",
       "    }\n",
       "\n",
       "    .dataframe thead th {\n",
       "        text-align: right;\n",
       "    }\n",
       "</style>\n",
       "<table border=\"1\" class=\"dataframe\">\n",
       "  <thead>\n",
       "    <tr style=\"text-align: right;\">\n",
       "      <th></th>\n",
       "      <th>real_delivery_time</th>\n",
       "      <th>estimated_delivery_time</th>\n",
       "      <th>delay</th>\n",
       "      <th>price</th>\n",
       "      <th>freight_value</th>\n",
       "      <th>freight/price</th>\n",
       "      <th>payment_value</th>\n",
       "      <th>review_score</th>\n",
       "      <th>distance</th>\n",
       "    </tr>\n",
       "  </thead>\n",
       "  <tbody>\n",
       "    <tr>\n",
       "      <th>60568</th>\n",
       "      <td>20.0</td>\n",
       "      <td>155.0</td>\n",
       "      <td>-135.0</td>\n",
       "      <td>252.99</td>\n",
       "      <td>19.02</td>\n",
       "      <td>0.075181</td>\n",
       "      <td>272.01</td>\n",
       "      <td>3.0</td>\n",
       "      <td>1058.161511</td>\n",
       "    </tr>\n",
       "    <tr>\n",
       "      <th>32292</th>\n",
       "      <td>3.0</td>\n",
       "      <td>149.0</td>\n",
       "      <td>-147.0</td>\n",
       "      <td>125.98</td>\n",
       "      <td>20.18</td>\n",
       "      <td>0.160184</td>\n",
       "      <td>146.16</td>\n",
       "      <td>5.0</td>\n",
       "      <td>103.209427</td>\n",
       "    </tr>\n",
       "    <tr>\n",
       "      <th>28256</th>\n",
       "      <td>6.0</td>\n",
       "      <td>146.0</td>\n",
       "      <td>-140.0</td>\n",
       "      <td>25.90</td>\n",
       "      <td>26.09</td>\n",
       "      <td>1.007336</td>\n",
       "      <td>51.99</td>\n",
       "      <td>5.0</td>\n",
       "      <td>2367.755351</td>\n",
       "    </tr>\n",
       "    <tr>\n",
       "      <th>40360</th>\n",
       "      <td>16.0</td>\n",
       "      <td>140.0</td>\n",
       "      <td>-124.0</td>\n",
       "      <td>199.98</td>\n",
       "      <td>122.88</td>\n",
       "      <td>0.614461</td>\n",
       "      <td>322.86</td>\n",
       "      <td>5.0</td>\n",
       "      <td>333.854784</td>\n",
       "    </tr>\n",
       "    <tr>\n",
       "      <th>26299</th>\n",
       "      <td>7.0</td>\n",
       "      <td>116.0</td>\n",
       "      <td>-109.0</td>\n",
       "      <td>40.00</td>\n",
       "      <td>14.10</td>\n",
       "      <td>0.352500</td>\n",
       "      <td>54.10</td>\n",
       "      <td>5.0</td>\n",
       "      <td>337.456461</td>\n",
       "    </tr>\n",
       "    <tr>\n",
       "      <th>38149</th>\n",
       "      <td>54.0</td>\n",
       "      <td>109.0</td>\n",
       "      <td>-56.0</td>\n",
       "      <td>189.80</td>\n",
       "      <td>76.42</td>\n",
       "      <td>0.402634</td>\n",
       "      <td>266.22</td>\n",
       "      <td>2.0</td>\n",
       "      <td>2159.854444</td>\n",
       "    </tr>\n",
       "    <tr>\n",
       "      <th>13607</th>\n",
       "      <td>63.0</td>\n",
       "      <td>101.0</td>\n",
       "      <td>-38.0</td>\n",
       "      <td>179.90</td>\n",
       "      <td>45.34</td>\n",
       "      <td>0.252029</td>\n",
       "      <td>225.24</td>\n",
       "      <td>5.0</td>\n",
       "      <td>832.064369</td>\n",
       "    </tr>\n",
       "    <tr>\n",
       "      <th>71316</th>\n",
       "      <td>47.0</td>\n",
       "      <td>99.0</td>\n",
       "      <td>-52.0</td>\n",
       "      <td>179.90</td>\n",
       "      <td>45.34</td>\n",
       "      <td>0.252029</td>\n",
       "      <td>225.24</td>\n",
       "      <td>2.0</td>\n",
       "      <td>833.506131</td>\n",
       "    </tr>\n",
       "    <tr>\n",
       "      <th>56294</th>\n",
       "      <td>28.0</td>\n",
       "      <td>97.0</td>\n",
       "      <td>-69.0</td>\n",
       "      <td>169.90</td>\n",
       "      <td>70.41</td>\n",
       "      <td>0.414420</td>\n",
       "      <td>240.31</td>\n",
       "      <td>1.0</td>\n",
       "      <td>1703.780079</td>\n",
       "    </tr>\n",
       "    <tr>\n",
       "      <th>13678</th>\n",
       "      <td>55.0</td>\n",
       "      <td>96.0</td>\n",
       "      <td>-41.0</td>\n",
       "      <td>194.70</td>\n",
       "      <td>33.18</td>\n",
       "      <td>0.170416</td>\n",
       "      <td>227.88</td>\n",
       "      <td>5.0</td>\n",
       "      <td>4.462238</td>\n",
       "    </tr>\n",
       "  </tbody>\n",
       "</table>\n",
       "</div>"
      ],
      "text/plain": [
       "       real_delivery_time  estimated_delivery_time  delay   price  \\\n",
       "60568                20.0                    155.0 -135.0  252.99   \n",
       "32292                 3.0                    149.0 -147.0  125.98   \n",
       "28256                 6.0                    146.0 -140.0   25.90   \n",
       "40360                16.0                    140.0 -124.0  199.98   \n",
       "26299                 7.0                    116.0 -109.0   40.00   \n",
       "38149                54.0                    109.0  -56.0  189.80   \n",
       "13607                63.0                    101.0  -38.0  179.90   \n",
       "71316                47.0                     99.0  -52.0  179.90   \n",
       "56294                28.0                     97.0  -69.0  169.90   \n",
       "13678                55.0                     96.0  -41.0  194.70   \n",
       "\n",
       "       freight_value  freight/price  payment_value  review_score     distance  \n",
       "60568          19.02       0.075181         272.01           3.0  1058.161511  \n",
       "32292          20.18       0.160184         146.16           5.0   103.209427  \n",
       "28256          26.09       1.007336          51.99           5.0  2367.755351  \n",
       "40360         122.88       0.614461         322.86           5.0   333.854784  \n",
       "26299          14.10       0.352500          54.10           5.0   337.456461  \n",
       "38149          76.42       0.402634         266.22           2.0  2159.854444  \n",
       "13607          45.34       0.252029         225.24           5.0   832.064369  \n",
       "71316          45.34       0.252029         225.24           2.0   833.506131  \n",
       "56294          70.41       0.414420         240.31           1.0  1703.780079  \n",
       "13678          33.18       0.170416         227.88           5.0     4.462238  "
      ]
     },
     "execution_count": 55,
     "metadata": {},
     "output_type": "execute_result"
    }
   ],
   "source": [
    "# dataframe avec les delais de livraison éstimés les plus élévés\n",
    "customers.sort_values(\n",
    "    'estimated_delivery_time', ascending=False\n",
    ").select_dtypes('float64').head(10)"
   ]
  },
  {
   "cell_type": "code",
   "execution_count": 56,
   "id": "edea662c-7f9b-4516-952f-6f239d8e43b6",
   "metadata": {},
   "outputs": [
    {
     "data": {
      "text/html": [
       "<div>\n",
       "<style scoped>\n",
       "    .dataframe tbody tr th:only-of-type {\n",
       "        vertical-align: middle;\n",
       "    }\n",
       "\n",
       "    .dataframe tbody tr th {\n",
       "        vertical-align: top;\n",
       "    }\n",
       "\n",
       "    .dataframe thead th {\n",
       "        text-align: right;\n",
       "    }\n",
       "</style>\n",
       "<table border=\"1\" class=\"dataframe\">\n",
       "  <thead>\n",
       "    <tr style=\"text-align: right;\">\n",
       "      <th></th>\n",
       "      <th>real_delivery_time</th>\n",
       "      <th>estimated_delivery_time</th>\n",
       "      <th>delay</th>\n",
       "      <th>price</th>\n",
       "      <th>freight_value</th>\n",
       "      <th>freight/price</th>\n",
       "      <th>payment_value</th>\n",
       "      <th>review_score</th>\n",
       "      <th>distance</th>\n",
       "    </tr>\n",
       "  </thead>\n",
       "  <tbody>\n",
       "    <tr>\n",
       "      <th>35987</th>\n",
       "      <td>9.0</td>\n",
       "      <td>37.0</td>\n",
       "      <td>-28.0</td>\n",
       "      <td>109.82</td>\n",
       "      <td>20.01</td>\n",
       "      <td>0.182207</td>\n",
       "      <td>129.83</td>\n",
       "      <td>4.0</td>\n",
       "      <td>1323.082368</td>\n",
       "    </tr>\n",
       "    <tr>\n",
       "      <th>35179</th>\n",
       "      <td>22.0</td>\n",
       "      <td>34.0</td>\n",
       "      <td>-13.0</td>\n",
       "      <td>129.00</td>\n",
       "      <td>18.15</td>\n",
       "      <td>0.140698</td>\n",
       "      <td>147.15</td>\n",
       "      <td>5.0</td>\n",
       "      <td>598.509765</td>\n",
       "    </tr>\n",
       "    <tr>\n",
       "      <th>44846</th>\n",
       "      <td>19.0</td>\n",
       "      <td>35.0</td>\n",
       "      <td>-17.0</td>\n",
       "      <td>160.00</td>\n",
       "      <td>38.67</td>\n",
       "      <td>0.241687</td>\n",
       "      <td>198.67</td>\n",
       "      <td>4.0</td>\n",
       "      <td>2161.711992</td>\n",
       "    </tr>\n",
       "    <tr>\n",
       "      <th>51415</th>\n",
       "      <td>22.0</td>\n",
       "      <td>36.0</td>\n",
       "      <td>-15.0</td>\n",
       "      <td>39.99</td>\n",
       "      <td>15.10</td>\n",
       "      <td>0.377594</td>\n",
       "      <td>55.09</td>\n",
       "      <td>3.0</td>\n",
       "      <td>583.706189</td>\n",
       "    </tr>\n",
       "    <tr>\n",
       "      <th>88782</th>\n",
       "      <td>31.0</td>\n",
       "      <td>32.0</td>\n",
       "      <td>-1.0</td>\n",
       "      <td>38.90</td>\n",
       "      <td>16.79</td>\n",
       "      <td>0.431620</td>\n",
       "      <td>55.69</td>\n",
       "      <td>2.0</td>\n",
       "      <td>1122.775877</td>\n",
       "    </tr>\n",
       "    <tr>\n",
       "      <th>11989</th>\n",
       "      <td>31.0</td>\n",
       "      <td>33.0</td>\n",
       "      <td>-2.0</td>\n",
       "      <td>69.00</td>\n",
       "      <td>22.41</td>\n",
       "      <td>0.324783</td>\n",
       "      <td>91.41</td>\n",
       "      <td>5.0</td>\n",
       "      <td>1186.477357</td>\n",
       "    </tr>\n",
       "    <tr>\n",
       "      <th>70128</th>\n",
       "      <td>8.0</td>\n",
       "      <td>49.0</td>\n",
       "      <td>-42.0</td>\n",
       "      <td>49.74</td>\n",
       "      <td>48.70</td>\n",
       "      <td>0.979091</td>\n",
       "      <td>98.44</td>\n",
       "      <td>5.0</td>\n",
       "      <td>2677.819697</td>\n",
       "    </tr>\n",
       "    <tr>\n",
       "      <th>18348</th>\n",
       "      <td>7.0</td>\n",
       "      <td>31.0</td>\n",
       "      <td>-24.0</td>\n",
       "      <td>38.90</td>\n",
       "      <td>12.48</td>\n",
       "      <td>0.320823</td>\n",
       "      <td>51.38</td>\n",
       "      <td>5.0</td>\n",
       "      <td>124.066923</td>\n",
       "    </tr>\n",
       "    <tr>\n",
       "      <th>44282</th>\n",
       "      <td>16.0</td>\n",
       "      <td>35.0</td>\n",
       "      <td>-20.0</td>\n",
       "      <td>27.90</td>\n",
       "      <td>15.10</td>\n",
       "      <td>0.541219</td>\n",
       "      <td>43.00</td>\n",
       "      <td>5.0</td>\n",
       "      <td>296.557854</td>\n",
       "    </tr>\n",
       "    <tr>\n",
       "      <th>65558</th>\n",
       "      <td>5.0</td>\n",
       "      <td>33.0</td>\n",
       "      <td>-29.0</td>\n",
       "      <td>1299.00</td>\n",
       "      <td>52.94</td>\n",
       "      <td>0.040754</td>\n",
       "      <td>1351.94</td>\n",
       "      <td>5.0</td>\n",
       "      <td>2240.649836</td>\n",
       "    </tr>\n",
       "  </tbody>\n",
       "</table>\n",
       "</div>"
      ],
      "text/plain": [
       "       real_delivery_time  estimated_delivery_time  delay    price  \\\n",
       "35987                 9.0                     37.0  -28.0   109.82   \n",
       "35179                22.0                     34.0  -13.0   129.00   \n",
       "44846                19.0                     35.0  -17.0   160.00   \n",
       "51415                22.0                     36.0  -15.0    39.99   \n",
       "88782                31.0                     32.0   -1.0    38.90   \n",
       "11989                31.0                     33.0   -2.0    69.00   \n",
       "70128                 8.0                     49.0  -42.0    49.74   \n",
       "18348                 7.0                     31.0  -24.0    38.90   \n",
       "44282                16.0                     35.0  -20.0    27.90   \n",
       "65558                 5.0                     33.0  -29.0  1299.00   \n",
       "\n",
       "       freight_value  freight/price  payment_value  review_score     distance  \n",
       "35987          20.01       0.182207         129.83           4.0  1323.082368  \n",
       "35179          18.15       0.140698         147.15           5.0   598.509765  \n",
       "44846          38.67       0.241687         198.67           4.0  2161.711992  \n",
       "51415          15.10       0.377594          55.09           3.0   583.706189  \n",
       "88782          16.79       0.431620          55.69           2.0  1122.775877  \n",
       "11989          22.41       0.324783          91.41           5.0  1186.477357  \n",
       "70128          48.70       0.979091          98.44           5.0  2677.819697  \n",
       "18348          12.48       0.320823          51.38           5.0   124.066923  \n",
       "44282          15.10       0.541219          43.00           5.0   296.557854  \n",
       "65558          52.94       0.040754        1351.94           5.0  2240.649836  "
      ]
     },
     "execution_count": 56,
     "metadata": {},
     "output_type": "execute_result"
    }
   ],
   "source": [
    "# échantillon des données avec delai estimé de livraison supèrieur à un mois\n",
    "customers[customers['estimated_delivery_time'] > 30].select_dtypes(\n",
    "    'float64').sample(10)"
   ]
  },
  {
   "cell_type": "markdown",
   "id": "47da022d-fe67-44a6-be68-b806aa113baa",
   "metadata": {},
   "source": [
    "On peut voir que, même si le delai de livraison estimé est très grand, le delai de livraison réel est beaucoup plus petit.\n",
    "Ainsi, il ne s'agit pas des valeurs vraiment aberrantes, mais probablement une surestimation systématique du delai de livraison.\n"
   ]
  },
  {
   "cell_type": "markdown",
   "id": "73c50d9a-cc38-40e5-b491-4eb142fcca4b",
   "metadata": {},
   "source": [
    "### 3.2.3 delay"
   ]
  },
  {
   "cell_type": "markdown",
   "id": "31d701b9-7c3f-4fef-9931-4a190343a26e",
   "metadata": {},
   "source": [
    "Les valeurs très négatives de la variable `delay` sont expliqués par la surestimation systématique du delai de livraison. \n",
    "Je vais examiner les commandes pour lesquels le retard est supérieur à une semaine et à un mois.\n"
   ]
  },
  {
   "cell_type": "code",
   "execution_count": 57,
   "id": "5c7f5bec-062d-4dee-b42e-41395b82ec24",
   "metadata": {},
   "outputs": [
    {
     "data": {
      "text/plain": [
       "(2862, 15)"
      ]
     },
     "execution_count": 57,
     "metadata": {},
     "output_type": "execute_result"
    }
   ],
   "source": [
    "# nombre des commandes avec un retard supérieur à 7\n",
    "customers[customers['delay'] > 7].shape"
   ]
  },
  {
   "cell_type": "code",
   "execution_count": 58,
   "id": "1e6cf476-bf88-45c7-81e2-d5ef3e98ecc8",
   "metadata": {},
   "outputs": [
    {
     "data": {
      "text/plain": [
       "(345, 15)"
      ]
     },
     "execution_count": 58,
     "metadata": {},
     "output_type": "execute_result"
    }
   ],
   "source": [
    "# nombre des commandes avec un retard supérieur à 30\n",
    "customers[customers['delay'] > 30].shape"
   ]
  },
  {
   "cell_type": "markdown",
   "id": "883095f4-91e5-418b-8778-51ad60bad962",
   "metadata": {},
   "source": [
    "Le nombre de commandes avec un retard de livraison élévé est petit par rapport au nombre de commandes totales. Il est normal que parfois il puisse y avoir des souci de livraison, il s'agit des valeurs atypiques mais pas aberrantes."
   ]
  },
  {
   "cell_type": "markdown",
   "id": "41b0aabb-f982-4b77-936f-14153366e602",
   "metadata": {},
   "source": [
    "### 3.2.4 price"
   ]
  },
  {
   "cell_type": "code",
   "execution_count": 59,
   "id": "03087661-6d5f-4667-be8d-f5c2a91c6166",
   "metadata": {},
   "outputs": [
    {
     "data": {
      "text/html": [
       "<div>\n",
       "<style scoped>\n",
       "    .dataframe tbody tr th:only-of-type {\n",
       "        vertical-align: middle;\n",
       "    }\n",
       "\n",
       "    .dataframe tbody tr th {\n",
       "        vertical-align: top;\n",
       "    }\n",
       "\n",
       "    .dataframe thead th {\n",
       "        text-align: right;\n",
       "    }\n",
       "</style>\n",
       "<table border=\"1\" class=\"dataframe\">\n",
       "  <thead>\n",
       "    <tr style=\"text-align: right;\">\n",
       "      <th></th>\n",
       "      <th>customer_id</th>\n",
       "      <th>customer_unique_id</th>\n",
       "      <th>order_id</th>\n",
       "      <th>order_purchase_timestamp</th>\n",
       "      <th>real_delivery_time</th>\n",
       "      <th>estimated_delivery_time</th>\n",
       "      <th>delay</th>\n",
       "      <th>price</th>\n",
       "      <th>freight_value</th>\n",
       "      <th>seller_id</th>\n",
       "      <th>product_id</th>\n",
       "      <th>freight/price</th>\n",
       "      <th>payment_value</th>\n",
       "      <th>review_score</th>\n",
       "      <th>distance</th>\n",
       "    </tr>\n",
       "  </thead>\n",
       "  <tbody>\n",
       "    <tr>\n",
       "      <th>6010</th>\n",
       "      <td>1617b1357756262bfa56ab541c47bc16</td>\n",
       "      <td>0a0a92112bd4c708ca5fde585afaa872</td>\n",
       "      <td>03caa2c082116e1d31e67e9ae3700499</td>\n",
       "      <td>2017-09-29 15:24:52</td>\n",
       "      <td>18.0</td>\n",
       "      <td>23.0</td>\n",
       "      <td>-6.0</td>\n",
       "      <td>13440.0</td>\n",
       "      <td>224.08</td>\n",
       "      <td>b37c4c02bda3161a7546a4e6d222d5b2</td>\n",
       "      <td>5769ef0a239114ac3a854af00df129e4</td>\n",
       "      <td>0.016673</td>\n",
       "      <td>13664.08</td>\n",
       "      <td>1.0</td>\n",
       "      <td>345.405946</td>\n",
       "    </tr>\n",
       "    <tr>\n",
       "      <th>95509</th>\n",
       "      <td>ec5b2ba62e574342386871631fafd3fc</td>\n",
       "      <td>763c8b1c9c68a0229c42c9fc6f662b93</td>\n",
       "      <td>736e1922ae60d0d6a89247b851902527</td>\n",
       "      <td>2018-07-15 14:49:44</td>\n",
       "      <td>11.0</td>\n",
       "      <td>17.0</td>\n",
       "      <td>-7.0</td>\n",
       "      <td>7160.0</td>\n",
       "      <td>114.88</td>\n",
       "      <td>b37c4c02bda3161a7546a4e6d222d5b2</td>\n",
       "      <td>19936fa4f614ee0590d3b77ac83fd648</td>\n",
       "      <td>0.016045</td>\n",
       "      <td>7274.88</td>\n",
       "      <td>1.0</td>\n",
       "      <td>728.347845</td>\n",
       "    </tr>\n",
       "    <tr>\n",
       "      <th>13057</th>\n",
       "      <td>c6e2731c5b391845f6800c97401a43a9</td>\n",
       "      <td>dc4802a71eae9be1dd28f5d788ceb526</td>\n",
       "      <td>0812eb902a67711a1cb742b3cdaa65ae</td>\n",
       "      <td>2017-02-12 20:37:36</td>\n",
       "      <td>18.0</td>\n",
       "      <td>24.0</td>\n",
       "      <td>-6.0</td>\n",
       "      <td>6735.0</td>\n",
       "      <td>194.31</td>\n",
       "      <td>e3b4998c7a498169dc7bce44e6bb6277</td>\n",
       "      <td>489ae2aa008f021502940f251d4cce7f</td>\n",
       "      <td>0.028851</td>\n",
       "      <td>6929.31</td>\n",
       "      <td>5.0</td>\n",
       "      <td>895.682740</td>\n",
       "    </tr>\n",
       "    <tr>\n",
       "      <th>20549</th>\n",
       "      <td>f48d464a0baaea338cb25f816991ab1f</td>\n",
       "      <td>459bef486812aa25204be022145caa62</td>\n",
       "      <td>fefacc66af859508bf1a7934eab1e97f</td>\n",
       "      <td>2018-07-25 18:10:17</td>\n",
       "      <td>20.0</td>\n",
       "      <td>15.0</td>\n",
       "      <td>5.0</td>\n",
       "      <td>6729.0</td>\n",
       "      <td>193.21</td>\n",
       "      <td>80ceebb4ee9b31afb6c6a916a574a1e2</td>\n",
       "      <td>69c590f7ffc7bf8db97190b6cb6ed62e</td>\n",
       "      <td>0.028713</td>\n",
       "      <td>6922.21</td>\n",
       "      <td>5.0</td>\n",
       "      <td>1171.341502</td>\n",
       "    </tr>\n",
       "    <tr>\n",
       "      <th>3776</th>\n",
       "      <td>3fd6777bbce08a352fddd04e4a7cc8f6</td>\n",
       "      <td>ff4159b92c40ebe40454e3e6a7c35ed6</td>\n",
       "      <td>f5136e38d1a14a4dbd87dff67da82701</td>\n",
       "      <td>2017-05-24 18:14:34</td>\n",
       "      <td>11.0</td>\n",
       "      <td>34.0</td>\n",
       "      <td>-23.0</td>\n",
       "      <td>6499.0</td>\n",
       "      <td>227.66</td>\n",
       "      <td>ee27a8f15b1dded4d213a468ba4eb391</td>\n",
       "      <td>1bdf5e6731585cf01aa8169c7028d6ad</td>\n",
       "      <td>0.035030</td>\n",
       "      <td>6726.66</td>\n",
       "      <td>5.0</td>\n",
       "      <td>616.608206</td>\n",
       "    </tr>\n",
       "    <tr>\n",
       "      <th>83793</th>\n",
       "      <td>05455dfa7cd02f13d132aa7a6a9729c6</td>\n",
       "      <td>4007669dec559734d6f53e029e360987</td>\n",
       "      <td>2cc9089445046817a7539d90805e6e5a</td>\n",
       "      <td>2017-11-24 11:03:35</td>\n",
       "      <td>19.0</td>\n",
       "      <td>27.0</td>\n",
       "      <td>-9.0</td>\n",
       "      <td>5934.6</td>\n",
       "      <td>146.94</td>\n",
       "      <td>f08a5b9dd6767129688d001acafc21e5</td>\n",
       "      <td>c183fd5d2abf05873fa6e1014ed9e06c</td>\n",
       "      <td>0.024760</td>\n",
       "      <td>6081.54</td>\n",
       "      <td>1.0</td>\n",
       "      <td>1264.674007</td>\n",
       "    </tr>\n",
       "    <tr>\n",
       "      <th>26510</th>\n",
       "      <td>df55c14d1476a9a3467f131269c2477f</td>\n",
       "      <td>da122df9eeddfedc1dc1f5349a1a690c</td>\n",
       "      <td>a96610ab360d42a2e5335a3998b4718a</td>\n",
       "      <td>2017-04-01 15:58:40</td>\n",
       "      <td>15.0</td>\n",
       "      <td>30.0</td>\n",
       "      <td>-15.0</td>\n",
       "      <td>4799.0</td>\n",
       "      <td>151.34</td>\n",
       "      <td>59417c56835dd8e2e72f91f809cd4092</td>\n",
       "      <td>a6492cc69376c469ab6f61d8f44de961</td>\n",
       "      <td>0.031536</td>\n",
       "      <td>4950.34</td>\n",
       "      <td>5.0</td>\n",
       "      <td>522.243034</td>\n",
       "    </tr>\n",
       "    <tr>\n",
       "      <th>11697</th>\n",
       "      <td>24bbf5fd2f2e1b359ee7de94defc4a15</td>\n",
       "      <td>eebb5dda148d3893cdaf5b5ca3040ccb</td>\n",
       "      <td>199af31afc78c699f0dbf71fb178d4d4</td>\n",
       "      <td>2017-04-18 18:50:13</td>\n",
       "      <td>18.0</td>\n",
       "      <td>26.0</td>\n",
       "      <td>-8.0</td>\n",
       "      <td>4690.0</td>\n",
       "      <td>74.34</td>\n",
       "      <td>59417c56835dd8e2e72f91f809cd4092</td>\n",
       "      <td>c3ed642d592594bb648ff4a04cee2747</td>\n",
       "      <td>0.015851</td>\n",
       "      <td>4764.34</td>\n",
       "      <td>4.0</td>\n",
       "      <td>158.554783</td>\n",
       "    </tr>\n",
       "    <tr>\n",
       "      <th>39480</th>\n",
       "      <td>3d979689f636322c62418b6346b1c6d2</td>\n",
       "      <td>48e1ac109decbb87765a3eade6854098</td>\n",
       "      <td>8dbc85d1447242f3b127dda390d56e19</td>\n",
       "      <td>2018-06-22 12:23:19</td>\n",
       "      <td>13.0</td>\n",
       "      <td>24.0</td>\n",
       "      <td>-11.0</td>\n",
       "      <td>4590.0</td>\n",
       "      <td>91.78</td>\n",
       "      <td>c72de06d72748d1a0dfb2125be43ba63</td>\n",
       "      <td>259037a6a41845e455183f89c5035f18</td>\n",
       "      <td>0.019996</td>\n",
       "      <td>4681.78</td>\n",
       "      <td>5.0</td>\n",
       "      <td>1174.667037</td>\n",
       "    </tr>\n",
       "    <tr>\n",
       "      <th>53365</th>\n",
       "      <td>cc803a2c412833101651d3f90ca7de24</td>\n",
       "      <td>a229eba70ec1c2abef51f04987deb7a5</td>\n",
       "      <td>d2f270487125ddc41fd134c4003ad1d7</td>\n",
       "      <td>2018-05-31 22:57:07</td>\n",
       "      <td>4.0</td>\n",
       "      <td>27.0</td>\n",
       "      <td>-23.0</td>\n",
       "      <td>4400.0</td>\n",
       "      <td>45.50</td>\n",
       "      <td>2bf6a2c1e71bbd29a4ad64e6d3c3629f</td>\n",
       "      <td>df676834e2a38e1bf267bd85a2dc8e3a</td>\n",
       "      <td>0.010341</td>\n",
       "      <td>4445.50</td>\n",
       "      <td>5.0</td>\n",
       "      <td>88.418416</td>\n",
       "    </tr>\n",
       "  </tbody>\n",
       "</table>\n",
       "</div>"
      ],
      "text/plain": [
       "                            customer_id                customer_unique_id  \\\n",
       "6010   1617b1357756262bfa56ab541c47bc16  0a0a92112bd4c708ca5fde585afaa872   \n",
       "95509  ec5b2ba62e574342386871631fafd3fc  763c8b1c9c68a0229c42c9fc6f662b93   \n",
       "13057  c6e2731c5b391845f6800c97401a43a9  dc4802a71eae9be1dd28f5d788ceb526   \n",
       "20549  f48d464a0baaea338cb25f816991ab1f  459bef486812aa25204be022145caa62   \n",
       "3776   3fd6777bbce08a352fddd04e4a7cc8f6  ff4159b92c40ebe40454e3e6a7c35ed6   \n",
       "83793  05455dfa7cd02f13d132aa7a6a9729c6  4007669dec559734d6f53e029e360987   \n",
       "26510  df55c14d1476a9a3467f131269c2477f  da122df9eeddfedc1dc1f5349a1a690c   \n",
       "11697  24bbf5fd2f2e1b359ee7de94defc4a15  eebb5dda148d3893cdaf5b5ca3040ccb   \n",
       "39480  3d979689f636322c62418b6346b1c6d2  48e1ac109decbb87765a3eade6854098   \n",
       "53365  cc803a2c412833101651d3f90ca7de24  a229eba70ec1c2abef51f04987deb7a5   \n",
       "\n",
       "                               order_id order_purchase_timestamp  \\\n",
       "6010   03caa2c082116e1d31e67e9ae3700499      2017-09-29 15:24:52   \n",
       "95509  736e1922ae60d0d6a89247b851902527      2018-07-15 14:49:44   \n",
       "13057  0812eb902a67711a1cb742b3cdaa65ae      2017-02-12 20:37:36   \n",
       "20549  fefacc66af859508bf1a7934eab1e97f      2018-07-25 18:10:17   \n",
       "3776   f5136e38d1a14a4dbd87dff67da82701      2017-05-24 18:14:34   \n",
       "83793  2cc9089445046817a7539d90805e6e5a      2017-11-24 11:03:35   \n",
       "26510  a96610ab360d42a2e5335a3998b4718a      2017-04-01 15:58:40   \n",
       "11697  199af31afc78c699f0dbf71fb178d4d4      2017-04-18 18:50:13   \n",
       "39480  8dbc85d1447242f3b127dda390d56e19      2018-06-22 12:23:19   \n",
       "53365  d2f270487125ddc41fd134c4003ad1d7      2018-05-31 22:57:07   \n",
       "\n",
       "       real_delivery_time  estimated_delivery_time  delay    price  \\\n",
       "6010                 18.0                     23.0   -6.0  13440.0   \n",
       "95509                11.0                     17.0   -7.0   7160.0   \n",
       "13057                18.0                     24.0   -6.0   6735.0   \n",
       "20549                20.0                     15.0    5.0   6729.0   \n",
       "3776                 11.0                     34.0  -23.0   6499.0   \n",
       "83793                19.0                     27.0   -9.0   5934.6   \n",
       "26510                15.0                     30.0  -15.0   4799.0   \n",
       "11697                18.0                     26.0   -8.0   4690.0   \n",
       "39480                13.0                     24.0  -11.0   4590.0   \n",
       "53365                 4.0                     27.0  -23.0   4400.0   \n",
       "\n",
       "       freight_value                         seller_id  \\\n",
       "6010          224.08  b37c4c02bda3161a7546a4e6d222d5b2   \n",
       "95509         114.88  b37c4c02bda3161a7546a4e6d222d5b2   \n",
       "13057         194.31  e3b4998c7a498169dc7bce44e6bb6277   \n",
       "20549         193.21  80ceebb4ee9b31afb6c6a916a574a1e2   \n",
       "3776          227.66  ee27a8f15b1dded4d213a468ba4eb391   \n",
       "83793         146.94  f08a5b9dd6767129688d001acafc21e5   \n",
       "26510         151.34  59417c56835dd8e2e72f91f809cd4092   \n",
       "11697          74.34  59417c56835dd8e2e72f91f809cd4092   \n",
       "39480          91.78  c72de06d72748d1a0dfb2125be43ba63   \n",
       "53365          45.50  2bf6a2c1e71bbd29a4ad64e6d3c3629f   \n",
       "\n",
       "                             product_id  freight/price  payment_value  \\\n",
       "6010   5769ef0a239114ac3a854af00df129e4       0.016673       13664.08   \n",
       "95509  19936fa4f614ee0590d3b77ac83fd648       0.016045        7274.88   \n",
       "13057  489ae2aa008f021502940f251d4cce7f       0.028851        6929.31   \n",
       "20549  69c590f7ffc7bf8db97190b6cb6ed62e       0.028713        6922.21   \n",
       "3776   1bdf5e6731585cf01aa8169c7028d6ad       0.035030        6726.66   \n",
       "83793  c183fd5d2abf05873fa6e1014ed9e06c       0.024760        6081.54   \n",
       "26510  a6492cc69376c469ab6f61d8f44de961       0.031536        4950.34   \n",
       "11697  c3ed642d592594bb648ff4a04cee2747       0.015851        4764.34   \n",
       "39480  259037a6a41845e455183f89c5035f18       0.019996        4681.78   \n",
       "53365  df676834e2a38e1bf267bd85a2dc8e3a       0.010341        4445.50   \n",
       "\n",
       "       review_score     distance  \n",
       "6010            1.0   345.405946  \n",
       "95509           1.0   728.347845  \n",
       "13057           5.0   895.682740  \n",
       "20549           5.0  1171.341502  \n",
       "3776            5.0   616.608206  \n",
       "83793           1.0  1264.674007  \n",
       "26510           5.0   522.243034  \n",
       "11697           4.0   158.554783  \n",
       "39480           5.0  1174.667037  \n",
       "53365           5.0    88.418416  "
      ]
     },
     "execution_count": 59,
     "metadata": {},
     "output_type": "execute_result"
    }
   ],
   "source": [
    "# dataframe des prix les plus élevés\n",
    "customers.sort_values('price', ascending=False).head(10)"
   ]
  },
  {
   "cell_type": "code",
   "execution_count": 60,
   "id": "f81f9f21-7676-4529-83da-fcba7161d21e",
   "metadata": {},
   "outputs": [],
   "source": [
    "# product_id des commandes avec les prix le plus elevé\n",
    "price_outliers = customers.sort_values(\n",
    "    'price', ascending=False\n",
    ").head(10)['product_id'].values"
   ]
  },
  {
   "cell_type": "code",
   "execution_count": 61,
   "id": "f7d7cf11-4700-4891-8de9-47cb47f055ea",
   "metadata": {},
   "outputs": [
    {
     "data": {
      "text/html": [
       "<div>\n",
       "<style scoped>\n",
       "    .dataframe tbody tr th:only-of-type {\n",
       "        vertical-align: middle;\n",
       "    }\n",
       "\n",
       "    .dataframe tbody tr th {\n",
       "        vertical-align: top;\n",
       "    }\n",
       "\n",
       "    .dataframe thead th {\n",
       "        text-align: right;\n",
       "    }\n",
       "</style>\n",
       "<table border=\"1\" class=\"dataframe\">\n",
       "  <thead>\n",
       "    <tr style=\"text-align: right;\">\n",
       "      <th></th>\n",
       "      <th>product_id</th>\n",
       "      <th>product_category_name</th>\n",
       "      <th>product_name_lenght</th>\n",
       "      <th>product_description_lenght</th>\n",
       "      <th>product_photos_qty</th>\n",
       "      <th>product_weight_g</th>\n",
       "      <th>product_length_cm</th>\n",
       "      <th>product_height_cm</th>\n",
       "      <th>product_width_cm</th>\n",
       "    </tr>\n",
       "  </thead>\n",
       "  <tbody>\n",
       "    <tr>\n",
       "      <th>5755</th>\n",
       "      <td>19936fa4f614ee0590d3b77ac83fd648</td>\n",
       "      <td>telefonia_fixa</td>\n",
       "      <td>34.0</td>\n",
       "      <td>1016.0</td>\n",
       "      <td>2.0</td>\n",
       "      <td>1100.0</td>\n",
       "      <td>20.0</td>\n",
       "      <td>16.0</td>\n",
       "      <td>20.0</td>\n",
       "    </tr>\n",
       "    <tr>\n",
       "      <th>5899</th>\n",
       "      <td>489ae2aa008f021502940f251d4cce7f</td>\n",
       "      <td>utilidades_domesticas</td>\n",
       "      <td>31.0</td>\n",
       "      <td>875.0</td>\n",
       "      <td>2.0</td>\n",
       "      <td>30000.0</td>\n",
       "      <td>60.0</td>\n",
       "      <td>61.0</td>\n",
       "      <td>33.0</td>\n",
       "    </tr>\n",
       "    <tr>\n",
       "      <th>9530</th>\n",
       "      <td>c3ed642d592594bb648ff4a04cee2747</td>\n",
       "      <td>eletroportateis</td>\n",
       "      <td>59.0</td>\n",
       "      <td>2217.0</td>\n",
       "      <td>2.0</td>\n",
       "      <td>30000.0</td>\n",
       "      <td>50.0</td>\n",
       "      <td>49.0</td>\n",
       "      <td>50.0</td>\n",
       "    </tr>\n",
       "    <tr>\n",
       "      <th>14423</th>\n",
       "      <td>1bdf5e6731585cf01aa8169c7028d6ad</td>\n",
       "      <td>artes</td>\n",
       "      <td>28.0</td>\n",
       "      <td>3954.0</td>\n",
       "      <td>2.0</td>\n",
       "      <td>7400.0</td>\n",
       "      <td>47.0</td>\n",
       "      <td>25.0</td>\n",
       "      <td>25.0</td>\n",
       "    </tr>\n",
       "    <tr>\n",
       "      <th>19459</th>\n",
       "      <td>df676834e2a38e1bf267bd85a2dc8e3a</td>\n",
       "      <td>relogios_presentes</td>\n",
       "      <td>43.0</td>\n",
       "      <td>987.0</td>\n",
       "      <td>1.0</td>\n",
       "      <td>550.0</td>\n",
       "      <td>17.0</td>\n",
       "      <td>14.0</td>\n",
       "      <td>15.0</td>\n",
       "    </tr>\n",
       "    <tr>\n",
       "      <th>21197</th>\n",
       "      <td>a6492cc69376c469ab6f61d8f44de961</td>\n",
       "      <td>eletroportateis</td>\n",
       "      <td>41.0</td>\n",
       "      <td>1780.0</td>\n",
       "      <td>2.0</td>\n",
       "      <td>22600.0</td>\n",
       "      <td>55.0</td>\n",
       "      <td>40.0</td>\n",
       "      <td>40.0</td>\n",
       "    </tr>\n",
       "    <tr>\n",
       "      <th>21768</th>\n",
       "      <td>69c590f7ffc7bf8db97190b6cb6ed62e</td>\n",
       "      <td>pcs</td>\n",
       "      <td>50.0</td>\n",
       "      <td>1935.0</td>\n",
       "      <td>4.0</td>\n",
       "      <td>5660.0</td>\n",
       "      <td>54.0</td>\n",
       "      <td>18.0</td>\n",
       "      <td>47.0</td>\n",
       "    </tr>\n",
       "    <tr>\n",
       "      <th>24994</th>\n",
       "      <td>259037a6a41845e455183f89c5035f18</td>\n",
       "      <td>pcs</td>\n",
       "      <td>55.0</td>\n",
       "      <td>1710.0</td>\n",
       "      <td>2.0</td>\n",
       "      <td>2900.0</td>\n",
       "      <td>35.0</td>\n",
       "      <td>10.0</td>\n",
       "      <td>40.0</td>\n",
       "    </tr>\n",
       "    <tr>\n",
       "      <th>25620</th>\n",
       "      <td>5769ef0a239114ac3a854af00df129e4</td>\n",
       "      <td>telefonia_fixa</td>\n",
       "      <td>39.0</td>\n",
       "      <td>2493.0</td>\n",
       "      <td>3.0</td>\n",
       "      <td>750.0</td>\n",
       "      <td>16.0</td>\n",
       "      <td>16.0</td>\n",
       "      <td>16.0</td>\n",
       "    </tr>\n",
       "    <tr>\n",
       "      <th>27006</th>\n",
       "      <td>c183fd5d2abf05873fa6e1014ed9e06c</td>\n",
       "      <td>agro_industria_e_comercio</td>\n",
       "      <td>53.0</td>\n",
       "      <td>1461.0</td>\n",
       "      <td>1.0</td>\n",
       "      <td>1500.0</td>\n",
       "      <td>22.0</td>\n",
       "      <td>16.0</td>\n",
       "      <td>24.0</td>\n",
       "    </tr>\n",
       "  </tbody>\n",
       "</table>\n",
       "</div>"
      ],
      "text/plain": [
       "                             product_id      product_category_name  \\\n",
       "5755   19936fa4f614ee0590d3b77ac83fd648             telefonia_fixa   \n",
       "5899   489ae2aa008f021502940f251d4cce7f      utilidades_domesticas   \n",
       "9530   c3ed642d592594bb648ff4a04cee2747            eletroportateis   \n",
       "14423  1bdf5e6731585cf01aa8169c7028d6ad                      artes   \n",
       "19459  df676834e2a38e1bf267bd85a2dc8e3a         relogios_presentes   \n",
       "21197  a6492cc69376c469ab6f61d8f44de961            eletroportateis   \n",
       "21768  69c590f7ffc7bf8db97190b6cb6ed62e                        pcs   \n",
       "24994  259037a6a41845e455183f89c5035f18                        pcs   \n",
       "25620  5769ef0a239114ac3a854af00df129e4             telefonia_fixa   \n",
       "27006  c183fd5d2abf05873fa6e1014ed9e06c  agro_industria_e_comercio   \n",
       "\n",
       "       product_name_lenght  product_description_lenght  product_photos_qty  \\\n",
       "5755                  34.0                      1016.0                 2.0   \n",
       "5899                  31.0                       875.0                 2.0   \n",
       "9530                  59.0                      2217.0                 2.0   \n",
       "14423                 28.0                      3954.0                 2.0   \n",
       "19459                 43.0                       987.0                 1.0   \n",
       "21197                 41.0                      1780.0                 2.0   \n",
       "21768                 50.0                      1935.0                 4.0   \n",
       "24994                 55.0                      1710.0                 2.0   \n",
       "25620                 39.0                      2493.0                 3.0   \n",
       "27006                 53.0                      1461.0                 1.0   \n",
       "\n",
       "       product_weight_g  product_length_cm  product_height_cm  \\\n",
       "5755             1100.0               20.0               16.0   \n",
       "5899            30000.0               60.0               61.0   \n",
       "9530            30000.0               50.0               49.0   \n",
       "14423            7400.0               47.0               25.0   \n",
       "19459             550.0               17.0               14.0   \n",
       "21197           22600.0               55.0               40.0   \n",
       "21768            5660.0               54.0               18.0   \n",
       "24994            2900.0               35.0               10.0   \n",
       "25620             750.0               16.0               16.0   \n",
       "27006            1500.0               22.0               16.0   \n",
       "\n",
       "       product_width_cm  \n",
       "5755               20.0  \n",
       "5899               33.0  \n",
       "9530               50.0  \n",
       "14423              25.0  \n",
       "19459              15.0  \n",
       "21197              40.0  \n",
       "21768              47.0  \n",
       "24994              40.0  \n",
       "25620              16.0  \n",
       "27006              24.0  "
      ]
     },
     "execution_count": 61,
     "metadata": {},
     "output_type": "execute_result"
    }
   ],
   "source": [
    "# description des produits avec le prix plus eleve\n",
    "products = pd.read_csv('Data/Source/olist_products_dataset.csv')\n",
    "products[products['product_id'].isin(price_outliers)]"
   ]
  },
  {
   "cell_type": "markdown",
   "id": "313fd49d-0566-4436-a06a-04420162c00c",
   "metadata": {},
   "source": [
    "Les produits les plus chers correspondent à des produits électromenagers, des objets d'art et des ordinateurs. Il est raisonnable que leur prix soit éléve.\n",
    "Par contre, les deux commandes avec le prix le plus élévé (13440 et 7160 dollars) correspondent à des produits de telephonie fixe. Je vais voir s’il s’agit des commandes comprenant plusieurs produits. \n"
   ]
  },
  {
   "cell_type": "code",
   "execution_count": 62,
   "id": "638b6899-e340-43d8-b47b-602203102d72",
   "metadata": {},
   "outputs": [],
   "source": [
    "# dataset items\n",
    "items = pd.read_csv('Data/Source/olist_order_items_dataset.csv')"
   ]
  },
  {
   "cell_type": "code",
   "execution_count": 63,
   "id": "f5626393-2c70-45a7-8bc8-d110fa25ded2",
   "metadata": {},
   "outputs": [
    {
     "data": {
      "text/html": [
       "<div>\n",
       "<style scoped>\n",
       "    .dataframe tbody tr th:only-of-type {\n",
       "        vertical-align: middle;\n",
       "    }\n",
       "\n",
       "    .dataframe tbody tr th {\n",
       "        vertical-align: top;\n",
       "    }\n",
       "\n",
       "    .dataframe thead th {\n",
       "        text-align: right;\n",
       "    }\n",
       "</style>\n",
       "<table border=\"1\" class=\"dataframe\">\n",
       "  <thead>\n",
       "    <tr style=\"text-align: right;\">\n",
       "      <th></th>\n",
       "      <th>order_id</th>\n",
       "      <th>order_item_id</th>\n",
       "      <th>product_id</th>\n",
       "      <th>seller_id</th>\n",
       "      <th>shipping_limit_date</th>\n",
       "      <th>price</th>\n",
       "      <th>freight_value</th>\n",
       "    </tr>\n",
       "  </thead>\n",
       "  <tbody>\n",
       "    <tr>\n",
       "      <th>1647</th>\n",
       "      <td>03caa2c082116e1d31e67e9ae3700499</td>\n",
       "      <td>1</td>\n",
       "      <td>5769ef0a239114ac3a854af00df129e4</td>\n",
       "      <td>b37c4c02bda3161a7546a4e6d222d5b2</td>\n",
       "      <td>2017-10-06 15:28:20</td>\n",
       "      <td>1680.0</td>\n",
       "      <td>28.01</td>\n",
       "    </tr>\n",
       "    <tr>\n",
       "      <th>1648</th>\n",
       "      <td>03caa2c082116e1d31e67e9ae3700499</td>\n",
       "      <td>2</td>\n",
       "      <td>5769ef0a239114ac3a854af00df129e4</td>\n",
       "      <td>b37c4c02bda3161a7546a4e6d222d5b2</td>\n",
       "      <td>2017-10-06 15:28:20</td>\n",
       "      <td>1680.0</td>\n",
       "      <td>28.01</td>\n",
       "    </tr>\n",
       "    <tr>\n",
       "      <th>1649</th>\n",
       "      <td>03caa2c082116e1d31e67e9ae3700499</td>\n",
       "      <td>3</td>\n",
       "      <td>5769ef0a239114ac3a854af00df129e4</td>\n",
       "      <td>b37c4c02bda3161a7546a4e6d222d5b2</td>\n",
       "      <td>2017-10-06 15:28:20</td>\n",
       "      <td>1680.0</td>\n",
       "      <td>28.01</td>\n",
       "    </tr>\n",
       "    <tr>\n",
       "      <th>1650</th>\n",
       "      <td>03caa2c082116e1d31e67e9ae3700499</td>\n",
       "      <td>4</td>\n",
       "      <td>5769ef0a239114ac3a854af00df129e4</td>\n",
       "      <td>b37c4c02bda3161a7546a4e6d222d5b2</td>\n",
       "      <td>2017-10-06 15:28:20</td>\n",
       "      <td>1680.0</td>\n",
       "      <td>28.01</td>\n",
       "    </tr>\n",
       "    <tr>\n",
       "      <th>1651</th>\n",
       "      <td>03caa2c082116e1d31e67e9ae3700499</td>\n",
       "      <td>5</td>\n",
       "      <td>5769ef0a239114ac3a854af00df129e4</td>\n",
       "      <td>b37c4c02bda3161a7546a4e6d222d5b2</td>\n",
       "      <td>2017-10-06 15:28:20</td>\n",
       "      <td>1680.0</td>\n",
       "      <td>28.01</td>\n",
       "    </tr>\n",
       "    <tr>\n",
       "      <th>1652</th>\n",
       "      <td>03caa2c082116e1d31e67e9ae3700499</td>\n",
       "      <td>6</td>\n",
       "      <td>5769ef0a239114ac3a854af00df129e4</td>\n",
       "      <td>b37c4c02bda3161a7546a4e6d222d5b2</td>\n",
       "      <td>2017-10-06 15:28:20</td>\n",
       "      <td>1680.0</td>\n",
       "      <td>28.01</td>\n",
       "    </tr>\n",
       "    <tr>\n",
       "      <th>1653</th>\n",
       "      <td>03caa2c082116e1d31e67e9ae3700499</td>\n",
       "      <td>7</td>\n",
       "      <td>5769ef0a239114ac3a854af00df129e4</td>\n",
       "      <td>b37c4c02bda3161a7546a4e6d222d5b2</td>\n",
       "      <td>2017-10-06 15:28:20</td>\n",
       "      <td>1680.0</td>\n",
       "      <td>28.01</td>\n",
       "    </tr>\n",
       "    <tr>\n",
       "      <th>1654</th>\n",
       "      <td>03caa2c082116e1d31e67e9ae3700499</td>\n",
       "      <td>8</td>\n",
       "      <td>5769ef0a239114ac3a854af00df129e4</td>\n",
       "      <td>b37c4c02bda3161a7546a4e6d222d5b2</td>\n",
       "      <td>2017-10-06 15:28:20</td>\n",
       "      <td>1680.0</td>\n",
       "      <td>28.01</td>\n",
       "    </tr>\n",
       "  </tbody>\n",
       "</table>\n",
       "</div>"
      ],
      "text/plain": [
       "                              order_id  order_item_id  \\\n",
       "1647  03caa2c082116e1d31e67e9ae3700499              1   \n",
       "1648  03caa2c082116e1d31e67e9ae3700499              2   \n",
       "1649  03caa2c082116e1d31e67e9ae3700499              3   \n",
       "1650  03caa2c082116e1d31e67e9ae3700499              4   \n",
       "1651  03caa2c082116e1d31e67e9ae3700499              5   \n",
       "1652  03caa2c082116e1d31e67e9ae3700499              6   \n",
       "1653  03caa2c082116e1d31e67e9ae3700499              7   \n",
       "1654  03caa2c082116e1d31e67e9ae3700499              8   \n",
       "\n",
       "                            product_id                         seller_id  \\\n",
       "1647  5769ef0a239114ac3a854af00df129e4  b37c4c02bda3161a7546a4e6d222d5b2   \n",
       "1648  5769ef0a239114ac3a854af00df129e4  b37c4c02bda3161a7546a4e6d222d5b2   \n",
       "1649  5769ef0a239114ac3a854af00df129e4  b37c4c02bda3161a7546a4e6d222d5b2   \n",
       "1650  5769ef0a239114ac3a854af00df129e4  b37c4c02bda3161a7546a4e6d222d5b2   \n",
       "1651  5769ef0a239114ac3a854af00df129e4  b37c4c02bda3161a7546a4e6d222d5b2   \n",
       "1652  5769ef0a239114ac3a854af00df129e4  b37c4c02bda3161a7546a4e6d222d5b2   \n",
       "1653  5769ef0a239114ac3a854af00df129e4  b37c4c02bda3161a7546a4e6d222d5b2   \n",
       "1654  5769ef0a239114ac3a854af00df129e4  b37c4c02bda3161a7546a4e6d222d5b2   \n",
       "\n",
       "      shipping_limit_date   price  freight_value  \n",
       "1647  2017-10-06 15:28:20  1680.0          28.01  \n",
       "1648  2017-10-06 15:28:20  1680.0          28.01  \n",
       "1649  2017-10-06 15:28:20  1680.0          28.01  \n",
       "1650  2017-10-06 15:28:20  1680.0          28.01  \n",
       "1651  2017-10-06 15:28:20  1680.0          28.01  \n",
       "1652  2017-10-06 15:28:20  1680.0          28.01  \n",
       "1653  2017-10-06 15:28:20  1680.0          28.01  \n",
       "1654  2017-10-06 15:28:20  1680.0          28.01  "
      ]
     },
     "execution_count": 63,
     "metadata": {},
     "output_type": "execute_result"
    }
   ],
   "source": [
    "# commande avec le prix le plus élévé - 13440 dollar\n",
    "items[items['order_id'] == '03caa2c082116e1d31e67e9ae3700499']"
   ]
  },
  {
   "cell_type": "code",
   "execution_count": 64,
   "id": "60a9a48c-5458-4ccb-88a3-65772a13efdb",
   "metadata": {},
   "outputs": [
    {
     "data": {
      "text/html": [
       "<div>\n",
       "<style scoped>\n",
       "    .dataframe tbody tr th:only-of-type {\n",
       "        vertical-align: middle;\n",
       "    }\n",
       "\n",
       "    .dataframe tbody tr th {\n",
       "        vertical-align: top;\n",
       "    }\n",
       "\n",
       "    .dataframe thead th {\n",
       "        text-align: right;\n",
       "    }\n",
       "</style>\n",
       "<table border=\"1\" class=\"dataframe\">\n",
       "  <thead>\n",
       "    <tr style=\"text-align: right;\">\n",
       "      <th></th>\n",
       "      <th>order_id</th>\n",
       "      <th>order_item_id</th>\n",
       "      <th>product_id</th>\n",
       "      <th>seller_id</th>\n",
       "      <th>shipping_limit_date</th>\n",
       "      <th>price</th>\n",
       "      <th>freight_value</th>\n",
       "    </tr>\n",
       "  </thead>\n",
       "  <tbody>\n",
       "    <tr>\n",
       "      <th>50768</th>\n",
       "      <td>736e1922ae60d0d6a89247b851902527</td>\n",
       "      <td>1</td>\n",
       "      <td>19936fa4f614ee0590d3b77ac83fd648</td>\n",
       "      <td>b37c4c02bda3161a7546a4e6d222d5b2</td>\n",
       "      <td>2018-07-23 04:31:36</td>\n",
       "      <td>1790.0</td>\n",
       "      <td>28.72</td>\n",
       "    </tr>\n",
       "    <tr>\n",
       "      <th>50769</th>\n",
       "      <td>736e1922ae60d0d6a89247b851902527</td>\n",
       "      <td>2</td>\n",
       "      <td>19936fa4f614ee0590d3b77ac83fd648</td>\n",
       "      <td>b37c4c02bda3161a7546a4e6d222d5b2</td>\n",
       "      <td>2018-07-23 04:31:36</td>\n",
       "      <td>1790.0</td>\n",
       "      <td>28.72</td>\n",
       "    </tr>\n",
       "    <tr>\n",
       "      <th>50770</th>\n",
       "      <td>736e1922ae60d0d6a89247b851902527</td>\n",
       "      <td>3</td>\n",
       "      <td>19936fa4f614ee0590d3b77ac83fd648</td>\n",
       "      <td>b37c4c02bda3161a7546a4e6d222d5b2</td>\n",
       "      <td>2018-07-23 04:31:36</td>\n",
       "      <td>1790.0</td>\n",
       "      <td>28.72</td>\n",
       "    </tr>\n",
       "    <tr>\n",
       "      <th>50771</th>\n",
       "      <td>736e1922ae60d0d6a89247b851902527</td>\n",
       "      <td>4</td>\n",
       "      <td>19936fa4f614ee0590d3b77ac83fd648</td>\n",
       "      <td>b37c4c02bda3161a7546a4e6d222d5b2</td>\n",
       "      <td>2018-07-23 04:31:36</td>\n",
       "      <td>1790.0</td>\n",
       "      <td>28.72</td>\n",
       "    </tr>\n",
       "  </tbody>\n",
       "</table>\n",
       "</div>"
      ],
      "text/plain": [
       "                               order_id  order_item_id  \\\n",
       "50768  736e1922ae60d0d6a89247b851902527              1   \n",
       "50769  736e1922ae60d0d6a89247b851902527              2   \n",
       "50770  736e1922ae60d0d6a89247b851902527              3   \n",
       "50771  736e1922ae60d0d6a89247b851902527              4   \n",
       "\n",
       "                             product_id                         seller_id  \\\n",
       "50768  19936fa4f614ee0590d3b77ac83fd648  b37c4c02bda3161a7546a4e6d222d5b2   \n",
       "50769  19936fa4f614ee0590d3b77ac83fd648  b37c4c02bda3161a7546a4e6d222d5b2   \n",
       "50770  19936fa4f614ee0590d3b77ac83fd648  b37c4c02bda3161a7546a4e6d222d5b2   \n",
       "50771  19936fa4f614ee0590d3b77ac83fd648  b37c4c02bda3161a7546a4e6d222d5b2   \n",
       "\n",
       "       shipping_limit_date   price  freight_value  \n",
       "50768  2018-07-23 04:31:36  1790.0          28.72  \n",
       "50769  2018-07-23 04:31:36  1790.0          28.72  \n",
       "50770  2018-07-23 04:31:36  1790.0          28.72  \n",
       "50771  2018-07-23 04:31:36  1790.0          28.72  "
      ]
     },
     "execution_count": 64,
     "metadata": {},
     "output_type": "execute_result"
    }
   ],
   "source": [
    "# commande avec le deuxième prix le plus élévé\n",
    "items[items['order_id'] == '736e1922ae60d0d6a89247b851902527']"
   ]
  },
  {
   "cell_type": "markdown",
   "id": "51ce6c4a-c344-4d17-8931-10bbb799a715",
   "metadata": {},
   "source": [
    "En effet, les 2 commandes avec le prix le plus élévé correspondend à des commandes comprenant plusieurs produits, il s'agit des valeurs atypiques mais pas aberrantes."
   ]
  },
  {
   "cell_type": "markdown",
   "id": "8ec84492-8fab-4ab6-86e3-2095c5d458bc",
   "metadata": {},
   "source": [
    "### 3.2.5 freight_value"
   ]
  },
  {
   "cell_type": "code",
   "execution_count": 65,
   "id": "15360e51-b766-4ef8-8221-35335be0a550",
   "metadata": {
    "tags": []
   },
   "outputs": [
    {
     "data": {
      "text/html": [
       "<div>\n",
       "<style scoped>\n",
       "    .dataframe tbody tr th:only-of-type {\n",
       "        vertical-align: middle;\n",
       "    }\n",
       "\n",
       "    .dataframe tbody tr th {\n",
       "        vertical-align: top;\n",
       "    }\n",
       "\n",
       "    .dataframe thead th {\n",
       "        text-align: right;\n",
       "    }\n",
       "</style>\n",
       "<table border=\"1\" class=\"dataframe\">\n",
       "  <thead>\n",
       "    <tr style=\"text-align: right;\">\n",
       "      <th></th>\n",
       "      <th>customer_id</th>\n",
       "      <th>customer_unique_id</th>\n",
       "      <th>order_id</th>\n",
       "      <th>order_purchase_timestamp</th>\n",
       "      <th>real_delivery_time</th>\n",
       "      <th>estimated_delivery_time</th>\n",
       "      <th>delay</th>\n",
       "      <th>price</th>\n",
       "      <th>freight_value</th>\n",
       "      <th>seller_id</th>\n",
       "      <th>product_id</th>\n",
       "      <th>freight/price</th>\n",
       "      <th>payment_value</th>\n",
       "      <th>review_score</th>\n",
       "      <th>distance</th>\n",
       "    </tr>\n",
       "  </thead>\n",
       "  <tbody>\n",
       "    <tr>\n",
       "      <th>49046</th>\n",
       "      <td>ed583a2a1eaf0dedc33af816153e8b8c</td>\n",
       "      <td>fff5eb4918b2bf4b2da476788d42051c</td>\n",
       "      <td>cf4659487be50c0c317cff3564c4a840</td>\n",
       "      <td>2018-07-02 16:39:59</td>\n",
       "      <td>13.0</td>\n",
       "      <td>29.0</td>\n",
       "      <td>-16.0</td>\n",
       "      <td>1050.00</td>\n",
       "      <td>1794.96</td>\n",
       "      <td>56e361f411e38dcef17cdc2a3d99628b</td>\n",
       "      <td>bc3c6d2a621414f2e1df7a8a32a2828e</td>\n",
       "      <td>1.709486</td>\n",
       "      <td>2844.96</td>\n",
       "      <td>5.0</td>\n",
       "      <td>2133.517672</td>\n",
       "    </tr>\n",
       "    <tr>\n",
       "      <th>17770</th>\n",
       "      <td>5e312b0d9bf5c91599eb42120e633b19</td>\n",
       "      <td>066ee6b9c6fc284260ff9a1274a82ca7</td>\n",
       "      <td>2455cbeb73fd04b170ca2504662f95ce</td>\n",
       "      <td>2017-06-20 12:39:46</td>\n",
       "      <td>10.0</td>\n",
       "      <td>21.0</td>\n",
       "      <td>-12.0</td>\n",
       "      <td>419.40</td>\n",
       "      <td>1002.29</td>\n",
       "      <td>e8f6dc8e6a1dcde89d20e3995c8d90b3</td>\n",
       "      <td>368645a47a15770520ad12d9ea77c2f2</td>\n",
       "      <td>2.389819</td>\n",
       "      <td>1421.69</td>\n",
       "      <td>1.0</td>\n",
       "      <td>378.533932</td>\n",
       "    </tr>\n",
       "    <tr>\n",
       "      <th>56804</th>\n",
       "      <td>088d20d5878711d537176871a6e850e4</td>\n",
       "      <td>ef7361e14a64f77990f58e9c571e2f9a</td>\n",
       "      <td>cfed507ac357129f750f05a0d7d71b15</td>\n",
       "      <td>2018-02-25 12:15:02</td>\n",
       "      <td>39.0</td>\n",
       "      <td>29.0</td>\n",
       "      <td>10.0</td>\n",
       "      <td>1380.00</td>\n",
       "      <td>711.33</td>\n",
       "      <td>08cdbae123ff67ca4e36d9d641ce0119</td>\n",
       "      <td>b6106bf3d09b8fdd33c3a9559da43145</td>\n",
       "      <td>0.515457</td>\n",
       "      <td>2091.33</td>\n",
       "      <td>1.0</td>\n",
       "      <td>1546.695601</td>\n",
       "    </tr>\n",
       "    <tr>\n",
       "      <th>54346</th>\n",
       "      <td>8c20d9bfbc96c5d39025d77a3ba83d7f</td>\n",
       "      <td>eae0a83d752b1dd32697e0e7b4221656</td>\n",
       "      <td>71dab1155600756af6de79de92e712e3</td>\n",
       "      <td>2018-02-01 18:32:02</td>\n",
       "      <td>39.0</td>\n",
       "      <td>48.0</td>\n",
       "      <td>-10.0</td>\n",
       "      <td>1361.89</td>\n",
       "      <td>626.64</td>\n",
       "      <td>7c67e1448b00f6e969d365cea6b010ab</td>\n",
       "      <td>308e4e21ae228a10f6370a243ae59995</td>\n",
       "      <td>0.460125</td>\n",
       "      <td>1988.53</td>\n",
       "      <td>3.0</td>\n",
       "      <td>1664.751284</td>\n",
       "    </tr>\n",
       "    <tr>\n",
       "      <th>83896</th>\n",
       "      <td>023cf83ac35d703a6f3c1b31bcf844d5</td>\n",
       "      <td>5a494c648fde2d1ec4eb614274ea7159</td>\n",
       "      <td>17784b9fbb37fb0bdc230d8ed6f6b355</td>\n",
       "      <td>2018-03-08 19:06:08</td>\n",
       "      <td>14.0</td>\n",
       "      <td>26.0</td>\n",
       "      <td>-12.0</td>\n",
       "      <td>840.00</td>\n",
       "      <td>502.98</td>\n",
       "      <td>1025f0e2d44d7041d6cf58b6550e0bfa</td>\n",
       "      <td>acc444eb5ad26f79d5a11baa6a03c439</td>\n",
       "      <td>0.598786</td>\n",
       "      <td>1342.98</td>\n",
       "      <td>1.0</td>\n",
       "      <td>1454.543759</td>\n",
       "    </tr>\n",
       "    <tr>\n",
       "      <th>86494</th>\n",
       "      <td>74be082247cd677a147d83ee670e9d53</td>\n",
       "      <td>fffcf5a5ff07b0908bd4e2dbc735a684</td>\n",
       "      <td>725cf8e9c24e679a8a5a32cb92c9ce1e</td>\n",
       "      <td>2017-06-08 21:00:36</td>\n",
       "      <td>27.0</td>\n",
       "      <td>54.0</td>\n",
       "      <td>-27.0</td>\n",
       "      <td>1570.00</td>\n",
       "      <td>497.42</td>\n",
       "      <td>17f51e7198701186712e53a39c564617</td>\n",
       "      <td>c100e5fef1abb5e1c5054d1dac2d83ac</td>\n",
       "      <td>0.316828</td>\n",
       "      <td>2067.42</td>\n",
       "      <td>5.0</td>\n",
       "      <td>1996.473229</td>\n",
       "    </tr>\n",
       "    <tr>\n",
       "      <th>5164</th>\n",
       "      <td>42c0b09d094220a110c0e0e941f76f06</td>\n",
       "      <td>527f7f3237fb1397c459701bc765b6f0</td>\n",
       "      <td>5bd06bab48e0423fc35d1c236d48a6bb</td>\n",
       "      <td>2017-05-11 19:17:49</td>\n",
       "      <td>26.0</td>\n",
       "      <td>41.0</td>\n",
       "      <td>-15.0</td>\n",
       "      <td>1520.00</td>\n",
       "      <td>497.08</td>\n",
       "      <td>17f51e7198701186712e53a39c564617</td>\n",
       "      <td>1d16c0509e7011656e03c6a582ff6667</td>\n",
       "      <td>0.327026</td>\n",
       "      <td>2017.08</td>\n",
       "      <td>5.0</td>\n",
       "      <td>2074.172345</td>\n",
       "    </tr>\n",
       "    <tr>\n",
       "      <th>4302</th>\n",
       "      <td>0c792d32a3251b4f69dae8646dfbedbc</td>\n",
       "      <td>6d394722d5fc5e721aee6875a218d8db</td>\n",
       "      <td>be382a9e1ed25128148b97d6bfdb21af</td>\n",
       "      <td>2017-11-04 17:29:15</td>\n",
       "      <td>19.0</td>\n",
       "      <td>26.0</td>\n",
       "      <td>-8.0</td>\n",
       "      <td>1559.92</td>\n",
       "      <td>479.28</td>\n",
       "      <td>7c67e1448b00f6e969d365cea6b010ab</td>\n",
       "      <td>6dde44b4172999f35f08654d06bad633</td>\n",
       "      <td>0.307247</td>\n",
       "      <td>2039.20</td>\n",
       "      <td>4.0</td>\n",
       "      <td>310.241509</td>\n",
       "    </tr>\n",
       "    <tr>\n",
       "      <th>10277</th>\n",
       "      <td>88324c93ce11436ae046563bf0da285c</td>\n",
       "      <td>6411590d91c48640cb07e72fbb4a359e</td>\n",
       "      <td>c52c7fbe316b5b9d549e8a25206b8a1f</td>\n",
       "      <td>2018-03-19 18:58:49</td>\n",
       "      <td>8.0</td>\n",
       "      <td>22.0</td>\n",
       "      <td>-14.0</td>\n",
       "      <td>1161.00</td>\n",
       "      <td>458.73</td>\n",
       "      <td>7a241947449cc45dbfda4f9d0798d9d0</td>\n",
       "      <td>0e1fa2aadc04afbf8fb30200aeba06a2</td>\n",
       "      <td>0.395116</td>\n",
       "      <td>1619.73</td>\n",
       "      <td>1.0</td>\n",
       "      <td>670.093019</td>\n",
       "    </tr>\n",
       "    <tr>\n",
       "      <th>83399</th>\n",
       "      <td>368f207cdc8f5c93a2b2a5d4cce96ba8</td>\n",
       "      <td>f9172a6495d46451776be8bc8e46032d</td>\n",
       "      <td>62073ec6b54b8e6322037fc0f3591ad3</td>\n",
       "      <td>2018-04-02 12:22:06</td>\n",
       "      <td>22.0</td>\n",
       "      <td>37.0</td>\n",
       "      <td>-16.0</td>\n",
       "      <td>859.66</td>\n",
       "      <td>456.47</td>\n",
       "      <td>5058e8c1e82653974541e83690655b4a</td>\n",
       "      <td>1eba879220bd0981a0e2fbab499ed4e1</td>\n",
       "      <td>0.530989</td>\n",
       "      <td>1316.13</td>\n",
       "      <td>2.0</td>\n",
       "      <td>297.488302</td>\n",
       "    </tr>\n",
       "  </tbody>\n",
       "</table>\n",
       "</div>"
      ],
      "text/plain": [
       "                            customer_id                customer_unique_id  \\\n",
       "49046  ed583a2a1eaf0dedc33af816153e8b8c  fff5eb4918b2bf4b2da476788d42051c   \n",
       "17770  5e312b0d9bf5c91599eb42120e633b19  066ee6b9c6fc284260ff9a1274a82ca7   \n",
       "56804  088d20d5878711d537176871a6e850e4  ef7361e14a64f77990f58e9c571e2f9a   \n",
       "54346  8c20d9bfbc96c5d39025d77a3ba83d7f  eae0a83d752b1dd32697e0e7b4221656   \n",
       "83896  023cf83ac35d703a6f3c1b31bcf844d5  5a494c648fde2d1ec4eb614274ea7159   \n",
       "86494  74be082247cd677a147d83ee670e9d53  fffcf5a5ff07b0908bd4e2dbc735a684   \n",
       "5164   42c0b09d094220a110c0e0e941f76f06  527f7f3237fb1397c459701bc765b6f0   \n",
       "4302   0c792d32a3251b4f69dae8646dfbedbc  6d394722d5fc5e721aee6875a218d8db   \n",
       "10277  88324c93ce11436ae046563bf0da285c  6411590d91c48640cb07e72fbb4a359e   \n",
       "83399  368f207cdc8f5c93a2b2a5d4cce96ba8  f9172a6495d46451776be8bc8e46032d   \n",
       "\n",
       "                               order_id order_purchase_timestamp  \\\n",
       "49046  cf4659487be50c0c317cff3564c4a840      2018-07-02 16:39:59   \n",
       "17770  2455cbeb73fd04b170ca2504662f95ce      2017-06-20 12:39:46   \n",
       "56804  cfed507ac357129f750f05a0d7d71b15      2018-02-25 12:15:02   \n",
       "54346  71dab1155600756af6de79de92e712e3      2018-02-01 18:32:02   \n",
       "83896  17784b9fbb37fb0bdc230d8ed6f6b355      2018-03-08 19:06:08   \n",
       "86494  725cf8e9c24e679a8a5a32cb92c9ce1e      2017-06-08 21:00:36   \n",
       "5164   5bd06bab48e0423fc35d1c236d48a6bb      2017-05-11 19:17:49   \n",
       "4302   be382a9e1ed25128148b97d6bfdb21af      2017-11-04 17:29:15   \n",
       "10277  c52c7fbe316b5b9d549e8a25206b8a1f      2018-03-19 18:58:49   \n",
       "83399  62073ec6b54b8e6322037fc0f3591ad3      2018-04-02 12:22:06   \n",
       "\n",
       "       real_delivery_time  estimated_delivery_time  delay    price  \\\n",
       "49046                13.0                     29.0  -16.0  1050.00   \n",
       "17770                10.0                     21.0  -12.0   419.40   \n",
       "56804                39.0                     29.0   10.0  1380.00   \n",
       "54346                39.0                     48.0  -10.0  1361.89   \n",
       "83896                14.0                     26.0  -12.0   840.00   \n",
       "86494                27.0                     54.0  -27.0  1570.00   \n",
       "5164                 26.0                     41.0  -15.0  1520.00   \n",
       "4302                 19.0                     26.0   -8.0  1559.92   \n",
       "10277                 8.0                     22.0  -14.0  1161.00   \n",
       "83399                22.0                     37.0  -16.0   859.66   \n",
       "\n",
       "       freight_value                         seller_id  \\\n",
       "49046        1794.96  56e361f411e38dcef17cdc2a3d99628b   \n",
       "17770        1002.29  e8f6dc8e6a1dcde89d20e3995c8d90b3   \n",
       "56804         711.33  08cdbae123ff67ca4e36d9d641ce0119   \n",
       "54346         626.64  7c67e1448b00f6e969d365cea6b010ab   \n",
       "83896         502.98  1025f0e2d44d7041d6cf58b6550e0bfa   \n",
       "86494         497.42  17f51e7198701186712e53a39c564617   \n",
       "5164          497.08  17f51e7198701186712e53a39c564617   \n",
       "4302          479.28  7c67e1448b00f6e969d365cea6b010ab   \n",
       "10277         458.73  7a241947449cc45dbfda4f9d0798d9d0   \n",
       "83399         456.47  5058e8c1e82653974541e83690655b4a   \n",
       "\n",
       "                             product_id  freight/price  payment_value  \\\n",
       "49046  bc3c6d2a621414f2e1df7a8a32a2828e       1.709486        2844.96   \n",
       "17770  368645a47a15770520ad12d9ea77c2f2       2.389819        1421.69   \n",
       "56804  b6106bf3d09b8fdd33c3a9559da43145       0.515457        2091.33   \n",
       "54346  308e4e21ae228a10f6370a243ae59995       0.460125        1988.53   \n",
       "83896  acc444eb5ad26f79d5a11baa6a03c439       0.598786        1342.98   \n",
       "86494  c100e5fef1abb5e1c5054d1dac2d83ac       0.316828        2067.42   \n",
       "5164   1d16c0509e7011656e03c6a582ff6667       0.327026        2017.08   \n",
       "4302   6dde44b4172999f35f08654d06bad633       0.307247        2039.20   \n",
       "10277  0e1fa2aadc04afbf8fb30200aeba06a2       0.395116        1619.73   \n",
       "83399  1eba879220bd0981a0e2fbab499ed4e1       0.530989        1316.13   \n",
       "\n",
       "       review_score     distance  \n",
       "49046           5.0  2133.517672  \n",
       "17770           1.0   378.533932  \n",
       "56804           1.0  1546.695601  \n",
       "54346           3.0  1664.751284  \n",
       "83896           1.0  1454.543759  \n",
       "86494           5.0  1996.473229  \n",
       "5164            5.0  2074.172345  \n",
       "4302            4.0   310.241509  \n",
       "10277           1.0   670.093019  \n",
       "83399           2.0   297.488302  "
      ]
     },
     "execution_count": 65,
     "metadata": {},
     "output_type": "execute_result"
    }
   ],
   "source": [
    "# dataframe des commandes avec les frais de livraison le plus elévés\n",
    "customers.sort_values('freight_value', ascending=False).head(10)"
   ]
  },
  {
   "cell_type": "code",
   "execution_count": 66,
   "id": "e63a08c0-ae42-45ea-b573-71698d14ec43",
   "metadata": {},
   "outputs": [],
   "source": [
    "# product_id des commandes avec les frais de livraison le plus élévés\n",
    "freight_outliers = customers.sort_values(\n",
    "    'freight_value', ascending=False\n",
    ").head(10)['product_id'].values"
   ]
  },
  {
   "cell_type": "code",
   "execution_count": 67,
   "id": "9a02e1a2-207d-448c-a054-7144b766434b",
   "metadata": {},
   "outputs": [
    {
     "data": {
      "text/html": [
       "<div>\n",
       "<style scoped>\n",
       "    .dataframe tbody tr th:only-of-type {\n",
       "        vertical-align: middle;\n",
       "    }\n",
       "\n",
       "    .dataframe tbody tr th {\n",
       "        vertical-align: top;\n",
       "    }\n",
       "\n",
       "    .dataframe thead th {\n",
       "        text-align: right;\n",
       "    }\n",
       "</style>\n",
       "<table border=\"1\" class=\"dataframe\">\n",
       "  <thead>\n",
       "    <tr style=\"text-align: right;\">\n",
       "      <th></th>\n",
       "      <th>product_id</th>\n",
       "      <th>product_category_name</th>\n",
       "      <th>product_name_lenght</th>\n",
       "      <th>product_description_lenght</th>\n",
       "      <th>product_photos_qty</th>\n",
       "      <th>product_weight_g</th>\n",
       "      <th>product_length_cm</th>\n",
       "      <th>product_height_cm</th>\n",
       "      <th>product_width_cm</th>\n",
       "    </tr>\n",
       "  </thead>\n",
       "  <tbody>\n",
       "    <tr>\n",
       "      <th>33</th>\n",
       "      <td>1eba879220bd0981a0e2fbab499ed4e1</td>\n",
       "      <td>moveis_escritorio</td>\n",
       "      <td>57.0</td>\n",
       "      <td>476.0</td>\n",
       "      <td>1.0</td>\n",
       "      <td>8950.0</td>\n",
       "      <td>52.0</td>\n",
       "      <td>51.0</td>\n",
       "      <td>17.0</td>\n",
       "    </tr>\n",
       "    <tr>\n",
       "      <th>2568</th>\n",
       "      <td>6dde44b4172999f35f08654d06bad633</td>\n",
       "      <td>moveis_escritorio</td>\n",
       "      <td>55.0</td>\n",
       "      <td>1180.0</td>\n",
       "      <td>1.0</td>\n",
       "      <td>16167.0</td>\n",
       "      <td>64.0</td>\n",
       "      <td>62.0</td>\n",
       "      <td>25.0</td>\n",
       "    </tr>\n",
       "    <tr>\n",
       "      <th>6004</th>\n",
       "      <td>368645a47a15770520ad12d9ea77c2f2</td>\n",
       "      <td>moveis_decoracao</td>\n",
       "      <td>61.0</td>\n",
       "      <td>603.0</td>\n",
       "      <td>2.0</td>\n",
       "      <td>30000.0</td>\n",
       "      <td>70.0</td>\n",
       "      <td>60.0</td>\n",
       "      <td>60.0</td>\n",
       "    </tr>\n",
       "    <tr>\n",
       "      <th>15636</th>\n",
       "      <td>0e1fa2aadc04afbf8fb30200aeba06a2</td>\n",
       "      <td>utilidades_domesticas</td>\n",
       "      <td>54.0</td>\n",
       "      <td>2050.0</td>\n",
       "      <td>4.0</td>\n",
       "      <td>2000.0</td>\n",
       "      <td>100.0</td>\n",
       "      <td>28.0</td>\n",
       "      <td>20.0</td>\n",
       "    </tr>\n",
       "    <tr>\n",
       "      <th>15982</th>\n",
       "      <td>c100e5fef1abb5e1c5054d1dac2d83ac</td>\n",
       "      <td>beleza_saude</td>\n",
       "      <td>57.0</td>\n",
       "      <td>534.0</td>\n",
       "      <td>1.0</td>\n",
       "      <td>30000.0</td>\n",
       "      <td>55.0</td>\n",
       "      <td>75.0</td>\n",
       "      <td>61.0</td>\n",
       "    </tr>\n",
       "    <tr>\n",
       "      <th>18469</th>\n",
       "      <td>acc444eb5ad26f79d5a11baa6a03c439</td>\n",
       "      <td>moveis_decoracao</td>\n",
       "      <td>53.0</td>\n",
       "      <td>626.0</td>\n",
       "      <td>1.0</td>\n",
       "      <td>9400.0</td>\n",
       "      <td>35.0</td>\n",
       "      <td>45.0</td>\n",
       "      <td>45.0</td>\n",
       "    </tr>\n",
       "    <tr>\n",
       "      <th>21795</th>\n",
       "      <td>bc3c6d2a621414f2e1df7a8a32a2828e</td>\n",
       "      <td>sinalizacao_e_seguranca</td>\n",
       "      <td>50.0</td>\n",
       "      <td>408.0</td>\n",
       "      <td>3.0</td>\n",
       "      <td>18700.0</td>\n",
       "      <td>36.0</td>\n",
       "      <td>105.0</td>\n",
       "      <td>36.0</td>\n",
       "    </tr>\n",
       "    <tr>\n",
       "      <th>24029</th>\n",
       "      <td>1d16c0509e7011656e03c6a582ff6667</td>\n",
       "      <td>beleza_saude</td>\n",
       "      <td>57.0</td>\n",
       "      <td>430.0</td>\n",
       "      <td>1.0</td>\n",
       "      <td>30000.0</td>\n",
       "      <td>55.0</td>\n",
       "      <td>75.0</td>\n",
       "      <td>61.0</td>\n",
       "    </tr>\n",
       "    <tr>\n",
       "      <th>25968</th>\n",
       "      <td>b6106bf3d09b8fdd33c3a9559da43145</td>\n",
       "      <td>moveis_sala</td>\n",
       "      <td>57.0</td>\n",
       "      <td>725.0</td>\n",
       "      <td>1.0</td>\n",
       "      <td>30000.0</td>\n",
       "      <td>48.0</td>\n",
       "      <td>52.0</td>\n",
       "      <td>75.0</td>\n",
       "    </tr>\n",
       "    <tr>\n",
       "      <th>26126</th>\n",
       "      <td>308e4e21ae228a10f6370a243ae59995</td>\n",
       "      <td>moveis_escritorio</td>\n",
       "      <td>41.0</td>\n",
       "      <td>1083.0</td>\n",
       "      <td>1.0</td>\n",
       "      <td>8250.0</td>\n",
       "      <td>53.0</td>\n",
       "      <td>74.0</td>\n",
       "      <td>18.0</td>\n",
       "    </tr>\n",
       "  </tbody>\n",
       "</table>\n",
       "</div>"
      ],
      "text/plain": [
       "                             product_id    product_category_name  \\\n",
       "33     1eba879220bd0981a0e2fbab499ed4e1        moveis_escritorio   \n",
       "2568   6dde44b4172999f35f08654d06bad633        moveis_escritorio   \n",
       "6004   368645a47a15770520ad12d9ea77c2f2         moveis_decoracao   \n",
       "15636  0e1fa2aadc04afbf8fb30200aeba06a2    utilidades_domesticas   \n",
       "15982  c100e5fef1abb5e1c5054d1dac2d83ac             beleza_saude   \n",
       "18469  acc444eb5ad26f79d5a11baa6a03c439         moveis_decoracao   \n",
       "21795  bc3c6d2a621414f2e1df7a8a32a2828e  sinalizacao_e_seguranca   \n",
       "24029  1d16c0509e7011656e03c6a582ff6667             beleza_saude   \n",
       "25968  b6106bf3d09b8fdd33c3a9559da43145              moveis_sala   \n",
       "26126  308e4e21ae228a10f6370a243ae59995        moveis_escritorio   \n",
       "\n",
       "       product_name_lenght  product_description_lenght  product_photos_qty  \\\n",
       "33                    57.0                       476.0                 1.0   \n",
       "2568                  55.0                      1180.0                 1.0   \n",
       "6004                  61.0                       603.0                 2.0   \n",
       "15636                 54.0                      2050.0                 4.0   \n",
       "15982                 57.0                       534.0                 1.0   \n",
       "18469                 53.0                       626.0                 1.0   \n",
       "21795                 50.0                       408.0                 3.0   \n",
       "24029                 57.0                       430.0                 1.0   \n",
       "25968                 57.0                       725.0                 1.0   \n",
       "26126                 41.0                      1083.0                 1.0   \n",
       "\n",
       "       product_weight_g  product_length_cm  product_height_cm  \\\n",
       "33               8950.0               52.0               51.0   \n",
       "2568            16167.0               64.0               62.0   \n",
       "6004            30000.0               70.0               60.0   \n",
       "15636            2000.0              100.0               28.0   \n",
       "15982           30000.0               55.0               75.0   \n",
       "18469            9400.0               35.0               45.0   \n",
       "21795           18700.0               36.0              105.0   \n",
       "24029           30000.0               55.0               75.0   \n",
       "25968           30000.0               48.0               52.0   \n",
       "26126            8250.0               53.0               74.0   \n",
       "\n",
       "       product_width_cm  \n",
       "33                 17.0  \n",
       "2568               25.0  \n",
       "6004               60.0  \n",
       "15636              20.0  \n",
       "15982              61.0  \n",
       "18469              45.0  \n",
       "21795              36.0  \n",
       "24029              61.0  \n",
       "25968              75.0  \n",
       "26126              18.0  "
      ]
     },
     "execution_count": 67,
     "metadata": {},
     "output_type": "execute_result"
    }
   ],
   "source": [
    "# dataframe des produits avec les frais de livraison le plus élevés\n",
    "products[products['product_id'].isin(freight_outliers)]"
   ]
  },
  {
   "cell_type": "markdown",
   "id": "f7748151-5f21-4e32-9e49-47a1c8ae02a0",
   "metadata": {},
   "source": [
    "Les frais de livraison le plus élevés sont pour des produits de décoration ou des meubles, assez encombrants et lourds. Il est donc raisonnable que les frais de livraison soient éléves."
   ]
  },
  {
   "cell_type": "markdown",
   "id": "dfb84732-6350-4bff-9e00-77b0bd31e08f",
   "metadata": {},
   "source": [
    "### 3.2.6 distance"
   ]
  },
  {
   "cell_type": "code",
   "execution_count": 68,
   "id": "db6af9db-f76c-4738-bdb1-f60114e76215",
   "metadata": {},
   "outputs": [
    {
     "data": {
      "text/html": [
       "<div>\n",
       "<style scoped>\n",
       "    .dataframe tbody tr th:only-of-type {\n",
       "        vertical-align: middle;\n",
       "    }\n",
       "\n",
       "    .dataframe tbody tr th {\n",
       "        vertical-align: top;\n",
       "    }\n",
       "\n",
       "    .dataframe thead th {\n",
       "        text-align: right;\n",
       "    }\n",
       "</style>\n",
       "<table border=\"1\" class=\"dataframe\">\n",
       "  <thead>\n",
       "    <tr style=\"text-align: right;\">\n",
       "      <th></th>\n",
       "      <th>real_delivery_time</th>\n",
       "      <th>estimated_delivery_time</th>\n",
       "      <th>delay</th>\n",
       "      <th>price</th>\n",
       "      <th>freight_value</th>\n",
       "      <th>freight/price</th>\n",
       "      <th>payment_value</th>\n",
       "      <th>review_score</th>\n",
       "      <th>distance</th>\n",
       "    </tr>\n",
       "  </thead>\n",
       "  <tbody>\n",
       "    <tr>\n",
       "      <th>69626</th>\n",
       "      <td>21.0</td>\n",
       "      <td>19.0</td>\n",
       "      <td>2.0</td>\n",
       "      <td>160.00</td>\n",
       "      <td>34.88</td>\n",
       "      <td>0.218000</td>\n",
       "      <td>194.88</td>\n",
       "      <td>5.0</td>\n",
       "      <td>3927.411451</td>\n",
       "    </tr>\n",
       "    <tr>\n",
       "      <th>10849</th>\n",
       "      <td>32.0</td>\n",
       "      <td>49.0</td>\n",
       "      <td>-17.0</td>\n",
       "      <td>219.90</td>\n",
       "      <td>37.31</td>\n",
       "      <td>0.169668</td>\n",
       "      <td>257.21</td>\n",
       "      <td>5.0</td>\n",
       "      <td>3399.195601</td>\n",
       "    </tr>\n",
       "    <tr>\n",
       "      <th>82292</th>\n",
       "      <td>25.0</td>\n",
       "      <td>52.0</td>\n",
       "      <td>-28.0</td>\n",
       "      <td>129.00</td>\n",
       "      <td>33.79</td>\n",
       "      <td>0.261938</td>\n",
       "      <td>162.79</td>\n",
       "      <td>3.0</td>\n",
       "      <td>3387.365153</td>\n",
       "    </tr>\n",
       "    <tr>\n",
       "      <th>22818</th>\n",
       "      <td>30.0</td>\n",
       "      <td>46.0</td>\n",
       "      <td>-17.0</td>\n",
       "      <td>30.10</td>\n",
       "      <td>33.24</td>\n",
       "      <td>1.104319</td>\n",
       "      <td>63.34</td>\n",
       "      <td>4.0</td>\n",
       "      <td>3381.368149</td>\n",
       "    </tr>\n",
       "    <tr>\n",
       "      <th>61984</th>\n",
       "      <td>11.0</td>\n",
       "      <td>59.0</td>\n",
       "      <td>-49.0</td>\n",
       "      <td>403.10</td>\n",
       "      <td>96.42</td>\n",
       "      <td>0.239196</td>\n",
       "      <td>499.52</td>\n",
       "      <td>5.0</td>\n",
       "      <td>3379.430598</td>\n",
       "    </tr>\n",
       "    <tr>\n",
       "      <th>48871</th>\n",
       "      <td>38.0</td>\n",
       "      <td>32.0</td>\n",
       "      <td>6.0</td>\n",
       "      <td>119.99</td>\n",
       "      <td>84.39</td>\n",
       "      <td>0.703309</td>\n",
       "      <td>204.38</td>\n",
       "      <td>5.0</td>\n",
       "      <td>3359.276726</td>\n",
       "    </tr>\n",
       "    <tr>\n",
       "      <th>29567</th>\n",
       "      <td>23.0</td>\n",
       "      <td>61.0</td>\n",
       "      <td>-39.0</td>\n",
       "      <td>125.19</td>\n",
       "      <td>60.94</td>\n",
       "      <td>0.486780</td>\n",
       "      <td>186.13</td>\n",
       "      <td>5.0</td>\n",
       "      <td>3357.866942</td>\n",
       "    </tr>\n",
       "    <tr>\n",
       "      <th>23312</th>\n",
       "      <td>8.0</td>\n",
       "      <td>36.0</td>\n",
       "      <td>-29.0</td>\n",
       "      <td>129.90</td>\n",
       "      <td>33.80</td>\n",
       "      <td>0.260200</td>\n",
       "      <td>163.70</td>\n",
       "      <td>5.0</td>\n",
       "      <td>3343.265169</td>\n",
       "    </tr>\n",
       "    <tr>\n",
       "      <th>8001</th>\n",
       "      <td>16.0</td>\n",
       "      <td>35.0</td>\n",
       "      <td>-19.0</td>\n",
       "      <td>259.90</td>\n",
       "      <td>32.49</td>\n",
       "      <td>0.125010</td>\n",
       "      <td>292.39</td>\n",
       "      <td>4.0</td>\n",
       "      <td>3341.691511</td>\n",
       "    </tr>\n",
       "    <tr>\n",
       "      <th>9608</th>\n",
       "      <td>24.0</td>\n",
       "      <td>60.0</td>\n",
       "      <td>-37.0</td>\n",
       "      <td>105.00</td>\n",
       "      <td>47.00</td>\n",
       "      <td>0.447619</td>\n",
       "      <td>152.00</td>\n",
       "      <td>5.0</td>\n",
       "      <td>3338.612477</td>\n",
       "    </tr>\n",
       "  </tbody>\n",
       "</table>\n",
       "</div>"
      ],
      "text/plain": [
       "       real_delivery_time  estimated_delivery_time  delay   price  \\\n",
       "69626                21.0                     19.0    2.0  160.00   \n",
       "10849                32.0                     49.0  -17.0  219.90   \n",
       "82292                25.0                     52.0  -28.0  129.00   \n",
       "22818                30.0                     46.0  -17.0   30.10   \n",
       "61984                11.0                     59.0  -49.0  403.10   \n",
       "48871                38.0                     32.0    6.0  119.99   \n",
       "29567                23.0                     61.0  -39.0  125.19   \n",
       "23312                 8.0                     36.0  -29.0  129.90   \n",
       "8001                 16.0                     35.0  -19.0  259.90   \n",
       "9608                 24.0                     60.0  -37.0  105.00   \n",
       "\n",
       "       freight_value  freight/price  payment_value  review_score     distance  \n",
       "69626          34.88       0.218000         194.88           5.0  3927.411451  \n",
       "10849          37.31       0.169668         257.21           5.0  3399.195601  \n",
       "82292          33.79       0.261938         162.79           3.0  3387.365153  \n",
       "22818          33.24       1.104319          63.34           4.0  3381.368149  \n",
       "61984          96.42       0.239196         499.52           5.0  3379.430598  \n",
       "48871          84.39       0.703309         204.38           5.0  3359.276726  \n",
       "29567          60.94       0.486780         186.13           5.0  3357.866942  \n",
       "23312          33.80       0.260200         163.70           5.0  3343.265169  \n",
       "8001           32.49       0.125010         292.39           4.0  3341.691511  \n",
       "9608           47.00       0.447619         152.00           5.0  3338.612477  "
      ]
     },
     "execution_count": 68,
     "metadata": {},
     "output_type": "execute_result"
    }
   ],
   "source": [
    "# dataframe des commandes avec la distance la plus élévée\n",
    "customers.sort_values('distance', ascending=False).select_dtypes(\n",
    "    'float64'\n",
    ").head(10)"
   ]
  },
  {
   "cell_type": "markdown",
   "id": "870384c1-3c56-410a-b0da-788865c2765a",
   "metadata": {},
   "source": [
    "La distance entre vendeur et acheteur peut arriver à presque 4000 km, mais c'est n'est pas étonnant si on considère l'extension du Brésil."
   ]
  },
  {
   "cell_type": "code",
   "execution_count": 69,
   "id": "e2df3f94-dad0-48bf-ae9d-72dd6a08542c",
   "metadata": {},
   "outputs": [],
   "source": [
    "# sauvegarde données\n",
    "customers.to_csv('Data/customers_cleaned_non_grouped.csv',\n",
    "                 index=False)"
   ]
  },
  {
   "cell_type": "markdown",
   "id": "189ea3d6-d495-40aa-b69b-fa0ad3c047c0",
   "metadata": {},
   "source": [
    "## 3.3 Agrégation sur `customer_unique_id`"
   ]
  },
  {
   "cell_type": "markdown",
   "id": "853be10b-9472-4c6d-9394-ac69a6a87447",
   "metadata": {},
   "source": [
    "Avant de poursuivre les analyses, je vais faire une agrégation du dataframe sur le `customer_unique_id` afin de pouvoir calculer la récence, la fréquence et la valeur monétaire des clients. \n",
    "Ceci sera aussi le dataframe que je vais utiliser pour les modélisations non supervisées. \n",
    "\n",
    "En ce qui concerne les fonctions d'agrégation, je vais utiliser\n",
    "  - le max de `order_purchase_timestamp` pour obtenir la date de la dernière commande effectuée et ensuite calculer la récence\n",
    " - la somme pour `paiement_value`pour avoir la valeur monétaire des clients \n",
    "- le count sur `customer_id`  pour avoir la fréquence d'achat (le nombre total des commandes effectuées par un client)\n",
    " - la moyenne pour les autres variables\n",
    " \n",
    "La récence sera calculée en mois en soustrayant la date de la dernière commande effectuée par un client à la date maximale de ` order_purchase_timestamp `, c’est-à-dire le 29/08/2018. Une récence de 0 correspondra donc à des commandes effectuées en aout 2018.\n"
   ]
  },
  {
   "cell_type": "code",
   "execution_count": 173,
   "id": "df4b00be-9d4e-4cc5-aa5f-3f72c1738c8f",
   "metadata": {},
   "outputs": [],
   "source": [
    "# agrégation\n",
    "customers = customers.groupby('customer_unique_id').agg({\n",
    "    'order_purchase_timestamp': 'max',\n",
    "    'estimated_delivery_time': 'mean',\n",
    "    'delay': 'mean',\n",
    "    'real_delivery_time': 'mean',\n",
    "    'freight_value': 'mean',\n",
    "    'payment_value': 'sum',\n",
    "    'freight/price': 'mean',\n",
    "    'review_score': 'mean',\n",
    "    'distance': 'mean',\n",
    "    'customer_id': 'count'})"
   ]
  },
  {
   "cell_type": "code",
   "execution_count": 174,
   "id": "a701c8e9-634f-44b1-97a1-64af54bf25bd",
   "metadata": {},
   "outputs": [],
   "source": [
    "# renommage variable customer_id en frequency\n",
    "customers = customers.rename(columns={'customer_id': 'frequency'})"
   ]
  },
  {
   "cell_type": "code",
   "execution_count": 175,
   "id": "7779ad1b-8f8f-45c9-9db5-c026da8f73c1",
   "metadata": {},
   "outputs": [],
   "source": [
    "# conversion en datetime\n",
    "customers['order_purchase_timestamp'] = pd.to_datetime(\n",
    "    customers['order_purchase_timestamp'])"
   ]
  },
  {
   "cell_type": "code",
   "execution_count": 177,
   "id": "ed08834c-f3c8-4c90-a1d0-4980459c731f",
   "metadata": {},
   "outputs": [],
   "source": [
    "# calcul récence\n",
    "customers['recency'] = (\n",
    "    customers['order_purchase_timestamp'].max()\n",
    "    - customers['order_purchase_timestamp']\n",
    ").astype('timedelta64[M]')"
   ]
  },
  {
   "cell_type": "markdown",
   "id": "9b9a053e-6cb0-4bec-8250-679fd1fb4b88",
   "metadata": {},
   "source": [
    "Je vais examiner la distribution des variables `recency` et `frequency`."
   ]
  },
  {
   "cell_type": "code",
   "execution_count": 182,
   "id": "e2b8596d-e2d6-4a38-aa94-27ef543aab85",
   "metadata": {},
   "outputs": [
    {
     "data": {
      "text/plain": [
       "Text(0.5, 1.0, 'Distribution de la variable récence')"
      ]
     },
     "execution_count": 182,
     "metadata": {},
     "output_type": "execute_result"
    },
    {
     "data": {
      "image/png": "[encoded data removed]",
      "text/plain": [
       "<Figure size 432x288 with 1 Axes>"
      ]
     },
     "metadata": {
      "needs_background": "light"
     },
     "output_type": "display_data"
    }
   ],
   "source": [
    "# distribution de la variable recency\n",
    "plt.hist(customers['recency'], bins=20)\n",
    "plt.xlabel('Récence (mois)')\n",
    "plt.ylabel('Nombre de commandes')\n",
    "plt.title('Distribution de la variable récence')"
   ]
  },
  {
   "cell_type": "code",
   "execution_count": 181,
   "id": "65a73a4d-a7cf-408a-a890-50d65fa2d830",
   "metadata": {},
   "outputs": [
    {
     "data": {
      "text/plain": [
       "Text(0.5, 1.0, 'Distribution de la variable fréquence')"
      ]
     },
     "execution_count": 181,
     "metadata": {},
     "output_type": "execute_result"
    },
    {
     "data": {
      "image/png": "[encoded data removed]",
      "text/plain": [
       "<Figure size 432x288 with 1 Axes>"
      ]
     },
     "metadata": {
      "needs_background": "light"
     },
     "output_type": "display_data"
    }
   ],
   "source": [
    "# distribution de la variable frequency\n",
    "plt.hist(customers['frequency'], bins=20)\n",
    "plt.xlabel('Nombre d\\'achats')\n",
    "plt.ylabel('Nombre de commandes')\n",
    "plt.title('Distribution de la variable fréquence')"
   ]
  },
  {
   "cell_type": "markdown",
   "id": "289f671a-5764-4dd9-929d-a0f0e2c8db4d",
   "metadata": {},
   "source": [
    "On peut bien voir que très peu de clients ont acheté plus d'une fois."
   ]
  },
  {
   "cell_type": "markdown",
   "id": "be8f4745-87af-4d3f-8b24-a160c484ee29",
   "metadata": {},
   "source": [
    "## 3.4 Corrélations entre variables et ACP"
   ]
  },
  {
   "cell_type": "markdown",
   "id": "0e0ad237-3853-472a-ba3e-37f0c815f84e",
   "metadata": {},
   "source": [
    "### 3.4.1 Corrélations"
   ]
  },
  {
   "cell_type": "code",
   "execution_count": 183,
   "id": "f565d3e2-8daf-4c11-8bd5-8f37509ac9a4",
   "metadata": {},
   "outputs": [
    {
     "data": {
      "text/plain": [
       "Text(0.5, 1.0, 'Corrélogramme')"
      ]
     },
     "execution_count": 183,
     "metadata": {},
     "output_type": "execute_result"
    },
    {
     "data": {
      "image/png": "[encoded data removed]",
      "text/plain": [
       "<Figure size 720x720 with 2 Axes>"
      ]
     },
     "metadata": {
      "needs_background": "light"
     },
     "output_type": "display_data"
    }
   ],
   "source": [
    "# corrélogramme\n",
    "plt.figure(figsize=(10, 10))\n",
    "sns.heatmap(customers.corr(), annot=True)\n",
    "plt.title('Corrélogramme')"
   ]
  },
  {
   "cell_type": "markdown",
   "id": "9d218dcc-9309-4cf3-beee-75ed747d4e4f",
   "metadata": {},
   "source": [
    "Les variables liées à la date de livraison (`real_delivery time`, `estimated_delivery_time`, `delay`) sont corrélées entre elles et corrélées avec la distance : il est raisonnable de penser que plus la distance entre vendeur et acheteur est élevée, plus le délai de livraison réel et estimé sera grand.\n",
    "\n",
    "Le `freight_value` soit corrélé au `payment_value`, ce qui est logique étant donné que `payment_value`, est la somme de frais de livraison et prix des articles.\n",
    "\n",
    "En ce qui concerne les autres variables, les corrélation sont plutôt faibles.\n"
   ]
  },
  {
   "cell_type": "markdown",
   "id": "59cd6d9d-a3f9-4072-a3f1-74b2f76bc942",
   "metadata": {},
   "source": [
    "### 3.4.2 ACP"
   ]
  },
  {
   "cell_type": "code",
   "execution_count": 185,
   "id": "72419a7e-9184-4d08-b4b0-384c907f843b",
   "metadata": {},
   "outputs": [
    {
     "data": {
      "text/plain": [
       "PCA()"
      ]
     },
     "execution_count": 185,
     "metadata": {},
     "output_type": "execute_result"
    }
   ],
   "source": [
    "# scaling des données\n",
    "scaler = MinMaxScaler()\n",
    "\n",
    "# données pour 'ACP\n",
    "data_ACP = customers.drop('order_purchase_timestamp', axis=1)\n",
    "data_ACP_scaled = pd.DataFrame(scaler.fit_transform(data_ACP),\n",
    "                               columns=data_ACP.columns)\n",
    "\n",
    "# ACP\n",
    "pca = PCA()\n",
    "pca.fit(data_ACP_scaled)"
   ]
  },
  {
   "cell_type": "code",
   "execution_count": 186,
   "id": "69a25683-cc95-456d-a7cf-9fc4d701746d",
   "metadata": {},
   "outputs": [
    {
     "data": {
      "text/plain": [
       "Text(0, 0.5, 'Pourcentage de variance expliqué')"
      ]
     },
     "execution_count": 186,
     "metadata": {},
     "output_type": "execute_result"
    },
    {
     "data": {
      "image/png": "[encoded data removed]",
      "text/plain": [
       "<Figure size 432x288 with 1 Axes>"
      ]
     },
     "metadata": {
      "needs_background": "light"
     },
     "output_type": "display_data"
    }
   ],
   "source": [
    "# Eboulis des valeurs propres\n",
    "plt.bar(range(1, 11), pca.explained_variance_ratio_)\n",
    "plt.plot(range(1, 11), pca.explained_variance_ratio_.cumsum())\n",
    "plt.title('Eboulis des valeurs propres')\n",
    "plt.xlabel('Nombre des composantes')\n",
    "plt.ylabel('Pourcentage de variance expliqué')"
   ]
  },
  {
   "cell_type": "markdown",
   "id": "614f5085-3502-4b22-8a75-0ebdea1902ab",
   "metadata": {},
   "source": [
    "Les deux prémieres composantes principales permettent d'expliquer plus de 80% de la variance"
   ]
  },
  {
   "cell_type": "code",
   "execution_count": 188,
   "id": "6a90a36f-b069-404f-a6e1-e41e35d17f2c",
   "metadata": {},
   "outputs": [
    {
     "data": {
      "image/png": "[encoded data removed]",
      "text/plain": [
       "<Figure size 720x648 with 1 Axes>"
      ]
     },
     "metadata": {
      "needs_background": "light"
     },
     "output_type": "display_data"
    }
   ],
   "source": [
    "# cercle des corrélations\n",
    "plot_correlations(data_ACP_scaled, 0, 1)"
   ]
  },
  {
   "cell_type": "markdown",
   "id": "8b011eeb-27aa-4b0d-b5c1-7d0d7e943251",
   "metadata": {},
   "source": [
    "Dans le mapping ci-dessus, on voit clairement que `review_score` est très bien corrélé avec la première composante principale et `recency` est très bien corrélée avec la deuxième composante principale. \n",
    "Cela suggère que ces deux variables seront très importantes pour segmenter les clients.\n"
   ]
  },
  {
   "cell_type": "code",
   "execution_count": 189,
   "id": "4f2d1ca7-4231-4de7-baa0-13e52c2389fa",
   "metadata": {},
   "outputs": [],
   "source": [
    "# sauvegarde données\n",
    "customers.to_csv('Data/customers_cleaned.csv')"
   ]
  },
  {
   "cell_type": "markdown",
   "id": "7d814273-527d-4182-a29f-e6eb4442c16d",
   "metadata": {},
   "source": [
    "# 4. Conclusions"
   ]
  },
  {
   "cell_type": "markdown",
   "id": "7dddf946-c5e5-47a4-a4ca-388d840187cc",
   "metadata": {},
   "source": [
    "A partir du jeu de données de départ, des variables potentiellement intéressantes pour la segmentation ont été sélectionnées : valeur monétaire, récence, fréquence, avis des clients, variables associées à la date de livraison, distance entre vendeur et acheteur et rapport entre frais de livraison et prix des produits. \n",
    "\n",
    "Les valeurs manquantes ont été traités en choisissant la méthode appropriée s\n",
    "\n",
    " - Remplacement avec la valeur la plus fréquente pour `review_score`\n",
    " - Remplacement avec la moyenne pour `real_delivery_time`, `delay` et `distance`\n",
    "\n",
    "\n",
    "Une fois le jeu de données nettoyé, j'ai réalisé :\n",
    " - Des analyses univariées pour étudier les distributions des variables. Ceci a permis de voir que les distributions ne sont pas toutes gaussiennes et des transformations des variables vont probablement être nécessaires lors des modélisations\n",
    " -Des analyse des valeurs aberrants qui ont permis de voir qu'il y a des valeurs atypiques mais pas aberrantes\n",
    " - Une analyse des corrélations des variables, qui a permis de voir que les variables sont faiblement corrélées \n",
    "  - Une ACP, qui a permis de voir que la récence et le review_score expliquent une grande partie de la variance\n",
    "\n",
    "Le jeu des données est prêt pour la modélisation.\n"
   ]
  }
 ],
 "metadata": {
  "kernelspec": {
   "display_name": "Python 3 (ipykernel)",
   "language": "python",
   "name": "python3"
  },
  "language_info": {
   "codemirror_mode": {
    "name": "ipython",
    "version": 3
   },
   "file_extension": ".py",
   "mimetype": "text/x-python",
   "name": "python",
   "nbconvert_exporter": "python",
   "pygments_lexer": "ipython3",
   "version": "3.9.12"
  },
  "toc": {
   "base_numbering": 1,
   "nav_menu": {},
   "number_sections": false,
   "sideBar": true,
   "skip_h1_title": false,
   "title_cell": "Table of Contents",
   "title_sidebar": "Contents",
   "toc_cell": true,
   "toc_position": {},
   "toc_section_display": true,
   "toc_window_display": true
  }
 },
 "nbformat": 4,
 "nbformat_minor": 5
}
