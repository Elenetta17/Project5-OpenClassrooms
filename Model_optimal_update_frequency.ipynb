{
 "cells": [
  {
   "cell_type": "markdown",
   "id": "6b53791b",
   "metadata": {
    "toc": true
   },
   "source": [
    "<h1>Table of Contents<span class=\"tocSkip\"></span></h1>\n",
    "<div class=\"toc\"><ul class=\"toc-item\"><li><span><a href=\"#Segmentez-des-clients-d'un-site-e-commerce\" data-toc-modified-id=\"Segmentez-des-clients-d'un-site-e-commerce-1\"><strong>Segmentez des clients d'un site e-commerce</strong></a></span></li><li><span><a href=\"#0.-Imports-and-functions\" data-toc-modified-id=\"0.-Imports-and-functions-2\">0. Imports and functions</a></span></li><li><span><a href=\"#1.-Analyse-de-la-stabilité-des-segments\" data-toc-modified-id=\"1.-Analyse-de-la-stabilité-des-segments-3\">1. Analyse de la stabilité des segments</a></span></li></ul></div>"
   ]
  },
  {
   "cell_type": "markdown",
   "id": "f0cb9af7-5f71-4edf-b3ec-9f528b67fa29",
   "metadata": {},
   "source": [
    "# **Segmentez des clients d'un site e-commerce**"
   ]
  },
  {
   "cell_type": "markdown",
   "id": "4075cdec-2c37-49df-a919-ae0afca0d91a",
   "metadata": {},
   "source": [
    "Olist est une entreprise brésilienne qui propose une solution de vente sur les marketplaces en ligne.\n",
    "\n",
    "Olist souhaite que je fournisse à ses équipes d'e-commerce une segmentation des clients qu’elles pourront utiliser au quotidien pour leurs campagnes de communication.\n",
    "\n",
    "Mon objectif est de comprendre les différents types d’utilisateurs grâce à leur comportement et à leurs données personnelles.\n",
    "\n",
    "Je devrai fournir à l’équipe marketing une description actionnable de ma segmentation et de sa logique sous-jacente pour une utilisation optimale, ainsi qu’une proposition de contrat de maintenance basée sur une analyse de la stabilité des segments au cours du temps.\n",
    "\n",
    "Pour cette mission, Olist a fourni une base de données anonymisée comportant des informations sur l’historique de commandes, les produits achetés, les commentaires de satisfaction, et la localisation des clients entre septembre 2016 et aout 2018.\n",
    "A partir de cette base des données, il faut utiliser des méthodes non supervisées pour regrouper des clients de profils similaires. Ces catégories pourront être utilisées par l’équipe Marketing pour mieux communiquer.\n",
    "\n",
    "Ce notebook est consacré à la détermination de la fréquence nécessaire de mise à jour du modèle de segmentation."
   ]
  },
  {
   "cell_type": "markdown",
   "id": "9dab0f91-150e-4a70-af76-c668fa455a9c",
   "metadata": {},
   "source": [
    "# 0. Imports and functions"
   ]
  },
  {
   "cell_type": "code",
   "execution_count": 3,
   "id": "488d5082-12b8-43f9-abc4-a0c6477041ad",
   "metadata": {},
   "outputs": [],
   "source": [
    "%load_ext pycodestyle_magic \n",
    "%pycodestyle_on"
   ]
  },
  {
   "cell_type": "code",
   "execution_count": 9,
   "id": "eb14b889-5143-4f27-bc0e-83c3c92ab85c",
   "metadata": {},
   "outputs": [],
   "source": [
    "from sklearn.cluster import KMeans\n",
    "from sklearn.metrics import adjusted_rand_score\n",
    "from sklearn.preprocessing import MinMaxScaler, QuantileTransformer\n",
    "\n",
    "import matplotlib.pyplot as plt\n",
    "import numpy as np\n",
    "import pandas as pd"
   ]
  },
  {
   "cell_type": "code",
   "execution_count": 2,
   "id": "4736226d-bc4c-4030-bffa-3560279dae0d",
   "metadata": {},
   "outputs": [],
   "source": [
    "def agrégation_df(data):\n",
    "    \"\"\"Cette fonction prend en entrée un dataframe,\n",
    "    effectue une agrégation sur la variable customer_unique_id,\n",
    "    calcule la récence, supprime ensuite\n",
    "    la variable order_purchase_timestamp\n",
    "    et retourne le dataframe ainsi modifié\"\"\"\n",
    "    data = data.groupby('customer_unique_id').agg({\n",
    "        'order_purchase_timestamp': 'max',\n",
    "        'payment_value': 'sum',\n",
    "        'review_score': 'mean',\n",
    "        'customer_id': 'count'\n",
    "    })\n",
    "    data = data.rename(columns={'customer_id':'frequency'})    \n",
    "    data['recency'] = (data['order_purchase_timestamp'].max() \n",
    "                       - data['order_purchase_timestamp']).astype('timedelta64[M]')\n",
    "    data.drop('order_purchase_timestamp', axis=1, inplace=True)  \n",
    "    return data"
   ]
  },
  {
   "cell_type": "markdown",
   "id": "ea1c2064-9b47-4eea-91ce-546d1f4a39c7",
   "metadata": {},
   "source": [
    "# 1. Analyse de la stabilité des segments"
   ]
  },
  {
   "cell_type": "markdown",
   "id": "dcf35b90-c1f7-4db3-8cac-3df460717a28",
   "metadata": {},
   "source": [
    "Le modèle de segmentation nécessite des mises à jour régulières car la composition des clusters peut varier au cours du temps. \n",
    "Par exemple, les 'nouveaux' clients, ceux qui ont acheté au cours du dernier mois, ne seront plus de nouveaux clients après quelque mois et vont peut-être entrer dans le cluster 'Best Customers' ou dans les clusters des one-timers.\n",
    "\n",
    "Pour rappel, le modèle de segmentation est un K-Means avec nombre de clusters k = 6.\n",
    "\n",
    "Afin d'étudier la fréquence optimale de mise à jour, je vais entrainer un premier modèle (model_0)  en utilisant des données dans un intervalle initial, jusqu'à une certaine date t0, et ensuite entrainer \n",
    "- Un model_1 avec des données allant jusqu’à t1 = t0 + 1 mois\n",
    "- Un model_2 avec des données allant jusqu’à t2 = t0 + 2 mois\n",
    "- Un model_3 avec des données allant jusqu’à t3 = t0 + 3 mois\n",
    "- etc.\n",
    " \n",
    "Je vais ensuite comparer \n",
    "- les clusters identifiés par le model_0 sur les donnes jusqu'à t1 avec les clusters identifiés par model_1 sur les donnes jusqu'à t1 \n",
    "- les clusters identifiés par le model_0 sur les donnes jusqu'à t2 avec les clusters identifiés par modele_2 sur les donnes jusqu'à t2 \n",
    "- les clusters identifiés par le model_0 sur les donnes jusqu'à t3 avec les clusters identifiés par modele_3 sur les donnes jusqu'à t3\n",
    "- etc.\n",
    "\n",
    "Je vais comparer les clusters en utilisant l'ARI - Adjusted Rand Index - comme métrique (l'indice de Rand est une mesure de similarité entre deux partitions d'un ensemble; plus il est proche de 1, plus les cluster sont similaires)."
   ]
  },
  {
   "cell_type": "code",
   "execution_count": 4,
   "id": "2a218a58-7618-4d7e-acba-2cb7ce753baa",
   "metadata": {},
   "outputs": [],
   "source": [
    "# lecture données et selection variables\n",
    "data = pd.read_csv('Data/customers_cleaned_non_grouped')\n",
    "data['order_purchase_timestamp'] = pd.to_datetime(\n",
    "    data['order_purchase_timestamp'])\n",
    "data = data[['order_purchase_timestamp',\n",
    "             'payment_value',\n",
    "             'review_score',\n",
    "             'customer_id',\n",
    "             'customer_unique_id']]"
   ]
  },
  {
   "cell_type": "markdown",
   "id": "2e3ebbbb-e5fb-41c2-909c-c72e4ffb88ac",
   "metadata": {},
   "source": [
    "Afin de déterminer l'intervalle initial sur lequel entrainer le model_0, je vais examiner le nombre de commandes par mois."
   ]
  },
  {
   "cell_type": "code",
   "execution_count": 5,
   "id": "73dd3548-cffe-4771-a4f6-925acd079a21",
   "metadata": {},
   "outputs": [],
   "source": [
    "# initialisation variable months\n",
    "data['month'] = data['order_purchase_timestamp'].dt.strftime('%m-%Y')\n",
    "data['month'] = pd.to_datetime(data['month'])"
   ]
  },
  {
   "cell_type": "code",
   "execution_count": 6,
   "id": "8c774bb1-17a2-437a-98b9-8a36cdb885ba",
   "metadata": {},
   "outputs": [
    {
     "data": {
      "text/plain": [
       "Text(0, 0.5, 'Nombre de commandes')"
      ]
     },
     "execution_count": 6,
     "metadata": {},
     "output_type": "execute_result"
    },
    {
     "data": {
      "image/png": "[encoded data removed]",
      "text/plain": [
       "<Figure size 1080x504 with 1 Axes>"
      ]
     },
     "metadata": {
      "needs_background": "light"
     },
     "output_type": "display_data"
    }
   ],
   "source": [
    "# plot des commandes en fonction du mois\n",
    "plt.figure(figsize=(15, 7))\n",
    "plt.scatter(data['month'].value_counts().index,\n",
    "            data['month'].value_counts().values)\n",
    "plt.grid()\n",
    "plt.title('Nombre des commandes en fonction du mois')\n",
    "plt.xlabel('Mois')\n",
    "plt.ylabel('Nombre de commandes')"
   ]
  },
  {
   "cell_type": "markdown",
   "id": "fa5dd846-cef3-41a1-926d-2b7b8b0655c7",
   "metadata": {},
   "source": [
    "On voit bien qu’en fin 2016 le nombre de commandes était très petit et continu de grandir depuis. Il peut aussi y avoir certains pics de saisonnalité (par exemple, juste avant Noel). Pour lisser les variations saisonnières, je vais prendre 12 mois comme intervalle initial."
   ]
  },
  {
   "cell_type": "markdown",
   "id": "1419f1cb-16ac-4e37-b6fc-51bb8755a68b",
   "metadata": {},
   "source": [
    "La fonction ci-dessous, `evolution_clusters`, prend en entrée un dataframe (les données nettoyées sans agrégation sur `customer unique id`), une date début, une date de fin, un intervalle de temps initial (12 mois par default, comme expliqué ci-dessus) et la fréquence à laquelle on veut comparer les cluster (par exemple, une fois par mois). La date de début de default et la date de fin de default correspondent au minimum et maximum de la variable `order_purchase_timestamp` (2016-09-15 et 2018-08-29, respectivement).\n",
    "\n",
    "La fonction automatise les pré-traitements des données, fit le model_0 sur les données dans l'intervalle initial, le t0, et prédit les clusters. Ensuite, avec une boucle for, à chaque itération, elle fit un modèle a t0 + fréquence, t0 + 2 X fréquence, t0 + 3 X fréquence, etc. et calcule le ARI score entre les clusters prédits par ces modèles et les clusters prédits par le model_0."
   ]
  },
  {
   "cell_type": "code",
   "execution_count": 7,
   "id": "530b6b71-3ebf-4051-b63c-c020af12bd55",
   "metadata": {},
   "outputs": [],
   "source": [
    "def evolution_clusters(data,\n",
    "                       initial_interval=12,\n",
    "                       frequency=1,\n",
    "                       start_time='2016-09-15',\n",
    "                       endtime='2018-08-29'):\n",
    "    \"\"\"\n",
    "    Args:\n",
    "    data: dataframe des données\n",
    "    initial interval: nombre de mois composant l'intervalle temporel initial\n",
    "    frequency : fréquence en mois\n",
    "    start_time: string avec la date de début, format: YYYY-MM-DD\n",
    "    endtime: string avec la date de fin format: YYYY-MM-DD\n",
    "    Return:\n",
    "    Dictionnaire avec les ARI Scores pour chaque itération\n",
    "    \"\"\"\n",
    "    # préparation données model_0\n",
    "    # sélection données dans l'intervalle initial\n",
    "    data_0 = data[data['order_purchase_timestamp']\n",
    "                  < (pd.Timestamp(start_time)\n",
    "                     + np.timedelta64(initial_interval, 'M'))]\n",
    "    # agrégation\n",
    "    data_0 = agrégation_df(data_0)\n",
    "    # instanciation Quantile Transformer et transformation\n",
    "    qt = QuantileTransformer(output_distribution='normal')\n",
    "    data_0[['recency',\n",
    "            'frequency',\n",
    "            'review_score']] = qt.fit_transform(data_0[['recency',\n",
    "                                                        'frequency',\n",
    "                                                        'review_score']])\n",
    "    # instanciation Scaler et transformation\n",
    "    scaler = MinMaxScaler()\n",
    "    data_0 = scaler.fit_transform(data_0)\n",
    "    # instanciation model_0 et fit\n",
    "    model_0 = KMeans(6, random_state=42)\n",
    "    model_0.fit(data_0)\n",
    "    # initialisation listes pour stocker les résultats\n",
    "    iterations = []\n",
    "    ari_scores = []\n",
    "    iterations.append(0)\n",
    "    ari_scores.append(1)\n",
    "    # date limite du model_0\n",
    "    max_time = pd.Timestamp(start_time) + np.timedelta64(initial_interval, 'M')\n",
    "    # boucle d'entrainement des modèles à t+fréquence, t+fréquence*2 etc.\n",
    "    # et comparaison de clusters\n",
    "    iteration = 1\n",
    "    while max_time <= pd.Timestamp(endtime):\n",
    "        # date limite du modèle\n",
    "        max_time = max_time + np.timedelta64(frequency, 'M')\n",
    "        # preparation données\n",
    "        data_iteration = data[data['order_purchase_timestamp'] < max_time]\n",
    "        data_iteration = agrégation_df(data_iteration)\n",
    "        data_iteration[['recency',\n",
    "                        'frequency',\n",
    "                        'review_score']] = qt.transform(\n",
    "            data_iteration[['recency',\n",
    "                            'frequency',\n",
    "                            'review_score']])\n",
    "        data_iteration = scaler.transform(data_iteration)\n",
    "        # entrainement modèle\n",
    "        model_iteration = KMeans(6, random_state=42)\n",
    "        labels_iteration = model_iteration.fit_predict(data_iteration)\n",
    "        # comparaison avec prédictions du model_0\n",
    "        ground_truth = model_0.predict(data_iteration)\n",
    "        ari = adjusted_rand_score(ground_truth, labels_iteration)\n",
    "        iterations.append(iteration)\n",
    "        ari_scores.append(ari)\n",
    "        # itération suivante\n",
    "        iteration += 1\n",
    "    return dict(zip(iterations, ari_scores))"
   ]
  },
  {
   "cell_type": "code",
   "execution_count": 10,
   "id": "3fb7941b-2182-4152-98db-5fa8ee05371a",
   "metadata": {},
   "outputs": [],
   "source": [
    "# ARI scores\n",
    "ARI_scores = evolution_clusters(data)"
   ]
  },
  {
   "cell_type": "code",
   "execution_count": 12,
   "id": "d6f99750-2d4e-4da4-b889-4bb0b29e994e",
   "metadata": {},
   "outputs": [
    {
     "data": {
      "text/plain": [
       "Text(0.5, 1.0, 'ARI scores en fonction du temps')"
      ]
     },
     "execution_count": 12,
     "metadata": {},
     "output_type": "execute_result"
    },
    {
     "data": {
      "image/png": "[encoded data removed]",
      "text/plain": [
       "<Figure size 1080x504 with 1 Axes>"
      ]
     },
     "metadata": {
      "needs_background": "light"
     },
     "output_type": "display_data"
    }
   ],
   "source": [
    "# plot ARI scores en fonction du mois\n",
    "plt.figure(figsize=(15, 7))\n",
    "plt.xticks(rotation=70)\n",
    "plt.xticks(ticks=[i for i in range(13)],\n",
    "           labels=['t0 + ' + str(i) + ' mois' for i in ARI_scores.keys()])\n",
    "plt.grid()\n",
    "plt.plot(ARI_scores.keys(), ARI_scores.values())\n",
    "plt.title('ARI scores en fonction du temps')"
   ]
  },
  {
   "cell_type": "markdown",
   "id": "ab7fd9fb-95fd-4ced-a58d-1519da4a8466",
   "metadata": {},
   "source": [
    "En fixant un seuil de 0.8, il faut mettre à jour le modèle quand l'ARI devient inférieur à ce seuil. Dans le graphique ci-dessus, on peut voir que l'ARI commence à baisse après 5 mois et devient inférieur au seuil après 8 mois. Il peut toujours y avoirs des imprévus et il vaut mieux ne pas attendre les 8 mois pour la mise à jour, mais prendre de l’avance.\n",
    "**Je propose ainsi une mise à jour tous les 6 mois.**"
   ]
  }
 ],
 "metadata": {
  "kernelspec": {
   "display_name": "Python 3 (ipykernel)",
   "language": "python",
   "name": "python3"
  },
  "language_info": {
   "codemirror_mode": {
    "name": "ipython",
    "version": 3
   },
   "file_extension": ".py",
   "mimetype": "text/x-python",
   "name": "python",
   "nbconvert_exporter": "python",
   "pygments_lexer": "ipython3",
   "version": "3.9.12"
  },
  "toc": {
   "base_numbering": 1,
   "nav_menu": {},
   "number_sections": false,
   "sideBar": true,
   "skip_h1_title": false,
   "title_cell": "Table of Contents",
   "title_sidebar": "Contents",
   "toc_cell": true,
   "toc_position": {},
   "toc_section_display": true,
   "toc_window_display": true
  }
 },
 "nbformat": 4,
 "nbformat_minor": 5
}
